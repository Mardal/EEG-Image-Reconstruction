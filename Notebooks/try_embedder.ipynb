{
 "cells": [
  {
   "cell_type": "code",
   "execution_count": null,
   "id": "09039908",
   "metadata": {},
   "outputs": [],
   "source": [
    "import os\n",
    "import warnings\n",
    "os.chdir('..')\n",
    "warnings.filterwarnings('ignore')\n",
    "\n",
    "# Firstly import the class of dataset\n",
    "from Scripts.Data_Loader import EIRDataset"
   ]
  },
  {
   "cell_type": "code",
   "execution_count": 1,
   "id": "81a89712",
   "metadata": {},
   "outputs": [
    {
     "ename": "ModuleNotFoundError",
     "evalue": "No module named 'Scripts'",
     "output_type": "error",
     "traceback": [
      "\u001b[31m---------------------------------------------------------------------------\u001b[39m",
      "\u001b[31mModuleNotFoundError\u001b[39m                       Traceback (most recent call last)",
      "\u001b[36mCell\u001b[39m\u001b[36m \u001b[39m\u001b[32mIn[1]\u001b[39m\u001b[32m, line 9\u001b[39m\n\u001b[32m      6\u001b[39m \u001b[38;5;28;01mfrom\u001b[39;00m \u001b[34;01mmne\u001b[39;00m\u001b[34;01m.\u001b[39;00m\u001b[34;01mdatasets\u001b[39;00m \u001b[38;5;28;01mimport\u001b[39;00m sample\n\u001b[32m      8\u001b[39m \u001b[38;5;66;03m# EEGNet-specific imports\u001b[39;00m\n\u001b[32m----> \u001b[39m\u001b[32m9\u001b[39m \u001b[38;5;28;01mfrom\u001b[39;00m \u001b[34;01mScripts\u001b[39;00m\u001b[34;01m.\u001b[39;00m\u001b[34;01mEEGModels\u001b[39;00m \u001b[38;5;28;01mimport\u001b[39;00m EEGNet\n\u001b[32m     10\u001b[39m \u001b[38;5;28;01mfrom\u001b[39;00m \u001b[34;01mtensorflow\u001b[39;00m\u001b[34;01m.\u001b[39;00m\u001b[34;01mkeras\u001b[39;00m \u001b[38;5;28;01mimport\u001b[39;00m utils \u001b[38;5;28;01mas\u001b[39;00m np_utils\n\u001b[32m     11\u001b[39m \u001b[38;5;28;01mfrom\u001b[39;00m \u001b[34;01mtensorflow\u001b[39;00m\u001b[34;01m.\u001b[39;00m\u001b[34;01mkeras\u001b[39;00m\u001b[34;01m.\u001b[39;00m\u001b[34;01mcallbacks\u001b[39;00m \u001b[38;5;28;01mimport\u001b[39;00m ModelCheckpoint\n",
      "\u001b[31mModuleNotFoundError\u001b[39m: No module named 'Scripts'"
     ]
    }
   ],
   "source": [
    "import numpy as np\n",
    "\n",
    "# mne imports\n",
    "import mne\n",
    "from mne import io\n",
    "from mne.datasets import sample\n",
    "\n",
    "# EEGNet-specific imports\n",
    "from Scripts.EEGModels import EEGNet\n",
    "from tensorflow.keras import utils as np_utils\n",
    "from tensorflow.keras.callbacks import ModelCheckpoint\n",
    "from tensorflow.keras import backend as K\n",
    "\n",
    "# PyRiemann imports\n",
    "from pyriemann.estimation import XdawnCovariances\n",
    "from pyriemann.tangentspace import TangentSpace\n",
    "#from pyriemann.utils.viz import plot_confusion_matrix\n",
    "from sklearn.metrics import confusion_matrix, ConfusionMatrixDisplay\n",
    "from sklearn.pipeline import make_pipeline\n",
    "from sklearn.linear_model import LogisticRegression\n",
    "\n",
    "# tools for plotting confusion matrices\n",
    "from matplotlib import pyplot as plt\n",
    "from pathlib import Path\n",
    "\n",
    "# while the default tensorflow ordering is 'channels_last' we set it here\n",
    "# to be explicit in case if the user has changed the default ordering\n",
    "K.set_image_data_format('channels_last')\n",
    "\n",
    "##################### Process, filter and epoch the data ######################\n",
    "data_path = sample.data_path()\n",
    "\n",
    "# Set parameters and read data\n",
    "#raw_fname = data_path + '/MEG/sample/sample_audvis_filt-0-40_raw.fif'\n",
    "#event_fname = data_path + '/MEG/sample/sample_audvis_filt-0-40_raw-eve.fif'\n",
    "raw_fname = data_path / \"MEG\" / \"sample\" / \"sample_audvis_filt-0-40_raw.fif\"\n",
    "event_fname = data_path / \"MEG\" / \"sample\" / \"sample_audvis_filt-0-40_raw-eve.fif\"\n",
    "tmin, tmax = -0., 1\n",
    "event_id = dict(aud_l=1, aud_r=2, vis_l=3, vis_r=4)\n",
    "\n",
    "# Setup for reading the raw data\n",
    "raw = io.Raw(raw_fname, preload=True, verbose=False)\n",
    "raw.filter(2, None, method='iir')  # replace baselining with high-pass\n",
    "events = mne.read_events(event_fname)\n",
    "\n",
    "raw.info['bads'] = ['MEG 2443']  # set bad channels\n",
    "picks = mne.pick_types(raw.info, meg=False, eeg=True, stim=False, eog=False,\n",
    "                       exclude='bads')\n",
    "\n",
    "# Read epochs\n",
    "epochs = mne.Epochs(raw, events, event_id, tmin, tmax, proj=False,\n",
    "                    picks=picks, baseline=None, preload=True, verbose=False)\n",
    "labels = epochs.events[:, -1]\n",
    "\n",
    "# extract raw data. scale by 1000 due to scaling sensitivity in deep learning\n",
    "X = epochs.get_data()*1000 # format is in (trials, channels, samples)\n",
    "y = labels"
   ]
  },
  {
   "cell_type": "code",
   "execution_count": null,
   "id": "055c0776",
   "metadata": {},
   "outputs": [],
   "source": [
    "epochs.get_data().shape"
   ]
  },
  {
   "cell_type": "code",
   "execution_count": null,
   "id": "eed628bd",
   "metadata": {},
   "outputs": [],
   "source": [
    "epochs.get_data()*1000"
   ]
  },
  {
   "cell_type": "code",
   "execution_count": null,
   "id": "866dcb11",
   "metadata": {},
   "outputs": [],
   "source": [
    "type(X)"
   ]
  },
  {
   "cell_type": "code",
   "execution_count": null,
   "id": "c8f671f7",
   "metadata": {},
   "outputs": [],
   "source": [
    "len(X[0])"
   ]
  },
  {
   "cell_type": "code",
   "execution_count": 2,
   "id": "596418b9",
   "metadata": {},
   "outputs": [
    {
     "name": "stderr",
     "output_type": "stream",
     "text": [
      "Processing exp_paths:   0%|          | 0/31 [00:00<?, ?it/s]"
     ]
    },
    {
     "name": "stderr",
     "output_type": "stream",
     "text": [
      "Processing exp_paths: 100%|██████████| 31/31 [00:00<00:00, 104.66it/s]\n",
      "Loading .fif files: 100%|██████████| 434/434 [00:08<00:00, 52.89it/s]\n"
     ]
    }
   ],
   "source": [
    "import os\n",
    "import warnings\n",
    "os.chdir('..')\n",
    "warnings.filterwarnings('ignore')\n",
    "\n",
    "# Firstly import the class of dataset\n",
    "from Scripts.Data_Loader import EIRDataset\n",
    "\n",
    "EIR_Dataset = EIRDataset('/repo/EEG-Image-Reconstruction/Generated/Data_Train/', task_type='geometric', n_jobs=10) # task type can be `geometric` or `random` or `all`"
   ]
  },
  {
   "cell_type": "code",
   "execution_count": 2,
   "id": "7d76cf98",
   "metadata": {},
   "outputs": [],
   "source": [
    "for i in range(len(EIR_Dataset)): \n",
    "    eeg_sample, eye_sample, metadata, label, img = EIR_Dataset[i]\n",
    "    eeg_sample.resample(128)\n"
   ]
  },
  {
   "cell_type": "code",
   "execution_count": 2,
   "id": "0f89f463",
   "metadata": {},
   "outputs": [],
   "source": [
    "for i in range(len(EIR_Dataset)): \n",
    "    eeg_sample, eye_sample, metadata, label, img = EIR_Dataset[i]\n",
    "    eeg_sample.resample(256)"
   ]
  },
  {
   "cell_type": "code",
   "execution_count": null,
   "id": "12fc62a7",
   "metadata": {},
   "outputs": [],
   "source": [
    "eeg_sample"
   ]
  },
  {
   "cell_type": "code",
   "execution_count": null,
   "id": "3db04e84",
   "metadata": {},
   "outputs": [],
   "source": [
    "metadata"
   ]
  },
  {
   "cell_type": "code",
   "execution_count": 3,
   "id": "fa516c96",
   "metadata": {},
   "outputs": [],
   "source": [
    "import numpy as np\n",
    "def get_sample(subj_id = None, get_pixel = False):\n",
    "    meta = []\n",
    "    y = []\n",
    "    X = []\n",
    "    labels = []\n",
    "    for i in range(len(EIR_Dataset)): \n",
    "        eeg_sample, eye_sample, metadata, label, img = EIR_Dataset[i]\n",
    "        if subj_id == None:\n",
    "            meta.append(metadata)\n",
    "            y.append(img.flatten())\n",
    "            labels.append(label)\n",
    "            X.append(eeg_sample.get_data())\n",
    "        if isinstance(subj_id, list):\n",
    "            if metadata['subject_id'] in subj_id:\n",
    "                meta.append(metadata)\n",
    "                y.append(img.flatten())\n",
    "                labels.append(label)\n",
    "                X.append(eeg_sample.get_data())\n",
    "        if isinstance(subj_id, int):\n",
    "            if metadata['subject_id'] == subj_id:\n",
    "                meta.append(metadata)\n",
    "                y.append(img.flatten())\n",
    "                labels.append(label)\n",
    "                X.append(eeg_sample.get_data())\n",
    "    if get_pixel:\n",
    "        y = [t[get_pixel[0]*6 + get_pixel[1]] for t in y]\n",
    "    X = np.stack(X)\n",
    "    y = np.array(y)\n",
    "    labels = np.array(labels)\n",
    "    return X, y, labels\n",
    "\n",
    "def get_sample_choosen_trial(subj_id = None, choosen_trial = None):\n",
    "    meta = []\n",
    "    y = []\n",
    "    X = []\n",
    "    labels = []\n",
    "    for i in range(len(EIR_Dataset)): \n",
    "        eeg_sample, eye_sample, metadata, label, img = EIR_Dataset[i]\n",
    "        if subj_id == None and metadata['trial_id'] in choosen_trial:\n",
    "            meta.append(metadata)\n",
    "            y.append(img.flatten())\n",
    "            labels.append(label)\n",
    "            X.append(eeg_sample.get_data())\n",
    "        if isinstance(subj_id, list):\n",
    "            if metadata['subject_id'] in subj_id and metadata['trial_id'] in choosen_trial:\n",
    "                meta.append(metadata)\n",
    "                y.append(img.flatten())\n",
    "                labels.append(label)\n",
    "                X.append(eeg_sample.get_data())\n",
    "        if isinstance(subj_id, int):\n",
    "            if metadata['subject_id'] == subj_id and metadata['trial_id'] in choosen_trial:\n",
    "                meta.append(metadata)\n",
    "                y.append(img.flatten())\n",
    "                labels.append(label)\n",
    "                X.append(eeg_sample.get_data())\n",
    "    X = np.stack(X)\n",
    "    y = np.array(y)\n",
    "    labels = np.array(labels)\n",
    "    return X, y, labels\n",
    "\n",
    "def get_sample_exclude(subj_id: int):\n",
    "    meta = []\n",
    "    y = []\n",
    "    X = []\n",
    "    labels = []\n",
    "    for i in range(len(EIR_Dataset)): \n",
    "        eeg_sample, eye_sample, metadata, label, img = EIR_Dataset[i]\n",
    "        if metadata['subject_id'] != subj_id:\n",
    "            meta.append(metadata)\n",
    "            y.append(img.flatten())\n",
    "            labels.append(label)\n",
    "            X.append(eeg_sample.get_data())\n",
    "    X = np.stack(X)\n",
    "    y = np.array(y)\n",
    "    labels = np.array(labels)\n",
    "    return X, y, labels\n",
    "\n",
    "def get_target_pairs():\n",
    "    targs = {}\n",
    "    for i in range(len(EIR_Dataset)):\n",
    "        eeg_sample, eye_sample, metadata, label, img = EIR_Dataset[i]\n",
    "        if label in targs.keys():\n",
    "            if not np.array_equal(targs[label], img): print('ахтунг')\n",
    "        else:\n",
    "            targs[label] = img\n",
    "    return targs"
   ]
  },
  {
   "cell_type": "code",
   "execution_count": 4,
   "id": "8aa5c152",
   "metadata": {},
   "outputs": [
    {
     "data": {
      "text/plain": [
       "array([0, 0, 0, 0, 0, 0, 0, 1, 1, 1, 1, 1, 1, 1, 0, 0, 0, 1, 0, 1, 0, 0,\n",
       "       0, 0, 0, 1, 1, 0, 0, 0, 0, 0, 1, 0, 1, 0, 0, 0, 0, 0, 0, 0, 0, 0,\n",
       "       0, 0, 0, 1, 1, 0, 1, 0, 1, 0, 0, 0, 1, 1, 1, 0, 1, 1, 1, 0, 0, 0,\n",
       "       0, 0, 0, 0, 1, 1, 1, 1, 0, 1, 1, 1, 0, 1, 0, 0, 1, 0, 0, 0, 0, 0,\n",
       "       1, 0, 0, 1, 0, 1, 1, 1, 0, 0, 1, 0, 0, 0, 0, 0, 0, 1, 0, 1, 0, 1,\n",
       "       0, 0, 0, 1, 0, 0, 0, 0, 0, 0, 1, 1, 0, 0, 0, 1, 0, 0, 0, 1, 1, 0,\n",
       "       1, 1, 1, 0, 0, 0, 1, 1, 1, 0, 0, 0, 0, 0, 0, 1, 1, 0, 1, 1, 1, 1,\n",
       "       1, 1, 0, 0, 1, 0, 0, 0, 0, 0, 0, 1, 0, 1, 1, 1, 1, 1, 0, 1, 1, 0,\n",
       "       0, 0, 0, 1, 0, 1, 0, 1, 0, 0, 0, 0, 0, 0, 0, 0, 0, 0, 0, 0, 1, 0,\n",
       "       0, 1, 0, 1, 0, 1, 1, 1, 1, 1, 1, 1, 1, 1, 0, 0, 0, 0, 1, 1, 0, 0,\n",
       "       1, 0, 1, 0, 0, 0, 1, 0, 0, 0, 0, 0, 0, 1, 0, 0, 1, 0, 0, 0, 0, 0,\n",
       "       0, 0, 0, 0, 1, 0, 1, 1, 0, 1, 1, 0, 1, 1, 0, 0, 0, 0, 0, 0, 0, 0,\n",
       "       0, 0, 1, 1, 0, 1, 1, 0, 1, 0, 1, 0, 1, 1, 0, 0, 0, 0, 1, 1, 1, 0,\n",
       "       0, 1, 0, 1, 1, 1, 1, 1, 1, 0, 1, 0, 0, 0, 1, 0, 0, 1, 0, 1, 0, 1,\n",
       "       1, 0, 0, 0, 0, 0, 0, 1, 0, 1, 0, 0, 1, 1, 0, 0, 0, 0, 0, 0, 0, 0,\n",
       "       1, 0, 1, 1, 0, 1, 1, 1, 1, 0, 0, 1, 1, 1, 0, 0, 1, 1, 1, 1, 0, 0,\n",
       "       0, 0, 0, 1, 0, 0, 0, 0, 1, 1, 1, 1, 1, 1, 1, 0, 0, 0, 0, 1, 0, 1,\n",
       "       1, 1, 1, 0, 0, 1, 1, 0, 1, 0, 0, 0, 0, 0, 0, 0, 0, 0, 0, 0, 1, 0,\n",
       "       0, 0, 0, 1, 1, 0, 1, 0, 1, 0, 0, 1, 0, 0, 0, 0, 0, 0, 0, 0, 0, 0,\n",
       "       0, 0, 0, 1, 1, 1, 0, 1, 1, 0, 0, 0, 0, 1, 1, 1])"
      ]
     },
     "execution_count": 4,
     "metadata": {},
     "output_type": "execute_result"
    }
   ],
   "source": [
    "y = get_sample(get_pixel = [2, 2])[1]\n",
    "y"
   ]
  },
  {
   "cell_type": "code",
   "execution_count": 6,
   "id": "9ee8f26e",
   "metadata": {},
   "outputs": [
    {
     "data": {
      "text/plain": [
       "Counter({11: 41,\n",
       "         6: 40,\n",
       "         10: 39,\n",
       "         4: 39,\n",
       "         3: 38,\n",
       "         5: 34,\n",
       "         2: 31,\n",
       "         8: 31,\n",
       "         7: 31,\n",
       "         1: 30,\n",
       "         0: 28,\n",
       "         9: 28,\n",
       "         12: 24})"
      ]
     },
     "execution_count": 6,
     "metadata": {},
     "output_type": "execute_result"
    }
   ],
   "source": [
    "from collections import Counter\n",
    "Counter(get_sample()[2])"
   ]
  },
  {
   "cell_type": "code",
   "execution_count": null,
   "id": "f496bc1f",
   "metadata": {},
   "outputs": [],
   "source": [
    "get_target_pairs()"
   ]
  },
  {
   "cell_type": "code",
   "execution_count": null,
   "id": "432bc60e",
   "metadata": {},
   "outputs": [],
   "source": [
    "meta = []\n",
    "y = []\n",
    "X = []\n",
    "labels = []\n",
    "for i in range(len(EIR_Dataset)):\n",
    "        eeg_sample, eye_sample, metadata, label, img = EIR_Dataset[i]\n",
    "        metadata['label'] = label\n",
    "        meta.append(metadata)\n",
    "        y.append(img.flatten())\n",
    "        labels.append(label)\n",
    "        X.append(eeg_sample.get_data())\n"
   ]
  },
  {
   "cell_type": "code",
   "execution_count": null,
   "id": "9ef89eea",
   "metadata": {},
   "outputs": [],
   "source": [
    "import pandas as pd\n",
    "df = pd.DataFrame(meta)\n",
    "df"
   ]
  },
  {
   "cell_type": "code",
   "execution_count": null,
   "id": "1a669438",
   "metadata": {},
   "outputs": [],
   "source": [
    "label_trial_counts = (\n",
    "    df.groupby(['subject_id', 'label'])['trial_id']\n",
    "    .nunique()  # Count unique trials per (subject, label)\n",
    "    .reset_index(name='unique_trial_count')\n",
    ")\n",
    "\n",
    "# Filter cases where the same label appears in ≥2 different trials\n",
    "repeated_labels = label_trial_counts[label_trial_counts['unique_trial_count'] > 1]\n",
    "\n",
    "# Get the original rows matching these cases\n",
    "result = df.merge(\n",
    "    repeated_labels[['subject_id', 'label']],\n",
    "    on=['subject_id', 'label'],\n",
    "    how='inner'\n",
    ").sort_values(['subject_id', 'trial_id', 'label'])\n",
    "\n",
    "result[['subject_id', 'label']].drop_duplicates()"
   ]
  },
  {
   "cell_type": "code",
   "execution_count": null,
   "id": "efa99233",
   "metadata": {},
   "outputs": [
    {
     "name": "stderr",
     "output_type": "stream",
     "text": [
      "2025-06-21 14:13:17.648350: E external/local_xla/xla/stream_executor/cuda/cuda_fft.cc:467] Unable to register cuFFT factory: Attempting to register factory for plugin cuFFT when one has already been registered\n",
      "WARNING: All log messages before absl::InitializeLog() is called are written to STDERR\n",
      "E0000 00:00:1750515197.664871 3111494 cuda_dnn.cc:8579] Unable to register cuDNN factory: Attempting to register factory for plugin cuDNN when one has already been registered\n",
      "E0000 00:00:1750515197.669867 3111494 cuda_blas.cc:1407] Unable to register cuBLAS factory: Attempting to register factory for plugin cuBLAS when one has already been registered\n",
      "W0000 00:00:1750515197.686420 3111494 computation_placer.cc:177] computation placer already registered. Please check linkage and avoid linking the same target more than once.\n",
      "W0000 00:00:1750515197.686432 3111494 computation_placer.cc:177] computation placer already registered. Please check linkage and avoid linking the same target more than once.\n",
      "W0000 00:00:1750515197.686434 3111494 computation_placer.cc:177] computation placer already registered. Please check linkage and avoid linking the same target more than once.\n",
      "W0000 00:00:1750515197.686436 3111494 computation_placer.cc:177] computation placer already registered. Please check linkage and avoid linking the same target more than once.\n",
      "2025-06-21 14:13:17.693113: I tensorflow/core/platform/cpu_feature_guard.cc:210] This TensorFlow binary is optimized to use available CPU instructions in performance-critical operations.\n",
      "To enable the following instructions: AVX2 FMA, in other operations, rebuild TensorFlow with the appropriate compiler flags.\n"
     ]
    }
   ],
   "source": [
    "import numpy as np\n",
    "\n",
    "# mne imports\n",
    "import mne\n",
    "from mne import io\n",
    "from mne.datasets import sample\n",
    "\n",
    "# EEGNet-specific imports\n",
    "from Scripts.EEGModels import EEGNet_Regression, EEGNet_Regression_One_Exit\n",
    "from tensorflow.keras import utils as np_utils\n",
    "from tensorflow.keras.callbacks import EarlyStopping, ModelCheckpoint\n",
    "from tensorflow.keras import backend as K\n",
    "\n",
    "# PyRiemann imports\n",
    "from pyriemann.estimation import XdawnCovariances\n",
    "from pyriemann.tangentspace import TangentSpace\n",
    "#from pyriemann.utils.viz import plot_confusion_matrix\n",
    "from sklearn.metrics import confusion_matrix, ConfusionMatrixDisplay\n",
    "from sklearn.pipeline import make_pipeline\n",
    "from sklearn.linear_model import LogisticRegression\n",
    "from sklearn.utils import class_weight\n",
    "\n",
    "# tools for plotting confusion matrices\n",
    "from matplotlib import pyplot as plt\n",
    "from pathlib import Path\n",
    "from sklearn.model_selection import train_test_split\n",
    "# Assuming X and y are already loaded\n",
    "# y should now be a 2D array with shape (n_samples, 36) for regression\n",
    "\n",
    "import os\n",
    "os.environ['CUDA_VISIBLE_DEVICES'] = '-1'\n",
    "kernels, chans, samples = 1, 63, 2048\n",
    "\n",
    "def compute_ssim(matrix1, matrix2):\n",
    "    X = np.array(matrix1).astype(float)\n",
    "    Y = np.array(matrix2).astype(float)\n",
    "    \n",
    "    K1 = 0.01\n",
    "    K2 = 0.03\n",
    "    L = 1 \n",
    "    C1 = (K1 * L) ** 2\n",
    "    C2 = (K2 * L) ** 2\n",
    "    n = 36\n",
    "    \n",
    "    mean_x = np.mean(X)\n",
    "    mean_y = np.mean(Y)\n",
    "    cov_xy = np.sum((X - mean_x) * (Y - mean_y)) / (n - 1)\n",
    "    var_x = np.var(X)\n",
    "    var_y = np.var(Y)\n",
    "    \n",
    "    luminance = (2 * mean_x * mean_y + C1) / (mean_x ** 2 + mean_y ** 2 + C1)\n",
    "    contrast = (2 * np.sqrt(var_x) * np.sqrt(var_y) + C2) / (var_x + var_y + C2)\n",
    "    structure = (cov_xy + C2/2) / (np.sqrt(var_x) * np.sqrt(var_y) + C2/2)\n",
    "    \n",
    "    return luminance * contrast * structure\n",
    "\n",
    "def predict_class(targets, predicted_matrices):\n",
    "    probs = []\n",
    "    for i, matrix in enumerate(predicted_matrices):\n",
    "        probs.append([])\n",
    "        for j in targets:\n",
    "            probs[i].append((j, compute_ssim(matrix, targets[j])))\n",
    "        probs[i].sort(key=lambda x: x[1], reverse=True)\n",
    "    return probs\n",
    "        \n",
    "\n",
    "def split_preserving_train_classes(X_temp, y_temp, classes_temp, classes_train, test_size=0.5, random_state=42):\n",
    "\n",
    "    X_temp = np.asarray(X_temp)\n",
    "    y_temp = np.asarray(y_temp)\n",
    "    classes_temp = np.asarray(classes_temp)\n",
    "    classes_train = np.asarray(classes_train)\n",
    "\n",
    "    train_classes = np.unique(classes_train)\n",
    "    \n",
    "\n",
    "    mask_in_train = np.isin(classes_temp, train_classes)\n",
    "    X_temp_in_train = X_temp[mask_in_train]\n",
    "    y_temp_in_train = y_temp[mask_in_train]\n",
    "    classes_temp_in_train = classes_temp[mask_in_train]\n",
    "    \n",
    "    X_temp_not_in_train = X_temp[~mask_in_train]\n",
    "    y_temp_not_in_train = y_temp[~mask_in_train]\n",
    "    classes_temp_not_in_train = classes_temp[~mask_in_train]\n",
    "    \n",
    "    target_test_size = int(len(X_temp) * test_size)\n",
    "    available_in_train_size = len(X_temp_in_train)\n",
    "    \n",
    "    if available_in_train_size >= target_test_size:\n",
    "        test_size_ratio = target_test_size / available_in_train_size\n",
    "        (X_validate_in_train, X_test, \n",
    "         y_validate_in_train, y_test, \n",
    "         classes_validate_in_train, classes_test) = train_test_split(\n",
    "            X_temp_in_train, y_temp_in_train, classes_temp_in_train,\n",
    "            test_size=test_size_ratio,\n",
    "            random_state=random_state\n",
    "        )\n",
    "    else:\n",
    "        X_test = X_temp_in_train\n",
    "        y_test = y_temp_in_train\n",
    "        classes_test = classes_temp_in_train\n",
    "        X_validate_in_train = np.array([])\n",
    "        y_validate_in_train = np.array([])\n",
    "        classes_validate_in_train = np.array([])\n",
    "    \n",
    "    X_validate = np.concatenate([X_validate_in_train, X_temp_not_in_train]) if len(X_validate_in_train) > 0 else X_temp_not_in_train\n",
    "    y_validate = np.concatenate([y_validate_in_train, y_temp_not_in_train]) if len(y_validate_in_train) > 0 else y_temp_not_in_train\n",
    "    classes_validate = np.concatenate([classes_validate_in_train, classes_temp_not_in_train]) if len(classes_validate_in_train) > 0 else classes_temp_not_in_train\n",
    "    \n",
    "    return X_validate, X_test, y_validate, y_test, classes_validate, classes_test\n",
    "\n",
    "def in_subject_train_ver2(subject_id = None, mode = 'all', classes_mode = 'default', get_pixel = False):\n",
    "    if mode in ['subj', 'subj_only_double', 'all']:\n",
    "        X, y, classes = get_sample(subject_id, get_pixel=get_pixel)\n",
    "        \n",
    "        X_train, X_temp, y_train, y_temp, classes_train, classes_temp = train_test_split(\n",
    "            X, y, classes,\n",
    "            test_size=0.5,\n",
    "            random_state=42,\n",
    "        )\n",
    "        \n",
    "        if mode in ['subj', 'all']:\n",
    "            X_validate, X_test, y_validate, y_test, classes_validate, classes_test = train_test_split(\n",
    "                X_temp, y_temp, classes_temp,\n",
    "                test_size=0.5,\n",
    "                random_state=42\n",
    "            )\n",
    "            if get_pixel: subject_id_name = f\"{subject_id}_{get_pixel[0]}_{get_pixel[1]}\"\n",
    "            else: subject_id_name = f\"{subject_id}\"\n",
    "        elif mode == 'subj_only_double':\n",
    "            X_validate, X_test, y_validate, y_test, classes_validate, classes_test = split_preserving_train_classes(\n",
    "                X_temp, y_temp, classes_temp, classes_train,\n",
    "                test_size=0.5,\n",
    "                random_state=42\n",
    "            )\n",
    "            if get_pixel: subject_id_name = f\"{subject_id}_only_known_{get_pixel[0]}_{get_pixel[1]}\"\n",
    "            else: subject_id_name = f\"{subject_id}_only_known\"\n",
    "        del X, y, X_temp, y_temp\n",
    "\n",
    "    elif mode == 'exclude':\n",
    "        X_temp, y_temp, classes = get_sample_exclude(subject_id)\n",
    "        X_train, X_validate, y_train, y_validate, classes_train, classes_validate = train_test_split(\n",
    "            X_temp, y_temp, classes, stratify=classes,\n",
    "            test_size=0.25,\n",
    "            random_state=42\n",
    "        )\n",
    "        X_test, y_test, classes_test = get_sample(subject_id)\n",
    "        if get_pixel: subject_id_name = f\"{subject_id}_exclude_{get_pixel[0]}_{get_pixel[1]}\"\n",
    "        else: subject_id_name = f\"{subject_id}_exclude\"\n",
    "    #return classes_train, classes_validate, classes_test\n",
    "\n",
    "    # Reshape data to NHWC format\n",
    "    X_train = X_train.reshape(X_train.shape[0], chans, samples, kernels)\n",
    "    X_validate = X_validate.reshape(X_validate.shape[0], chans, samples, kernels)\n",
    "    X_test = X_test.reshape(X_test.shape[0], chans, samples, kernels)\n",
    "\n",
    "    # Create regression model\n",
    "    model = EEGNet_Regression(Chans=chans, Samples=samples, \n",
    "                            dropoutRate=0.5, kernLength=32, \n",
    "                            F1=8, D=2, F2=16, \n",
    "                            dropoutType='Dropout')\n",
    "    class_weights={0: 1, 1: 1}\n",
    "    if get_pixel:\n",
    "        class_weights = class_weight.compute_class_weight(\n",
    "            'balanced',\n",
    "            classes=np.unique(y_train.astype(int)),\n",
    "            y=y_train\n",
    "        )\n",
    "        class_weights = dict(enumerate(class_weights))\n",
    "        model = EEGNet_Regression_One_Exit(Chans=chans, Samples=samples, \n",
    "                            dropoutRate=0.5, kernLength=32, \n",
    "                            F1=8, D=2, F2=16, \n",
    "                            dropoutType='Dropout')\n",
    "\n",
    "    # Compile with binary crossentropy loss\n",
    "    model.compile(loss='binary_crossentropy', \n",
    "                optimizer='adam', \n",
    "                metrics=['accuracy'])\n",
    "\n",
    "    # Training callbacks\n",
    "    checkpointer = ModelCheckpoint(filepath=f\"repo/EEG-Image-Research/tmp/checkpoint{subject_id_name}.h5\", \n",
    "                                monitor='val_loss',\n",
    "                                mode='min',\n",
    "                                verbose=1,\n",
    "                                save_best_only=True)\n",
    "\n",
    "    early_stopping = EarlyStopping(monitor='val_loss',\n",
    "                             patience=30,\n",
    "                             mode='min')\n",
    "\n",
    "    # Train the model\n",
    "    history = model.fit(X_train, y_train,\n",
    "                    batch_size=1,\n",
    "                    epochs=100,\n",
    "                    verbose=2,\n",
    "                    validation_data=(X_validate, y_validate),\n",
    "                    callbacks=[checkpointer, early_stopping],\n",
    "                    class_weight=class_weights)\n",
    "    best_epoch = min(history.history['val_loss'])\n",
    "    # Load best weights\n",
    "    model.load_weights(f\"repo/EEG-Image-Research/tmp/checkpoint{subject_id_name}.h5\")\n",
    "\n",
    "    # Evaluate\n",
    "    test_results = model.evaluate(X_test, y_test, verbose=0)\n",
    "    preds = model.predict(X_test)\n",
    "    preds2 = []\n",
    "    for pred in preds:\n",
    "        if not get_pixel: preds2.append(pred.reshape(6, 6))\n",
    "        else: preds2.append(pred)\n",
    "    targs = get_target_pairs()\n",
    "    test_classification = predict_class(targs, preds2)\n",
    "    print(f\"Test Loss: {test_results[0]}, Test Accuracy: {test_results[1]}, \")\n",
    "    return best_epoch, test_results, y_test, preds2, test_classification, model\n",
    "\n",
    "def exploit_model(subject_id = None, mode = 'all', classes_mode = 'default', get_pixel = False):\n",
    "    if mode in ['subj', 'subj_only_double', 'all']:\n",
    "        X, y, classes = get_sample(subject_id, get_pixel=get_pixel)\n",
    "        \n",
    "        X_train, X_temp, y_train, y_temp, classes_train, classes_temp = train_test_split(\n",
    "            X, y, classes,\n",
    "            test_size=0.5,\n",
    "            random_state=42\n",
    "        )\n",
    "        \n",
    "        if mode in ['subj', 'all']:\n",
    "            X_validate, X_test, y_validate, y_test, classes_validate, classes_test = train_test_split(\n",
    "                X_temp, y_temp, classes_temp,\n",
    "                test_size=0.5,\n",
    "                random_state=42\n",
    "            )\n",
    "            if get_pixel: subject_id_name = f\"{subject_id}_{get_pixel[0]}_{get_pixel[1]}\"\n",
    "            else: subject_id_name = f\"{subject_id}\"\n",
    "        elif mode == 'subj_only_double':\n",
    "            X_validate, X_test, y_validate, y_test, classes_validate, classes_test = split_preserving_train_classes(\n",
    "                X_temp, y_temp, classes_temp, classes_train,\n",
    "                test_size=0.5,\n",
    "                random_state=42\n",
    "            )\n",
    "            if get_pixel: subject_id_name = f\"{subject_id}_only_known_{get_pixel[0]}_{get_pixel[1]}\"\n",
    "            else: subject_id_name = f\"{subject_id}_only_known\"\n",
    "        del X, y, X_temp, y_temp\n",
    "\n",
    "    elif mode == 'exclude':\n",
    "        X_temp, y_temp, classes = get_sample_exclude(subject_id)\n",
    "        X_train, X_validate, y_train, y_validate, classes_train, classes_validate = train_test_split(\n",
    "            X_temp, y_temp, classes, stratify=classes,\n",
    "            test_size=0.25,\n",
    "            random_state=42\n",
    "        )\n",
    "        X_test, y_test, classes_test = get_sample(subject_id)\n",
    "        if get_pixel: subject_id_name = f\"{subject_id}_exclude_{get_pixel[0]}_{get_pixel[1]}\"\n",
    "        else: subject_id_name = f\"{subject_id}_exclude\"\n",
    "    #return classes_train, classes_validate, classes_test\n",
    "\n",
    "    # Reshape data to NHWC format\n",
    "    X_train = X_train.reshape(X_train.shape[0], chans, samples, kernels)\n",
    "    X_validate = X_validate.reshape(X_validate.shape[0], chans, samples, kernels)\n",
    "    X_test = X_test.reshape(X_test.shape[0], chans, samples, kernels)\n",
    "    \n",
    "    model = EEGNet_Regression(Chans=chans, Samples=samples, \n",
    "                            dropoutRate=0.5, kernLength=32, \n",
    "                            F1=8, D=2, F2=16, \n",
    "                            dropoutType='Dropout')\n",
    "\n",
    "    if get_pixel:\n",
    "        model = EEGNet_Regression_One_Exit(Chans=chans, Samples=samples, \n",
    "                            dropoutRate=0.5, kernLength=32, \n",
    "                            F1=8, D=2, F2=16, \n",
    "                            dropoutType='Dropout')\n",
    "    # Compile with binary crossentropy loss\n",
    "    model.compile(loss='binary_crossentropy', \n",
    "                optimizer='adam', \n",
    "                metrics=['binary_accuracy'])\n",
    "    #model.load_weights(f\"Saved_Models/checkpoint{subject_id_name}.h5\")\n",
    "    model.load_weights(f\"repo/EEG-Image-Research/tmp/checkpoint{subject_id_name}.h5\")\n",
    "    # Evaluate\n",
    "    test_results = model.evaluate(X_test, y_test, verbose=0)\n",
    "    preds = model.predict(X_test)\n",
    "    preds2 = []\n",
    "    for pred in preds:\n",
    "        if not get_pixel: preds2.append(pred.reshape(6, 6))\n",
    "        else: \n",
    "            preds2.append(pred)\n",
    "    targs = get_target_pairs()\n",
    "    if get_pixel: test_classification = None\n",
    "    else: test_classification = predict_class(targs, preds2)\n",
    "    print(f\"Test Loss: {test_results[0]}, Test Accuracy: {test_results[1]}, \")\n",
    "    return test_results, y_test, preds2, preds, test_classification, classes_test"
   ]
  },
  {
   "cell_type": "code",
   "execution_count": null,
   "id": "dfea1db5",
   "metadata": {},
   "outputs": [
    {
     "name": "stdout",
     "output_type": "stream",
     "text": [
      "[0, 0]\n",
      "Epoch 1/100\n"
     ]
    },
    {
     "name": "stderr",
     "output_type": "stream",
     "text": [
      "2025-06-21 14:13:24.806492: E external/local_xla/xla/stream_executor/cuda/cuda_platform.cc:51] failed call to cuInit: INTERNAL: CUDA error: Failed call to cuInit: CUDA_ERROR_NO_DEVICE: no CUDA-capable device is detected\n"
     ]
    },
    {
     "name": "stdout",
     "output_type": "stream",
     "text": [
      "\n",
      "Epoch 1: val_loss improved from inf to 0.69963, saving model to repo/EEG-Image-Research/tmp/checkpoint7_0_0.h5\n"
     ]
    },
    {
     "name": "stderr",
     "output_type": "stream",
     "text": [
      "WARNING:absl:You are saving your model as an HDF5 file via `model.save()` or `keras.saving.save_model(model)`. This file format is considered legacy. We recommend using instead the native Keras format, e.g. `model.save('my_model.keras')` or `keras.saving.save_model(model, 'my_model.keras')`. \n"
     ]
    },
    {
     "name": "stdout",
     "output_type": "stream",
     "text": [
      "14/14 - 3s - 209ms/step - accuracy: 0.6429 - loss: 0.6735 - val_accuracy: 0.7143 - val_loss: 0.6996\n",
      "Epoch 2/100\n",
      "\n",
      "Epoch 2: val_loss improved from 0.69963 to 0.69673, saving model to repo/EEG-Image-Research/tmp/checkpoint7_0_0.h5\n"
     ]
    },
    {
     "name": "stderr",
     "output_type": "stream",
     "text": [
      "WARNING:absl:You are saving your model as an HDF5 file via `model.save()` or `keras.saving.save_model(model)`. This file format is considered legacy. We recommend using instead the native Keras format, e.g. `model.save('my_model.keras')` or `keras.saving.save_model(model, 'my_model.keras')`. \n"
     ]
    },
    {
     "name": "stdout",
     "output_type": "stream",
     "text": [
      "14/14 - 1s - 80ms/step - accuracy: 0.8571 - loss: 0.5945 - val_accuracy: 0.7143 - val_loss: 0.6967\n",
      "Epoch 3/100\n",
      "\n",
      "Epoch 3: val_loss did not improve from 0.69673\n",
      "14/14 - 1s - 79ms/step - accuracy: 0.9286 - loss: 0.2991 - val_accuracy: 0.7143 - val_loss: 0.6994\n",
      "Epoch 4/100\n",
      "\n",
      "Epoch 4: val_loss did not improve from 0.69673\n",
      "14/14 - 1s - 78ms/step - accuracy: 1.0000 - loss: 0.1789 - val_accuracy: 0.8571 - val_loss: 0.6982\n",
      "Epoch 5/100\n",
      "\n",
      "Epoch 5: val_loss improved from 0.69673 to 0.69234, saving model to repo/EEG-Image-Research/tmp/checkpoint7_0_0.h5\n"
     ]
    },
    {
     "name": "stderr",
     "output_type": "stream",
     "text": [
      "WARNING:absl:You are saving your model as an HDF5 file via `model.save()` or `keras.saving.save_model(model)`. This file format is considered legacy. We recommend using instead the native Keras format, e.g. `model.save('my_model.keras')` or `keras.saving.save_model(model, 'my_model.keras')`. \n"
     ]
    },
    {
     "name": "stdout",
     "output_type": "stream",
     "text": [
      "14/14 - 1s - 84ms/step - accuracy: 1.0000 - loss: 0.0811 - val_accuracy: 0.7143 - val_loss: 0.6923\n",
      "Epoch 6/100\n",
      "\n",
      "Epoch 6: val_loss improved from 0.69234 to 0.68545, saving model to repo/EEG-Image-Research/tmp/checkpoint7_0_0.h5\n"
     ]
    },
    {
     "name": "stderr",
     "output_type": "stream",
     "text": [
      "WARNING:absl:You are saving your model as an HDF5 file via `model.save()` or `keras.saving.save_model(model)`. This file format is considered legacy. We recommend using instead the native Keras format, e.g. `model.save('my_model.keras')` or `keras.saving.save_model(model, 'my_model.keras')`. \n"
     ]
    },
    {
     "name": "stdout",
     "output_type": "stream",
     "text": [
      "14/14 - 1s - 75ms/step - accuracy: 1.0000 - loss: 0.0502 - val_accuracy: 0.7143 - val_loss: 0.6855\n",
      "Epoch 7/100\n",
      "\n",
      "Epoch 7: val_loss improved from 0.68545 to 0.68125, saving model to repo/EEG-Image-Research/tmp/checkpoint7_0_0.h5\n"
     ]
    },
    {
     "name": "stderr",
     "output_type": "stream",
     "text": [
      "WARNING:absl:You are saving your model as an HDF5 file via `model.save()` or `keras.saving.save_model(model)`. This file format is considered legacy. We recommend using instead the native Keras format, e.g. `model.save('my_model.keras')` or `keras.saving.save_model(model, 'my_model.keras')`. \n"
     ]
    },
    {
     "name": "stdout",
     "output_type": "stream",
     "text": [
      "14/14 - 1s - 76ms/step - accuracy: 1.0000 - loss: 0.0567 - val_accuracy: 0.8571 - val_loss: 0.6812\n",
      "Epoch 8/100\n",
      "\n",
      "Epoch 8: val_loss improved from 0.68125 to 0.67578, saving model to repo/EEG-Image-Research/tmp/checkpoint7_0_0.h5\n"
     ]
    },
    {
     "name": "stderr",
     "output_type": "stream",
     "text": [
      "WARNING:absl:You are saving your model as an HDF5 file via `model.save()` or `keras.saving.save_model(model)`. This file format is considered legacy. We recommend using instead the native Keras format, e.g. `model.save('my_model.keras')` or `keras.saving.save_model(model, 'my_model.keras')`. \n"
     ]
    },
    {
     "name": "stdout",
     "output_type": "stream",
     "text": [
      "14/14 - 1s - 75ms/step - accuracy: 1.0000 - loss: 0.0541 - val_accuracy: 0.8571 - val_loss: 0.6758\n",
      "Epoch 9/100\n",
      "\n",
      "Epoch 9: val_loss improved from 0.67578 to 0.66631, saving model to repo/EEG-Image-Research/tmp/checkpoint7_0_0.h5\n"
     ]
    },
    {
     "name": "stderr",
     "output_type": "stream",
     "text": [
      "WARNING:absl:You are saving your model as an HDF5 file via `model.save()` or `keras.saving.save_model(model)`. This file format is considered legacy. We recommend using instead the native Keras format, e.g. `model.save('my_model.keras')` or `keras.saving.save_model(model, 'my_model.keras')`. \n"
     ]
    },
    {
     "name": "stdout",
     "output_type": "stream",
     "text": [
      "14/14 - 1s - 80ms/step - accuracy: 1.0000 - loss: 0.0367 - val_accuracy: 0.8571 - val_loss: 0.6663\n",
      "Epoch 10/100\n",
      "\n",
      "Epoch 10: val_loss improved from 0.66631 to 0.66219, saving model to repo/EEG-Image-Research/tmp/checkpoint7_0_0.h5\n"
     ]
    },
    {
     "name": "stderr",
     "output_type": "stream",
     "text": [
      "WARNING:absl:You are saving your model as an HDF5 file via `model.save()` or `keras.saving.save_model(model)`. This file format is considered legacy. We recommend using instead the native Keras format, e.g. `model.save('my_model.keras')` or `keras.saving.save_model(model, 'my_model.keras')`. \n"
     ]
    },
    {
     "name": "stdout",
     "output_type": "stream",
     "text": [
      "14/14 - 1s - 78ms/step - accuracy: 1.0000 - loss: 0.0379 - val_accuracy: 0.8571 - val_loss: 0.6622\n",
      "Epoch 11/100\n",
      "\n",
      "Epoch 11: val_loss improved from 0.66219 to 0.65665, saving model to repo/EEG-Image-Research/tmp/checkpoint7_0_0.h5\n"
     ]
    },
    {
     "name": "stderr",
     "output_type": "stream",
     "text": [
      "WARNING:absl:You are saving your model as an HDF5 file via `model.save()` or `keras.saving.save_model(model)`. This file format is considered legacy. We recommend using instead the native Keras format, e.g. `model.save('my_model.keras')` or `keras.saving.save_model(model, 'my_model.keras')`. \n"
     ]
    },
    {
     "name": "stdout",
     "output_type": "stream",
     "text": [
      "14/14 - 1s - 81ms/step - accuracy: 1.0000 - loss: 0.0243 - val_accuracy: 0.8571 - val_loss: 0.6566\n",
      "Epoch 12/100\n",
      "\n",
      "Epoch 12: val_loss improved from 0.65665 to 0.64989, saving model to repo/EEG-Image-Research/tmp/checkpoint7_0_0.h5\n"
     ]
    },
    {
     "name": "stderr",
     "output_type": "stream",
     "text": [
      "WARNING:absl:You are saving your model as an HDF5 file via `model.save()` or `keras.saving.save_model(model)`. This file format is considered legacy. We recommend using instead the native Keras format, e.g. `model.save('my_model.keras')` or `keras.saving.save_model(model, 'my_model.keras')`. \n"
     ]
    },
    {
     "name": "stdout",
     "output_type": "stream",
     "text": [
      "14/14 - 1s - 81ms/step - accuracy: 1.0000 - loss: 0.0196 - val_accuracy: 0.8571 - val_loss: 0.6499\n",
      "Epoch 13/100\n",
      "\n",
      "Epoch 13: val_loss improved from 0.64989 to 0.64466, saving model to repo/EEG-Image-Research/tmp/checkpoint7_0_0.h5\n"
     ]
    },
    {
     "name": "stderr",
     "output_type": "stream",
     "text": [
      "WARNING:absl:You are saving your model as an HDF5 file via `model.save()` or `keras.saving.save_model(model)`. This file format is considered legacy. We recommend using instead the native Keras format, e.g. `model.save('my_model.keras')` or `keras.saving.save_model(model, 'my_model.keras')`. \n"
     ]
    },
    {
     "name": "stdout",
     "output_type": "stream",
     "text": [
      "14/14 - 1s - 82ms/step - accuracy: 1.0000 - loss: 0.0194 - val_accuracy: 0.8571 - val_loss: 0.6447\n",
      "Epoch 14/100\n",
      "\n",
      "Epoch 14: val_loss improved from 0.64466 to 0.64013, saving model to repo/EEG-Image-Research/tmp/checkpoint7_0_0.h5\n"
     ]
    },
    {
     "name": "stderr",
     "output_type": "stream",
     "text": [
      "WARNING:absl:You are saving your model as an HDF5 file via `model.save()` or `keras.saving.save_model(model)`. This file format is considered legacy. We recommend using instead the native Keras format, e.g. `model.save('my_model.keras')` or `keras.saving.save_model(model, 'my_model.keras')`. \n"
     ]
    },
    {
     "name": "stdout",
     "output_type": "stream",
     "text": [
      "14/14 - 1s - 88ms/step - accuracy: 1.0000 - loss: 0.0217 - val_accuracy: 0.7143 - val_loss: 0.6401\n",
      "Epoch 15/100\n",
      "\n",
      "Epoch 15: val_loss improved from 0.64013 to 0.63761, saving model to repo/EEG-Image-Research/tmp/checkpoint7_0_0.h5\n"
     ]
    },
    {
     "name": "stderr",
     "output_type": "stream",
     "text": [
      "WARNING:absl:You are saving your model as an HDF5 file via `model.save()` or `keras.saving.save_model(model)`. This file format is considered legacy. We recommend using instead the native Keras format, e.g. `model.save('my_model.keras')` or `keras.saving.save_model(model, 'my_model.keras')`. \n"
     ]
    },
    {
     "name": "stdout",
     "output_type": "stream",
     "text": [
      "14/14 - 1s - 84ms/step - accuracy: 1.0000 - loss: 0.0231 - val_accuracy: 0.7143 - val_loss: 0.6376\n",
      "Epoch 16/100\n",
      "\n",
      "Epoch 16: val_loss improved from 0.63761 to 0.63367, saving model to repo/EEG-Image-Research/tmp/checkpoint7_0_0.h5\n"
     ]
    },
    {
     "name": "stderr",
     "output_type": "stream",
     "text": [
      "WARNING:absl:You are saving your model as an HDF5 file via `model.save()` or `keras.saving.save_model(model)`. This file format is considered legacy. We recommend using instead the native Keras format, e.g. `model.save('my_model.keras')` or `keras.saving.save_model(model, 'my_model.keras')`. \n"
     ]
    },
    {
     "name": "stdout",
     "output_type": "stream",
     "text": [
      "14/14 - 1s - 81ms/step - accuracy: 1.0000 - loss: 0.0180 - val_accuracy: 0.7143 - val_loss: 0.6337\n",
      "Epoch 17/100\n",
      "\n",
      "Epoch 17: val_loss improved from 0.63367 to 0.62800, saving model to repo/EEG-Image-Research/tmp/checkpoint7_0_0.h5\n"
     ]
    },
    {
     "name": "stderr",
     "output_type": "stream",
     "text": [
      "WARNING:absl:You are saving your model as an HDF5 file via `model.save()` or `keras.saving.save_model(model)`. This file format is considered legacy. We recommend using instead the native Keras format, e.g. `model.save('my_model.keras')` or `keras.saving.save_model(model, 'my_model.keras')`. \n"
     ]
    },
    {
     "name": "stdout",
     "output_type": "stream",
     "text": [
      "14/14 - 1s - 80ms/step - accuracy: 1.0000 - loss: 0.0204 - val_accuracy: 0.7143 - val_loss: 0.6280\n",
      "Epoch 18/100\n",
      "\n",
      "Epoch 18: val_loss improved from 0.62800 to 0.62255, saving model to repo/EEG-Image-Research/tmp/checkpoint7_0_0.h5\n"
     ]
    },
    {
     "name": "stderr",
     "output_type": "stream",
     "text": [
      "WARNING:absl:You are saving your model as an HDF5 file via `model.save()` or `keras.saving.save_model(model)`. This file format is considered legacy. We recommend using instead the native Keras format, e.g. `model.save('my_model.keras')` or `keras.saving.save_model(model, 'my_model.keras')`. \n"
     ]
    },
    {
     "name": "stdout",
     "output_type": "stream",
     "text": [
      "14/14 - 1s - 82ms/step - accuracy: 1.0000 - loss: 0.0181 - val_accuracy: 0.7143 - val_loss: 0.6225\n",
      "Epoch 19/100\n",
      "\n",
      "Epoch 19: val_loss improved from 0.62255 to 0.61280, saving model to repo/EEG-Image-Research/tmp/checkpoint7_0_0.h5\n"
     ]
    },
    {
     "name": "stderr",
     "output_type": "stream",
     "text": [
      "WARNING:absl:You are saving your model as an HDF5 file via `model.save()` or `keras.saving.save_model(model)`. This file format is considered legacy. We recommend using instead the native Keras format, e.g. `model.save('my_model.keras')` or `keras.saving.save_model(model, 'my_model.keras')`. \n"
     ]
    },
    {
     "name": "stdout",
     "output_type": "stream",
     "text": [
      "14/14 - 1s - 79ms/step - accuracy: 1.0000 - loss: 0.0205 - val_accuracy: 0.7143 - val_loss: 0.6128\n",
      "Epoch 20/100\n",
      "\n",
      "Epoch 20: val_loss improved from 0.61280 to 0.59985, saving model to repo/EEG-Image-Research/tmp/checkpoint7_0_0.h5\n"
     ]
    },
    {
     "name": "stderr",
     "output_type": "stream",
     "text": [
      "WARNING:absl:You are saving your model as an HDF5 file via `model.save()` or `keras.saving.save_model(model)`. This file format is considered legacy. We recommend using instead the native Keras format, e.g. `model.save('my_model.keras')` or `keras.saving.save_model(model, 'my_model.keras')`. \n"
     ]
    },
    {
     "name": "stdout",
     "output_type": "stream",
     "text": [
      "14/14 - 1s - 84ms/step - accuracy: 1.0000 - loss: 0.0152 - val_accuracy: 0.7143 - val_loss: 0.5998\n",
      "Epoch 21/100\n",
      "\n",
      "Epoch 21: val_loss improved from 0.59985 to 0.59384, saving model to repo/EEG-Image-Research/tmp/checkpoint7_0_0.h5\n"
     ]
    },
    {
     "name": "stderr",
     "output_type": "stream",
     "text": [
      "WARNING:absl:You are saving your model as an HDF5 file via `model.save()` or `keras.saving.save_model(model)`. This file format is considered legacy. We recommend using instead the native Keras format, e.g. `model.save('my_model.keras')` or `keras.saving.save_model(model, 'my_model.keras')`. \n"
     ]
    },
    {
     "name": "stdout",
     "output_type": "stream",
     "text": [
      "14/14 - 1s - 79ms/step - accuracy: 1.0000 - loss: 0.0153 - val_accuracy: 0.7143 - val_loss: 0.5938\n",
      "Epoch 22/100\n",
      "\n",
      "Epoch 22: val_loss improved from 0.59384 to 0.58748, saving model to repo/EEG-Image-Research/tmp/checkpoint7_0_0.h5\n"
     ]
    },
    {
     "name": "stderr",
     "output_type": "stream",
     "text": [
      "WARNING:absl:You are saving your model as an HDF5 file via `model.save()` or `keras.saving.save_model(model)`. This file format is considered legacy. We recommend using instead the native Keras format, e.g. `model.save('my_model.keras')` or `keras.saving.save_model(model, 'my_model.keras')`. \n"
     ]
    },
    {
     "name": "stdout",
     "output_type": "stream",
     "text": [
      "14/14 - 1s - 84ms/step - accuracy: 1.0000 - loss: 0.0151 - val_accuracy: 0.7143 - val_loss: 0.5875\n",
      "Epoch 23/100\n",
      "\n",
      "Epoch 23: val_loss improved from 0.58748 to 0.58208, saving model to repo/EEG-Image-Research/tmp/checkpoint7_0_0.h5\n"
     ]
    },
    {
     "name": "stderr",
     "output_type": "stream",
     "text": [
      "WARNING:absl:You are saving your model as an HDF5 file via `model.save()` or `keras.saving.save_model(model)`. This file format is considered legacy. We recommend using instead the native Keras format, e.g. `model.save('my_model.keras')` or `keras.saving.save_model(model, 'my_model.keras')`. \n"
     ]
    },
    {
     "name": "stdout",
     "output_type": "stream",
     "text": [
      "14/14 - 1s - 81ms/step - accuracy: 1.0000 - loss: 0.0179 - val_accuracy: 0.7143 - val_loss: 0.5821\n",
      "Epoch 24/100\n",
      "\n",
      "Epoch 24: val_loss improved from 0.58208 to 0.57650, saving model to repo/EEG-Image-Research/tmp/checkpoint7_0_0.h5\n"
     ]
    },
    {
     "name": "stderr",
     "output_type": "stream",
     "text": [
      "WARNING:absl:You are saving your model as an HDF5 file via `model.save()` or `keras.saving.save_model(model)`. This file format is considered legacy. We recommend using instead the native Keras format, e.g. `model.save('my_model.keras')` or `keras.saving.save_model(model, 'my_model.keras')`. \n"
     ]
    },
    {
     "name": "stdout",
     "output_type": "stream",
     "text": [
      "14/14 - 1s - 80ms/step - accuracy: 1.0000 - loss: 0.0177 - val_accuracy: 0.7143 - val_loss: 0.5765\n",
      "Epoch 25/100\n",
      "\n",
      "Epoch 25: val_loss improved from 0.57650 to 0.56982, saving model to repo/EEG-Image-Research/tmp/checkpoint7_0_0.h5\n"
     ]
    },
    {
     "name": "stderr",
     "output_type": "stream",
     "text": [
      "WARNING:absl:You are saving your model as an HDF5 file via `model.save()` or `keras.saving.save_model(model)`. This file format is considered legacy. We recommend using instead the native Keras format, e.g. `model.save('my_model.keras')` or `keras.saving.save_model(model, 'my_model.keras')`. \n"
     ]
    },
    {
     "name": "stdout",
     "output_type": "stream",
     "text": [
      "14/14 - 1s - 80ms/step - accuracy: 1.0000 - loss: 0.0156 - val_accuracy: 0.7143 - val_loss: 0.5698\n",
      "Epoch 26/100\n",
      "\n",
      "Epoch 26: val_loss improved from 0.56982 to 0.56077, saving model to repo/EEG-Image-Research/tmp/checkpoint7_0_0.h5\n"
     ]
    },
    {
     "name": "stderr",
     "output_type": "stream",
     "text": [
      "WARNING:absl:You are saving your model as an HDF5 file via `model.save()` or `keras.saving.save_model(model)`. This file format is considered legacy. We recommend using instead the native Keras format, e.g. `model.save('my_model.keras')` or `keras.saving.save_model(model, 'my_model.keras')`. \n"
     ]
    },
    {
     "name": "stdout",
     "output_type": "stream",
     "text": [
      "14/14 - 1s - 79ms/step - accuracy: 1.0000 - loss: 0.0162 - val_accuracy: 0.7143 - val_loss: 0.5608\n",
      "Epoch 27/100\n",
      "\n",
      "Epoch 27: val_loss improved from 0.56077 to 0.54954, saving model to repo/EEG-Image-Research/tmp/checkpoint7_0_0.h5\n"
     ]
    },
    {
     "name": "stderr",
     "output_type": "stream",
     "text": [
      "WARNING:absl:You are saving your model as an HDF5 file via `model.save()` or `keras.saving.save_model(model)`. This file format is considered legacy. We recommend using instead the native Keras format, e.g. `model.save('my_model.keras')` or `keras.saving.save_model(model, 'my_model.keras')`. \n"
     ]
    },
    {
     "name": "stdout",
     "output_type": "stream",
     "text": [
      "14/14 - 1s - 87ms/step - accuracy: 1.0000 - loss: 0.0153 - val_accuracy: 0.7143 - val_loss: 0.5495\n",
      "Epoch 28/100\n",
      "\n",
      "Epoch 28: val_loss improved from 0.54954 to 0.54188, saving model to repo/EEG-Image-Research/tmp/checkpoint7_0_0.h5\n"
     ]
    },
    {
     "name": "stderr",
     "output_type": "stream",
     "text": [
      "WARNING:absl:You are saving your model as an HDF5 file via `model.save()` or `keras.saving.save_model(model)`. This file format is considered legacy. We recommend using instead the native Keras format, e.g. `model.save('my_model.keras')` or `keras.saving.save_model(model, 'my_model.keras')`. \n"
     ]
    },
    {
     "name": "stdout",
     "output_type": "stream",
     "text": [
      "14/14 - 1s - 80ms/step - accuracy: 1.0000 - loss: 0.0140 - val_accuracy: 0.7143 - val_loss: 0.5419\n",
      "Epoch 29/100\n",
      "\n",
      "Epoch 29: val_loss improved from 0.54188 to 0.53128, saving model to repo/EEG-Image-Research/tmp/checkpoint7_0_0.h5\n"
     ]
    },
    {
     "name": "stderr",
     "output_type": "stream",
     "text": [
      "WARNING:absl:You are saving your model as an HDF5 file via `model.save()` or `keras.saving.save_model(model)`. This file format is considered legacy. We recommend using instead the native Keras format, e.g. `model.save('my_model.keras')` or `keras.saving.save_model(model, 'my_model.keras')`. \n"
     ]
    },
    {
     "name": "stdout",
     "output_type": "stream",
     "text": [
      "14/14 - 1s - 82ms/step - accuracy: 1.0000 - loss: 0.0145 - val_accuracy: 0.7143 - val_loss: 0.5313\n",
      "Epoch 30/100\n",
      "\n",
      "Epoch 30: val_loss improved from 0.53128 to 0.52232, saving model to repo/EEG-Image-Research/tmp/checkpoint7_0_0.h5\n"
     ]
    },
    {
     "name": "stderr",
     "output_type": "stream",
     "text": [
      "WARNING:absl:You are saving your model as an HDF5 file via `model.save()` or `keras.saving.save_model(model)`. This file format is considered legacy. We recommend using instead the native Keras format, e.g. `model.save('my_model.keras')` or `keras.saving.save_model(model, 'my_model.keras')`. \n"
     ]
    },
    {
     "name": "stdout",
     "output_type": "stream",
     "text": [
      "14/14 - 1s - 81ms/step - accuracy: 1.0000 - loss: 0.0156 - val_accuracy: 0.7143 - val_loss: 0.5223\n",
      "Epoch 31/100\n",
      "\n",
      "Epoch 31: val_loss improved from 0.52232 to 0.51239, saving model to repo/EEG-Image-Research/tmp/checkpoint7_0_0.h5\n"
     ]
    },
    {
     "name": "stderr",
     "output_type": "stream",
     "text": [
      "WARNING:absl:You are saving your model as an HDF5 file via `model.save()` or `keras.saving.save_model(model)`. This file format is considered legacy. We recommend using instead the native Keras format, e.g. `model.save('my_model.keras')` or `keras.saving.save_model(model, 'my_model.keras')`. \n"
     ]
    },
    {
     "name": "stdout",
     "output_type": "stream",
     "text": [
      "14/14 - 1s - 82ms/step - accuracy: 1.0000 - loss: 0.0149 - val_accuracy: 0.7143 - val_loss: 0.5124\n",
      "Epoch 32/100\n",
      "\n",
      "Epoch 32: val_loss improved from 0.51239 to 0.50117, saving model to repo/EEG-Image-Research/tmp/checkpoint7_0_0.h5\n"
     ]
    },
    {
     "name": "stderr",
     "output_type": "stream",
     "text": [
      "WARNING:absl:You are saving your model as an HDF5 file via `model.save()` or `keras.saving.save_model(model)`. This file format is considered legacy. We recommend using instead the native Keras format, e.g. `model.save('my_model.keras')` or `keras.saving.save_model(model, 'my_model.keras')`. \n"
     ]
    },
    {
     "name": "stdout",
     "output_type": "stream",
     "text": [
      "14/14 - 1s - 81ms/step - accuracy: 1.0000 - loss: 0.0140 - val_accuracy: 0.7143 - val_loss: 0.5012\n",
      "Epoch 33/100\n",
      "\n",
      "Epoch 33: val_loss improved from 0.50117 to 0.49157, saving model to repo/EEG-Image-Research/tmp/checkpoint7_0_0.h5\n"
     ]
    },
    {
     "name": "stderr",
     "output_type": "stream",
     "text": [
      "WARNING:absl:You are saving your model as an HDF5 file via `model.save()` or `keras.saving.save_model(model)`. This file format is considered legacy. We recommend using instead the native Keras format, e.g. `model.save('my_model.keras')` or `keras.saving.save_model(model, 'my_model.keras')`. \n"
     ]
    },
    {
     "name": "stdout",
     "output_type": "stream",
     "text": [
      "14/14 - 1s - 79ms/step - accuracy: 1.0000 - loss: 0.0145 - val_accuracy: 0.7143 - val_loss: 0.4916\n",
      "Epoch 34/100\n",
      "\n",
      "Epoch 34: val_loss improved from 0.49157 to 0.48436, saving model to repo/EEG-Image-Research/tmp/checkpoint7_0_0.h5\n"
     ]
    },
    {
     "name": "stderr",
     "output_type": "stream",
     "text": [
      "WARNING:absl:You are saving your model as an HDF5 file via `model.save()` or `keras.saving.save_model(model)`. This file format is considered legacy. We recommend using instead the native Keras format, e.g. `model.save('my_model.keras')` or `keras.saving.save_model(model, 'my_model.keras')`. \n"
     ]
    },
    {
     "name": "stdout",
     "output_type": "stream",
     "text": [
      "14/14 - 1s - 81ms/step - accuracy: 1.0000 - loss: 0.0139 - val_accuracy: 0.7143 - val_loss: 0.4844\n",
      "Epoch 35/100\n",
      "\n",
      "Epoch 35: val_loss improved from 0.48436 to 0.47585, saving model to repo/EEG-Image-Research/tmp/checkpoint7_0_0.h5\n"
     ]
    },
    {
     "name": "stderr",
     "output_type": "stream",
     "text": [
      "WARNING:absl:You are saving your model as an HDF5 file via `model.save()` or `keras.saving.save_model(model)`. This file format is considered legacy. We recommend using instead the native Keras format, e.g. `model.save('my_model.keras')` or `keras.saving.save_model(model, 'my_model.keras')`. \n"
     ]
    },
    {
     "name": "stdout",
     "output_type": "stream",
     "text": [
      "14/14 - 1s - 81ms/step - accuracy: 1.0000 - loss: 0.0142 - val_accuracy: 0.7143 - val_loss: 0.4758\n",
      "Epoch 36/100\n",
      "\n",
      "Epoch 36: val_loss improved from 0.47585 to 0.46987, saving model to repo/EEG-Image-Research/tmp/checkpoint7_0_0.h5\n"
     ]
    },
    {
     "name": "stderr",
     "output_type": "stream",
     "text": [
      "WARNING:absl:You are saving your model as an HDF5 file via `model.save()` or `keras.saving.save_model(model)`. This file format is considered legacy. We recommend using instead the native Keras format, e.g. `model.save('my_model.keras')` or `keras.saving.save_model(model, 'my_model.keras')`. \n"
     ]
    },
    {
     "name": "stdout",
     "output_type": "stream",
     "text": [
      "14/14 - 1s - 81ms/step - accuracy: 1.0000 - loss: 0.0144 - val_accuracy: 0.7143 - val_loss: 0.4699\n",
      "Epoch 37/100\n",
      "\n",
      "Epoch 37: val_loss improved from 0.46987 to 0.46305, saving model to repo/EEG-Image-Research/tmp/checkpoint7_0_0.h5\n"
     ]
    },
    {
     "name": "stderr",
     "output_type": "stream",
     "text": [
      "WARNING:absl:You are saving your model as an HDF5 file via `model.save()` or `keras.saving.save_model(model)`. This file format is considered legacy. We recommend using instead the native Keras format, e.g. `model.save('my_model.keras')` or `keras.saving.save_model(model, 'my_model.keras')`. \n"
     ]
    },
    {
     "name": "stdout",
     "output_type": "stream",
     "text": [
      "14/14 - 1s - 83ms/step - accuracy: 1.0000 - loss: 0.0139 - val_accuracy: 0.7143 - val_loss: 0.4630\n",
      "Epoch 38/100\n",
      "\n",
      "Epoch 38: val_loss improved from 0.46305 to 0.45897, saving model to repo/EEG-Image-Research/tmp/checkpoint7_0_0.h5\n"
     ]
    },
    {
     "name": "stderr",
     "output_type": "stream",
     "text": [
      "WARNING:absl:You are saving your model as an HDF5 file via `model.save()` or `keras.saving.save_model(model)`. This file format is considered legacy. We recommend using instead the native Keras format, e.g. `model.save('my_model.keras')` or `keras.saving.save_model(model, 'my_model.keras')`. \n"
     ]
    },
    {
     "name": "stdout",
     "output_type": "stream",
     "text": [
      "14/14 - 1s - 80ms/step - accuracy: 1.0000 - loss: 0.0142 - val_accuracy: 0.7143 - val_loss: 0.4590\n",
      "Epoch 39/100\n",
      "\n",
      "Epoch 39: val_loss improved from 0.45897 to 0.45490, saving model to repo/EEG-Image-Research/tmp/checkpoint7_0_0.h5\n"
     ]
    },
    {
     "name": "stderr",
     "output_type": "stream",
     "text": [
      "WARNING:absl:You are saving your model as an HDF5 file via `model.save()` or `keras.saving.save_model(model)`. This file format is considered legacy. We recommend using instead the native Keras format, e.g. `model.save('my_model.keras')` or `keras.saving.save_model(model, 'my_model.keras')`. \n"
     ]
    },
    {
     "name": "stdout",
     "output_type": "stream",
     "text": [
      "14/14 - 1s - 83ms/step - accuracy: 1.0000 - loss: 0.0137 - val_accuracy: 0.7143 - val_loss: 0.4549\n",
      "Epoch 40/100\n",
      "\n",
      "Epoch 40: val_loss did not improve from 0.45490\n",
      "14/14 - 1s - 84ms/step - accuracy: 1.0000 - loss: 0.0175 - val_accuracy: 0.7143 - val_loss: 0.4628\n",
      "Epoch 41/100\n",
      "\n",
      "Epoch 41: val_loss did not improve from 0.45490\n",
      "14/14 - 1s - 82ms/step - accuracy: 1.0000 - loss: 0.0140 - val_accuracy: 0.7143 - val_loss: 0.4668\n",
      "Epoch 42/100\n",
      "\n",
      "Epoch 42: val_loss did not improve from 0.45490\n",
      "14/14 - 1s - 77ms/step - accuracy: 1.0000 - loss: 0.0136 - val_accuracy: 0.7143 - val_loss: 0.4641\n",
      "Epoch 43/100\n",
      "\n",
      "Epoch 43: val_loss did not improve from 0.45490\n",
      "14/14 - 1s - 82ms/step - accuracy: 1.0000 - loss: 0.0138 - val_accuracy: 0.7143 - val_loss: 0.4617\n",
      "Epoch 44/100\n",
      "\n",
      "Epoch 44: val_loss did not improve from 0.45490\n",
      "14/14 - 1s - 83ms/step - accuracy: 1.0000 - loss: 0.0136 - val_accuracy: 0.7143 - val_loss: 0.4611\n",
      "Epoch 45/100\n",
      "\n",
      "Epoch 45: val_loss did not improve from 0.45490\n",
      "14/14 - 1s - 84ms/step - accuracy: 1.0000 - loss: 0.0145 - val_accuracy: 0.7143 - val_loss: 0.4620\n",
      "Epoch 46/100\n",
      "\n",
      "Epoch 46: val_loss did not improve from 0.45490\n",
      "14/14 - 1s - 82ms/step - accuracy: 1.0000 - loss: 0.0136 - val_accuracy: 0.7143 - val_loss: 0.4694\n",
      "Epoch 47/100\n",
      "\n",
      "Epoch 47: val_loss did not improve from 0.45490\n",
      "14/14 - 1s - 82ms/step - accuracy: 1.0000 - loss: 0.0140 - val_accuracy: 0.7143 - val_loss: 0.4710\n",
      "Epoch 48/100\n",
      "\n",
      "Epoch 48: val_loss did not improve from 0.45490\n",
      "14/14 - 1s - 79ms/step - accuracy: 1.0000 - loss: 0.0138 - val_accuracy: 0.7143 - val_loss: 0.4693\n",
      "Epoch 49/100\n",
      "\n",
      "Epoch 49: val_loss did not improve from 0.45490\n",
      "14/14 - 1s - 84ms/step - accuracy: 1.0000 - loss: 0.0138 - val_accuracy: 0.7143 - val_loss: 0.4671\n",
      "Epoch 50/100\n",
      "\n",
      "Epoch 50: val_loss did not improve from 0.45490\n",
      "14/14 - 1s - 85ms/step - accuracy: 1.0000 - loss: 0.0135 - val_accuracy: 0.7143 - val_loss: 0.4650\n",
      "Epoch 51/100\n",
      "\n",
      "Epoch 51: val_loss did not improve from 0.45490\n",
      "14/14 - 1s - 84ms/step - accuracy: 1.0000 - loss: 0.0135 - val_accuracy: 0.7143 - val_loss: 0.4648\n",
      "Epoch 52/100\n",
      "\n",
      "Epoch 52: val_loss did not improve from 0.45490\n",
      "14/14 - 1s - 99ms/step - accuracy: 1.0000 - loss: 0.0135 - val_accuracy: 0.7143 - val_loss: 0.4645\n",
      "Epoch 53/100\n",
      "\n",
      "Epoch 53: val_loss did not improve from 0.45490\n",
      "14/14 - 1s - 89ms/step - accuracy: 1.0000 - loss: 0.0131 - val_accuracy: 0.7143 - val_loss: 0.4642\n",
      "Epoch 54/100\n",
      "\n",
      "Epoch 54: val_loss did not improve from 0.45490\n",
      "14/14 - 1s - 83ms/step - accuracy: 1.0000 - loss: 0.0134 - val_accuracy: 0.7143 - val_loss: 0.4655\n",
      "Epoch 55/100\n",
      "\n",
      "Epoch 55: val_loss did not improve from 0.45490\n",
      "14/14 - 1s - 85ms/step - accuracy: 1.0000 - loss: 0.0132 - val_accuracy: 0.7143 - val_loss: 0.4633\n",
      "Epoch 56/100\n",
      "\n",
      "Epoch 56: val_loss did not improve from 0.45490\n",
      "14/14 - 1s - 85ms/step - accuracy: 1.0000 - loss: 0.0132 - val_accuracy: 0.7143 - val_loss: 0.4633\n",
      "Epoch 57/100\n",
      "\n",
      "Epoch 57: val_loss did not improve from 0.45490\n",
      "14/14 - 1s - 86ms/step - accuracy: 1.0000 - loss: 0.0132 - val_accuracy: 0.7143 - val_loss: 0.4635\n",
      "Epoch 58/100\n",
      "\n",
      "Epoch 58: val_loss did not improve from 0.45490\n",
      "14/14 - 1s - 87ms/step - accuracy: 1.0000 - loss: 0.0132 - val_accuracy: 0.8571 - val_loss: 0.4646\n",
      "Epoch 59/100\n",
      "\n",
      "Epoch 59: val_loss did not improve from 0.45490\n",
      "14/14 - 1s - 83ms/step - accuracy: 1.0000 - loss: 0.0131 - val_accuracy: 0.8571 - val_loss: 0.4651\n",
      "Epoch 60/100\n",
      "\n",
      "Epoch 60: val_loss did not improve from 0.45490\n",
      "14/14 - 1s - 80ms/step - accuracy: 1.0000 - loss: 0.0132 - val_accuracy: 0.8571 - val_loss: 0.4658\n",
      "Epoch 61/100\n",
      "\n",
      "Epoch 61: val_loss did not improve from 0.45490\n",
      "14/14 - 1s - 88ms/step - accuracy: 1.0000 - loss: 0.0131 - val_accuracy: 0.8571 - val_loss: 0.4666\n",
      "Epoch 62/100\n",
      "\n",
      "Epoch 62: val_loss did not improve from 0.45490\n",
      "14/14 - 1s - 87ms/step - accuracy: 1.0000 - loss: 0.0130 - val_accuracy: 0.8571 - val_loss: 0.4674\n",
      "Epoch 63/100\n",
      "\n",
      "Epoch 63: val_loss did not improve from 0.45490\n",
      "14/14 - 1s - 79ms/step - accuracy: 1.0000 - loss: 0.0130 - val_accuracy: 0.8571 - val_loss: 0.4671\n",
      "Epoch 64/100\n",
      "\n",
      "Epoch 64: val_loss did not improve from 0.45490\n",
      "14/14 - 1s - 84ms/step - accuracy: 1.0000 - loss: 0.0131 - val_accuracy: 0.8571 - val_loss: 0.4658\n",
      "Epoch 65/100\n",
      "\n",
      "Epoch 65: val_loss did not improve from 0.45490\n",
      "14/14 - 1s - 79ms/step - accuracy: 1.0000 - loss: 0.0131 - val_accuracy: 0.8571 - val_loss: 0.4641\n",
      "Epoch 66/100\n",
      "\n",
      "Epoch 66: val_loss did not improve from 0.45490\n",
      "14/14 - 1s - 83ms/step - accuracy: 1.0000 - loss: 0.0130 - val_accuracy: 0.8571 - val_loss: 0.4630\n",
      "Epoch 67/100\n",
      "\n",
      "Epoch 67: val_loss did not improve from 0.45490\n",
      "14/14 - 1s - 82ms/step - accuracy: 1.0000 - loss: 0.0130 - val_accuracy: 0.8571 - val_loss: 0.4626\n",
      "Epoch 68/100\n",
      "\n",
      "Epoch 68: val_loss did not improve from 0.45490\n",
      "14/14 - 1s - 82ms/step - accuracy: 1.0000 - loss: 0.0130 - val_accuracy: 0.8571 - val_loss: 0.4611\n",
      "Epoch 69/100\n",
      "\n",
      "Epoch 69: val_loss did not improve from 0.45490\n",
      "14/14 - 1s - 80ms/step - accuracy: 1.0000 - loss: 0.0131 - val_accuracy: 0.8571 - val_loss: 0.4612\n",
      "\u001b[1m1/1\u001b[0m \u001b[32m━━━━━━━━━━━━━━━━━━━━\u001b[0m\u001b[37m\u001b[0m \u001b[1m0s\u001b[0m 105ms/step\n",
      "Test Loss: 0.27586182951927185, Test Accuracy: 0.8571428656578064, \n",
      "[0, 1]\n",
      "Epoch 1/100\n",
      "\n",
      "Epoch 1: val_loss improved from inf to 0.68805, saving model to repo/EEG-Image-Research/tmp/checkpoint7_0_1.h5\n"
     ]
    },
    {
     "name": "stderr",
     "output_type": "stream",
     "text": [
      "WARNING:absl:You are saving your model as an HDF5 file via `model.save()` or `keras.saving.save_model(model)`. This file format is considered legacy. We recommend using instead the native Keras format, e.g. `model.save('my_model.keras')` or `keras.saving.save_model(model, 'my_model.keras')`. \n"
     ]
    },
    {
     "name": "stdout",
     "output_type": "stream",
     "text": [
      "14/14 - 3s - 204ms/step - accuracy: 0.6429 - loss: 0.7315 - val_accuracy: 0.8571 - val_loss: 0.6881\n",
      "Epoch 2/100\n",
      "\n",
      "Epoch 2: val_loss did not improve from 0.68805\n",
      "14/14 - 1s - 79ms/step - accuracy: 0.7857 - loss: 0.7997 - val_accuracy: 0.8571 - val_loss: 0.6911\n",
      "Epoch 3/100\n",
      "\n",
      "Epoch 3: val_loss improved from 0.68805 to 0.68725, saving model to repo/EEG-Image-Research/tmp/checkpoint7_0_1.h5\n"
     ]
    },
    {
     "name": "stderr",
     "output_type": "stream",
     "text": [
      "WARNING:absl:You are saving your model as an HDF5 file via `model.save()` or `keras.saving.save_model(model)`. This file format is considered legacy. We recommend using instead the native Keras format, e.g. `model.save('my_model.keras')` or `keras.saving.save_model(model, 'my_model.keras')`. \n"
     ]
    },
    {
     "name": "stdout",
     "output_type": "stream",
     "text": [
      "14/14 - 1s - 78ms/step - accuracy: 1.0000 - loss: 0.2021 - val_accuracy: 0.8571 - val_loss: 0.6873\n",
      "Epoch 4/100\n",
      "\n",
      "Epoch 4: val_loss did not improve from 0.68725\n",
      "14/14 - 1s - 78ms/step - accuracy: 0.9286 - loss: 0.3828 - val_accuracy: 0.8571 - val_loss: 0.6928\n",
      "Epoch 5/100\n",
      "\n",
      "Epoch 5: val_loss did not improve from 0.68725\n",
      "14/14 - 1s - 77ms/step - accuracy: 1.0000 - loss: 0.0668 - val_accuracy: 0.8571 - val_loss: 0.6879\n",
      "Epoch 6/100\n",
      "\n",
      "Epoch 6: val_loss improved from 0.68725 to 0.67867, saving model to repo/EEG-Image-Research/tmp/checkpoint7_0_1.h5\n"
     ]
    },
    {
     "name": "stderr",
     "output_type": "stream",
     "text": [
      "WARNING:absl:You are saving your model as an HDF5 file via `model.save()` or `keras.saving.save_model(model)`. This file format is considered legacy. We recommend using instead the native Keras format, e.g. `model.save('my_model.keras')` or `keras.saving.save_model(model, 'my_model.keras')`. \n"
     ]
    },
    {
     "name": "stdout",
     "output_type": "stream",
     "text": [
      "14/14 - 1s - 82ms/step - accuracy: 1.0000 - loss: 0.0596 - val_accuracy: 0.8571 - val_loss: 0.6787\n",
      "Epoch 7/100\n",
      "\n",
      "Epoch 7: val_loss improved from 0.67867 to 0.66855, saving model to repo/EEG-Image-Research/tmp/checkpoint7_0_1.h5\n"
     ]
    },
    {
     "name": "stderr",
     "output_type": "stream",
     "text": [
      "WARNING:absl:You are saving your model as an HDF5 file via `model.save()` or `keras.saving.save_model(model)`. This file format is considered legacy. We recommend using instead the native Keras format, e.g. `model.save('my_model.keras')` or `keras.saving.save_model(model, 'my_model.keras')`. \n"
     ]
    },
    {
     "name": "stdout",
     "output_type": "stream",
     "text": [
      "14/14 - 1s - 82ms/step - accuracy: 1.0000 - loss: 0.0458 - val_accuracy: 0.8571 - val_loss: 0.6685\n",
      "Epoch 8/100\n",
      "\n",
      "Epoch 8: val_loss improved from 0.66855 to 0.65496, saving model to repo/EEG-Image-Research/tmp/checkpoint7_0_1.h5\n"
     ]
    },
    {
     "name": "stderr",
     "output_type": "stream",
     "text": [
      "WARNING:absl:You are saving your model as an HDF5 file via `model.save()` or `keras.saving.save_model(model)`. This file format is considered legacy. We recommend using instead the native Keras format, e.g. `model.save('my_model.keras')` or `keras.saving.save_model(model, 'my_model.keras')`. \n"
     ]
    },
    {
     "name": "stdout",
     "output_type": "stream",
     "text": [
      "14/14 - 1s - 80ms/step - accuracy: 1.0000 - loss: 0.0301 - val_accuracy: 0.8571 - val_loss: 0.6550\n",
      "Epoch 9/100\n",
      "\n",
      "Epoch 9: val_loss improved from 0.65496 to 0.64318, saving model to repo/EEG-Image-Research/tmp/checkpoint7_0_1.h5\n"
     ]
    },
    {
     "name": "stderr",
     "output_type": "stream",
     "text": [
      "WARNING:absl:You are saving your model as an HDF5 file via `model.save()` or `keras.saving.save_model(model)`. This file format is considered legacy. We recommend using instead the native Keras format, e.g. `model.save('my_model.keras')` or `keras.saving.save_model(model, 'my_model.keras')`. \n"
     ]
    },
    {
     "name": "stdout",
     "output_type": "stream",
     "text": [
      "14/14 - 1s - 84ms/step - accuracy: 1.0000 - loss: 0.0565 - val_accuracy: 0.8571 - val_loss: 0.6432\n",
      "Epoch 10/100\n",
      "\n",
      "Epoch 10: val_loss improved from 0.64318 to 0.62684, saving model to repo/EEG-Image-Research/tmp/checkpoint7_0_1.h5\n"
     ]
    },
    {
     "name": "stderr",
     "output_type": "stream",
     "text": [
      "WARNING:absl:You are saving your model as an HDF5 file via `model.save()` or `keras.saving.save_model(model)`. This file format is considered legacy. We recommend using instead the native Keras format, e.g. `model.save('my_model.keras')` or `keras.saving.save_model(model, 'my_model.keras')`. \n"
     ]
    },
    {
     "name": "stdout",
     "output_type": "stream",
     "text": [
      "14/14 - 1s - 83ms/step - accuracy: 1.0000 - loss: 0.0245 - val_accuracy: 0.8571 - val_loss: 0.6268\n",
      "Epoch 11/100\n",
      "\n",
      "Epoch 11: val_loss improved from 0.62684 to 0.61265, saving model to repo/EEG-Image-Research/tmp/checkpoint7_0_1.h5\n"
     ]
    },
    {
     "name": "stderr",
     "output_type": "stream",
     "text": [
      "WARNING:absl:You are saving your model as an HDF5 file via `model.save()` or `keras.saving.save_model(model)`. This file format is considered legacy. We recommend using instead the native Keras format, e.g. `model.save('my_model.keras')` or `keras.saving.save_model(model, 'my_model.keras')`. \n"
     ]
    },
    {
     "name": "stdout",
     "output_type": "stream",
     "text": [
      "14/14 - 1s - 87ms/step - accuracy: 1.0000 - loss: 0.0266 - val_accuracy: 0.8571 - val_loss: 0.6127\n",
      "Epoch 12/100\n",
      "\n",
      "Epoch 12: val_loss improved from 0.61265 to 0.60375, saving model to repo/EEG-Image-Research/tmp/checkpoint7_0_1.h5\n"
     ]
    },
    {
     "name": "stderr",
     "output_type": "stream",
     "text": [
      "WARNING:absl:You are saving your model as an HDF5 file via `model.save()` or `keras.saving.save_model(model)`. This file format is considered legacy. We recommend using instead the native Keras format, e.g. `model.save('my_model.keras')` or `keras.saving.save_model(model, 'my_model.keras')`. \n"
     ]
    },
    {
     "name": "stdout",
     "output_type": "stream",
     "text": [
      "14/14 - 1s - 81ms/step - accuracy: 1.0000 - loss: 0.0219 - val_accuracy: 0.8571 - val_loss: 0.6037\n",
      "Epoch 13/100\n",
      "\n",
      "Epoch 13: val_loss improved from 0.60375 to 0.58878, saving model to repo/EEG-Image-Research/tmp/checkpoint7_0_1.h5\n"
     ]
    },
    {
     "name": "stderr",
     "output_type": "stream",
     "text": [
      "WARNING:absl:You are saving your model as an HDF5 file via `model.save()` or `keras.saving.save_model(model)`. This file format is considered legacy. We recommend using instead the native Keras format, e.g. `model.save('my_model.keras')` or `keras.saving.save_model(model, 'my_model.keras')`. \n"
     ]
    },
    {
     "name": "stdout",
     "output_type": "stream",
     "text": [
      "14/14 - 1s - 87ms/step - accuracy: 1.0000 - loss: 0.0223 - val_accuracy: 0.8571 - val_loss: 0.5888\n",
      "Epoch 14/100\n",
      "\n",
      "Epoch 14: val_loss improved from 0.58878 to 0.57696, saving model to repo/EEG-Image-Research/tmp/checkpoint7_0_1.h5\n"
     ]
    },
    {
     "name": "stderr",
     "output_type": "stream",
     "text": [
      "WARNING:absl:You are saving your model as an HDF5 file via `model.save()` or `keras.saving.save_model(model)`. This file format is considered legacy. We recommend using instead the native Keras format, e.g. `model.save('my_model.keras')` or `keras.saving.save_model(model, 'my_model.keras')`. \n"
     ]
    },
    {
     "name": "stdout",
     "output_type": "stream",
     "text": [
      "14/14 - 1s - 85ms/step - accuracy: 1.0000 - loss: 0.0197 - val_accuracy: 0.8571 - val_loss: 0.5770\n",
      "Epoch 15/100\n",
      "\n",
      "Epoch 15: val_loss improved from 0.57696 to 0.55852, saving model to repo/EEG-Image-Research/tmp/checkpoint7_0_1.h5\n"
     ]
    },
    {
     "name": "stderr",
     "output_type": "stream",
     "text": [
      "WARNING:absl:You are saving your model as an HDF5 file via `model.save()` or `keras.saving.save_model(model)`. This file format is considered legacy. We recommend using instead the native Keras format, e.g. `model.save('my_model.keras')` or `keras.saving.save_model(model, 'my_model.keras')`. \n"
     ]
    },
    {
     "name": "stdout",
     "output_type": "stream",
     "text": [
      "14/14 - 1s - 84ms/step - accuracy: 1.0000 - loss: 0.0282 - val_accuracy: 0.8571 - val_loss: 0.5585\n",
      "Epoch 16/100\n",
      "\n",
      "Epoch 16: val_loss improved from 0.55852 to 0.54079, saving model to repo/EEG-Image-Research/tmp/checkpoint7_0_1.h5\n"
     ]
    },
    {
     "name": "stderr",
     "output_type": "stream",
     "text": [
      "WARNING:absl:You are saving your model as an HDF5 file via `model.save()` or `keras.saving.save_model(model)`. This file format is considered legacy. We recommend using instead the native Keras format, e.g. `model.save('my_model.keras')` or `keras.saving.save_model(model, 'my_model.keras')`. \n"
     ]
    },
    {
     "name": "stdout",
     "output_type": "stream",
     "text": [
      "14/14 - 1s - 84ms/step - accuracy: 1.0000 - loss: 0.0168 - val_accuracy: 0.8571 - val_loss: 0.5408\n",
      "Epoch 17/100\n",
      "\n",
      "Epoch 17: val_loss improved from 0.54079 to 0.52931, saving model to repo/EEG-Image-Research/tmp/checkpoint7_0_1.h5\n"
     ]
    },
    {
     "name": "stderr",
     "output_type": "stream",
     "text": [
      "WARNING:absl:You are saving your model as an HDF5 file via `model.save()` or `keras.saving.save_model(model)`. This file format is considered legacy. We recommend using instead the native Keras format, e.g. `model.save('my_model.keras')` or `keras.saving.save_model(model, 'my_model.keras')`. \n"
     ]
    },
    {
     "name": "stdout",
     "output_type": "stream",
     "text": [
      "14/14 - 1s - 87ms/step - accuracy: 1.0000 - loss: 0.0188 - val_accuracy: 0.8571 - val_loss: 0.5293\n",
      "Epoch 18/100\n",
      "\n",
      "Epoch 18: val_loss improved from 0.52931 to 0.51936, saving model to repo/EEG-Image-Research/tmp/checkpoint7_0_1.h5\n"
     ]
    },
    {
     "name": "stderr",
     "output_type": "stream",
     "text": [
      "WARNING:absl:You are saving your model as an HDF5 file via `model.save()` or `keras.saving.save_model(model)`. This file format is considered legacy. We recommend using instead the native Keras format, e.g. `model.save('my_model.keras')` or `keras.saving.save_model(model, 'my_model.keras')`. \n"
     ]
    },
    {
     "name": "stdout",
     "output_type": "stream",
     "text": [
      "14/14 - 1s - 87ms/step - accuracy: 1.0000 - loss: 0.0182 - val_accuracy: 0.8571 - val_loss: 0.5194\n",
      "Epoch 19/100\n",
      "\n",
      "Epoch 19: val_loss improved from 0.51936 to 0.51023, saving model to repo/EEG-Image-Research/tmp/checkpoint7_0_1.h5\n"
     ]
    },
    {
     "name": "stderr",
     "output_type": "stream",
     "text": [
      "WARNING:absl:You are saving your model as an HDF5 file via `model.save()` or `keras.saving.save_model(model)`. This file format is considered legacy. We recommend using instead the native Keras format, e.g. `model.save('my_model.keras')` or `keras.saving.save_model(model, 'my_model.keras')`. \n"
     ]
    },
    {
     "name": "stdout",
     "output_type": "stream",
     "text": [
      "14/14 - 1s - 89ms/step - accuracy: 1.0000 - loss: 0.0165 - val_accuracy: 0.8571 - val_loss: 0.5102\n",
      "Epoch 20/100\n",
      "\n",
      "Epoch 20: val_loss improved from 0.51023 to 0.49934, saving model to repo/EEG-Image-Research/tmp/checkpoint7_0_1.h5\n"
     ]
    },
    {
     "name": "stderr",
     "output_type": "stream",
     "text": [
      "WARNING:absl:You are saving your model as an HDF5 file via `model.save()` or `keras.saving.save_model(model)`. This file format is considered legacy. We recommend using instead the native Keras format, e.g. `model.save('my_model.keras')` or `keras.saving.save_model(model, 'my_model.keras')`. \n"
     ]
    },
    {
     "name": "stdout",
     "output_type": "stream",
     "text": [
      "14/14 - 1s - 86ms/step - accuracy: 1.0000 - loss: 0.0184 - val_accuracy: 0.8571 - val_loss: 0.4993\n",
      "Epoch 21/100\n",
      "\n",
      "Epoch 21: val_loss improved from 0.49934 to 0.48828, saving model to repo/EEG-Image-Research/tmp/checkpoint7_0_1.h5\n"
     ]
    },
    {
     "name": "stderr",
     "output_type": "stream",
     "text": [
      "WARNING:absl:You are saving your model as an HDF5 file via `model.save()` or `keras.saving.save_model(model)`. This file format is considered legacy. We recommend using instead the native Keras format, e.g. `model.save('my_model.keras')` or `keras.saving.save_model(model, 'my_model.keras')`. \n"
     ]
    },
    {
     "name": "stdout",
     "output_type": "stream",
     "text": [
      "14/14 - 1s - 84ms/step - accuracy: 1.0000 - loss: 0.0169 - val_accuracy: 0.8571 - val_loss: 0.4883\n",
      "Epoch 22/100\n",
      "\n",
      "Epoch 22: val_loss improved from 0.48828 to 0.48013, saving model to repo/EEG-Image-Research/tmp/checkpoint7_0_1.h5\n"
     ]
    },
    {
     "name": "stderr",
     "output_type": "stream",
     "text": [
      "WARNING:absl:You are saving your model as an HDF5 file via `model.save()` or `keras.saving.save_model(model)`. This file format is considered legacy. We recommend using instead the native Keras format, e.g. `model.save('my_model.keras')` or `keras.saving.save_model(model, 'my_model.keras')`. \n"
     ]
    },
    {
     "name": "stdout",
     "output_type": "stream",
     "text": [
      "14/14 - 1s - 86ms/step - accuracy: 1.0000 - loss: 0.0156 - val_accuracy: 0.8571 - val_loss: 0.4801\n",
      "Epoch 23/100\n",
      "\n",
      "Epoch 23: val_loss improved from 0.48013 to 0.46972, saving model to repo/EEG-Image-Research/tmp/checkpoint7_0_1.h5\n"
     ]
    },
    {
     "name": "stderr",
     "output_type": "stream",
     "text": [
      "WARNING:absl:You are saving your model as an HDF5 file via `model.save()` or `keras.saving.save_model(model)`. This file format is considered legacy. We recommend using instead the native Keras format, e.g. `model.save('my_model.keras')` or `keras.saving.save_model(model, 'my_model.keras')`. \n"
     ]
    },
    {
     "name": "stdout",
     "output_type": "stream",
     "text": [
      "14/14 - 1s - 86ms/step - accuracy: 1.0000 - loss: 0.0185 - val_accuracy: 0.8571 - val_loss: 0.4697\n",
      "Epoch 24/100\n",
      "\n",
      "Epoch 24: val_loss improved from 0.46972 to 0.46008, saving model to repo/EEG-Image-Research/tmp/checkpoint7_0_1.h5\n"
     ]
    },
    {
     "name": "stderr",
     "output_type": "stream",
     "text": [
      "WARNING:absl:You are saving your model as an HDF5 file via `model.save()` or `keras.saving.save_model(model)`. This file format is considered legacy. We recommend using instead the native Keras format, e.g. `model.save('my_model.keras')` or `keras.saving.save_model(model, 'my_model.keras')`. \n"
     ]
    },
    {
     "name": "stdout",
     "output_type": "stream",
     "text": [
      "14/14 - 1s - 85ms/step - accuracy: 1.0000 - loss: 0.0148 - val_accuracy: 0.8571 - val_loss: 0.4601\n",
      "Epoch 25/100\n",
      "\n",
      "Epoch 25: val_loss improved from 0.46008 to 0.45053, saving model to repo/EEG-Image-Research/tmp/checkpoint7_0_1.h5\n"
     ]
    },
    {
     "name": "stderr",
     "output_type": "stream",
     "text": [
      "WARNING:absl:You are saving your model as an HDF5 file via `model.save()` or `keras.saving.save_model(model)`. This file format is considered legacy. We recommend using instead the native Keras format, e.g. `model.save('my_model.keras')` or `keras.saving.save_model(model, 'my_model.keras')`. \n"
     ]
    },
    {
     "name": "stdout",
     "output_type": "stream",
     "text": [
      "14/14 - 1s - 87ms/step - accuracy: 1.0000 - loss: 0.0162 - val_accuracy: 0.8571 - val_loss: 0.4505\n",
      "Epoch 26/100\n",
      "\n",
      "Epoch 26: val_loss improved from 0.45053 to 0.44275, saving model to repo/EEG-Image-Research/tmp/checkpoint7_0_1.h5\n"
     ]
    },
    {
     "name": "stderr",
     "output_type": "stream",
     "text": [
      "WARNING:absl:You are saving your model as an HDF5 file via `model.save()` or `keras.saving.save_model(model)`. This file format is considered legacy. We recommend using instead the native Keras format, e.g. `model.save('my_model.keras')` or `keras.saving.save_model(model, 'my_model.keras')`. \n"
     ]
    },
    {
     "name": "stdout",
     "output_type": "stream",
     "text": [
      "14/14 - 1s - 91ms/step - accuracy: 1.0000 - loss: 0.0172 - val_accuracy: 0.8571 - val_loss: 0.4427\n",
      "Epoch 27/100\n",
      "\n",
      "Epoch 27: val_loss improved from 0.44275 to 0.43525, saving model to repo/EEG-Image-Research/tmp/checkpoint7_0_1.h5\n"
     ]
    },
    {
     "name": "stderr",
     "output_type": "stream",
     "text": [
      "WARNING:absl:You are saving your model as an HDF5 file via `model.save()` or `keras.saving.save_model(model)`. This file format is considered legacy. We recommend using instead the native Keras format, e.g. `model.save('my_model.keras')` or `keras.saving.save_model(model, 'my_model.keras')`. \n"
     ]
    },
    {
     "name": "stdout",
     "output_type": "stream",
     "text": [
      "14/14 - 1s - 91ms/step - accuracy: 1.0000 - loss: 0.0143 - val_accuracy: 0.8571 - val_loss: 0.4352\n",
      "Epoch 28/100\n",
      "\n",
      "Epoch 28: val_loss improved from 0.43525 to 0.42716, saving model to repo/EEG-Image-Research/tmp/checkpoint7_0_1.h5\n"
     ]
    },
    {
     "name": "stderr",
     "output_type": "stream",
     "text": [
      "WARNING:absl:You are saving your model as an HDF5 file via `model.save()` or `keras.saving.save_model(model)`. This file format is considered legacy. We recommend using instead the native Keras format, e.g. `model.save('my_model.keras')` or `keras.saving.save_model(model, 'my_model.keras')`. \n"
     ]
    },
    {
     "name": "stdout",
     "output_type": "stream",
     "text": [
      "14/14 - 1s - 97ms/step - accuracy: 1.0000 - loss: 0.0161 - val_accuracy: 0.8571 - val_loss: 0.4272\n",
      "Epoch 29/100\n",
      "\n",
      "Epoch 29: val_loss improved from 0.42716 to 0.41787, saving model to repo/EEG-Image-Research/tmp/checkpoint7_0_1.h5\n"
     ]
    },
    {
     "name": "stderr",
     "output_type": "stream",
     "text": [
      "WARNING:absl:You are saving your model as an HDF5 file via `model.save()` or `keras.saving.save_model(model)`. This file format is considered legacy. We recommend using instead the native Keras format, e.g. `model.save('my_model.keras')` or `keras.saving.save_model(model, 'my_model.keras')`. \n"
     ]
    },
    {
     "name": "stdout",
     "output_type": "stream",
     "text": [
      "14/14 - 1s - 87ms/step - accuracy: 1.0000 - loss: 0.0146 - val_accuracy: 0.8571 - val_loss: 0.4179\n",
      "Epoch 30/100\n",
      "\n",
      "Epoch 30: val_loss improved from 0.41787 to 0.41134, saving model to repo/EEG-Image-Research/tmp/checkpoint7_0_1.h5\n"
     ]
    },
    {
     "name": "stderr",
     "output_type": "stream",
     "text": [
      "WARNING:absl:You are saving your model as an HDF5 file via `model.save()` or `keras.saving.save_model(model)`. This file format is considered legacy. We recommend using instead the native Keras format, e.g. `model.save('my_model.keras')` or `keras.saving.save_model(model, 'my_model.keras')`. \n"
     ]
    },
    {
     "name": "stdout",
     "output_type": "stream",
     "text": [
      "14/14 - 1s - 87ms/step - accuracy: 1.0000 - loss: 0.0143 - val_accuracy: 0.8571 - val_loss: 0.4113\n",
      "Epoch 31/100\n",
      "\n",
      "Epoch 31: val_loss improved from 0.41134 to 0.40755, saving model to repo/EEG-Image-Research/tmp/checkpoint7_0_1.h5\n"
     ]
    },
    {
     "name": "stderr",
     "output_type": "stream",
     "text": [
      "WARNING:absl:You are saving your model as an HDF5 file via `model.save()` or `keras.saving.save_model(model)`. This file format is considered legacy. We recommend using instead the native Keras format, e.g. `model.save('my_model.keras')` or `keras.saving.save_model(model, 'my_model.keras')`. \n"
     ]
    },
    {
     "name": "stdout",
     "output_type": "stream",
     "text": [
      "14/14 - 1s - 85ms/step - accuracy: 1.0000 - loss: 0.0166 - val_accuracy: 0.8571 - val_loss: 0.4076\n",
      "Epoch 32/100\n",
      "\n",
      "Epoch 32: val_loss improved from 0.40755 to 0.40105, saving model to repo/EEG-Image-Research/tmp/checkpoint7_0_1.h5\n"
     ]
    },
    {
     "name": "stderr",
     "output_type": "stream",
     "text": [
      "WARNING:absl:You are saving your model as an HDF5 file via `model.save()` or `keras.saving.save_model(model)`. This file format is considered legacy. We recommend using instead the native Keras format, e.g. `model.save('my_model.keras')` or `keras.saving.save_model(model, 'my_model.keras')`. \n"
     ]
    },
    {
     "name": "stdout",
     "output_type": "stream",
     "text": [
      "14/14 - 1s - 88ms/step - accuracy: 1.0000 - loss: 0.0162 - val_accuracy: 0.8571 - val_loss: 0.4010\n",
      "Epoch 33/100\n",
      "\n",
      "Epoch 33: val_loss improved from 0.40105 to 0.39636, saving model to repo/EEG-Image-Research/tmp/checkpoint7_0_1.h5\n"
     ]
    },
    {
     "name": "stderr",
     "output_type": "stream",
     "text": [
      "WARNING:absl:You are saving your model as an HDF5 file via `model.save()` or `keras.saving.save_model(model)`. This file format is considered legacy. We recommend using instead the native Keras format, e.g. `model.save('my_model.keras')` or `keras.saving.save_model(model, 'my_model.keras')`. \n"
     ]
    },
    {
     "name": "stdout",
     "output_type": "stream",
     "text": [
      "14/14 - 1s - 87ms/step - accuracy: 1.0000 - loss: 0.0137 - val_accuracy: 0.8571 - val_loss: 0.3964\n",
      "Epoch 34/100\n",
      "\n",
      "Epoch 34: val_loss improved from 0.39636 to 0.39225, saving model to repo/EEG-Image-Research/tmp/checkpoint7_0_1.h5\n"
     ]
    },
    {
     "name": "stderr",
     "output_type": "stream",
     "text": [
      "WARNING:absl:You are saving your model as an HDF5 file via `model.save()` or `keras.saving.save_model(model)`. This file format is considered legacy. We recommend using instead the native Keras format, e.g. `model.save('my_model.keras')` or `keras.saving.save_model(model, 'my_model.keras')`. \n"
     ]
    },
    {
     "name": "stdout",
     "output_type": "stream",
     "text": [
      "14/14 - 1s - 88ms/step - accuracy: 1.0000 - loss: 0.0142 - val_accuracy: 0.8571 - val_loss: 0.3922\n",
      "Epoch 35/100\n",
      "\n",
      "Epoch 35: val_loss improved from 0.39225 to 0.38879, saving model to repo/EEG-Image-Research/tmp/checkpoint7_0_1.h5\n"
     ]
    },
    {
     "name": "stderr",
     "output_type": "stream",
     "text": [
      "WARNING:absl:You are saving your model as an HDF5 file via `model.save()` or `keras.saving.save_model(model)`. This file format is considered legacy. We recommend using instead the native Keras format, e.g. `model.save('my_model.keras')` or `keras.saving.save_model(model, 'my_model.keras')`. \n"
     ]
    },
    {
     "name": "stdout",
     "output_type": "stream",
     "text": [
      "14/14 - 1s - 86ms/step - accuracy: 1.0000 - loss: 0.0150 - val_accuracy: 0.8571 - val_loss: 0.3888\n",
      "Epoch 36/100\n",
      "\n",
      "Epoch 36: val_loss improved from 0.38879 to 0.38621, saving model to repo/EEG-Image-Research/tmp/checkpoint7_0_1.h5\n"
     ]
    },
    {
     "name": "stderr",
     "output_type": "stream",
     "text": [
      "WARNING:absl:You are saving your model as an HDF5 file via `model.save()` or `keras.saving.save_model(model)`. This file format is considered legacy. We recommend using instead the native Keras format, e.g. `model.save('my_model.keras')` or `keras.saving.save_model(model, 'my_model.keras')`. \n"
     ]
    },
    {
     "name": "stdout",
     "output_type": "stream",
     "text": [
      "14/14 - 1s - 85ms/step - accuracy: 1.0000 - loss: 0.0137 - val_accuracy: 0.8571 - val_loss: 0.3862\n",
      "Epoch 37/100\n",
      "\n",
      "Epoch 37: val_loss improved from 0.38621 to 0.38545, saving model to repo/EEG-Image-Research/tmp/checkpoint7_0_1.h5\n"
     ]
    },
    {
     "name": "stderr",
     "output_type": "stream",
     "text": [
      "WARNING:absl:You are saving your model as an HDF5 file via `model.save()` or `keras.saving.save_model(model)`. This file format is considered legacy. We recommend using instead the native Keras format, e.g. `model.save('my_model.keras')` or `keras.saving.save_model(model, 'my_model.keras')`. \n"
     ]
    },
    {
     "name": "stdout",
     "output_type": "stream",
     "text": [
      "14/14 - 1s - 84ms/step - accuracy: 1.0000 - loss: 0.0140 - val_accuracy: 0.8571 - val_loss: 0.3855\n",
      "Epoch 38/100\n",
      "\n",
      "Epoch 38: val_loss improved from 0.38545 to 0.38534, saving model to repo/EEG-Image-Research/tmp/checkpoint7_0_1.h5\n"
     ]
    },
    {
     "name": "stderr",
     "output_type": "stream",
     "text": [
      "WARNING:absl:You are saving your model as an HDF5 file via `model.save()` or `keras.saving.save_model(model)`. This file format is considered legacy. We recommend using instead the native Keras format, e.g. `model.save('my_model.keras')` or `keras.saving.save_model(model, 'my_model.keras')`. \n"
     ]
    },
    {
     "name": "stdout",
     "output_type": "stream",
     "text": [
      "14/14 - 1s - 90ms/step - accuracy: 1.0000 - loss: 0.0137 - val_accuracy: 0.8571 - val_loss: 0.3853\n",
      "Epoch 39/100\n",
      "\n",
      "Epoch 39: val_loss improved from 0.38534 to 0.38469, saving model to repo/EEG-Image-Research/tmp/checkpoint7_0_1.h5\n"
     ]
    },
    {
     "name": "stderr",
     "output_type": "stream",
     "text": [
      "WARNING:absl:You are saving your model as an HDF5 file via `model.save()` or `keras.saving.save_model(model)`. This file format is considered legacy. We recommend using instead the native Keras format, e.g. `model.save('my_model.keras')` or `keras.saving.save_model(model, 'my_model.keras')`. \n"
     ]
    },
    {
     "name": "stdout",
     "output_type": "stream",
     "text": [
      "14/14 - 1s - 84ms/step - accuracy: 1.0000 - loss: 0.0134 - val_accuracy: 0.8571 - val_loss: 0.3847\n",
      "Epoch 40/100\n",
      "\n",
      "Epoch 40: val_loss improved from 0.38469 to 0.38392, saving model to repo/EEG-Image-Research/tmp/checkpoint7_0_1.h5\n"
     ]
    },
    {
     "name": "stderr",
     "output_type": "stream",
     "text": [
      "WARNING:absl:You are saving your model as an HDF5 file via `model.save()` or `keras.saving.save_model(model)`. This file format is considered legacy. We recommend using instead the native Keras format, e.g. `model.save('my_model.keras')` or `keras.saving.save_model(model, 'my_model.keras')`. \n"
     ]
    },
    {
     "name": "stdout",
     "output_type": "stream",
     "text": [
      "14/14 - 1s - 82ms/step - accuracy: 1.0000 - loss: 0.0137 - val_accuracy: 0.8571 - val_loss: 0.3839\n",
      "Epoch 41/100\n",
      "\n",
      "Epoch 41: val_loss improved from 0.38392 to 0.38286, saving model to repo/EEG-Image-Research/tmp/checkpoint7_0_1.h5\n"
     ]
    },
    {
     "name": "stderr",
     "output_type": "stream",
     "text": [
      "WARNING:absl:You are saving your model as an HDF5 file via `model.save()` or `keras.saving.save_model(model)`. This file format is considered legacy. We recommend using instead the native Keras format, e.g. `model.save('my_model.keras')` or `keras.saving.save_model(model, 'my_model.keras')`. \n"
     ]
    },
    {
     "name": "stdout",
     "output_type": "stream",
     "text": [
      "14/14 - 1s - 81ms/step - accuracy: 1.0000 - loss: 0.0151 - val_accuracy: 0.8571 - val_loss: 0.3829\n",
      "Epoch 42/100\n",
      "\n",
      "Epoch 42: val_loss improved from 0.38286 to 0.38251, saving model to repo/EEG-Image-Research/tmp/checkpoint7_0_1.h5\n"
     ]
    },
    {
     "name": "stderr",
     "output_type": "stream",
     "text": [
      "WARNING:absl:You are saving your model as an HDF5 file via `model.save()` or `keras.saving.save_model(model)`. This file format is considered legacy. We recommend using instead the native Keras format, e.g. `model.save('my_model.keras')` or `keras.saving.save_model(model, 'my_model.keras')`. \n"
     ]
    },
    {
     "name": "stdout",
     "output_type": "stream",
     "text": [
      "14/14 - 1s - 81ms/step - accuracy: 1.0000 - loss: 0.0135 - val_accuracy: 0.8571 - val_loss: 0.3825\n",
      "Epoch 43/100\n",
      "\n",
      "Epoch 43: val_loss did not improve from 0.38251\n",
      "14/14 - 1s - 85ms/step - accuracy: 1.0000 - loss: 0.0139 - val_accuracy: 0.8571 - val_loss: 0.3832\n",
      "Epoch 44/100\n",
      "\n",
      "Epoch 44: val_loss did not improve from 0.38251\n",
      "14/14 - 1s - 82ms/step - accuracy: 1.0000 - loss: 0.0134 - val_accuracy: 0.8571 - val_loss: 0.3836\n",
      "Epoch 45/100\n",
      "\n",
      "Epoch 45: val_loss did not improve from 0.38251\n",
      "14/14 - 1s - 79ms/step - accuracy: 1.0000 - loss: 0.0137 - val_accuracy: 0.8571 - val_loss: 0.3849\n",
      "Epoch 46/100\n",
      "\n",
      "Epoch 46: val_loss did not improve from 0.38251\n",
      "14/14 - 1s - 83ms/step - accuracy: 1.0000 - loss: 0.0138 - val_accuracy: 0.8571 - val_loss: 0.3851\n",
      "Epoch 47/100\n",
      "\n",
      "Epoch 47: val_loss did not improve from 0.38251\n",
      "14/14 - 1s - 86ms/step - accuracy: 1.0000 - loss: 0.0137 - val_accuracy: 0.8571 - val_loss: 0.3861\n",
      "Epoch 48/100\n",
      "\n",
      "Epoch 48: val_loss did not improve from 0.38251\n",
      "14/14 - 1s - 84ms/step - accuracy: 1.0000 - loss: 0.0145 - val_accuracy: 0.8571 - val_loss: 0.3877\n",
      "Epoch 49/100\n",
      "\n",
      "Epoch 49: val_loss did not improve from 0.38251\n",
      "14/14 - 1s - 86ms/step - accuracy: 1.0000 - loss: 0.0136 - val_accuracy: 0.8571 - val_loss: 0.3885\n",
      "Epoch 50/100\n",
      "\n",
      "Epoch 50: val_loss did not improve from 0.38251\n",
      "14/14 - 1s - 85ms/step - accuracy: 1.0000 - loss: 0.0133 - val_accuracy: 0.8571 - val_loss: 0.3899\n",
      "Epoch 51/100\n",
      "\n",
      "Epoch 51: val_loss did not improve from 0.38251\n",
      "14/14 - 1s - 83ms/step - accuracy: 1.0000 - loss: 0.0135 - val_accuracy: 0.8571 - val_loss: 0.3906\n",
      "Epoch 52/100\n",
      "\n",
      "Epoch 52: val_loss did not improve from 0.38251\n",
      "14/14 - 1s - 85ms/step - accuracy: 1.0000 - loss: 0.0136 - val_accuracy: 0.8571 - val_loss: 0.3910\n",
      "Epoch 53/100\n",
      "\n",
      "Epoch 53: val_loss did not improve from 0.38251\n",
      "14/14 - 1s - 82ms/step - accuracy: 1.0000 - loss: 0.0137 - val_accuracy: 0.8571 - val_loss: 0.3914\n",
      "Epoch 54/100\n",
      "\n",
      "Epoch 54: val_loss did not improve from 0.38251\n",
      "14/14 - 1s - 78ms/step - accuracy: 1.0000 - loss: 0.0133 - val_accuracy: 0.8571 - val_loss: 0.3914\n",
      "Epoch 55/100\n",
      "\n",
      "Epoch 55: val_loss did not improve from 0.38251\n",
      "14/14 - 1s - 83ms/step - accuracy: 1.0000 - loss: 0.0134 - val_accuracy: 0.8571 - val_loss: 0.3922\n",
      "Epoch 56/100\n",
      "\n",
      "Epoch 56: val_loss did not improve from 0.38251\n",
      "14/14 - 1s - 83ms/step - accuracy: 1.0000 - loss: 0.0140 - val_accuracy: 0.8571 - val_loss: 0.3918\n",
      "Epoch 57/100\n",
      "\n",
      "Epoch 57: val_loss did not improve from 0.38251\n",
      "14/14 - 1s - 83ms/step - accuracy: 1.0000 - loss: 0.0134 - val_accuracy: 0.8571 - val_loss: 0.3910\n",
      "Epoch 58/100\n",
      "\n",
      "Epoch 58: val_loss did not improve from 0.38251\n",
      "14/14 - 1s - 79ms/step - accuracy: 1.0000 - loss: 0.0132 - val_accuracy: 0.8571 - val_loss: 0.3909\n",
      "Epoch 59/100\n",
      "\n",
      "Epoch 59: val_loss did not improve from 0.38251\n",
      "14/14 - 1s - 83ms/step - accuracy: 1.0000 - loss: 0.0133 - val_accuracy: 0.8571 - val_loss: 0.3915\n",
      "Epoch 60/100\n",
      "\n",
      "Epoch 60: val_loss did not improve from 0.38251\n",
      "14/14 - 1s - 83ms/step - accuracy: 1.0000 - loss: 0.0134 - val_accuracy: 0.8571 - val_loss: 0.3935\n",
      "Epoch 61/100\n",
      "\n",
      "Epoch 61: val_loss did not improve from 0.38251\n",
      "14/14 - 1s - 79ms/step - accuracy: 1.0000 - loss: 0.0131 - val_accuracy: 0.8571 - val_loss: 0.3949\n",
      "Epoch 62/100\n",
      "\n",
      "Epoch 62: val_loss did not improve from 0.38251\n",
      "14/14 - 1s - 79ms/step - accuracy: 1.0000 - loss: 0.0132 - val_accuracy: 0.8571 - val_loss: 0.3953\n",
      "Epoch 63/100\n",
      "\n",
      "Epoch 63: val_loss did not improve from 0.38251\n",
      "14/14 - 1s - 81ms/step - accuracy: 1.0000 - loss: 0.0132 - val_accuracy: 0.8571 - val_loss: 0.3958\n",
      "Epoch 64/100\n",
      "\n",
      "Epoch 64: val_loss did not improve from 0.38251\n",
      "14/14 - 1s - 82ms/step - accuracy: 1.0000 - loss: 0.0131 - val_accuracy: 0.8571 - val_loss: 0.3971\n",
      "Epoch 65/100\n",
      "\n",
      "Epoch 65: val_loss did not improve from 0.38251\n",
      "14/14 - 1s - 84ms/step - accuracy: 1.0000 - loss: 0.0132 - val_accuracy: 0.8571 - val_loss: 0.3973\n",
      "Epoch 66/100\n",
      "\n",
      "Epoch 66: val_loss did not improve from 0.38251\n",
      "14/14 - 1s - 84ms/step - accuracy: 1.0000 - loss: 0.0131 - val_accuracy: 0.8571 - val_loss: 0.3973\n",
      "Epoch 67/100\n",
      "\n",
      "Epoch 67: val_loss did not improve from 0.38251\n",
      "14/14 - 1s - 85ms/step - accuracy: 1.0000 - loss: 0.0132 - val_accuracy: 0.8571 - val_loss: 0.3976\n",
      "Epoch 68/100\n",
      "\n",
      "Epoch 68: val_loss did not improve from 0.38251\n",
      "14/14 - 1s - 83ms/step - accuracy: 1.0000 - loss: 0.0131 - val_accuracy: 0.8571 - val_loss: 0.3963\n",
      "Epoch 69/100\n",
      "\n",
      "Epoch 69: val_loss did not improve from 0.38251\n",
      "14/14 - 1s - 83ms/step - accuracy: 1.0000 - loss: 0.0134 - val_accuracy: 0.8571 - val_loss: 0.3957\n",
      "Epoch 70/100\n",
      "\n",
      "Epoch 70: val_loss did not improve from 0.38251\n",
      "14/14 - 1s - 77ms/step - accuracy: 1.0000 - loss: 0.0130 - val_accuracy: 0.8571 - val_loss: 0.3954\n",
      "Epoch 71/100\n",
      "\n",
      "Epoch 71: val_loss did not improve from 0.38251\n",
      "14/14 - 1s - 85ms/step - accuracy: 1.0000 - loss: 0.0135 - val_accuracy: 0.8571 - val_loss: 0.3956\n",
      "Epoch 72/100\n",
      "\n",
      "Epoch 72: val_loss did not improve from 0.38251\n",
      "14/14 - 1s - 88ms/step - accuracy: 1.0000 - loss: 0.0129 - val_accuracy: 0.8571 - val_loss: 0.3959\n",
      "\u001b[1m1/1\u001b[0m \u001b[32m━━━━━━━━━━━━━━━━━━━━\u001b[0m\u001b[37m\u001b[0m \u001b[1m0s\u001b[0m 105ms/step\n",
      "Test Loss: 0.5988346934318542, Test Accuracy: 0.8571428656578064, \n",
      "[0, 2]\n",
      "Epoch 1/100\n",
      "\n",
      "Epoch 1: val_loss improved from inf to 0.70601, saving model to repo/EEG-Image-Research/tmp/checkpoint7_0_2.h5\n"
     ]
    },
    {
     "name": "stderr",
     "output_type": "stream",
     "text": [
      "WARNING:absl:You are saving your model as an HDF5 file via `model.save()` or `keras.saving.save_model(model)`. This file format is considered legacy. We recommend using instead the native Keras format, e.g. `model.save('my_model.keras')` or `keras.saving.save_model(model, 'my_model.keras')`. \n"
     ]
    },
    {
     "name": "stdout",
     "output_type": "stream",
     "text": [
      "14/14 - 3s - 223ms/step - accuracy: 0.5714 - loss: 0.7678 - val_accuracy: 0.7143 - val_loss: 0.7060\n",
      "Epoch 2/100\n",
      "\n",
      "Epoch 2: val_loss improved from 0.70601 to 0.70369, saving model to repo/EEG-Image-Research/tmp/checkpoint7_0_2.h5\n"
     ]
    },
    {
     "name": "stderr",
     "output_type": "stream",
     "text": [
      "WARNING:absl:You are saving your model as an HDF5 file via `model.save()` or `keras.saving.save_model(model)`. This file format is considered legacy. We recommend using instead the native Keras format, e.g. `model.save('my_model.keras')` or `keras.saving.save_model(model, 'my_model.keras')`. \n"
     ]
    },
    {
     "name": "stdout",
     "output_type": "stream",
     "text": [
      "14/14 - 1s - 80ms/step - accuracy: 0.7143 - loss: 0.6635 - val_accuracy: 0.7143 - val_loss: 0.7037\n",
      "Epoch 3/100\n",
      "\n",
      "Epoch 3: val_loss improved from 0.70369 to 0.70135, saving model to repo/EEG-Image-Research/tmp/checkpoint7_0_2.h5\n"
     ]
    },
    {
     "name": "stderr",
     "output_type": "stream",
     "text": [
      "WARNING:absl:You are saving your model as an HDF5 file via `model.save()` or `keras.saving.save_model(model)`. This file format is considered legacy. We recommend using instead the native Keras format, e.g. `model.save('my_model.keras')` or `keras.saving.save_model(model, 'my_model.keras')`. \n"
     ]
    },
    {
     "name": "stdout",
     "output_type": "stream",
     "text": [
      "14/14 - 1s - 81ms/step - accuracy: 0.8571 - loss: 0.4682 - val_accuracy: 0.7143 - val_loss: 0.7013\n",
      "Epoch 4/100\n",
      "\n",
      "Epoch 4: val_loss improved from 0.70135 to 0.69908, saving model to repo/EEG-Image-Research/tmp/checkpoint7_0_2.h5\n"
     ]
    },
    {
     "name": "stderr",
     "output_type": "stream",
     "text": [
      "WARNING:absl:You are saving your model as an HDF5 file via `model.save()` or `keras.saving.save_model(model)`. This file format is considered legacy. We recommend using instead the native Keras format, e.g. `model.save('my_model.keras')` or `keras.saving.save_model(model, 'my_model.keras')`. \n"
     ]
    },
    {
     "name": "stdout",
     "output_type": "stream",
     "text": [
      "14/14 - 1s - 82ms/step - accuracy: 0.8571 - loss: 0.3788 - val_accuracy: 0.7143 - val_loss: 0.6991\n",
      "Epoch 5/100\n",
      "\n",
      "Epoch 5: val_loss improved from 0.69908 to 0.69522, saving model to repo/EEG-Image-Research/tmp/checkpoint7_0_2.h5\n"
     ]
    },
    {
     "name": "stderr",
     "output_type": "stream",
     "text": [
      "WARNING:absl:You are saving your model as an HDF5 file via `model.save()` or `keras.saving.save_model(model)`. This file format is considered legacy. We recommend using instead the native Keras format, e.g. `model.save('my_model.keras')` or `keras.saving.save_model(model, 'my_model.keras')`. \n"
     ]
    },
    {
     "name": "stdout",
     "output_type": "stream",
     "text": [
      "14/14 - 1s - 81ms/step - accuracy: 1.0000 - loss: 0.2007 - val_accuracy: 0.7143 - val_loss: 0.6952\n",
      "Epoch 6/100\n",
      "\n",
      "Epoch 6: val_loss improved from 0.69522 to 0.69253, saving model to repo/EEG-Image-Research/tmp/checkpoint7_0_2.h5\n"
     ]
    },
    {
     "name": "stderr",
     "output_type": "stream",
     "text": [
      "WARNING:absl:You are saving your model as an HDF5 file via `model.save()` or `keras.saving.save_model(model)`. This file format is considered legacy. We recommend using instead the native Keras format, e.g. `model.save('my_model.keras')` or `keras.saving.save_model(model, 'my_model.keras')`. \n"
     ]
    },
    {
     "name": "stdout",
     "output_type": "stream",
     "text": [
      "14/14 - 1s - 82ms/step - accuracy: 1.0000 - loss: 0.1164 - val_accuracy: 0.7143 - val_loss: 0.6925\n",
      "Epoch 7/100\n",
      "\n",
      "Epoch 7: val_loss improved from 0.69253 to 0.69170, saving model to repo/EEG-Image-Research/tmp/checkpoint7_0_2.h5\n"
     ]
    },
    {
     "name": "stderr",
     "output_type": "stream",
     "text": [
      "WARNING:absl:You are saving your model as an HDF5 file via `model.save()` or `keras.saving.save_model(model)`. This file format is considered legacy. We recommend using instead the native Keras format, e.g. `model.save('my_model.keras')` or `keras.saving.save_model(model, 'my_model.keras')`. \n"
     ]
    },
    {
     "name": "stdout",
     "output_type": "stream",
     "text": [
      "14/14 - 1s - 80ms/step - accuracy: 1.0000 - loss: 0.0902 - val_accuracy: 0.7143 - val_loss: 0.6917\n",
      "Epoch 8/100\n",
      "\n",
      "Epoch 8: val_loss improved from 0.69170 to 0.69065, saving model to repo/EEG-Image-Research/tmp/checkpoint7_0_2.h5\n"
     ]
    },
    {
     "name": "stderr",
     "output_type": "stream",
     "text": [
      "WARNING:absl:You are saving your model as an HDF5 file via `model.save()` or `keras.saving.save_model(model)`. This file format is considered legacy. We recommend using instead the native Keras format, e.g. `model.save('my_model.keras')` or `keras.saving.save_model(model, 'my_model.keras')`. \n"
     ]
    },
    {
     "name": "stdout",
     "output_type": "stream",
     "text": [
      "14/14 - 1s - 83ms/step - accuracy: 1.0000 - loss: 0.0689 - val_accuracy: 0.7143 - val_loss: 0.6906\n",
      "Epoch 9/100\n",
      "\n",
      "Epoch 9: val_loss improved from 0.69065 to 0.69040, saving model to repo/EEG-Image-Research/tmp/checkpoint7_0_2.h5\n"
     ]
    },
    {
     "name": "stderr",
     "output_type": "stream",
     "text": [
      "WARNING:absl:You are saving your model as an HDF5 file via `model.save()` or `keras.saving.save_model(model)`. This file format is considered legacy. We recommend using instead the native Keras format, e.g. `model.save('my_model.keras')` or `keras.saving.save_model(model, 'my_model.keras')`. \n"
     ]
    },
    {
     "name": "stdout",
     "output_type": "stream",
     "text": [
      "14/14 - 1s - 86ms/step - accuracy: 1.0000 - loss: 0.0485 - val_accuracy: 0.5714 - val_loss: 0.6904\n",
      "Epoch 10/100\n",
      "\n",
      "Epoch 10: val_loss did not improve from 0.69040\n",
      "14/14 - 1s - 87ms/step - accuracy: 1.0000 - loss: 0.0346 - val_accuracy: 0.5714 - val_loss: 0.6908\n",
      "Epoch 11/100\n",
      "\n",
      "Epoch 11: val_loss improved from 0.69040 to 0.68903, saving model to repo/EEG-Image-Research/tmp/checkpoint7_0_2.h5\n"
     ]
    },
    {
     "name": "stderr",
     "output_type": "stream",
     "text": [
      "WARNING:absl:You are saving your model as an HDF5 file via `model.save()` or `keras.saving.save_model(model)`. This file format is considered legacy. We recommend using instead the native Keras format, e.g. `model.save('my_model.keras')` or `keras.saving.save_model(model, 'my_model.keras')`. \n"
     ]
    },
    {
     "name": "stdout",
     "output_type": "stream",
     "text": [
      "14/14 - 1s - 86ms/step - accuracy: 1.0000 - loss: 0.0299 - val_accuracy: 0.5714 - val_loss: 0.6890\n",
      "Epoch 12/100\n",
      "\n",
      "Epoch 12: val_loss improved from 0.68903 to 0.68771, saving model to repo/EEG-Image-Research/tmp/checkpoint7_0_2.h5\n"
     ]
    },
    {
     "name": "stderr",
     "output_type": "stream",
     "text": [
      "WARNING:absl:You are saving your model as an HDF5 file via `model.save()` or `keras.saving.save_model(model)`. This file format is considered legacy. We recommend using instead the native Keras format, e.g. `model.save('my_model.keras')` or `keras.saving.save_model(model, 'my_model.keras')`. \n"
     ]
    },
    {
     "name": "stdout",
     "output_type": "stream",
     "text": [
      "14/14 - 1s - 87ms/step - accuracy: 1.0000 - loss: 0.0340 - val_accuracy: 0.7143 - val_loss: 0.6877\n",
      "Epoch 13/100\n",
      "\n",
      "Epoch 13: val_loss improved from 0.68771 to 0.68688, saving model to repo/EEG-Image-Research/tmp/checkpoint7_0_2.h5\n"
     ]
    },
    {
     "name": "stderr",
     "output_type": "stream",
     "text": [
      "WARNING:absl:You are saving your model as an HDF5 file via `model.save()` or `keras.saving.save_model(model)`. This file format is considered legacy. We recommend using instead the native Keras format, e.g. `model.save('my_model.keras')` or `keras.saving.save_model(model, 'my_model.keras')`. \n"
     ]
    },
    {
     "name": "stdout",
     "output_type": "stream",
     "text": [
      "14/14 - 1s - 91ms/step - accuracy: 1.0000 - loss: 0.0217 - val_accuracy: 0.7143 - val_loss: 0.6869\n",
      "Epoch 14/100\n",
      "\n",
      "Epoch 14: val_loss improved from 0.68688 to 0.68676, saving model to repo/EEG-Image-Research/tmp/checkpoint7_0_2.h5\n"
     ]
    },
    {
     "name": "stderr",
     "output_type": "stream",
     "text": [
      "WARNING:absl:You are saving your model as an HDF5 file via `model.save()` or `keras.saving.save_model(model)`. This file format is considered legacy. We recommend using instead the native Keras format, e.g. `model.save('my_model.keras')` or `keras.saving.save_model(model, 'my_model.keras')`. \n"
     ]
    },
    {
     "name": "stdout",
     "output_type": "stream",
     "text": [
      "14/14 - 1s - 89ms/step - accuracy: 1.0000 - loss: 0.0240 - val_accuracy: 0.7143 - val_loss: 0.6868\n",
      "Epoch 15/100\n",
      "\n",
      "Epoch 15: val_loss did not improve from 0.68676\n",
      "14/14 - 1s - 84ms/step - accuracy: 1.0000 - loss: 0.0334 - val_accuracy: 0.7143 - val_loss: 0.6881\n",
      "Epoch 16/100\n",
      "\n",
      "Epoch 16: val_loss did not improve from 0.68676\n",
      "14/14 - 1s - 84ms/step - accuracy: 1.0000 - loss: 0.0212 - val_accuracy: 0.7143 - val_loss: 0.6883\n",
      "Epoch 17/100\n",
      "\n",
      "Epoch 17: val_loss did not improve from 0.68676\n",
      "14/14 - 1s - 82ms/step - accuracy: 1.0000 - loss: 0.0180 - val_accuracy: 0.7143 - val_loss: 0.6891\n",
      "Epoch 18/100\n",
      "\n",
      "Epoch 18: val_loss did not improve from 0.68676\n",
      "14/14 - 1s - 85ms/step - accuracy: 1.0000 - loss: 0.0260 - val_accuracy: 0.5714 - val_loss: 0.6891\n",
      "Epoch 19/100\n",
      "\n",
      "Epoch 19: val_loss did not improve from 0.68676\n",
      "14/14 - 1s - 86ms/step - accuracy: 1.0000 - loss: 0.0227 - val_accuracy: 0.5714 - val_loss: 0.6931\n",
      "Epoch 20/100\n",
      "\n",
      "Epoch 20: val_loss did not improve from 0.68676\n",
      "14/14 - 1s - 83ms/step - accuracy: 1.0000 - loss: 0.0211 - val_accuracy: 0.5714 - val_loss: 0.6947\n",
      "Epoch 21/100\n",
      "\n",
      "Epoch 21: val_loss did not improve from 0.68676\n",
      "14/14 - 1s - 84ms/step - accuracy: 1.0000 - loss: 0.0185 - val_accuracy: 0.5714 - val_loss: 0.6991\n",
      "Epoch 22/100\n",
      "\n",
      "Epoch 22: val_loss did not improve from 0.68676\n",
      "14/14 - 1s - 89ms/step - accuracy: 1.0000 - loss: 0.0158 - val_accuracy: 0.4286 - val_loss: 0.7049\n",
      "Epoch 23/100\n",
      "\n",
      "Epoch 23: val_loss did not improve from 0.68676\n",
      "14/14 - 1s - 82ms/step - accuracy: 1.0000 - loss: 0.0166 - val_accuracy: 0.4286 - val_loss: 0.7139\n",
      "Epoch 24/100\n",
      "\n",
      "Epoch 24: val_loss did not improve from 0.68676\n",
      "14/14 - 1s - 85ms/step - accuracy: 1.0000 - loss: 0.0191 - val_accuracy: 0.4286 - val_loss: 0.7223\n",
      "Epoch 25/100\n",
      "\n",
      "Epoch 25: val_loss did not improve from 0.68676\n",
      "14/14 - 1s - 84ms/step - accuracy: 1.0000 - loss: 0.0143 - val_accuracy: 0.5714 - val_loss: 0.7296\n",
      "Epoch 26/100\n",
      "\n",
      "Epoch 26: val_loss did not improve from 0.68676\n",
      "14/14 - 1s - 87ms/step - accuracy: 1.0000 - loss: 0.0164 - val_accuracy: 0.5714 - val_loss: 0.7367\n",
      "Epoch 27/100\n",
      "\n",
      "Epoch 27: val_loss did not improve from 0.68676\n",
      "14/14 - 1s - 82ms/step - accuracy: 1.0000 - loss: 0.0165 - val_accuracy: 0.5714 - val_loss: 0.7491\n",
      "Epoch 28/100\n",
      "\n",
      "Epoch 28: val_loss did not improve from 0.68676\n",
      "14/14 - 1s - 83ms/step - accuracy: 1.0000 - loss: 0.0146 - val_accuracy: 0.5714 - val_loss: 0.7647\n",
      "Epoch 29/100\n",
      "\n",
      "Epoch 29: val_loss did not improve from 0.68676\n",
      "14/14 - 1s - 82ms/step - accuracy: 1.0000 - loss: 0.0146 - val_accuracy: 0.5714 - val_loss: 0.7821\n",
      "Epoch 30/100\n",
      "\n",
      "Epoch 30: val_loss did not improve from 0.68676\n",
      "14/14 - 1s - 83ms/step - accuracy: 1.0000 - loss: 0.0151 - val_accuracy: 0.5714 - val_loss: 0.7991\n",
      "Epoch 31/100\n",
      "\n",
      "Epoch 31: val_loss did not improve from 0.68676\n",
      "14/14 - 1s - 83ms/step - accuracy: 1.0000 - loss: 0.0140 - val_accuracy: 0.5714 - val_loss: 0.8148\n",
      "Epoch 32/100\n",
      "\n",
      "Epoch 32: val_loss did not improve from 0.68676\n",
      "14/14 - 1s - 86ms/step - accuracy: 1.0000 - loss: 0.0153 - val_accuracy: 0.4286 - val_loss: 0.8338\n",
      "Epoch 33/100\n",
      "\n",
      "Epoch 33: val_loss did not improve from 0.68676\n",
      "14/14 - 1s - 82ms/step - accuracy: 1.0000 - loss: 0.0154 - val_accuracy: 0.4286 - val_loss: 0.8512\n",
      "Epoch 34/100\n",
      "\n",
      "Epoch 34: val_loss did not improve from 0.68676\n",
      "14/14 - 1s - 83ms/step - accuracy: 1.0000 - loss: 0.0146 - val_accuracy: 0.4286 - val_loss: 0.8734\n",
      "Epoch 35/100\n",
      "\n",
      "Epoch 35: val_loss did not improve from 0.68676\n",
      "14/14 - 1s - 82ms/step - accuracy: 1.0000 - loss: 0.0153 - val_accuracy: 0.4286 - val_loss: 0.8978\n",
      "Epoch 36/100\n",
      "\n",
      "Epoch 36: val_loss did not improve from 0.68676\n",
      "14/14 - 1s - 83ms/step - accuracy: 1.0000 - loss: 0.0151 - val_accuracy: 0.4286 - val_loss: 0.9268\n",
      "Epoch 37/100\n",
      "\n",
      "Epoch 37: val_loss did not improve from 0.68676\n",
      "14/14 - 1s - 84ms/step - accuracy: 1.0000 - loss: 0.0143 - val_accuracy: 0.4286 - val_loss: 0.9550\n",
      "Epoch 38/100\n",
      "\n",
      "Epoch 38: val_loss did not improve from 0.68676\n",
      "14/14 - 1s - 83ms/step - accuracy: 1.0000 - loss: 0.0137 - val_accuracy: 0.4286 - val_loss: 0.9811\n",
      "Epoch 39/100\n",
      "\n",
      "Epoch 39: val_loss did not improve from 0.68676\n",
      "14/14 - 1s - 86ms/step - accuracy: 1.0000 - loss: 0.0151 - val_accuracy: 0.4286 - val_loss: 1.0089\n",
      "Epoch 40/100\n",
      "\n",
      "Epoch 40: val_loss did not improve from 0.68676\n",
      "14/14 - 1s - 83ms/step - accuracy: 1.0000 - loss: 0.0137 - val_accuracy: 0.4286 - val_loss: 1.0335\n",
      "Epoch 41/100\n",
      "\n",
      "Epoch 41: val_loss did not improve from 0.68676\n",
      "14/14 - 1s - 82ms/step - accuracy: 1.0000 - loss: 0.0139 - val_accuracy: 0.4286 - val_loss: 1.0558\n",
      "Epoch 42/100\n",
      "\n",
      "Epoch 42: val_loss did not improve from 0.68676\n",
      "14/14 - 1s - 82ms/step - accuracy: 1.0000 - loss: 0.0137 - val_accuracy: 0.4286 - val_loss: 1.0816\n",
      "Epoch 43/100\n",
      "\n",
      "Epoch 43: val_loss did not improve from 0.68676\n",
      "14/14 - 1s - 84ms/step - accuracy: 1.0000 - loss: 0.0135 - val_accuracy: 0.4286 - val_loss: 1.1067\n",
      "Epoch 44/100\n",
      "\n",
      "Epoch 44: val_loss did not improve from 0.68676\n",
      "14/14 - 1s - 85ms/step - accuracy: 1.0000 - loss: 0.0135 - val_accuracy: 0.4286 - val_loss: 1.1278\n",
      "\u001b[1m1/1\u001b[0m \u001b[32m━━━━━━━━━━━━━━━━━━━━\u001b[0m\u001b[37m\u001b[0m \u001b[1m0s\u001b[0m 106ms/step\n",
      "Test Loss: 0.730526864528656, Test Accuracy: 0.4285714328289032, \n",
      "[0, 3]\n",
      "Epoch 1/100\n",
      "\n",
      "Epoch 1: val_loss improved from inf to 0.70508, saving model to repo/EEG-Image-Research/tmp/checkpoint7_0_3.h5\n"
     ]
    },
    {
     "name": "stderr",
     "output_type": "stream",
     "text": [
      "WARNING:absl:You are saving your model as an HDF5 file via `model.save()` or `keras.saving.save_model(model)`. This file format is considered legacy. We recommend using instead the native Keras format, e.g. `model.save('my_model.keras')` or `keras.saving.save_model(model, 'my_model.keras')`. \n"
     ]
    },
    {
     "name": "stdout",
     "output_type": "stream",
     "text": [
      "14/14 - 3s - 209ms/step - accuracy: 0.3571 - loss: 0.8710 - val_accuracy: 0.5714 - val_loss: 0.7051\n",
      "Epoch 2/100\n",
      "\n",
      "Epoch 2: val_loss did not improve from 0.70508\n",
      "14/14 - 1s - 76ms/step - accuracy: 0.8571 - loss: 0.5334 - val_accuracy: 0.4286 - val_loss: 0.7072\n",
      "Epoch 3/100\n",
      "\n",
      "Epoch 3: val_loss did not improve from 0.70508\n",
      "14/14 - 1s - 80ms/step - accuracy: 0.9286 - loss: 0.4354 - val_accuracy: 0.4286 - val_loss: 0.7080\n",
      "Epoch 4/100\n",
      "\n",
      "Epoch 4: val_loss did not improve from 0.70508\n",
      "14/14 - 1s - 73ms/step - accuracy: 1.0000 - loss: 0.2817 - val_accuracy: 0.4286 - val_loss: 0.7093\n",
      "Epoch 5/100\n",
      "\n",
      "Epoch 5: val_loss did not improve from 0.70508\n",
      "14/14 - 1s - 79ms/step - accuracy: 1.0000 - loss: 0.1578 - val_accuracy: 0.4286 - val_loss: 0.7127\n",
      "Epoch 6/100\n",
      "\n",
      "Epoch 6: val_loss did not improve from 0.70508\n",
      "14/14 - 1s - 79ms/step - accuracy: 1.0000 - loss: 0.1496 - val_accuracy: 0.4286 - val_loss: 0.7157\n",
      "Epoch 7/100\n",
      "\n",
      "Epoch 7: val_loss did not improve from 0.70508\n",
      "14/14 - 1s - 76ms/step - accuracy: 1.0000 - loss: 0.1157 - val_accuracy: 0.4286 - val_loss: 0.7176\n",
      "Epoch 8/100\n",
      "\n",
      "Epoch 8: val_loss did not improve from 0.70508\n",
      "14/14 - 1s - 80ms/step - accuracy: 1.0000 - loss: 0.0444 - val_accuracy: 0.4286 - val_loss: 0.7197\n",
      "Epoch 9/100\n",
      "\n",
      "Epoch 9: val_loss did not improve from 0.70508\n",
      "14/14 - 1s - 85ms/step - accuracy: 1.0000 - loss: 0.0502 - val_accuracy: 0.4286 - val_loss: 0.7226\n",
      "Epoch 10/100\n",
      "\n",
      "Epoch 10: val_loss did not improve from 0.70508\n",
      "14/14 - 1s - 84ms/step - accuracy: 1.0000 - loss: 0.0381 - val_accuracy: 0.4286 - val_loss: 0.7268\n",
      "Epoch 11/100\n",
      "\n",
      "Epoch 11: val_loss did not improve from 0.70508\n",
      "14/14 - 1s - 79ms/step - accuracy: 1.0000 - loss: 0.0370 - val_accuracy: 0.4286 - val_loss: 0.7316\n",
      "Epoch 12/100\n",
      "\n",
      "Epoch 12: val_loss did not improve from 0.70508\n",
      "14/14 - 1s - 89ms/step - accuracy: 1.0000 - loss: 0.0253 - val_accuracy: 0.4286 - val_loss: 0.7369\n",
      "Epoch 13/100\n",
      "\n",
      "Epoch 13: val_loss did not improve from 0.70508\n",
      "14/14 - 1s - 83ms/step - accuracy: 1.0000 - loss: 0.0228 - val_accuracy: 0.4286 - val_loss: 0.7414\n",
      "Epoch 14/100\n",
      "\n",
      "Epoch 14: val_loss did not improve from 0.70508\n",
      "14/14 - 1s - 90ms/step - accuracy: 1.0000 - loss: 0.0229 - val_accuracy: 0.4286 - val_loss: 0.7459\n",
      "Epoch 15/100\n",
      "\n",
      "Epoch 15: val_loss did not improve from 0.70508\n",
      "14/14 - 1s - 88ms/step - accuracy: 1.0000 - loss: 0.0211 - val_accuracy: 0.4286 - val_loss: 0.7513\n",
      "Epoch 16/100\n",
      "\n",
      "Epoch 16: val_loss did not improve from 0.70508\n",
      "14/14 - 1s - 88ms/step - accuracy: 1.0000 - loss: 0.0180 - val_accuracy: 0.4286 - val_loss: 0.7574\n",
      "Epoch 17/100\n",
      "\n",
      "Epoch 17: val_loss did not improve from 0.70508\n",
      "14/14 - 1s - 87ms/step - accuracy: 1.0000 - loss: 0.0414 - val_accuracy: 0.4286 - val_loss: 0.7625\n",
      "Epoch 18/100\n",
      "\n",
      "Epoch 18: val_loss did not improve from 0.70508\n",
      "14/14 - 1s - 86ms/step - accuracy: 1.0000 - loss: 0.0166 - val_accuracy: 0.2857 - val_loss: 0.7685\n",
      "Epoch 19/100\n",
      "\n",
      "Epoch 19: val_loss did not improve from 0.70508\n",
      "14/14 - 1s - 88ms/step - accuracy: 1.0000 - loss: 0.0167 - val_accuracy: 0.2857 - val_loss: 0.7753\n",
      "Epoch 20/100\n",
      "\n",
      "Epoch 20: val_loss did not improve from 0.70508\n",
      "14/14 - 1s - 85ms/step - accuracy: 1.0000 - loss: 0.0174 - val_accuracy: 0.2857 - val_loss: 0.7799\n",
      "Epoch 21/100\n",
      "\n",
      "Epoch 21: val_loss did not improve from 0.70508\n",
      "14/14 - 1s - 87ms/step - accuracy: 1.0000 - loss: 0.0182 - val_accuracy: 0.2857 - val_loss: 0.7807\n",
      "Epoch 22/100\n",
      "\n",
      "Epoch 22: val_loss did not improve from 0.70508\n",
      "14/14 - 1s - 92ms/step - accuracy: 1.0000 - loss: 0.0159 - val_accuracy: 0.2857 - val_loss: 0.7838\n",
      "Epoch 23/100\n",
      "\n",
      "Epoch 23: val_loss did not improve from 0.70508\n",
      "14/14 - 1s - 86ms/step - accuracy: 1.0000 - loss: 0.0183 - val_accuracy: 0.2857 - val_loss: 0.7898\n",
      "Epoch 24/100\n",
      "\n",
      "Epoch 24: val_loss did not improve from 0.70508\n",
      "14/14 - 1s - 86ms/step - accuracy: 1.0000 - loss: 0.0151 - val_accuracy: 0.4286 - val_loss: 0.7949\n",
      "Epoch 25/100\n",
      "\n",
      "Epoch 25: val_loss did not improve from 0.70508\n",
      "14/14 - 1s - 83ms/step - accuracy: 1.0000 - loss: 0.0144 - val_accuracy: 0.4286 - val_loss: 0.8006\n",
      "Epoch 26/100\n",
      "\n",
      "Epoch 26: val_loss did not improve from 0.70508\n",
      "14/14 - 1s - 84ms/step - accuracy: 1.0000 - loss: 0.0156 - val_accuracy: 0.4286 - val_loss: 0.8062\n",
      "Epoch 27/100\n",
      "\n",
      "Epoch 27: val_loss did not improve from 0.70508\n",
      "14/14 - 1s - 86ms/step - accuracy: 1.0000 - loss: 0.0141 - val_accuracy: 0.4286 - val_loss: 0.8127\n",
      "Epoch 28/100\n",
      "\n",
      "Epoch 28: val_loss did not improve from 0.70508\n",
      "14/14 - 1s - 81ms/step - accuracy: 1.0000 - loss: 0.0167 - val_accuracy: 0.4286 - val_loss: 0.8215\n",
      "Epoch 29/100\n",
      "\n",
      "Epoch 29: val_loss did not improve from 0.70508\n",
      "14/14 - 1s - 82ms/step - accuracy: 1.0000 - loss: 0.0143 - val_accuracy: 0.4286 - val_loss: 0.8277\n",
      "Epoch 30/100\n",
      "\n",
      "Epoch 30: val_loss did not improve from 0.70508\n",
      "14/14 - 1s - 84ms/step - accuracy: 1.0000 - loss: 0.0141 - val_accuracy: 0.4286 - val_loss: 0.8370\n",
      "Epoch 31/100\n",
      "\n",
      "Epoch 31: val_loss did not improve from 0.70508\n",
      "14/14 - 1s - 86ms/step - accuracy: 1.0000 - loss: 0.0155 - val_accuracy: 0.4286 - val_loss: 0.8479\n",
      "\u001b[1m1/1\u001b[0m \u001b[32m━━━━━━━━━━━━━━━━━━━━\u001b[0m\u001b[37m\u001b[0m \u001b[1m0s\u001b[0m 112ms/step\n",
      "Test Loss: 0.7079302668571472, Test Accuracy: 0.4285714328289032, \n",
      "[0, 4]\n",
      "Epoch 1/100\n",
      "\n",
      "Epoch 1: val_loss improved from inf to 0.69730, saving model to repo/EEG-Image-Research/tmp/checkpoint7_0_4.h5\n"
     ]
    },
    {
     "name": "stderr",
     "output_type": "stream",
     "text": [
      "WARNING:absl:You are saving your model as an HDF5 file via `model.save()` or `keras.saving.save_model(model)`. This file format is considered legacy. We recommend using instead the native Keras format, e.g. `model.save('my_model.keras')` or `keras.saving.save_model(model, 'my_model.keras')`. \n"
     ]
    },
    {
     "name": "stdout",
     "output_type": "stream",
     "text": [
      "14/14 - 3s - 201ms/step - accuracy: 0.9286 - loss: 1.0074 - val_accuracy: 1.0000 - val_loss: 0.6973\n",
      "Epoch 2/100\n",
      "\n",
      "Epoch 2: val_loss did not improve from 0.69730\n",
      "14/14 - 1s - 74ms/step - accuracy: 0.9286 - loss: 0.5637 - val_accuracy: 1.0000 - val_loss: 0.7000\n",
      "Epoch 3/100\n",
      "\n",
      "Epoch 3: val_loss did not improve from 0.69730\n",
      "14/14 - 1s - 73ms/step - accuracy: 1.0000 - loss: 0.2373 - val_accuracy: 1.0000 - val_loss: 0.6978\n",
      "Epoch 4/100\n",
      "\n",
      "Epoch 4: val_loss improved from 0.69730 to 0.69314, saving model to repo/EEG-Image-Research/tmp/checkpoint7_0_4.h5\n"
     ]
    },
    {
     "name": "stderr",
     "output_type": "stream",
     "text": [
      "WARNING:absl:You are saving your model as an HDF5 file via `model.save()` or `keras.saving.save_model(model)`. This file format is considered legacy. We recommend using instead the native Keras format, e.g. `model.save('my_model.keras')` or `keras.saving.save_model(model, 'my_model.keras')`. \n"
     ]
    },
    {
     "name": "stdout",
     "output_type": "stream",
     "text": [
      "14/14 - 1s - 79ms/step - accuracy: 1.0000 - loss: 0.1176 - val_accuracy: 1.0000 - val_loss: 0.6931\n",
      "Epoch 5/100\n",
      "\n",
      "Epoch 5: val_loss improved from 0.69314 to 0.68383, saving model to repo/EEG-Image-Research/tmp/checkpoint7_0_4.h5\n"
     ]
    },
    {
     "name": "stderr",
     "output_type": "stream",
     "text": [
      "WARNING:absl:You are saving your model as an HDF5 file via `model.save()` or `keras.saving.save_model(model)`. This file format is considered legacy. We recommend using instead the native Keras format, e.g. `model.save('my_model.keras')` or `keras.saving.save_model(model, 'my_model.keras')`. \n"
     ]
    },
    {
     "name": "stdout",
     "output_type": "stream",
     "text": [
      "14/14 - 1s - 84ms/step - accuracy: 1.0000 - loss: 0.0569 - val_accuracy: 1.0000 - val_loss: 0.6838\n",
      "Epoch 6/100\n",
      "\n",
      "Epoch 6: val_loss improved from 0.68383 to 0.67317, saving model to repo/EEG-Image-Research/tmp/checkpoint7_0_4.h5\n"
     ]
    },
    {
     "name": "stderr",
     "output_type": "stream",
     "text": [
      "WARNING:absl:You are saving your model as an HDF5 file via `model.save()` or `keras.saving.save_model(model)`. This file format is considered legacy. We recommend using instead the native Keras format, e.g. `model.save('my_model.keras')` or `keras.saving.save_model(model, 'my_model.keras')`. \n"
     ]
    },
    {
     "name": "stdout",
     "output_type": "stream",
     "text": [
      "14/14 - 1s - 81ms/step - accuracy: 1.0000 - loss: 0.0397 - val_accuracy: 1.0000 - val_loss: 0.6732\n",
      "Epoch 7/100\n",
      "\n",
      "Epoch 7: val_loss improved from 0.67317 to 0.66035, saving model to repo/EEG-Image-Research/tmp/checkpoint7_0_4.h5\n"
     ]
    },
    {
     "name": "stderr",
     "output_type": "stream",
     "text": [
      "WARNING:absl:You are saving your model as an HDF5 file via `model.save()` or `keras.saving.save_model(model)`. This file format is considered legacy. We recommend using instead the native Keras format, e.g. `model.save('my_model.keras')` or `keras.saving.save_model(model, 'my_model.keras')`. \n"
     ]
    },
    {
     "name": "stdout",
     "output_type": "stream",
     "text": [
      "14/14 - 1s - 79ms/step - accuracy: 1.0000 - loss: 0.0309 - val_accuracy: 1.0000 - val_loss: 0.6604\n",
      "Epoch 8/100\n",
      "\n",
      "Epoch 8: val_loss improved from 0.66035 to 0.64734, saving model to repo/EEG-Image-Research/tmp/checkpoint7_0_4.h5\n"
     ]
    },
    {
     "name": "stderr",
     "output_type": "stream",
     "text": [
      "WARNING:absl:You are saving your model as an HDF5 file via `model.save()` or `keras.saving.save_model(model)`. This file format is considered legacy. We recommend using instead the native Keras format, e.g. `model.save('my_model.keras')` or `keras.saving.save_model(model, 'my_model.keras')`. \n"
     ]
    },
    {
     "name": "stdout",
     "output_type": "stream",
     "text": [
      "14/14 - 1s - 81ms/step - accuracy: 1.0000 - loss: 0.0202 - val_accuracy: 1.0000 - val_loss: 0.6473\n",
      "Epoch 9/100\n",
      "\n",
      "Epoch 9: val_loss improved from 0.64734 to 0.63432, saving model to repo/EEG-Image-Research/tmp/checkpoint7_0_4.h5\n"
     ]
    },
    {
     "name": "stderr",
     "output_type": "stream",
     "text": [
      "WARNING:absl:You are saving your model as an HDF5 file via `model.save()` or `keras.saving.save_model(model)`. This file format is considered legacy. We recommend using instead the native Keras format, e.g. `model.save('my_model.keras')` or `keras.saving.save_model(model, 'my_model.keras')`. \n"
     ]
    },
    {
     "name": "stdout",
     "output_type": "stream",
     "text": [
      "14/14 - 1s - 84ms/step - accuracy: 1.0000 - loss: 0.0222 - val_accuracy: 1.0000 - val_loss: 0.6343\n",
      "Epoch 10/100\n",
      "\n",
      "Epoch 10: val_loss improved from 0.63432 to 0.62379, saving model to repo/EEG-Image-Research/tmp/checkpoint7_0_4.h5\n"
     ]
    },
    {
     "name": "stderr",
     "output_type": "stream",
     "text": [
      "WARNING:absl:You are saving your model as an HDF5 file via `model.save()` or `keras.saving.save_model(model)`. This file format is considered legacy. We recommend using instead the native Keras format, e.g. `model.save('my_model.keras')` or `keras.saving.save_model(model, 'my_model.keras')`. \n"
     ]
    },
    {
     "name": "stdout",
     "output_type": "stream",
     "text": [
      "14/14 - 1s - 80ms/step - accuracy: 1.0000 - loss: 0.0259 - val_accuracy: 1.0000 - val_loss: 0.6238\n",
      "Epoch 11/100\n",
      "\n",
      "Epoch 11: val_loss improved from 0.62379 to 0.61232, saving model to repo/EEG-Image-Research/tmp/checkpoint7_0_4.h5\n"
     ]
    },
    {
     "name": "stderr",
     "output_type": "stream",
     "text": [
      "WARNING:absl:You are saving your model as an HDF5 file via `model.save()` or `keras.saving.save_model(model)`. This file format is considered legacy. We recommend using instead the native Keras format, e.g. `model.save('my_model.keras')` or `keras.saving.save_model(model, 'my_model.keras')`. \n"
     ]
    },
    {
     "name": "stdout",
     "output_type": "stream",
     "text": [
      "14/14 - 1s - 81ms/step - accuracy: 1.0000 - loss: 0.0214 - val_accuracy: 1.0000 - val_loss: 0.6123\n",
      "Epoch 12/100\n",
      "\n",
      "Epoch 12: val_loss improved from 0.61232 to 0.60108, saving model to repo/EEG-Image-Research/tmp/checkpoint7_0_4.h5\n"
     ]
    },
    {
     "name": "stderr",
     "output_type": "stream",
     "text": [
      "WARNING:absl:You are saving your model as an HDF5 file via `model.save()` or `keras.saving.save_model(model)`. This file format is considered legacy. We recommend using instead the native Keras format, e.g. `model.save('my_model.keras')` or `keras.saving.save_model(model, 'my_model.keras')`. \n"
     ]
    },
    {
     "name": "stdout",
     "output_type": "stream",
     "text": [
      "14/14 - 1s - 85ms/step - accuracy: 1.0000 - loss: 0.0227 - val_accuracy: 1.0000 - val_loss: 0.6011\n",
      "Epoch 13/100\n",
      "\n",
      "Epoch 13: val_loss improved from 0.60108 to 0.59099, saving model to repo/EEG-Image-Research/tmp/checkpoint7_0_4.h5\n"
     ]
    },
    {
     "name": "stderr",
     "output_type": "stream",
     "text": [
      "WARNING:absl:You are saving your model as an HDF5 file via `model.save()` or `keras.saving.save_model(model)`. This file format is considered legacy. We recommend using instead the native Keras format, e.g. `model.save('my_model.keras')` or `keras.saving.save_model(model, 'my_model.keras')`. \n"
     ]
    },
    {
     "name": "stdout",
     "output_type": "stream",
     "text": [
      "14/14 - 1s - 84ms/step - accuracy: 1.0000 - loss: 0.0157 - val_accuracy: 1.0000 - val_loss: 0.5910\n",
      "Epoch 14/100\n",
      "\n",
      "Epoch 14: val_loss improved from 0.59099 to 0.58032, saving model to repo/EEG-Image-Research/tmp/checkpoint7_0_4.h5\n"
     ]
    },
    {
     "name": "stderr",
     "output_type": "stream",
     "text": [
      "WARNING:absl:You are saving your model as an HDF5 file via `model.save()` or `keras.saving.save_model(model)`. This file format is considered legacy. We recommend using instead the native Keras format, e.g. `model.save('my_model.keras')` or `keras.saving.save_model(model, 'my_model.keras')`. \n"
     ]
    },
    {
     "name": "stdout",
     "output_type": "stream",
     "text": [
      "14/14 - 1s - 94ms/step - accuracy: 1.0000 - loss: 0.0173 - val_accuracy: 1.0000 - val_loss: 0.5803\n",
      "Epoch 15/100\n",
      "\n",
      "Epoch 15: val_loss improved from 0.58032 to 0.56876, saving model to repo/EEG-Image-Research/tmp/checkpoint7_0_4.h5\n"
     ]
    },
    {
     "name": "stderr",
     "output_type": "stream",
     "text": [
      "WARNING:absl:You are saving your model as an HDF5 file via `model.save()` or `keras.saving.save_model(model)`. This file format is considered legacy. We recommend using instead the native Keras format, e.g. `model.save('my_model.keras')` or `keras.saving.save_model(model, 'my_model.keras')`. \n"
     ]
    },
    {
     "name": "stdout",
     "output_type": "stream",
     "text": [
      "14/14 - 1s - 88ms/step - accuracy: 1.0000 - loss: 0.0162 - val_accuracy: 1.0000 - val_loss: 0.5688\n",
      "Epoch 16/100\n",
      "\n",
      "Epoch 16: val_loss improved from 0.56876 to 0.55870, saving model to repo/EEG-Image-Research/tmp/checkpoint7_0_4.h5\n"
     ]
    },
    {
     "name": "stderr",
     "output_type": "stream",
     "text": [
      "WARNING:absl:You are saving your model as an HDF5 file via `model.save()` or `keras.saving.save_model(model)`. This file format is considered legacy. We recommend using instead the native Keras format, e.g. `model.save('my_model.keras')` or `keras.saving.save_model(model, 'my_model.keras')`. \n"
     ]
    },
    {
     "name": "stdout",
     "output_type": "stream",
     "text": [
      "14/14 - 1s - 84ms/step - accuracy: 1.0000 - loss: 0.0160 - val_accuracy: 1.0000 - val_loss: 0.5587\n",
      "Epoch 17/100\n",
      "\n",
      "Epoch 17: val_loss improved from 0.55870 to 0.54743, saving model to repo/EEG-Image-Research/tmp/checkpoint7_0_4.h5\n"
     ]
    },
    {
     "name": "stderr",
     "output_type": "stream",
     "text": [
      "WARNING:absl:You are saving your model as an HDF5 file via `model.save()` or `keras.saving.save_model(model)`. This file format is considered legacy. We recommend using instead the native Keras format, e.g. `model.save('my_model.keras')` or `keras.saving.save_model(model, 'my_model.keras')`. \n"
     ]
    },
    {
     "name": "stdout",
     "output_type": "stream",
     "text": [
      "14/14 - 1s - 85ms/step - accuracy: 1.0000 - loss: 0.0168 - val_accuracy: 1.0000 - val_loss: 0.5474\n",
      "Epoch 18/100\n",
      "\n",
      "Epoch 18: val_loss improved from 0.54743 to 0.53589, saving model to repo/EEG-Image-Research/tmp/checkpoint7_0_4.h5\n"
     ]
    },
    {
     "name": "stderr",
     "output_type": "stream",
     "text": [
      "WARNING:absl:You are saving your model as an HDF5 file via `model.save()` or `keras.saving.save_model(model)`. This file format is considered legacy. We recommend using instead the native Keras format, e.g. `model.save('my_model.keras')` or `keras.saving.save_model(model, 'my_model.keras')`. \n"
     ]
    },
    {
     "name": "stdout",
     "output_type": "stream",
     "text": [
      "14/14 - 1s - 97ms/step - accuracy: 1.0000 - loss: 0.0165 - val_accuracy: 1.0000 - val_loss: 0.5359\n",
      "Epoch 19/100\n",
      "\n",
      "Epoch 19: val_loss improved from 0.53589 to 0.52648, saving model to repo/EEG-Image-Research/tmp/checkpoint7_0_4.h5\n"
     ]
    },
    {
     "name": "stderr",
     "output_type": "stream",
     "text": [
      "WARNING:absl:You are saving your model as an HDF5 file via `model.save()` or `keras.saving.save_model(model)`. This file format is considered legacy. We recommend using instead the native Keras format, e.g. `model.save('my_model.keras')` or `keras.saving.save_model(model, 'my_model.keras')`. \n"
     ]
    },
    {
     "name": "stdout",
     "output_type": "stream",
     "text": [
      "14/14 - 1s - 82ms/step - accuracy: 1.0000 - loss: 0.0148 - val_accuracy: 1.0000 - val_loss: 0.5265\n",
      "Epoch 20/100\n",
      "\n",
      "Epoch 20: val_loss improved from 0.52648 to 0.51315, saving model to repo/EEG-Image-Research/tmp/checkpoint7_0_4.h5\n"
     ]
    },
    {
     "name": "stderr",
     "output_type": "stream",
     "text": [
      "WARNING:absl:You are saving your model as an HDF5 file via `model.save()` or `keras.saving.save_model(model)`. This file format is considered legacy. We recommend using instead the native Keras format, e.g. `model.save('my_model.keras')` or `keras.saving.save_model(model, 'my_model.keras')`. \n"
     ]
    },
    {
     "name": "stdout",
     "output_type": "stream",
     "text": [
      "14/14 - 1s - 86ms/step - accuracy: 1.0000 - loss: 0.0145 - val_accuracy: 1.0000 - val_loss: 0.5132\n",
      "Epoch 21/100\n",
      "\n",
      "Epoch 21: val_loss improved from 0.51315 to 0.50229, saving model to repo/EEG-Image-Research/tmp/checkpoint7_0_4.h5\n"
     ]
    },
    {
     "name": "stderr",
     "output_type": "stream",
     "text": [
      "WARNING:absl:You are saving your model as an HDF5 file via `model.save()` or `keras.saving.save_model(model)`. This file format is considered legacy. We recommend using instead the native Keras format, e.g. `model.save('my_model.keras')` or `keras.saving.save_model(model, 'my_model.keras')`. \n"
     ]
    },
    {
     "name": "stdout",
     "output_type": "stream",
     "text": [
      "14/14 - 1s - 87ms/step - accuracy: 1.0000 - loss: 0.0147 - val_accuracy: 1.0000 - val_loss: 0.5023\n",
      "Epoch 22/100\n",
      "\n",
      "Epoch 22: val_loss improved from 0.50229 to 0.49332, saving model to repo/EEG-Image-Research/tmp/checkpoint7_0_4.h5\n"
     ]
    },
    {
     "name": "stderr",
     "output_type": "stream",
     "text": [
      "WARNING:absl:You are saving your model as an HDF5 file via `model.save()` or `keras.saving.save_model(model)`. This file format is considered legacy. We recommend using instead the native Keras format, e.g. `model.save('my_model.keras')` or `keras.saving.save_model(model, 'my_model.keras')`. \n"
     ]
    },
    {
     "name": "stdout",
     "output_type": "stream",
     "text": [
      "14/14 - 1s - 89ms/step - accuracy: 1.0000 - loss: 0.0144 - val_accuracy: 1.0000 - val_loss: 0.4933\n",
      "Epoch 23/100\n",
      "\n",
      "Epoch 23: val_loss improved from 0.49332 to 0.48258, saving model to repo/EEG-Image-Research/tmp/checkpoint7_0_4.h5\n"
     ]
    },
    {
     "name": "stderr",
     "output_type": "stream",
     "text": [
      "WARNING:absl:You are saving your model as an HDF5 file via `model.save()` or `keras.saving.save_model(model)`. This file format is considered legacy. We recommend using instead the native Keras format, e.g. `model.save('my_model.keras')` or `keras.saving.save_model(model, 'my_model.keras')`. \n"
     ]
    },
    {
     "name": "stdout",
     "output_type": "stream",
     "text": [
      "14/14 - 1s - 93ms/step - accuracy: 1.0000 - loss: 0.0140 - val_accuracy: 1.0000 - val_loss: 0.4826\n",
      "Epoch 24/100\n",
      "\n",
      "Epoch 24: val_loss improved from 0.48258 to 0.46977, saving model to repo/EEG-Image-Research/tmp/checkpoint7_0_4.h5\n"
     ]
    },
    {
     "name": "stderr",
     "output_type": "stream",
     "text": [
      "WARNING:absl:You are saving your model as an HDF5 file via `model.save()` or `keras.saving.save_model(model)`. This file format is considered legacy. We recommend using instead the native Keras format, e.g. `model.save('my_model.keras')` or `keras.saving.save_model(model, 'my_model.keras')`. \n"
     ]
    },
    {
     "name": "stdout",
     "output_type": "stream",
     "text": [
      "14/14 - 1s - 89ms/step - accuracy: 1.0000 - loss: 0.0153 - val_accuracy: 1.0000 - val_loss: 0.4698\n",
      "Epoch 25/100\n",
      "\n",
      "Epoch 25: val_loss improved from 0.46977 to 0.45566, saving model to repo/EEG-Image-Research/tmp/checkpoint7_0_4.h5\n"
     ]
    },
    {
     "name": "stderr",
     "output_type": "stream",
     "text": [
      "WARNING:absl:You are saving your model as an HDF5 file via `model.save()` or `keras.saving.save_model(model)`. This file format is considered legacy. We recommend using instead the native Keras format, e.g. `model.save('my_model.keras')` or `keras.saving.save_model(model, 'my_model.keras')`. \n"
     ]
    },
    {
     "name": "stdout",
     "output_type": "stream",
     "text": [
      "14/14 - 1s - 87ms/step - accuracy: 1.0000 - loss: 0.0201 - val_accuracy: 1.0000 - val_loss: 0.4557\n",
      "Epoch 26/100\n",
      "\n",
      "Epoch 26: val_loss improved from 0.45566 to 0.44272, saving model to repo/EEG-Image-Research/tmp/checkpoint7_0_4.h5\n"
     ]
    },
    {
     "name": "stderr",
     "output_type": "stream",
     "text": [
      "WARNING:absl:You are saving your model as an HDF5 file via `model.save()` or `keras.saving.save_model(model)`. This file format is considered legacy. We recommend using instead the native Keras format, e.g. `model.save('my_model.keras')` or `keras.saving.save_model(model, 'my_model.keras')`. \n"
     ]
    },
    {
     "name": "stdout",
     "output_type": "stream",
     "text": [
      "14/14 - 1s - 87ms/step - accuracy: 1.0000 - loss: 0.0141 - val_accuracy: 1.0000 - val_loss: 0.4427\n",
      "Epoch 27/100\n",
      "\n",
      "Epoch 27: val_loss improved from 0.44272 to 0.42743, saving model to repo/EEG-Image-Research/tmp/checkpoint7_0_4.h5\n"
     ]
    },
    {
     "name": "stderr",
     "output_type": "stream",
     "text": [
      "WARNING:absl:You are saving your model as an HDF5 file via `model.save()` or `keras.saving.save_model(model)`. This file format is considered legacy. We recommend using instead the native Keras format, e.g. `model.save('my_model.keras')` or `keras.saving.save_model(model, 'my_model.keras')`. \n"
     ]
    },
    {
     "name": "stdout",
     "output_type": "stream",
     "text": [
      "14/14 - 1s - 86ms/step - accuracy: 1.0000 - loss: 0.0137 - val_accuracy: 1.0000 - val_loss: 0.4274\n",
      "Epoch 28/100\n",
      "\n",
      "Epoch 28: val_loss improved from 0.42743 to 0.41304, saving model to repo/EEG-Image-Research/tmp/checkpoint7_0_4.h5\n"
     ]
    },
    {
     "name": "stderr",
     "output_type": "stream",
     "text": [
      "WARNING:absl:You are saving your model as an HDF5 file via `model.save()` or `keras.saving.save_model(model)`. This file format is considered legacy. We recommend using instead the native Keras format, e.g. `model.save('my_model.keras')` or `keras.saving.save_model(model, 'my_model.keras')`. \n"
     ]
    },
    {
     "name": "stdout",
     "output_type": "stream",
     "text": [
      "14/14 - 1s - 89ms/step - accuracy: 1.0000 - loss: 0.0148 - val_accuracy: 1.0000 - val_loss: 0.4130\n",
      "Epoch 29/100\n",
      "\n",
      "Epoch 29: val_loss improved from 0.41304 to 0.39891, saving model to repo/EEG-Image-Research/tmp/checkpoint7_0_4.h5\n"
     ]
    },
    {
     "name": "stderr",
     "output_type": "stream",
     "text": [
      "WARNING:absl:You are saving your model as an HDF5 file via `model.save()` or `keras.saving.save_model(model)`. This file format is considered legacy. We recommend using instead the native Keras format, e.g. `model.save('my_model.keras')` or `keras.saving.save_model(model, 'my_model.keras')`. \n"
     ]
    },
    {
     "name": "stdout",
     "output_type": "stream",
     "text": [
      "14/14 - 1s - 91ms/step - accuracy: 1.0000 - loss: 0.0137 - val_accuracy: 1.0000 - val_loss: 0.3989\n",
      "Epoch 30/100\n",
      "\n",
      "Epoch 30: val_loss improved from 0.39891 to 0.38263, saving model to repo/EEG-Image-Research/tmp/checkpoint7_0_4.h5\n"
     ]
    },
    {
     "name": "stderr",
     "output_type": "stream",
     "text": [
      "WARNING:absl:You are saving your model as an HDF5 file via `model.save()` or `keras.saving.save_model(model)`. This file format is considered legacy. We recommend using instead the native Keras format, e.g. `model.save('my_model.keras')` or `keras.saving.save_model(model, 'my_model.keras')`. \n"
     ]
    },
    {
     "name": "stdout",
     "output_type": "stream",
     "text": [
      "14/14 - 1s - 89ms/step - accuracy: 1.0000 - loss: 0.0140 - val_accuracy: 1.0000 - val_loss: 0.3826\n",
      "Epoch 31/100\n",
      "\n",
      "Epoch 31: val_loss improved from 0.38263 to 0.36708, saving model to repo/EEG-Image-Research/tmp/checkpoint7_0_4.h5\n"
     ]
    },
    {
     "name": "stderr",
     "output_type": "stream",
     "text": [
      "WARNING:absl:You are saving your model as an HDF5 file via `model.save()` or `keras.saving.save_model(model)`. This file format is considered legacy. We recommend using instead the native Keras format, e.g. `model.save('my_model.keras')` or `keras.saving.save_model(model, 'my_model.keras')`. \n"
     ]
    },
    {
     "name": "stdout",
     "output_type": "stream",
     "text": [
      "14/14 - 1s - 86ms/step - accuracy: 1.0000 - loss: 0.0142 - val_accuracy: 1.0000 - val_loss: 0.3671\n",
      "Epoch 32/100\n",
      "\n",
      "Epoch 32: val_loss improved from 0.36708 to 0.35344, saving model to repo/EEG-Image-Research/tmp/checkpoint7_0_4.h5\n"
     ]
    },
    {
     "name": "stderr",
     "output_type": "stream",
     "text": [
      "WARNING:absl:You are saving your model as an HDF5 file via `model.save()` or `keras.saving.save_model(model)`. This file format is considered legacy. We recommend using instead the native Keras format, e.g. `model.save('my_model.keras')` or `keras.saving.save_model(model, 'my_model.keras')`. \n"
     ]
    },
    {
     "name": "stdout",
     "output_type": "stream",
     "text": [
      "14/14 - 1s - 87ms/step - accuracy: 1.0000 - loss: 0.0134 - val_accuracy: 1.0000 - val_loss: 0.3534\n",
      "Epoch 33/100\n",
      "\n",
      "Epoch 33: val_loss improved from 0.35344 to 0.33824, saving model to repo/EEG-Image-Research/tmp/checkpoint7_0_4.h5\n"
     ]
    },
    {
     "name": "stderr",
     "output_type": "stream",
     "text": [
      "WARNING:absl:You are saving your model as an HDF5 file via `model.save()` or `keras.saving.save_model(model)`. This file format is considered legacy. We recommend using instead the native Keras format, e.g. `model.save('my_model.keras')` or `keras.saving.save_model(model, 'my_model.keras')`. \n"
     ]
    },
    {
     "name": "stdout",
     "output_type": "stream",
     "text": [
      "14/14 - 1s - 88ms/step - accuracy: 1.0000 - loss: 0.0136 - val_accuracy: 1.0000 - val_loss: 0.3382\n",
      "Epoch 34/100\n",
      "\n",
      "Epoch 34: val_loss improved from 0.33824 to 0.32373, saving model to repo/EEG-Image-Research/tmp/checkpoint7_0_4.h5\n"
     ]
    },
    {
     "name": "stderr",
     "output_type": "stream",
     "text": [
      "WARNING:absl:You are saving your model as an HDF5 file via `model.save()` or `keras.saving.save_model(model)`. This file format is considered legacy. We recommend using instead the native Keras format, e.g. `model.save('my_model.keras')` or `keras.saving.save_model(model, 'my_model.keras')`. \n"
     ]
    },
    {
     "name": "stdout",
     "output_type": "stream",
     "text": [
      "14/14 - 1s - 87ms/step - accuracy: 1.0000 - loss: 0.0136 - val_accuracy: 1.0000 - val_loss: 0.3237\n",
      "Epoch 35/100\n",
      "\n",
      "Epoch 35: val_loss improved from 0.32373 to 0.30909, saving model to repo/EEG-Image-Research/tmp/checkpoint7_0_4.h5\n"
     ]
    },
    {
     "name": "stderr",
     "output_type": "stream",
     "text": [
      "WARNING:absl:You are saving your model as an HDF5 file via `model.save()` or `keras.saving.save_model(model)`. This file format is considered legacy. We recommend using instead the native Keras format, e.g. `model.save('my_model.keras')` or `keras.saving.save_model(model, 'my_model.keras')`. \n"
     ]
    },
    {
     "name": "stdout",
     "output_type": "stream",
     "text": [
      "14/14 - 1s - 86ms/step - accuracy: 1.0000 - loss: 0.0131 - val_accuracy: 1.0000 - val_loss: 0.3091\n",
      "Epoch 36/100\n",
      "\n",
      "Epoch 36: val_loss improved from 0.30909 to 0.29638, saving model to repo/EEG-Image-Research/tmp/checkpoint7_0_4.h5\n"
     ]
    },
    {
     "name": "stderr",
     "output_type": "stream",
     "text": [
      "WARNING:absl:You are saving your model as an HDF5 file via `model.save()` or `keras.saving.save_model(model)`. This file format is considered legacy. We recommend using instead the native Keras format, e.g. `model.save('my_model.keras')` or `keras.saving.save_model(model, 'my_model.keras')`. \n"
     ]
    },
    {
     "name": "stdout",
     "output_type": "stream",
     "text": [
      "14/14 - 1s - 88ms/step - accuracy: 1.0000 - loss: 0.0132 - val_accuracy: 1.0000 - val_loss: 0.2964\n",
      "Epoch 37/100\n",
      "\n",
      "Epoch 37: val_loss improved from 0.29638 to 0.28163, saving model to repo/EEG-Image-Research/tmp/checkpoint7_0_4.h5\n"
     ]
    },
    {
     "name": "stderr",
     "output_type": "stream",
     "text": [
      "WARNING:absl:You are saving your model as an HDF5 file via `model.save()` or `keras.saving.save_model(model)`. This file format is considered legacy. We recommend using instead the native Keras format, e.g. `model.save('my_model.keras')` or `keras.saving.save_model(model, 'my_model.keras')`. \n"
     ]
    },
    {
     "name": "stdout",
     "output_type": "stream",
     "text": [
      "14/14 - 1s - 89ms/step - accuracy: 1.0000 - loss: 0.0131 - val_accuracy: 1.0000 - val_loss: 0.2816\n",
      "Epoch 38/100\n",
      "\n",
      "Epoch 38: val_loss improved from 0.28163 to 0.26515, saving model to repo/EEG-Image-Research/tmp/checkpoint7_0_4.h5\n"
     ]
    },
    {
     "name": "stderr",
     "output_type": "stream",
     "text": [
      "WARNING:absl:You are saving your model as an HDF5 file via `model.save()` or `keras.saving.save_model(model)`. This file format is considered legacy. We recommend using instead the native Keras format, e.g. `model.save('my_model.keras')` or `keras.saving.save_model(model, 'my_model.keras')`. \n"
     ]
    },
    {
     "name": "stdout",
     "output_type": "stream",
     "text": [
      "14/14 - 1s - 88ms/step - accuracy: 1.0000 - loss: 0.0147 - val_accuracy: 1.0000 - val_loss: 0.2651\n",
      "Epoch 39/100\n",
      "\n",
      "Epoch 39: val_loss improved from 0.26515 to 0.25034, saving model to repo/EEG-Image-Research/tmp/checkpoint7_0_4.h5\n"
     ]
    },
    {
     "name": "stderr",
     "output_type": "stream",
     "text": [
      "WARNING:absl:You are saving your model as an HDF5 file via `model.save()` or `keras.saving.save_model(model)`. This file format is considered legacy. We recommend using instead the native Keras format, e.g. `model.save('my_model.keras')` or `keras.saving.save_model(model, 'my_model.keras')`. \n"
     ]
    },
    {
     "name": "stdout",
     "output_type": "stream",
     "text": [
      "14/14 - 1s - 90ms/step - accuracy: 1.0000 - loss: 0.0134 - val_accuracy: 1.0000 - val_loss: 0.2503\n",
      "Epoch 40/100\n",
      "\n",
      "Epoch 40: val_loss improved from 0.25034 to 0.23503, saving model to repo/EEG-Image-Research/tmp/checkpoint7_0_4.h5\n"
     ]
    },
    {
     "name": "stderr",
     "output_type": "stream",
     "text": [
      "WARNING:absl:You are saving your model as an HDF5 file via `model.save()` or `keras.saving.save_model(model)`. This file format is considered legacy. We recommend using instead the native Keras format, e.g. `model.save('my_model.keras')` or `keras.saving.save_model(model, 'my_model.keras')`. \n"
     ]
    },
    {
     "name": "stdout",
     "output_type": "stream",
     "text": [
      "14/14 - 1s - 90ms/step - accuracy: 1.0000 - loss: 0.0134 - val_accuracy: 1.0000 - val_loss: 0.2350\n",
      "Epoch 41/100\n",
      "\n",
      "Epoch 41: val_loss improved from 0.23503 to 0.22205, saving model to repo/EEG-Image-Research/tmp/checkpoint7_0_4.h5\n"
     ]
    },
    {
     "name": "stderr",
     "output_type": "stream",
     "text": [
      "WARNING:absl:You are saving your model as an HDF5 file via `model.save()` or `keras.saving.save_model(model)`. This file format is considered legacy. We recommend using instead the native Keras format, e.g. `model.save('my_model.keras')` or `keras.saving.save_model(model, 'my_model.keras')`. \n"
     ]
    },
    {
     "name": "stdout",
     "output_type": "stream",
     "text": [
      "14/14 - 1s - 86ms/step - accuracy: 1.0000 - loss: 0.0132 - val_accuracy: 1.0000 - val_loss: 0.2220\n",
      "Epoch 42/100\n",
      "\n",
      "Epoch 42: val_loss improved from 0.22205 to 0.20812, saving model to repo/EEG-Image-Research/tmp/checkpoint7_0_4.h5\n"
     ]
    },
    {
     "name": "stderr",
     "output_type": "stream",
     "text": [
      "WARNING:absl:You are saving your model as an HDF5 file via `model.save()` or `keras.saving.save_model(model)`. This file format is considered legacy. We recommend using instead the native Keras format, e.g. `model.save('my_model.keras')` or `keras.saving.save_model(model, 'my_model.keras')`. \n"
     ]
    },
    {
     "name": "stdout",
     "output_type": "stream",
     "text": [
      "14/14 - 1s - 89ms/step - accuracy: 1.0000 - loss: 0.0132 - val_accuracy: 1.0000 - val_loss: 0.2081\n",
      "Epoch 43/100\n",
      "\n",
      "Epoch 43: val_loss improved from 0.20812 to 0.19524, saving model to repo/EEG-Image-Research/tmp/checkpoint7_0_4.h5\n"
     ]
    },
    {
     "name": "stderr",
     "output_type": "stream",
     "text": [
      "WARNING:absl:You are saving your model as an HDF5 file via `model.save()` or `keras.saving.save_model(model)`. This file format is considered legacy. We recommend using instead the native Keras format, e.g. `model.save('my_model.keras')` or `keras.saving.save_model(model, 'my_model.keras')`. \n"
     ]
    },
    {
     "name": "stdout",
     "output_type": "stream",
     "text": [
      "14/14 - 1s - 84ms/step - accuracy: 1.0000 - loss: 0.0130 - val_accuracy: 1.0000 - val_loss: 0.1952\n",
      "Epoch 44/100\n",
      "\n",
      "Epoch 44: val_loss improved from 0.19524 to 0.18524, saving model to repo/EEG-Image-Research/tmp/checkpoint7_0_4.h5\n"
     ]
    },
    {
     "name": "stderr",
     "output_type": "stream",
     "text": [
      "WARNING:absl:You are saving your model as an HDF5 file via `model.save()` or `keras.saving.save_model(model)`. This file format is considered legacy. We recommend using instead the native Keras format, e.g. `model.save('my_model.keras')` or `keras.saving.save_model(model, 'my_model.keras')`. \n"
     ]
    },
    {
     "name": "stdout",
     "output_type": "stream",
     "text": [
      "14/14 - 1s - 84ms/step - accuracy: 1.0000 - loss: 0.0131 - val_accuracy: 1.0000 - val_loss: 0.1852\n",
      "Epoch 45/100\n",
      "\n",
      "Epoch 45: val_loss improved from 0.18524 to 0.17445, saving model to repo/EEG-Image-Research/tmp/checkpoint7_0_4.h5\n"
     ]
    },
    {
     "name": "stderr",
     "output_type": "stream",
     "text": [
      "WARNING:absl:You are saving your model as an HDF5 file via `model.save()` or `keras.saving.save_model(model)`. This file format is considered legacy. We recommend using instead the native Keras format, e.g. `model.save('my_model.keras')` or `keras.saving.save_model(model, 'my_model.keras')`. \n"
     ]
    },
    {
     "name": "stdout",
     "output_type": "stream",
     "text": [
      "14/14 - 1s - 87ms/step - accuracy: 1.0000 - loss: 0.0132 - val_accuracy: 1.0000 - val_loss: 0.1745\n",
      "Epoch 46/100\n",
      "\n",
      "Epoch 46: val_loss improved from 0.17445 to 0.16493, saving model to repo/EEG-Image-Research/tmp/checkpoint7_0_4.h5\n"
     ]
    },
    {
     "name": "stderr",
     "output_type": "stream",
     "text": [
      "WARNING:absl:You are saving your model as an HDF5 file via `model.save()` or `keras.saving.save_model(model)`. This file format is considered legacy. We recommend using instead the native Keras format, e.g. `model.save('my_model.keras')` or `keras.saving.save_model(model, 'my_model.keras')`. \n"
     ]
    },
    {
     "name": "stdout",
     "output_type": "stream",
     "text": [
      "14/14 - 1s - 87ms/step - accuracy: 1.0000 - loss: 0.0128 - val_accuracy: 1.0000 - val_loss: 0.1649\n",
      "Epoch 47/100\n",
      "\n",
      "Epoch 47: val_loss improved from 0.16493 to 0.15508, saving model to repo/EEG-Image-Research/tmp/checkpoint7_0_4.h5\n"
     ]
    },
    {
     "name": "stderr",
     "output_type": "stream",
     "text": [
      "WARNING:absl:You are saving your model as an HDF5 file via `model.save()` or `keras.saving.save_model(model)`. This file format is considered legacy. We recommend using instead the native Keras format, e.g. `model.save('my_model.keras')` or `keras.saving.save_model(model, 'my_model.keras')`. \n"
     ]
    },
    {
     "name": "stdout",
     "output_type": "stream",
     "text": [
      "14/14 - 1s - 86ms/step - accuracy: 1.0000 - loss: 0.0132 - val_accuracy: 1.0000 - val_loss: 0.1551\n",
      "Epoch 48/100\n",
      "\n",
      "Epoch 48: val_loss improved from 0.15508 to 0.14717, saving model to repo/EEG-Image-Research/tmp/checkpoint7_0_4.h5\n"
     ]
    },
    {
     "name": "stderr",
     "output_type": "stream",
     "text": [
      "WARNING:absl:You are saving your model as an HDF5 file via `model.save()` or `keras.saving.save_model(model)`. This file format is considered legacy. We recommend using instead the native Keras format, e.g. `model.save('my_model.keras')` or `keras.saving.save_model(model, 'my_model.keras')`. \n"
     ]
    },
    {
     "name": "stdout",
     "output_type": "stream",
     "text": [
      "14/14 - 1s - 87ms/step - accuracy: 1.0000 - loss: 0.0129 - val_accuracy: 1.0000 - val_loss: 0.1472\n",
      "Epoch 49/100\n",
      "\n",
      "Epoch 49: val_loss improved from 0.14717 to 0.14076, saving model to repo/EEG-Image-Research/tmp/checkpoint7_0_4.h5\n"
     ]
    },
    {
     "name": "stderr",
     "output_type": "stream",
     "text": [
      "WARNING:absl:You are saving your model as an HDF5 file via `model.save()` or `keras.saving.save_model(model)`. This file format is considered legacy. We recommend using instead the native Keras format, e.g. `model.save('my_model.keras')` or `keras.saving.save_model(model, 'my_model.keras')`. \n"
     ]
    },
    {
     "name": "stdout",
     "output_type": "stream",
     "text": [
      "14/14 - 1s - 88ms/step - accuracy: 1.0000 - loss: 0.0131 - val_accuracy: 1.0000 - val_loss: 0.1408\n",
      "Epoch 50/100\n",
      "\n",
      "Epoch 50: val_loss improved from 0.14076 to 0.13468, saving model to repo/EEG-Image-Research/tmp/checkpoint7_0_4.h5\n"
     ]
    },
    {
     "name": "stderr",
     "output_type": "stream",
     "text": [
      "WARNING:absl:You are saving your model as an HDF5 file via `model.save()` or `keras.saving.save_model(model)`. This file format is considered legacy. We recommend using instead the native Keras format, e.g. `model.save('my_model.keras')` or `keras.saving.save_model(model, 'my_model.keras')`. \n"
     ]
    },
    {
     "name": "stdout",
     "output_type": "stream",
     "text": [
      "14/14 - 1s - 86ms/step - accuracy: 1.0000 - loss: 0.0127 - val_accuracy: 1.0000 - val_loss: 0.1347\n",
      "Epoch 51/100\n",
      "\n",
      "Epoch 51: val_loss improved from 0.13468 to 0.12952, saving model to repo/EEG-Image-Research/tmp/checkpoint7_0_4.h5\n"
     ]
    },
    {
     "name": "stderr",
     "output_type": "stream",
     "text": [
      "WARNING:absl:You are saving your model as an HDF5 file via `model.save()` or `keras.saving.save_model(model)`. This file format is considered legacy. We recommend using instead the native Keras format, e.g. `model.save('my_model.keras')` or `keras.saving.save_model(model, 'my_model.keras')`. \n"
     ]
    },
    {
     "name": "stdout",
     "output_type": "stream",
     "text": [
      "14/14 - 1s - 93ms/step - accuracy: 1.0000 - loss: 0.0127 - val_accuracy: 1.0000 - val_loss: 0.1295\n",
      "Epoch 52/100\n",
      "\n",
      "Epoch 52: val_loss improved from 0.12952 to 0.12506, saving model to repo/EEG-Image-Research/tmp/checkpoint7_0_4.h5\n"
     ]
    },
    {
     "name": "stderr",
     "output_type": "stream",
     "text": [
      "WARNING:absl:You are saving your model as an HDF5 file via `model.save()` or `keras.saving.save_model(model)`. This file format is considered legacy. We recommend using instead the native Keras format, e.g. `model.save('my_model.keras')` or `keras.saving.save_model(model, 'my_model.keras')`. \n"
     ]
    },
    {
     "name": "stdout",
     "output_type": "stream",
     "text": [
      "14/14 - 1s - 85ms/step - accuracy: 1.0000 - loss: 0.0126 - val_accuracy: 1.0000 - val_loss: 0.1251\n",
      "Epoch 53/100\n",
      "\n",
      "Epoch 53: val_loss improved from 0.12506 to 0.12115, saving model to repo/EEG-Image-Research/tmp/checkpoint7_0_4.h5\n"
     ]
    },
    {
     "name": "stderr",
     "output_type": "stream",
     "text": [
      "WARNING:absl:You are saving your model as an HDF5 file via `model.save()` or `keras.saving.save_model(model)`. This file format is considered legacy. We recommend using instead the native Keras format, e.g. `model.save('my_model.keras')` or `keras.saving.save_model(model, 'my_model.keras')`. \n"
     ]
    },
    {
     "name": "stdout",
     "output_type": "stream",
     "text": [
      "14/14 - 1s - 89ms/step - accuracy: 1.0000 - loss: 0.0127 - val_accuracy: 1.0000 - val_loss: 0.1211\n",
      "Epoch 54/100\n",
      "\n",
      "Epoch 54: val_loss improved from 0.12115 to 0.11724, saving model to repo/EEG-Image-Research/tmp/checkpoint7_0_4.h5\n"
     ]
    },
    {
     "name": "stderr",
     "output_type": "stream",
     "text": [
      "WARNING:absl:You are saving your model as an HDF5 file via `model.save()` or `keras.saving.save_model(model)`. This file format is considered legacy. We recommend using instead the native Keras format, e.g. `model.save('my_model.keras')` or `keras.saving.save_model(model, 'my_model.keras')`. \n"
     ]
    },
    {
     "name": "stdout",
     "output_type": "stream",
     "text": [
      "14/14 - 1s - 88ms/step - accuracy: 1.0000 - loss: 0.0125 - val_accuracy: 1.0000 - val_loss: 0.1172\n",
      "Epoch 55/100\n",
      "\n",
      "Epoch 55: val_loss improved from 0.11724 to 0.11299, saving model to repo/EEG-Image-Research/tmp/checkpoint7_0_4.h5\n"
     ]
    },
    {
     "name": "stderr",
     "output_type": "stream",
     "text": [
      "WARNING:absl:You are saving your model as an HDF5 file via `model.save()` or `keras.saving.save_model(model)`. This file format is considered legacy. We recommend using instead the native Keras format, e.g. `model.save('my_model.keras')` or `keras.saving.save_model(model, 'my_model.keras')`. \n"
     ]
    },
    {
     "name": "stdout",
     "output_type": "stream",
     "text": [
      "14/14 - 1s - 86ms/step - accuracy: 1.0000 - loss: 0.0127 - val_accuracy: 1.0000 - val_loss: 0.1130\n",
      "Epoch 56/100\n",
      "\n",
      "Epoch 56: val_loss improved from 0.11299 to 0.10870, saving model to repo/EEG-Image-Research/tmp/checkpoint7_0_4.h5\n"
     ]
    },
    {
     "name": "stderr",
     "output_type": "stream",
     "text": [
      "WARNING:absl:You are saving your model as an HDF5 file via `model.save()` or `keras.saving.save_model(model)`. This file format is considered legacy. We recommend using instead the native Keras format, e.g. `model.save('my_model.keras')` or `keras.saving.save_model(model, 'my_model.keras')`. \n"
     ]
    },
    {
     "name": "stdout",
     "output_type": "stream",
     "text": [
      "14/14 - 1s - 84ms/step - accuracy: 1.0000 - loss: 0.0125 - val_accuracy: 1.0000 - val_loss: 0.1087\n",
      "Epoch 57/100\n",
      "\n",
      "Epoch 57: val_loss improved from 0.10870 to 0.10501, saving model to repo/EEG-Image-Research/tmp/checkpoint7_0_4.h5\n"
     ]
    },
    {
     "name": "stderr",
     "output_type": "stream",
     "text": [
      "WARNING:absl:You are saving your model as an HDF5 file via `model.save()` or `keras.saving.save_model(model)`. This file format is considered legacy. We recommend using instead the native Keras format, e.g. `model.save('my_model.keras')` or `keras.saving.save_model(model, 'my_model.keras')`. \n"
     ]
    },
    {
     "name": "stdout",
     "output_type": "stream",
     "text": [
      "14/14 - 1s - 87ms/step - accuracy: 1.0000 - loss: 0.0127 - val_accuracy: 1.0000 - val_loss: 0.1050\n",
      "Epoch 58/100\n",
      "\n",
      "Epoch 58: val_loss improved from 0.10501 to 0.10115, saving model to repo/EEG-Image-Research/tmp/checkpoint7_0_4.h5\n"
     ]
    },
    {
     "name": "stderr",
     "output_type": "stream",
     "text": [
      "WARNING:absl:You are saving your model as an HDF5 file via `model.save()` or `keras.saving.save_model(model)`. This file format is considered legacy. We recommend using instead the native Keras format, e.g. `model.save('my_model.keras')` or `keras.saving.save_model(model, 'my_model.keras')`. \n"
     ]
    },
    {
     "name": "stdout",
     "output_type": "stream",
     "text": [
      "14/14 - 1s - 88ms/step - accuracy: 1.0000 - loss: 0.0125 - val_accuracy: 1.0000 - val_loss: 0.1011\n",
      "Epoch 59/100\n",
      "\n",
      "Epoch 59: val_loss improved from 0.10115 to 0.09813, saving model to repo/EEG-Image-Research/tmp/checkpoint7_0_4.h5\n"
     ]
    },
    {
     "name": "stderr",
     "output_type": "stream",
     "text": [
      "WARNING:absl:You are saving your model as an HDF5 file via `model.save()` or `keras.saving.save_model(model)`. This file format is considered legacy. We recommend using instead the native Keras format, e.g. `model.save('my_model.keras')` or `keras.saving.save_model(model, 'my_model.keras')`. \n"
     ]
    },
    {
     "name": "stdout",
     "output_type": "stream",
     "text": [
      "14/14 - 1s - 93ms/step - accuracy: 1.0000 - loss: 0.0123 - val_accuracy: 1.0000 - val_loss: 0.0981\n",
      "Epoch 60/100\n",
      "\n",
      "Epoch 60: val_loss improved from 0.09813 to 0.09603, saving model to repo/EEG-Image-Research/tmp/checkpoint7_0_4.h5\n"
     ]
    },
    {
     "name": "stderr",
     "output_type": "stream",
     "text": [
      "WARNING:absl:You are saving your model as an HDF5 file via `model.save()` or `keras.saving.save_model(model)`. This file format is considered legacy. We recommend using instead the native Keras format, e.g. `model.save('my_model.keras')` or `keras.saving.save_model(model, 'my_model.keras')`. \n"
     ]
    },
    {
     "name": "stdout",
     "output_type": "stream",
     "text": [
      "14/14 - 1s - 87ms/step - accuracy: 1.0000 - loss: 0.0124 - val_accuracy: 1.0000 - val_loss: 0.0960\n",
      "Epoch 61/100\n",
      "\n",
      "Epoch 61: val_loss improved from 0.09603 to 0.09421, saving model to repo/EEG-Image-Research/tmp/checkpoint7_0_4.h5\n"
     ]
    },
    {
     "name": "stderr",
     "output_type": "stream",
     "text": [
      "WARNING:absl:You are saving your model as an HDF5 file via `model.save()` or `keras.saving.save_model(model)`. This file format is considered legacy. We recommend using instead the native Keras format, e.g. `model.save('my_model.keras')` or `keras.saving.save_model(model, 'my_model.keras')`. \n"
     ]
    },
    {
     "name": "stdout",
     "output_type": "stream",
     "text": [
      "14/14 - 1s - 88ms/step - accuracy: 1.0000 - loss: 0.0122 - val_accuracy: 1.0000 - val_loss: 0.0942\n",
      "Epoch 62/100\n",
      "\n",
      "Epoch 62: val_loss improved from 0.09421 to 0.09269, saving model to repo/EEG-Image-Research/tmp/checkpoint7_0_4.h5\n"
     ]
    },
    {
     "name": "stderr",
     "output_type": "stream",
     "text": [
      "WARNING:absl:You are saving your model as an HDF5 file via `model.save()` or `keras.saving.save_model(model)`. This file format is considered legacy. We recommend using instead the native Keras format, e.g. `model.save('my_model.keras')` or `keras.saving.save_model(model, 'my_model.keras')`. \n"
     ]
    },
    {
     "name": "stdout",
     "output_type": "stream",
     "text": [
      "14/14 - 1s - 81ms/step - accuracy: 1.0000 - loss: 0.0122 - val_accuracy: 1.0000 - val_loss: 0.0927\n",
      "Epoch 63/100\n",
      "\n",
      "Epoch 63: val_loss improved from 0.09269 to 0.09206, saving model to repo/EEG-Image-Research/tmp/checkpoint7_0_4.h5\n"
     ]
    },
    {
     "name": "stderr",
     "output_type": "stream",
     "text": [
      "WARNING:absl:You are saving your model as an HDF5 file via `model.save()` or `keras.saving.save_model(model)`. This file format is considered legacy. We recommend using instead the native Keras format, e.g. `model.save('my_model.keras')` or `keras.saving.save_model(model, 'my_model.keras')`. \n"
     ]
    },
    {
     "name": "stdout",
     "output_type": "stream",
     "text": [
      "14/14 - 1s - 87ms/step - accuracy: 1.0000 - loss: 0.0123 - val_accuracy: 1.0000 - val_loss: 0.0921\n",
      "Epoch 64/100\n",
      "\n",
      "Epoch 64: val_loss improved from 0.09206 to 0.09139, saving model to repo/EEG-Image-Research/tmp/checkpoint7_0_4.h5\n"
     ]
    },
    {
     "name": "stderr",
     "output_type": "stream",
     "text": [
      "WARNING:absl:You are saving your model as an HDF5 file via `model.save()` or `keras.saving.save_model(model)`. This file format is considered legacy. We recommend using instead the native Keras format, e.g. `model.save('my_model.keras')` or `keras.saving.save_model(model, 'my_model.keras')`. \n"
     ]
    },
    {
     "name": "stdout",
     "output_type": "stream",
     "text": [
      "14/14 - 1s - 89ms/step - accuracy: 1.0000 - loss: 0.0122 - val_accuracy: 1.0000 - val_loss: 0.0914\n",
      "Epoch 65/100\n",
      "\n",
      "Epoch 65: val_loss improved from 0.09139 to 0.09037, saving model to repo/EEG-Image-Research/tmp/checkpoint7_0_4.h5\n"
     ]
    },
    {
     "name": "stderr",
     "output_type": "stream",
     "text": [
      "WARNING:absl:You are saving your model as an HDF5 file via `model.save()` or `keras.saving.save_model(model)`. This file format is considered legacy. We recommend using instead the native Keras format, e.g. `model.save('my_model.keras')` or `keras.saving.save_model(model, 'my_model.keras')`. \n"
     ]
    },
    {
     "name": "stdout",
     "output_type": "stream",
     "text": [
      "14/14 - 1s - 86ms/step - accuracy: 1.0000 - loss: 0.0121 - val_accuracy: 1.0000 - val_loss: 0.0904\n",
      "Epoch 66/100\n",
      "\n",
      "Epoch 66: val_loss improved from 0.09037 to 0.08916, saving model to repo/EEG-Image-Research/tmp/checkpoint7_0_4.h5\n"
     ]
    },
    {
     "name": "stderr",
     "output_type": "stream",
     "text": [
      "WARNING:absl:You are saving your model as an HDF5 file via `model.save()` or `keras.saving.save_model(model)`. This file format is considered legacy. We recommend using instead the native Keras format, e.g. `model.save('my_model.keras')` or `keras.saving.save_model(model, 'my_model.keras')`. \n"
     ]
    },
    {
     "name": "stdout",
     "output_type": "stream",
     "text": [
      "14/14 - 1s - 83ms/step - accuracy: 1.0000 - loss: 0.0121 - val_accuracy: 1.0000 - val_loss: 0.0892\n",
      "Epoch 67/100\n",
      "\n",
      "Epoch 67: val_loss improved from 0.08916 to 0.08803, saving model to repo/EEG-Image-Research/tmp/checkpoint7_0_4.h5\n"
     ]
    },
    {
     "name": "stderr",
     "output_type": "stream",
     "text": [
      "WARNING:absl:You are saving your model as an HDF5 file via `model.save()` or `keras.saving.save_model(model)`. This file format is considered legacy. We recommend using instead the native Keras format, e.g. `model.save('my_model.keras')` or `keras.saving.save_model(model, 'my_model.keras')`. \n"
     ]
    },
    {
     "name": "stdout",
     "output_type": "stream",
     "text": [
      "14/14 - 1s - 89ms/step - accuracy: 1.0000 - loss: 0.0129 - val_accuracy: 1.0000 - val_loss: 0.0880\n",
      "Epoch 68/100\n",
      "\n",
      "Epoch 68: val_loss improved from 0.08803 to 0.08747, saving model to repo/EEG-Image-Research/tmp/checkpoint7_0_4.h5\n"
     ]
    },
    {
     "name": "stderr",
     "output_type": "stream",
     "text": [
      "WARNING:absl:You are saving your model as an HDF5 file via `model.save()` or `keras.saving.save_model(model)`. This file format is considered legacy. We recommend using instead the native Keras format, e.g. `model.save('my_model.keras')` or `keras.saving.save_model(model, 'my_model.keras')`. \n"
     ]
    },
    {
     "name": "stdout",
     "output_type": "stream",
     "text": [
      "14/14 - 1s - 84ms/step - accuracy: 1.0000 - loss: 0.0121 - val_accuracy: 1.0000 - val_loss: 0.0875\n",
      "Epoch 69/100\n",
      "\n",
      "Epoch 69: val_loss improved from 0.08747 to 0.08736, saving model to repo/EEG-Image-Research/tmp/checkpoint7_0_4.h5\n"
     ]
    },
    {
     "name": "stderr",
     "output_type": "stream",
     "text": [
      "WARNING:absl:You are saving your model as an HDF5 file via `model.save()` or `keras.saving.save_model(model)`. This file format is considered legacy. We recommend using instead the native Keras format, e.g. `model.save('my_model.keras')` or `keras.saving.save_model(model, 'my_model.keras')`. \n"
     ]
    },
    {
     "name": "stdout",
     "output_type": "stream",
     "text": [
      "14/14 - 1s - 87ms/step - accuracy: 1.0000 - loss: 0.0122 - val_accuracy: 1.0000 - val_loss: 0.0874\n",
      "Epoch 70/100\n",
      "\n",
      "Epoch 70: val_loss improved from 0.08736 to 0.08720, saving model to repo/EEG-Image-Research/tmp/checkpoint7_0_4.h5\n"
     ]
    },
    {
     "name": "stderr",
     "output_type": "stream",
     "text": [
      "WARNING:absl:You are saving your model as an HDF5 file via `model.save()` or `keras.saving.save_model(model)`. This file format is considered legacy. We recommend using instead the native Keras format, e.g. `model.save('my_model.keras')` or `keras.saving.save_model(model, 'my_model.keras')`. \n"
     ]
    },
    {
     "name": "stdout",
     "output_type": "stream",
     "text": [
      "14/14 - 1s - 91ms/step - accuracy: 1.0000 - loss: 0.0120 - val_accuracy: 1.0000 - val_loss: 0.0872\n",
      "Epoch 71/100\n",
      "\n",
      "Epoch 71: val_loss improved from 0.08720 to 0.08637, saving model to repo/EEG-Image-Research/tmp/checkpoint7_0_4.h5\n"
     ]
    },
    {
     "name": "stderr",
     "output_type": "stream",
     "text": [
      "WARNING:absl:You are saving your model as an HDF5 file via `model.save()` or `keras.saving.save_model(model)`. This file format is considered legacy. We recommend using instead the native Keras format, e.g. `model.save('my_model.keras')` or `keras.saving.save_model(model, 'my_model.keras')`. \n"
     ]
    },
    {
     "name": "stdout",
     "output_type": "stream",
     "text": [
      "14/14 - 1s - 88ms/step - accuracy: 1.0000 - loss: 0.0120 - val_accuracy: 1.0000 - val_loss: 0.0864\n",
      "Epoch 72/100\n",
      "\n",
      "Epoch 72: val_loss improved from 0.08637 to 0.08613, saving model to repo/EEG-Image-Research/tmp/checkpoint7_0_4.h5\n"
     ]
    },
    {
     "name": "stderr",
     "output_type": "stream",
     "text": [
      "WARNING:absl:You are saving your model as an HDF5 file via `model.save()` or `keras.saving.save_model(model)`. This file format is considered legacy. We recommend using instead the native Keras format, e.g. `model.save('my_model.keras')` or `keras.saving.save_model(model, 'my_model.keras')`. \n"
     ]
    },
    {
     "name": "stdout",
     "output_type": "stream",
     "text": [
      "14/14 - 1s - 87ms/step - accuracy: 1.0000 - loss: 0.0119 - val_accuracy: 1.0000 - val_loss: 0.0861\n",
      "Epoch 73/100\n",
      "\n",
      "Epoch 73: val_loss improved from 0.08613 to 0.08558, saving model to repo/EEG-Image-Research/tmp/checkpoint7_0_4.h5\n"
     ]
    },
    {
     "name": "stderr",
     "output_type": "stream",
     "text": [
      "WARNING:absl:You are saving your model as an HDF5 file via `model.save()` or `keras.saving.save_model(model)`. This file format is considered legacy. We recommend using instead the native Keras format, e.g. `model.save('my_model.keras')` or `keras.saving.save_model(model, 'my_model.keras')`. \n"
     ]
    },
    {
     "name": "stdout",
     "output_type": "stream",
     "text": [
      "14/14 - 1s - 83ms/step - accuracy: 1.0000 - loss: 0.0119 - val_accuracy: 1.0000 - val_loss: 0.0856\n",
      "Epoch 74/100\n",
      "\n",
      "Epoch 74: val_loss improved from 0.08558 to 0.08516, saving model to repo/EEG-Image-Research/tmp/checkpoint7_0_4.h5\n"
     ]
    },
    {
     "name": "stderr",
     "output_type": "stream",
     "text": [
      "WARNING:absl:You are saving your model as an HDF5 file via `model.save()` or `keras.saving.save_model(model)`. This file format is considered legacy. We recommend using instead the native Keras format, e.g. `model.save('my_model.keras')` or `keras.saving.save_model(model, 'my_model.keras')`. \n"
     ]
    },
    {
     "name": "stdout",
     "output_type": "stream",
     "text": [
      "14/14 - 1s - 87ms/step - accuracy: 1.0000 - loss: 0.0118 - val_accuracy: 1.0000 - val_loss: 0.0852\n",
      "Epoch 75/100\n",
      "\n",
      "Epoch 75: val_loss improved from 0.08516 to 0.08482, saving model to repo/EEG-Image-Research/tmp/checkpoint7_0_4.h5\n"
     ]
    },
    {
     "name": "stderr",
     "output_type": "stream",
     "text": [
      "WARNING:absl:You are saving your model as an HDF5 file via `model.save()` or `keras.saving.save_model(model)`. This file format is considered legacy. We recommend using instead the native Keras format, e.g. `model.save('my_model.keras')` or `keras.saving.save_model(model, 'my_model.keras')`. \n"
     ]
    },
    {
     "name": "stdout",
     "output_type": "stream",
     "text": [
      "14/14 - 1s - 85ms/step - accuracy: 1.0000 - loss: 0.0118 - val_accuracy: 1.0000 - val_loss: 0.0848\n",
      "Epoch 76/100\n",
      "\n",
      "Epoch 76: val_loss improved from 0.08482 to 0.08449, saving model to repo/EEG-Image-Research/tmp/checkpoint7_0_4.h5\n"
     ]
    },
    {
     "name": "stderr",
     "output_type": "stream",
     "text": [
      "WARNING:absl:You are saving your model as an HDF5 file via `model.save()` or `keras.saving.save_model(model)`. This file format is considered legacy. We recommend using instead the native Keras format, e.g. `model.save('my_model.keras')` or `keras.saving.save_model(model, 'my_model.keras')`. \n"
     ]
    },
    {
     "name": "stdout",
     "output_type": "stream",
     "text": [
      "14/14 - 1s - 86ms/step - accuracy: 1.0000 - loss: 0.0117 - val_accuracy: 1.0000 - val_loss: 0.0845\n",
      "Epoch 77/100\n",
      "\n",
      "Epoch 77: val_loss improved from 0.08449 to 0.08391, saving model to repo/EEG-Image-Research/tmp/checkpoint7_0_4.h5\n"
     ]
    },
    {
     "name": "stderr",
     "output_type": "stream",
     "text": [
      "WARNING:absl:You are saving your model as an HDF5 file via `model.save()` or `keras.saving.save_model(model)`. This file format is considered legacy. We recommend using instead the native Keras format, e.g. `model.save('my_model.keras')` or `keras.saving.save_model(model, 'my_model.keras')`. \n"
     ]
    },
    {
     "name": "stdout",
     "output_type": "stream",
     "text": [
      "14/14 - 1s - 86ms/step - accuracy: 1.0000 - loss: 0.0120 - val_accuracy: 1.0000 - val_loss: 0.0839\n",
      "Epoch 78/100\n",
      "\n",
      "Epoch 78: val_loss improved from 0.08391 to 0.08352, saving model to repo/EEG-Image-Research/tmp/checkpoint7_0_4.h5\n"
     ]
    },
    {
     "name": "stderr",
     "output_type": "stream",
     "text": [
      "WARNING:absl:You are saving your model as an HDF5 file via `model.save()` or `keras.saving.save_model(model)`. This file format is considered legacy. We recommend using instead the native Keras format, e.g. `model.save('my_model.keras')` or `keras.saving.save_model(model, 'my_model.keras')`. \n"
     ]
    },
    {
     "name": "stdout",
     "output_type": "stream",
     "text": [
      "14/14 - 1s - 87ms/step - accuracy: 1.0000 - loss: 0.0117 - val_accuracy: 1.0000 - val_loss: 0.0835\n",
      "Epoch 79/100\n",
      "\n",
      "Epoch 79: val_loss did not improve from 0.08352\n",
      "14/14 - 1s - 86ms/step - accuracy: 1.0000 - loss: 0.0118 - val_accuracy: 1.0000 - val_loss: 0.0836\n",
      "Epoch 80/100\n",
      "\n",
      "Epoch 80: val_loss improved from 0.08352 to 0.08274, saving model to repo/EEG-Image-Research/tmp/checkpoint7_0_4.h5\n"
     ]
    },
    {
     "name": "stderr",
     "output_type": "stream",
     "text": [
      "WARNING:absl:You are saving your model as an HDF5 file via `model.save()` or `keras.saving.save_model(model)`. This file format is considered legacy. We recommend using instead the native Keras format, e.g. `model.save('my_model.keras')` or `keras.saving.save_model(model, 'my_model.keras')`. \n"
     ]
    },
    {
     "name": "stdout",
     "output_type": "stream",
     "text": [
      "14/14 - 1s - 90ms/step - accuracy: 1.0000 - loss: 0.0117 - val_accuracy: 1.0000 - val_loss: 0.0827\n",
      "Epoch 81/100\n",
      "\n",
      "Epoch 81: val_loss improved from 0.08274 to 0.08254, saving model to repo/EEG-Image-Research/tmp/checkpoint7_0_4.h5\n"
     ]
    },
    {
     "name": "stderr",
     "output_type": "stream",
     "text": [
      "WARNING:absl:You are saving your model as an HDF5 file via `model.save()` or `keras.saving.save_model(model)`. This file format is considered legacy. We recommend using instead the native Keras format, e.g. `model.save('my_model.keras')` or `keras.saving.save_model(model, 'my_model.keras')`. \n"
     ]
    },
    {
     "name": "stdout",
     "output_type": "stream",
     "text": [
      "14/14 - 1s - 87ms/step - accuracy: 1.0000 - loss: 0.0116 - val_accuracy: 1.0000 - val_loss: 0.0825\n",
      "Epoch 82/100\n",
      "\n",
      "Epoch 82: val_loss improved from 0.08254 to 0.08143, saving model to repo/EEG-Image-Research/tmp/checkpoint7_0_4.h5\n"
     ]
    },
    {
     "name": "stderr",
     "output_type": "stream",
     "text": [
      "WARNING:absl:You are saving your model as an HDF5 file via `model.save()` or `keras.saving.save_model(model)`. This file format is considered legacy. We recommend using instead the native Keras format, e.g. `model.save('my_model.keras')` or `keras.saving.save_model(model, 'my_model.keras')`. \n"
     ]
    },
    {
     "name": "stdout",
     "output_type": "stream",
     "text": [
      "14/14 - 1s - 90ms/step - accuracy: 1.0000 - loss: 0.0117 - val_accuracy: 1.0000 - val_loss: 0.0814\n",
      "Epoch 83/100\n",
      "\n",
      "Epoch 83: val_loss improved from 0.08143 to 0.08056, saving model to repo/EEG-Image-Research/tmp/checkpoint7_0_4.h5\n"
     ]
    },
    {
     "name": "stderr",
     "output_type": "stream",
     "text": [
      "WARNING:absl:You are saving your model as an HDF5 file via `model.save()` or `keras.saving.save_model(model)`. This file format is considered legacy. We recommend using instead the native Keras format, e.g. `model.save('my_model.keras')` or `keras.saving.save_model(model, 'my_model.keras')`. \n"
     ]
    },
    {
     "name": "stdout",
     "output_type": "stream",
     "text": [
      "14/14 - 1s - 91ms/step - accuracy: 1.0000 - loss: 0.0118 - val_accuracy: 1.0000 - val_loss: 0.0806\n",
      "Epoch 84/100\n",
      "\n",
      "Epoch 84: val_loss improved from 0.08056 to 0.08002, saving model to repo/EEG-Image-Research/tmp/checkpoint7_0_4.h5\n"
     ]
    },
    {
     "name": "stderr",
     "output_type": "stream",
     "text": [
      "WARNING:absl:You are saving your model as an HDF5 file via `model.save()` or `keras.saving.save_model(model)`. This file format is considered legacy. We recommend using instead the native Keras format, e.g. `model.save('my_model.keras')` or `keras.saving.save_model(model, 'my_model.keras')`. \n"
     ]
    },
    {
     "name": "stdout",
     "output_type": "stream",
     "text": [
      "14/14 - 1s - 87ms/step - accuracy: 1.0000 - loss: 0.0115 - val_accuracy: 1.0000 - val_loss: 0.0800\n",
      "Epoch 85/100\n",
      "\n",
      "Epoch 85: val_loss did not improve from 0.08002\n",
      "14/14 - 1s - 81ms/step - accuracy: 1.0000 - loss: 0.0114 - val_accuracy: 1.0000 - val_loss: 0.0803\n",
      "Epoch 86/100\n",
      "\n",
      "Epoch 86: val_loss improved from 0.08002 to 0.07991, saving model to repo/EEG-Image-Research/tmp/checkpoint7_0_4.h5\n"
     ]
    },
    {
     "name": "stderr",
     "output_type": "stream",
     "text": [
      "WARNING:absl:You are saving your model as an HDF5 file via `model.save()` or `keras.saving.save_model(model)`. This file format is considered legacy. We recommend using instead the native Keras format, e.g. `model.save('my_model.keras')` or `keras.saving.save_model(model, 'my_model.keras')`. \n"
     ]
    },
    {
     "name": "stdout",
     "output_type": "stream",
     "text": [
      "14/14 - 1s - 89ms/step - accuracy: 1.0000 - loss: 0.0116 - val_accuracy: 1.0000 - val_loss: 0.0799\n",
      "Epoch 87/100\n",
      "\n",
      "Epoch 87: val_loss improved from 0.07991 to 0.07920, saving model to repo/EEG-Image-Research/tmp/checkpoint7_0_4.h5\n"
     ]
    },
    {
     "name": "stderr",
     "output_type": "stream",
     "text": [
      "WARNING:absl:You are saving your model as an HDF5 file via `model.save()` or `keras.saving.save_model(model)`. This file format is considered legacy. We recommend using instead the native Keras format, e.g. `model.save('my_model.keras')` or `keras.saving.save_model(model, 'my_model.keras')`. \n"
     ]
    },
    {
     "name": "stdout",
     "output_type": "stream",
     "text": [
      "14/14 - 1s - 89ms/step - accuracy: 1.0000 - loss: 0.0114 - val_accuracy: 1.0000 - val_loss: 0.0792\n",
      "Epoch 88/100\n",
      "\n",
      "Epoch 88: val_loss improved from 0.07920 to 0.07900, saving model to repo/EEG-Image-Research/tmp/checkpoint7_0_4.h5\n"
     ]
    },
    {
     "name": "stderr",
     "output_type": "stream",
     "text": [
      "WARNING:absl:You are saving your model as an HDF5 file via `model.save()` or `keras.saving.save_model(model)`. This file format is considered legacy. We recommend using instead the native Keras format, e.g. `model.save('my_model.keras')` or `keras.saving.save_model(model, 'my_model.keras')`. \n"
     ]
    },
    {
     "name": "stdout",
     "output_type": "stream",
     "text": [
      "14/14 - 1s - 91ms/step - accuracy: 1.0000 - loss: 0.0113 - val_accuracy: 1.0000 - val_loss: 0.0790\n",
      "Epoch 89/100\n",
      "\n",
      "Epoch 89: val_loss did not improve from 0.07900\n",
      "14/14 - 1s - 81ms/step - accuracy: 1.0000 - loss: 0.0113 - val_accuracy: 1.0000 - val_loss: 0.0791\n",
      "Epoch 90/100\n",
      "\n",
      "Epoch 90: val_loss did not improve from 0.07900\n",
      "14/14 - 1s - 82ms/step - accuracy: 1.0000 - loss: 0.0114 - val_accuracy: 1.0000 - val_loss: 0.0795\n",
      "Epoch 91/100\n",
      "\n",
      "Epoch 91: val_loss did not improve from 0.07900\n",
      "14/14 - 1s - 90ms/step - accuracy: 1.0000 - loss: 0.0112 - val_accuracy: 1.0000 - val_loss: 0.0797\n",
      "Epoch 92/100\n",
      "\n",
      "Epoch 92: val_loss improved from 0.07900 to 0.07869, saving model to repo/EEG-Image-Research/tmp/checkpoint7_0_4.h5\n"
     ]
    },
    {
     "name": "stderr",
     "output_type": "stream",
     "text": [
      "WARNING:absl:You are saving your model as an HDF5 file via `model.save()` or `keras.saving.save_model(model)`. This file format is considered legacy. We recommend using instead the native Keras format, e.g. `model.save('my_model.keras')` or `keras.saving.save_model(model, 'my_model.keras')`. \n"
     ]
    },
    {
     "name": "stdout",
     "output_type": "stream",
     "text": [
      "14/14 - 1s - 88ms/step - accuracy: 1.0000 - loss: 0.0113 - val_accuracy: 1.0000 - val_loss: 0.0787\n",
      "Epoch 93/100\n",
      "\n",
      "Epoch 93: val_loss improved from 0.07869 to 0.07800, saving model to repo/EEG-Image-Research/tmp/checkpoint7_0_4.h5\n"
     ]
    },
    {
     "name": "stderr",
     "output_type": "stream",
     "text": [
      "WARNING:absl:You are saving your model as an HDF5 file via `model.save()` or `keras.saving.save_model(model)`. This file format is considered legacy. We recommend using instead the native Keras format, e.g. `model.save('my_model.keras')` or `keras.saving.save_model(model, 'my_model.keras')`. \n"
     ]
    },
    {
     "name": "stdout",
     "output_type": "stream",
     "text": [
      "14/14 - 1s - 84ms/step - accuracy: 1.0000 - loss: 0.0114 - val_accuracy: 1.0000 - val_loss: 0.0780\n",
      "Epoch 94/100\n",
      "\n",
      "Epoch 94: val_loss improved from 0.07800 to 0.07634, saving model to repo/EEG-Image-Research/tmp/checkpoint7_0_4.h5\n"
     ]
    },
    {
     "name": "stderr",
     "output_type": "stream",
     "text": [
      "WARNING:absl:You are saving your model as an HDF5 file via `model.save()` or `keras.saving.save_model(model)`. This file format is considered legacy. We recommend using instead the native Keras format, e.g. `model.save('my_model.keras')` or `keras.saving.save_model(model, 'my_model.keras')`. \n"
     ]
    },
    {
     "name": "stdout",
     "output_type": "stream",
     "text": [
      "14/14 - 1s - 82ms/step - accuracy: 1.0000 - loss: 0.0112 - val_accuracy: 1.0000 - val_loss: 0.0763\n",
      "Epoch 95/100\n",
      "\n",
      "Epoch 95: val_loss improved from 0.07634 to 0.07596, saving model to repo/EEG-Image-Research/tmp/checkpoint7_0_4.h5\n"
     ]
    },
    {
     "name": "stderr",
     "output_type": "stream",
     "text": [
      "WARNING:absl:You are saving your model as an HDF5 file via `model.save()` or `keras.saving.save_model(model)`. This file format is considered legacy. We recommend using instead the native Keras format, e.g. `model.save('my_model.keras')` or `keras.saving.save_model(model, 'my_model.keras')`. \n"
     ]
    },
    {
     "name": "stdout",
     "output_type": "stream",
     "text": [
      "14/14 - 1s - 91ms/step - accuracy: 1.0000 - loss: 0.0111 - val_accuracy: 1.0000 - val_loss: 0.0760\n",
      "Epoch 96/100\n",
      "\n",
      "Epoch 96: val_loss improved from 0.07596 to 0.07545, saving model to repo/EEG-Image-Research/tmp/checkpoint7_0_4.h5\n"
     ]
    },
    {
     "name": "stderr",
     "output_type": "stream",
     "text": [
      "WARNING:absl:You are saving your model as an HDF5 file via `model.save()` or `keras.saving.save_model(model)`. This file format is considered legacy. We recommend using instead the native Keras format, e.g. `model.save('my_model.keras')` or `keras.saving.save_model(model, 'my_model.keras')`. \n"
     ]
    },
    {
     "name": "stdout",
     "output_type": "stream",
     "text": [
      "14/14 - 1s - 87ms/step - accuracy: 1.0000 - loss: 0.0111 - val_accuracy: 1.0000 - val_loss: 0.0754\n",
      "Epoch 97/100\n",
      "\n",
      "Epoch 97: val_loss improved from 0.07545 to 0.07500, saving model to repo/EEG-Image-Research/tmp/checkpoint7_0_4.h5\n"
     ]
    },
    {
     "name": "stderr",
     "output_type": "stream",
     "text": [
      "WARNING:absl:You are saving your model as an HDF5 file via `model.save()` or `keras.saving.save_model(model)`. This file format is considered legacy. We recommend using instead the native Keras format, e.g. `model.save('my_model.keras')` or `keras.saving.save_model(model, 'my_model.keras')`. \n"
     ]
    },
    {
     "name": "stdout",
     "output_type": "stream",
     "text": [
      "14/14 - 1s - 89ms/step - accuracy: 1.0000 - loss: 0.0112 - val_accuracy: 1.0000 - val_loss: 0.0750\n",
      "Epoch 98/100\n",
      "\n",
      "Epoch 98: val_loss improved from 0.07500 to 0.07416, saving model to repo/EEG-Image-Research/tmp/checkpoint7_0_4.h5\n"
     ]
    },
    {
     "name": "stderr",
     "output_type": "stream",
     "text": [
      "WARNING:absl:You are saving your model as an HDF5 file via `model.save()` or `keras.saving.save_model(model)`. This file format is considered legacy. We recommend using instead the native Keras format, e.g. `model.save('my_model.keras')` or `keras.saving.save_model(model, 'my_model.keras')`. \n"
     ]
    },
    {
     "name": "stdout",
     "output_type": "stream",
     "text": [
      "14/14 - 1s - 88ms/step - accuracy: 1.0000 - loss: 0.0110 - val_accuracy: 1.0000 - val_loss: 0.0742\n",
      "Epoch 99/100\n",
      "\n",
      "Epoch 99: val_loss improved from 0.07416 to 0.07324, saving model to repo/EEG-Image-Research/tmp/checkpoint7_0_4.h5\n"
     ]
    },
    {
     "name": "stderr",
     "output_type": "stream",
     "text": [
      "WARNING:absl:You are saving your model as an HDF5 file via `model.save()` or `keras.saving.save_model(model)`. This file format is considered legacy. We recommend using instead the native Keras format, e.g. `model.save('my_model.keras')` or `keras.saving.save_model(model, 'my_model.keras')`. \n"
     ]
    },
    {
     "name": "stdout",
     "output_type": "stream",
     "text": [
      "14/14 - 1s - 87ms/step - accuracy: 1.0000 - loss: 0.0114 - val_accuracy: 1.0000 - val_loss: 0.0732\n",
      "Epoch 100/100\n",
      "\n",
      "Epoch 100: val_loss improved from 0.07324 to 0.07299, saving model to repo/EEG-Image-Research/tmp/checkpoint7_0_4.h5\n"
     ]
    },
    {
     "name": "stderr",
     "output_type": "stream",
     "text": [
      "WARNING:absl:You are saving your model as an HDF5 file via `model.save()` or `keras.saving.save_model(model)`. This file format is considered legacy. We recommend using instead the native Keras format, e.g. `model.save('my_model.keras')` or `keras.saving.save_model(model, 'my_model.keras')`. \n"
     ]
    },
    {
     "name": "stdout",
     "output_type": "stream",
     "text": [
      "14/14 - 1s - 87ms/step - accuracy: 1.0000 - loss: 0.0109 - val_accuracy: 1.0000 - val_loss: 0.0730\n",
      "WARNING:tensorflow:5 out of the last 5 calls to <function TensorFlowTrainer.make_predict_function.<locals>.one_step_on_data_distributed at 0x7f7e142c2fc0> triggered tf.function retracing. Tracing is expensive and the excessive number of tracings could be due to (1) creating @tf.function repeatedly in a loop, (2) passing tensors with different shapes, (3) passing Python objects instead of tensors. For (1), please define your @tf.function outside of the loop. For (2), @tf.function has reduce_retracing=True option that can avoid unnecessary retracing. For (3), please refer to https://www.tensorflow.org/guide/function#controlling_retracing and https://www.tensorflow.org/api_docs/python/tf/function for  more details.\n"
     ]
    },
    {
     "name": "stderr",
     "output_type": "stream",
     "text": [
      "WARNING:tensorflow:5 out of the last 5 calls to <function TensorFlowTrainer.make_predict_function.<locals>.one_step_on_data_distributed at 0x7f7e142c2fc0> triggered tf.function retracing. Tracing is expensive and the excessive number of tracings could be due to (1) creating @tf.function repeatedly in a loop, (2) passing tensors with different shapes, (3) passing Python objects instead of tensors. For (1), please define your @tf.function outside of the loop. For (2), @tf.function has reduce_retracing=True option that can avoid unnecessary retracing. For (3), please refer to https://www.tensorflow.org/guide/function#controlling_retracing and https://www.tensorflow.org/api_docs/python/tf/function for  more details.\n"
     ]
    },
    {
     "name": "stdout",
     "output_type": "stream",
     "text": [
      "\u001b[1m1/1\u001b[0m \u001b[32m━━━━━━━━━━━━━━━━━━━━\u001b[0m\u001b[37m\u001b[0m \u001b[1m0s\u001b[0m 107ms/step\n",
      "Test Loss: 1.774114727973938, Test Accuracy: 0.5714285969734192, \n",
      "[0, 5]\n",
      "Epoch 1/100\n",
      "\n",
      "Epoch 1: val_loss improved from inf to 0.70334, saving model to repo/EEG-Image-Research/tmp/checkpoint7_0_5.h5\n"
     ]
    },
    {
     "name": "stderr",
     "output_type": "stream",
     "text": [
      "WARNING:absl:You are saving your model as an HDF5 file via `model.save()` or `keras.saving.save_model(model)`. This file format is considered legacy. We recommend using instead the native Keras format, e.g. `model.save('my_model.keras')` or `keras.saving.save_model(model, 'my_model.keras')`. \n"
     ]
    },
    {
     "name": "stdout",
     "output_type": "stream",
     "text": [
      "14/14 - 3s - 197ms/step - accuracy: 0.5714 - loss: 0.9178 - val_accuracy: 0.8571 - val_loss: 0.7033\n",
      "Epoch 2/100\n",
      "\n",
      "Epoch 2: val_loss improved from 0.70334 to 0.68663, saving model to repo/EEG-Image-Research/tmp/checkpoint7_0_5.h5\n"
     ]
    },
    {
     "name": "stderr",
     "output_type": "stream",
     "text": [
      "WARNING:absl:You are saving your model as an HDF5 file via `model.save()` or `keras.saving.save_model(model)`. This file format is considered legacy. We recommend using instead the native Keras format, e.g. `model.save('my_model.keras')` or `keras.saving.save_model(model, 'my_model.keras')`. \n"
     ]
    },
    {
     "name": "stdout",
     "output_type": "stream",
     "text": [
      "14/14 - 1s - 78ms/step - accuracy: 0.9286 - loss: 0.5240 - val_accuracy: 0.8571 - val_loss: 0.6866\n",
      "Epoch 3/100\n",
      "\n",
      "Epoch 3: val_loss improved from 0.68663 to 0.67566, saving model to repo/EEG-Image-Research/tmp/checkpoint7_0_5.h5\n"
     ]
    },
    {
     "name": "stderr",
     "output_type": "stream",
     "text": [
      "WARNING:absl:You are saving your model as an HDF5 file via `model.save()` or `keras.saving.save_model(model)`. This file format is considered legacy. We recommend using instead the native Keras format, e.g. `model.save('my_model.keras')` or `keras.saving.save_model(model, 'my_model.keras')`. \n"
     ]
    },
    {
     "name": "stdout",
     "output_type": "stream",
     "text": [
      "14/14 - 1s - 78ms/step - accuracy: 0.9286 - loss: 0.3174 - val_accuracy: 0.8571 - val_loss: 0.6757\n",
      "Epoch 4/100\n",
      "\n",
      "Epoch 4: val_loss improved from 0.67566 to 0.67015, saving model to repo/EEG-Image-Research/tmp/checkpoint7_0_5.h5\n"
     ]
    },
    {
     "name": "stderr",
     "output_type": "stream",
     "text": [
      "WARNING:absl:You are saving your model as an HDF5 file via `model.save()` or `keras.saving.save_model(model)`. This file format is considered legacy. We recommend using instead the native Keras format, e.g. `model.save('my_model.keras')` or `keras.saving.save_model(model, 'my_model.keras')`. \n"
     ]
    },
    {
     "name": "stdout",
     "output_type": "stream",
     "text": [
      "14/14 - 1s - 80ms/step - accuracy: 1.0000 - loss: 0.2425 - val_accuracy: 0.8571 - val_loss: 0.6701\n",
      "Epoch 5/100\n",
      "\n",
      "Epoch 5: val_loss improved from 0.67015 to 0.66722, saving model to repo/EEG-Image-Research/tmp/checkpoint7_0_5.h5\n"
     ]
    },
    {
     "name": "stderr",
     "output_type": "stream",
     "text": [
      "WARNING:absl:You are saving your model as an HDF5 file via `model.save()` or `keras.saving.save_model(model)`. This file format is considered legacy. We recommend using instead the native Keras format, e.g. `model.save('my_model.keras')` or `keras.saving.save_model(model, 'my_model.keras')`. \n"
     ]
    },
    {
     "name": "stdout",
     "output_type": "stream",
     "text": [
      "14/14 - 1s - 77ms/step - accuracy: 1.0000 - loss: 0.0896 - val_accuracy: 0.8571 - val_loss: 0.6672\n",
      "Epoch 6/100\n",
      "\n",
      "Epoch 6: val_loss improved from 0.66722 to 0.64748, saving model to repo/EEG-Image-Research/tmp/checkpoint7_0_5.h5\n"
     ]
    },
    {
     "name": "stderr",
     "output_type": "stream",
     "text": [
      "WARNING:absl:You are saving your model as an HDF5 file via `model.save()` or `keras.saving.save_model(model)`. This file format is considered legacy. We recommend using instead the native Keras format, e.g. `model.save('my_model.keras')` or `keras.saving.save_model(model, 'my_model.keras')`. \n"
     ]
    },
    {
     "name": "stdout",
     "output_type": "stream",
     "text": [
      "14/14 - 1s - 76ms/step - accuracy: 1.0000 - loss: 0.0491 - val_accuracy: 0.8571 - val_loss: 0.6475\n",
      "Epoch 7/100\n",
      "\n",
      "Epoch 7: val_loss improved from 0.64748 to 0.62331, saving model to repo/EEG-Image-Research/tmp/checkpoint7_0_5.h5\n"
     ]
    },
    {
     "name": "stderr",
     "output_type": "stream",
     "text": [
      "WARNING:absl:You are saving your model as an HDF5 file via `model.save()` or `keras.saving.save_model(model)`. This file format is considered legacy. We recommend using instead the native Keras format, e.g. `model.save('my_model.keras')` or `keras.saving.save_model(model, 'my_model.keras')`. \n"
     ]
    },
    {
     "name": "stdout",
     "output_type": "stream",
     "text": [
      "14/14 - 1s - 77ms/step - accuracy: 1.0000 - loss: 0.0331 - val_accuracy: 0.8571 - val_loss: 0.6233\n",
      "Epoch 8/100\n",
      "\n",
      "Epoch 8: val_loss improved from 0.62331 to 0.59457, saving model to repo/EEG-Image-Research/tmp/checkpoint7_0_5.h5\n"
     ]
    },
    {
     "name": "stderr",
     "output_type": "stream",
     "text": [
      "WARNING:absl:You are saving your model as an HDF5 file via `model.save()` or `keras.saving.save_model(model)`. This file format is considered legacy. We recommend using instead the native Keras format, e.g. `model.save('my_model.keras')` or `keras.saving.save_model(model, 'my_model.keras')`. \n"
     ]
    },
    {
     "name": "stdout",
     "output_type": "stream",
     "text": [
      "14/14 - 1s - 84ms/step - accuracy: 1.0000 - loss: 0.0413 - val_accuracy: 0.8571 - val_loss: 0.5946\n",
      "Epoch 9/100\n",
      "\n",
      "Epoch 9: val_loss improved from 0.59457 to 0.56421, saving model to repo/EEG-Image-Research/tmp/checkpoint7_0_5.h5\n"
     ]
    },
    {
     "name": "stderr",
     "output_type": "stream",
     "text": [
      "WARNING:absl:You are saving your model as an HDF5 file via `model.save()` or `keras.saving.save_model(model)`. This file format is considered legacy. We recommend using instead the native Keras format, e.g. `model.save('my_model.keras')` or `keras.saving.save_model(model, 'my_model.keras')`. \n"
     ]
    },
    {
     "name": "stdout",
     "output_type": "stream",
     "text": [
      "14/14 - 1s - 80ms/step - accuracy: 1.0000 - loss: 0.0310 - val_accuracy: 0.8571 - val_loss: 0.5642\n",
      "Epoch 10/100\n",
      "\n",
      "Epoch 10: val_loss improved from 0.56421 to 0.53525, saving model to repo/EEG-Image-Research/tmp/checkpoint7_0_5.h5\n"
     ]
    },
    {
     "name": "stderr",
     "output_type": "stream",
     "text": [
      "WARNING:absl:You are saving your model as an HDF5 file via `model.save()` or `keras.saving.save_model(model)`. This file format is considered legacy. We recommend using instead the native Keras format, e.g. `model.save('my_model.keras')` or `keras.saving.save_model(model, 'my_model.keras')`. \n"
     ]
    },
    {
     "name": "stdout",
     "output_type": "stream",
     "text": [
      "14/14 - 1s - 77ms/step - accuracy: 1.0000 - loss: 0.0254 - val_accuracy: 0.8571 - val_loss: 0.5352\n",
      "Epoch 11/100\n",
      "\n",
      "Epoch 11: val_loss improved from 0.53525 to 0.51384, saving model to repo/EEG-Image-Research/tmp/checkpoint7_0_5.h5\n"
     ]
    },
    {
     "name": "stderr",
     "output_type": "stream",
     "text": [
      "WARNING:absl:You are saving your model as an HDF5 file via `model.save()` or `keras.saving.save_model(model)`. This file format is considered legacy. We recommend using instead the native Keras format, e.g. `model.save('my_model.keras')` or `keras.saving.save_model(model, 'my_model.keras')`. \n"
     ]
    },
    {
     "name": "stdout",
     "output_type": "stream",
     "text": [
      "14/14 - 1s - 77ms/step - accuracy: 1.0000 - loss: 0.0201 - val_accuracy: 0.8571 - val_loss: 0.5138\n",
      "Epoch 12/100\n",
      "\n",
      "Epoch 12: val_loss improved from 0.51384 to 0.49403, saving model to repo/EEG-Image-Research/tmp/checkpoint7_0_5.h5\n"
     ]
    },
    {
     "name": "stderr",
     "output_type": "stream",
     "text": [
      "WARNING:absl:You are saving your model as an HDF5 file via `model.save()` or `keras.saving.save_model(model)`. This file format is considered legacy. We recommend using instead the native Keras format, e.g. `model.save('my_model.keras')` or `keras.saving.save_model(model, 'my_model.keras')`. \n"
     ]
    },
    {
     "name": "stdout",
     "output_type": "stream",
     "text": [
      "14/14 - 1s - 77ms/step - accuracy: 1.0000 - loss: 0.0229 - val_accuracy: 0.8571 - val_loss: 0.4940\n",
      "Epoch 13/100\n",
      "\n",
      "Epoch 13: val_loss improved from 0.49403 to 0.47426, saving model to repo/EEG-Image-Research/tmp/checkpoint7_0_5.h5\n"
     ]
    },
    {
     "name": "stderr",
     "output_type": "stream",
     "text": [
      "WARNING:absl:You are saving your model as an HDF5 file via `model.save()` or `keras.saving.save_model(model)`. This file format is considered legacy. We recommend using instead the native Keras format, e.g. `model.save('my_model.keras')` or `keras.saving.save_model(model, 'my_model.keras')`. \n"
     ]
    },
    {
     "name": "stdout",
     "output_type": "stream",
     "text": [
      "14/14 - 1s - 79ms/step - accuracy: 1.0000 - loss: 0.0225 - val_accuracy: 0.8571 - val_loss: 0.4743\n",
      "Epoch 14/100\n",
      "\n",
      "Epoch 14: val_loss improved from 0.47426 to 0.45177, saving model to repo/EEG-Image-Research/tmp/checkpoint7_0_5.h5\n"
     ]
    },
    {
     "name": "stderr",
     "output_type": "stream",
     "text": [
      "WARNING:absl:You are saving your model as an HDF5 file via `model.save()` or `keras.saving.save_model(model)`. This file format is considered legacy. We recommend using instead the native Keras format, e.g. `model.save('my_model.keras')` or `keras.saving.save_model(model, 'my_model.keras')`. \n"
     ]
    },
    {
     "name": "stdout",
     "output_type": "stream",
     "text": [
      "14/14 - 1s - 84ms/step - accuracy: 1.0000 - loss: 0.0215 - val_accuracy: 0.8571 - val_loss: 0.4518\n",
      "Epoch 15/100\n",
      "\n",
      "Epoch 15: val_loss improved from 0.45177 to 0.43202, saving model to repo/EEG-Image-Research/tmp/checkpoint7_0_5.h5\n"
     ]
    },
    {
     "name": "stderr",
     "output_type": "stream",
     "text": [
      "WARNING:absl:You are saving your model as an HDF5 file via `model.save()` or `keras.saving.save_model(model)`. This file format is considered legacy. We recommend using instead the native Keras format, e.g. `model.save('my_model.keras')` or `keras.saving.save_model(model, 'my_model.keras')`. \n"
     ]
    },
    {
     "name": "stdout",
     "output_type": "stream",
     "text": [
      "14/14 - 1s - 80ms/step - accuracy: 1.0000 - loss: 0.0190 - val_accuracy: 0.8571 - val_loss: 0.4320\n",
      "Epoch 16/100\n",
      "\n",
      "Epoch 16: val_loss improved from 0.43202 to 0.41600, saving model to repo/EEG-Image-Research/tmp/checkpoint7_0_5.h5\n"
     ]
    },
    {
     "name": "stderr",
     "output_type": "stream",
     "text": [
      "WARNING:absl:You are saving your model as an HDF5 file via `model.save()` or `keras.saving.save_model(model)`. This file format is considered legacy. We recommend using instead the native Keras format, e.g. `model.save('my_model.keras')` or `keras.saving.save_model(model, 'my_model.keras')`. \n"
     ]
    },
    {
     "name": "stdout",
     "output_type": "stream",
     "text": [
      "14/14 - 1s - 79ms/step - accuracy: 1.0000 - loss: 0.0225 - val_accuracy: 0.8571 - val_loss: 0.4160\n",
      "Epoch 17/100\n",
      "\n",
      "Epoch 17: val_loss improved from 0.41600 to 0.39894, saving model to repo/EEG-Image-Research/tmp/checkpoint7_0_5.h5\n"
     ]
    },
    {
     "name": "stderr",
     "output_type": "stream",
     "text": [
      "WARNING:absl:You are saving your model as an HDF5 file via `model.save()` or `keras.saving.save_model(model)`. This file format is considered legacy. We recommend using instead the native Keras format, e.g. `model.save('my_model.keras')` or `keras.saving.save_model(model, 'my_model.keras')`. \n"
     ]
    },
    {
     "name": "stdout",
     "output_type": "stream",
     "text": [
      "14/14 - 1s - 85ms/step - accuracy: 1.0000 - loss: 0.0165 - val_accuracy: 0.8571 - val_loss: 0.3989\n",
      "Epoch 18/100\n",
      "\n",
      "Epoch 18: val_loss improved from 0.39894 to 0.38293, saving model to repo/EEG-Image-Research/tmp/checkpoint7_0_5.h5\n"
     ]
    },
    {
     "name": "stderr",
     "output_type": "stream",
     "text": [
      "WARNING:absl:You are saving your model as an HDF5 file via `model.save()` or `keras.saving.save_model(model)`. This file format is considered legacy. We recommend using instead the native Keras format, e.g. `model.save('my_model.keras')` or `keras.saving.save_model(model, 'my_model.keras')`. \n"
     ]
    },
    {
     "name": "stdout",
     "output_type": "stream",
     "text": [
      "14/14 - 1s - 85ms/step - accuracy: 1.0000 - loss: 0.0156 - val_accuracy: 0.8571 - val_loss: 0.3829\n",
      "Epoch 19/100\n",
      "\n",
      "Epoch 19: val_loss improved from 0.38293 to 0.36843, saving model to repo/EEG-Image-Research/tmp/checkpoint7_0_5.h5\n"
     ]
    },
    {
     "name": "stderr",
     "output_type": "stream",
     "text": [
      "WARNING:absl:You are saving your model as an HDF5 file via `model.save()` or `keras.saving.save_model(model)`. This file format is considered legacy. We recommend using instead the native Keras format, e.g. `model.save('my_model.keras')` or `keras.saving.save_model(model, 'my_model.keras')`. \n"
     ]
    },
    {
     "name": "stdout",
     "output_type": "stream",
     "text": [
      "14/14 - 1s - 91ms/step - accuracy: 1.0000 - loss: 0.0189 - val_accuracy: 0.8571 - val_loss: 0.3684\n",
      "Epoch 20/100\n",
      "\n",
      "Epoch 20: val_loss improved from 0.36843 to 0.35496, saving model to repo/EEG-Image-Research/tmp/checkpoint7_0_5.h5\n"
     ]
    },
    {
     "name": "stderr",
     "output_type": "stream",
     "text": [
      "WARNING:absl:You are saving your model as an HDF5 file via `model.save()` or `keras.saving.save_model(model)`. This file format is considered legacy. We recommend using instead the native Keras format, e.g. `model.save('my_model.keras')` or `keras.saving.save_model(model, 'my_model.keras')`. \n"
     ]
    },
    {
     "name": "stdout",
     "output_type": "stream",
     "text": [
      "14/14 - 1s - 82ms/step - accuracy: 1.0000 - loss: 0.0182 - val_accuracy: 0.8571 - val_loss: 0.3550\n",
      "Epoch 21/100\n",
      "\n",
      "Epoch 21: val_loss improved from 0.35496 to 0.34238, saving model to repo/EEG-Image-Research/tmp/checkpoint7_0_5.h5\n"
     ]
    },
    {
     "name": "stderr",
     "output_type": "stream",
     "text": [
      "WARNING:absl:You are saving your model as an HDF5 file via `model.save()` or `keras.saving.save_model(model)`. This file format is considered legacy. We recommend using instead the native Keras format, e.g. `model.save('my_model.keras')` or `keras.saving.save_model(model, 'my_model.keras')`. \n"
     ]
    },
    {
     "name": "stdout",
     "output_type": "stream",
     "text": [
      "14/14 - 1s - 87ms/step - accuracy: 1.0000 - loss: 0.0170 - val_accuracy: 0.8571 - val_loss: 0.3424\n",
      "Epoch 22/100\n",
      "\n",
      "Epoch 22: val_loss improved from 0.34238 to 0.32976, saving model to repo/EEG-Image-Research/tmp/checkpoint7_0_5.h5\n"
     ]
    },
    {
     "name": "stderr",
     "output_type": "stream",
     "text": [
      "WARNING:absl:You are saving your model as an HDF5 file via `model.save()` or `keras.saving.save_model(model)`. This file format is considered legacy. We recommend using instead the native Keras format, e.g. `model.save('my_model.keras')` or `keras.saving.save_model(model, 'my_model.keras')`. \n"
     ]
    },
    {
     "name": "stdout",
     "output_type": "stream",
     "text": [
      "14/14 - 1s - 82ms/step - accuracy: 1.0000 - loss: 0.0151 - val_accuracy: 0.8571 - val_loss: 0.3298\n",
      "Epoch 23/100\n",
      "\n",
      "Epoch 23: val_loss improved from 0.32976 to 0.31722, saving model to repo/EEG-Image-Research/tmp/checkpoint7_0_5.h5\n"
     ]
    },
    {
     "name": "stderr",
     "output_type": "stream",
     "text": [
      "WARNING:absl:You are saving your model as an HDF5 file via `model.save()` or `keras.saving.save_model(model)`. This file format is considered legacy. We recommend using instead the native Keras format, e.g. `model.save('my_model.keras')` or `keras.saving.save_model(model, 'my_model.keras')`. \n"
     ]
    },
    {
     "name": "stdout",
     "output_type": "stream",
     "text": [
      "14/14 - 1s - 83ms/step - accuracy: 1.0000 - loss: 0.0165 - val_accuracy: 0.8571 - val_loss: 0.3172\n",
      "Epoch 24/100\n",
      "\n",
      "Epoch 24: val_loss improved from 0.31722 to 0.30581, saving model to repo/EEG-Image-Research/tmp/checkpoint7_0_5.h5\n"
     ]
    },
    {
     "name": "stderr",
     "output_type": "stream",
     "text": [
      "WARNING:absl:You are saving your model as an HDF5 file via `model.save()` or `keras.saving.save_model(model)`. This file format is considered legacy. We recommend using instead the native Keras format, e.g. `model.save('my_model.keras')` or `keras.saving.save_model(model, 'my_model.keras')`. \n"
     ]
    },
    {
     "name": "stdout",
     "output_type": "stream",
     "text": [
      "14/14 - 1s - 89ms/step - accuracy: 1.0000 - loss: 0.0156 - val_accuracy: 0.8571 - val_loss: 0.3058\n",
      "Epoch 25/100\n",
      "\n",
      "Epoch 25: val_loss improved from 0.30581 to 0.29496, saving model to repo/EEG-Image-Research/tmp/checkpoint7_0_5.h5\n"
     ]
    },
    {
     "name": "stderr",
     "output_type": "stream",
     "text": [
      "WARNING:absl:You are saving your model as an HDF5 file via `model.save()` or `keras.saving.save_model(model)`. This file format is considered legacy. We recommend using instead the native Keras format, e.g. `model.save('my_model.keras')` or `keras.saving.save_model(model, 'my_model.keras')`. \n"
     ]
    },
    {
     "name": "stdout",
     "output_type": "stream",
     "text": [
      "14/14 - 1s - 80ms/step - accuracy: 1.0000 - loss: 0.0157 - val_accuracy: 0.8571 - val_loss: 0.2950\n",
      "Epoch 26/100\n",
      "\n",
      "Epoch 26: val_loss improved from 0.29496 to 0.28563, saving model to repo/EEG-Image-Research/tmp/checkpoint7_0_5.h5\n"
     ]
    },
    {
     "name": "stderr",
     "output_type": "stream",
     "text": [
      "WARNING:absl:You are saving your model as an HDF5 file via `model.save()` or `keras.saving.save_model(model)`. This file format is considered legacy. We recommend using instead the native Keras format, e.g. `model.save('my_model.keras')` or `keras.saving.save_model(model, 'my_model.keras')`. \n"
     ]
    },
    {
     "name": "stdout",
     "output_type": "stream",
     "text": [
      "14/14 - 1s - 84ms/step - accuracy: 1.0000 - loss: 0.0141 - val_accuracy: 0.8571 - val_loss: 0.2856\n",
      "Epoch 27/100\n",
      "\n",
      "Epoch 27: val_loss improved from 0.28563 to 0.27624, saving model to repo/EEG-Image-Research/tmp/checkpoint7_0_5.h5\n"
     ]
    },
    {
     "name": "stderr",
     "output_type": "stream",
     "text": [
      "WARNING:absl:You are saving your model as an HDF5 file via `model.save()` or `keras.saving.save_model(model)`. This file format is considered legacy. We recommend using instead the native Keras format, e.g. `model.save('my_model.keras')` or `keras.saving.save_model(model, 'my_model.keras')`. \n"
     ]
    },
    {
     "name": "stdout",
     "output_type": "stream",
     "text": [
      "14/14 - 1s - 83ms/step - accuracy: 1.0000 - loss: 0.0141 - val_accuracy: 0.8571 - val_loss: 0.2762\n",
      "Epoch 28/100\n",
      "\n",
      "Epoch 28: val_loss improved from 0.27624 to 0.26263, saving model to repo/EEG-Image-Research/tmp/checkpoint7_0_5.h5\n"
     ]
    },
    {
     "name": "stderr",
     "output_type": "stream",
     "text": [
      "WARNING:absl:You are saving your model as an HDF5 file via `model.save()` or `keras.saving.save_model(model)`. This file format is considered legacy. We recommend using instead the native Keras format, e.g. `model.save('my_model.keras')` or `keras.saving.save_model(model, 'my_model.keras')`. \n"
     ]
    },
    {
     "name": "stdout",
     "output_type": "stream",
     "text": [
      "14/14 - 1s - 83ms/step - accuracy: 1.0000 - loss: 0.0162 - val_accuracy: 0.8571 - val_loss: 0.2626\n",
      "Epoch 29/100\n",
      "\n",
      "Epoch 29: val_loss improved from 0.26263 to 0.25253, saving model to repo/EEG-Image-Research/tmp/checkpoint7_0_5.h5\n"
     ]
    },
    {
     "name": "stderr",
     "output_type": "stream",
     "text": [
      "WARNING:absl:You are saving your model as an HDF5 file via `model.save()` or `keras.saving.save_model(model)`. This file format is considered legacy. We recommend using instead the native Keras format, e.g. `model.save('my_model.keras')` or `keras.saving.save_model(model, 'my_model.keras')`. \n"
     ]
    },
    {
     "name": "stdout",
     "output_type": "stream",
     "text": [
      "14/14 - 1s - 84ms/step - accuracy: 1.0000 - loss: 0.0144 - val_accuracy: 0.8571 - val_loss: 0.2525\n",
      "Epoch 30/100\n",
      "\n",
      "Epoch 30: val_loss improved from 0.25253 to 0.24456, saving model to repo/EEG-Image-Research/tmp/checkpoint7_0_5.h5\n"
     ]
    },
    {
     "name": "stderr",
     "output_type": "stream",
     "text": [
      "WARNING:absl:You are saving your model as an HDF5 file via `model.save()` or `keras.saving.save_model(model)`. This file format is considered legacy. We recommend using instead the native Keras format, e.g. `model.save('my_model.keras')` or `keras.saving.save_model(model, 'my_model.keras')`. \n"
     ]
    },
    {
     "name": "stdout",
     "output_type": "stream",
     "text": [
      "14/14 - 1s - 85ms/step - accuracy: 1.0000 - loss: 0.0148 - val_accuracy: 0.8571 - val_loss: 0.2446\n",
      "Epoch 31/100\n",
      "\n",
      "Epoch 31: val_loss improved from 0.24456 to 0.23579, saving model to repo/EEG-Image-Research/tmp/checkpoint7_0_5.h5\n"
     ]
    },
    {
     "name": "stderr",
     "output_type": "stream",
     "text": [
      "WARNING:absl:You are saving your model as an HDF5 file via `model.save()` or `keras.saving.save_model(model)`. This file format is considered legacy. We recommend using instead the native Keras format, e.g. `model.save('my_model.keras')` or `keras.saving.save_model(model, 'my_model.keras')`. \n"
     ]
    },
    {
     "name": "stdout",
     "output_type": "stream",
     "text": [
      "14/14 - 1s - 81ms/step - accuracy: 1.0000 - loss: 0.0143 - val_accuracy: 0.8571 - val_loss: 0.2358\n",
      "Epoch 32/100\n",
      "\n",
      "Epoch 32: val_loss improved from 0.23579 to 0.22511, saving model to repo/EEG-Image-Research/tmp/checkpoint7_0_5.h5\n"
     ]
    },
    {
     "name": "stderr",
     "output_type": "stream",
     "text": [
      "WARNING:absl:You are saving your model as an HDF5 file via `model.save()` or `keras.saving.save_model(model)`. This file format is considered legacy. We recommend using instead the native Keras format, e.g. `model.save('my_model.keras')` or `keras.saving.save_model(model, 'my_model.keras')`. \n"
     ]
    },
    {
     "name": "stdout",
     "output_type": "stream",
     "text": [
      "14/14 - 1s - 81ms/step - accuracy: 1.0000 - loss: 0.0150 - val_accuracy: 0.8571 - val_loss: 0.2251\n",
      "Epoch 33/100\n",
      "\n",
      "Epoch 33: val_loss improved from 0.22511 to 0.21603, saving model to repo/EEG-Image-Research/tmp/checkpoint7_0_5.h5\n"
     ]
    },
    {
     "name": "stderr",
     "output_type": "stream",
     "text": [
      "WARNING:absl:You are saving your model as an HDF5 file via `model.save()` or `keras.saving.save_model(model)`. This file format is considered legacy. We recommend using instead the native Keras format, e.g. `model.save('my_model.keras')` or `keras.saving.save_model(model, 'my_model.keras')`. \n"
     ]
    },
    {
     "name": "stdout",
     "output_type": "stream",
     "text": [
      "14/14 - 1s - 86ms/step - accuracy: 1.0000 - loss: 0.0140 - val_accuracy: 0.8571 - val_loss: 0.2160\n",
      "Epoch 34/100\n",
      "\n",
      "Epoch 34: val_loss improved from 0.21603 to 0.20815, saving model to repo/EEG-Image-Research/tmp/checkpoint7_0_5.h5\n"
     ]
    },
    {
     "name": "stderr",
     "output_type": "stream",
     "text": [
      "WARNING:absl:You are saving your model as an HDF5 file via `model.save()` or `keras.saving.save_model(model)`. This file format is considered legacy. We recommend using instead the native Keras format, e.g. `model.save('my_model.keras')` or `keras.saving.save_model(model, 'my_model.keras')`. \n"
     ]
    },
    {
     "name": "stdout",
     "output_type": "stream",
     "text": [
      "14/14 - 1s - 84ms/step - accuracy: 1.0000 - loss: 0.0142 - val_accuracy: 0.8571 - val_loss: 0.2081\n",
      "Epoch 35/100\n",
      "\n",
      "Epoch 35: val_loss improved from 0.20815 to 0.20016, saving model to repo/EEG-Image-Research/tmp/checkpoint7_0_5.h5\n"
     ]
    },
    {
     "name": "stderr",
     "output_type": "stream",
     "text": [
      "WARNING:absl:You are saving your model as an HDF5 file via `model.save()` or `keras.saving.save_model(model)`. This file format is considered legacy. We recommend using instead the native Keras format, e.g. `model.save('my_model.keras')` or `keras.saving.save_model(model, 'my_model.keras')`. \n"
     ]
    },
    {
     "name": "stdout",
     "output_type": "stream",
     "text": [
      "14/14 - 1s - 87ms/step - accuracy: 1.0000 - loss: 0.0145 - val_accuracy: 0.8571 - val_loss: 0.2002\n",
      "Epoch 36/100\n",
      "\n",
      "Epoch 36: val_loss improved from 0.20016 to 0.19226, saving model to repo/EEG-Image-Research/tmp/checkpoint7_0_5.h5\n"
     ]
    },
    {
     "name": "stderr",
     "output_type": "stream",
     "text": [
      "WARNING:absl:You are saving your model as an HDF5 file via `model.save()` or `keras.saving.save_model(model)`. This file format is considered legacy. We recommend using instead the native Keras format, e.g. `model.save('my_model.keras')` or `keras.saving.save_model(model, 'my_model.keras')`. \n"
     ]
    },
    {
     "name": "stdout",
     "output_type": "stream",
     "text": [
      "14/14 - 1s - 79ms/step - accuracy: 1.0000 - loss: 0.0142 - val_accuracy: 0.8571 - val_loss: 0.1923\n",
      "Epoch 37/100\n",
      "\n",
      "Epoch 37: val_loss improved from 0.19226 to 0.18422, saving model to repo/EEG-Image-Research/tmp/checkpoint7_0_5.h5\n"
     ]
    },
    {
     "name": "stderr",
     "output_type": "stream",
     "text": [
      "WARNING:absl:You are saving your model as an HDF5 file via `model.save()` or `keras.saving.save_model(model)`. This file format is considered legacy. We recommend using instead the native Keras format, e.g. `model.save('my_model.keras')` or `keras.saving.save_model(model, 'my_model.keras')`. \n"
     ]
    },
    {
     "name": "stdout",
     "output_type": "stream",
     "text": [
      "14/14 - 1s - 80ms/step - accuracy: 1.0000 - loss: 0.0140 - val_accuracy: 0.8571 - val_loss: 0.1842\n",
      "Epoch 38/100\n",
      "\n",
      "Epoch 38: val_loss improved from 0.18422 to 0.18191, saving model to repo/EEG-Image-Research/tmp/checkpoint7_0_5.h5\n"
     ]
    },
    {
     "name": "stderr",
     "output_type": "stream",
     "text": [
      "WARNING:absl:You are saving your model as an HDF5 file via `model.save()` or `keras.saving.save_model(model)`. This file format is considered legacy. We recommend using instead the native Keras format, e.g. `model.save('my_model.keras')` or `keras.saving.save_model(model, 'my_model.keras')`. \n"
     ]
    },
    {
     "name": "stdout",
     "output_type": "stream",
     "text": [
      "14/14 - 1s - 81ms/step - accuracy: 1.0000 - loss: 0.0157 - val_accuracy: 0.8571 - val_loss: 0.1819\n",
      "Epoch 39/100\n",
      "\n",
      "Epoch 39: val_loss improved from 0.18191 to 0.17894, saving model to repo/EEG-Image-Research/tmp/checkpoint7_0_5.h5\n"
     ]
    },
    {
     "name": "stderr",
     "output_type": "stream",
     "text": [
      "WARNING:absl:You are saving your model as an HDF5 file via `model.save()` or `keras.saving.save_model(model)`. This file format is considered legacy. We recommend using instead the native Keras format, e.g. `model.save('my_model.keras')` or `keras.saving.save_model(model, 'my_model.keras')`. \n"
     ]
    },
    {
     "name": "stdout",
     "output_type": "stream",
     "text": [
      "14/14 - 1s - 83ms/step - accuracy: 1.0000 - loss: 0.0143 - val_accuracy: 0.8571 - val_loss: 0.1789\n",
      "Epoch 40/100\n",
      "\n",
      "Epoch 40: val_loss improved from 0.17894 to 0.17412, saving model to repo/EEG-Image-Research/tmp/checkpoint7_0_5.h5\n"
     ]
    },
    {
     "name": "stderr",
     "output_type": "stream",
     "text": [
      "WARNING:absl:You are saving your model as an HDF5 file via `model.save()` or `keras.saving.save_model(model)`. This file format is considered legacy. We recommend using instead the native Keras format, e.g. `model.save('my_model.keras')` or `keras.saving.save_model(model, 'my_model.keras')`. \n"
     ]
    },
    {
     "name": "stdout",
     "output_type": "stream",
     "text": [
      "14/14 - 1s - 84ms/step - accuracy: 1.0000 - loss: 0.0142 - val_accuracy: 0.8571 - val_loss: 0.1741\n",
      "Epoch 41/100\n",
      "\n",
      "Epoch 41: val_loss improved from 0.17412 to 0.17007, saving model to repo/EEG-Image-Research/tmp/checkpoint7_0_5.h5\n"
     ]
    },
    {
     "name": "stderr",
     "output_type": "stream",
     "text": [
      "WARNING:absl:You are saving your model as an HDF5 file via `model.save()` or `keras.saving.save_model(model)`. This file format is considered legacy. We recommend using instead the native Keras format, e.g. `model.save('my_model.keras')` or `keras.saving.save_model(model, 'my_model.keras')`. \n"
     ]
    },
    {
     "name": "stdout",
     "output_type": "stream",
     "text": [
      "14/14 - 1s - 77ms/step - accuracy: 1.0000 - loss: 0.0141 - val_accuracy: 0.8571 - val_loss: 0.1701\n",
      "Epoch 42/100\n",
      "\n",
      "Epoch 42: val_loss improved from 0.17007 to 0.16522, saving model to repo/EEG-Image-Research/tmp/checkpoint7_0_5.h5\n"
     ]
    },
    {
     "name": "stderr",
     "output_type": "stream",
     "text": [
      "WARNING:absl:You are saving your model as an HDF5 file via `model.save()` or `keras.saving.save_model(model)`. This file format is considered legacy. We recommend using instead the native Keras format, e.g. `model.save('my_model.keras')` or `keras.saving.save_model(model, 'my_model.keras')`. \n"
     ]
    },
    {
     "name": "stdout",
     "output_type": "stream",
     "text": [
      "14/14 - 1s - 83ms/step - accuracy: 1.0000 - loss: 0.0136 - val_accuracy: 0.8571 - val_loss: 0.1652\n",
      "Epoch 43/100\n",
      "\n",
      "Epoch 43: val_loss improved from 0.16522 to 0.15908, saving model to repo/EEG-Image-Research/tmp/checkpoint7_0_5.h5\n"
     ]
    },
    {
     "name": "stderr",
     "output_type": "stream",
     "text": [
      "WARNING:absl:You are saving your model as an HDF5 file via `model.save()` or `keras.saving.save_model(model)`. This file format is considered legacy. We recommend using instead the native Keras format, e.g. `model.save('my_model.keras')` or `keras.saving.save_model(model, 'my_model.keras')`. \n"
     ]
    },
    {
     "name": "stdout",
     "output_type": "stream",
     "text": [
      "14/14 - 1s - 80ms/step - accuracy: 1.0000 - loss: 0.0137 - val_accuracy: 0.8571 - val_loss: 0.1591\n",
      "Epoch 44/100\n",
      "\n",
      "Epoch 44: val_loss improved from 0.15908 to 0.15406, saving model to repo/EEG-Image-Research/tmp/checkpoint7_0_5.h5\n"
     ]
    },
    {
     "name": "stderr",
     "output_type": "stream",
     "text": [
      "WARNING:absl:You are saving your model as an HDF5 file via `model.save()` or `keras.saving.save_model(model)`. This file format is considered legacy. We recommend using instead the native Keras format, e.g. `model.save('my_model.keras')` or `keras.saving.save_model(model, 'my_model.keras')`. \n"
     ]
    },
    {
     "name": "stdout",
     "output_type": "stream",
     "text": [
      "14/14 - 1s - 79ms/step - accuracy: 1.0000 - loss: 0.0136 - val_accuracy: 0.8571 - val_loss: 0.1541\n",
      "Epoch 45/100\n",
      "\n",
      "Epoch 45: val_loss improved from 0.15406 to 0.14895, saving model to repo/EEG-Image-Research/tmp/checkpoint7_0_5.h5\n"
     ]
    },
    {
     "name": "stderr",
     "output_type": "stream",
     "text": [
      "WARNING:absl:You are saving your model as an HDF5 file via `model.save()` or `keras.saving.save_model(model)`. This file format is considered legacy. We recommend using instead the native Keras format, e.g. `model.save('my_model.keras')` or `keras.saving.save_model(model, 'my_model.keras')`. \n"
     ]
    },
    {
     "name": "stdout",
     "output_type": "stream",
     "text": [
      "14/14 - 1s - 80ms/step - accuracy: 1.0000 - loss: 0.0142 - val_accuracy: 0.8571 - val_loss: 0.1489\n",
      "Epoch 46/100\n",
      "\n",
      "Epoch 46: val_loss improved from 0.14895 to 0.14082, saving model to repo/EEG-Image-Research/tmp/checkpoint7_0_5.h5\n"
     ]
    },
    {
     "name": "stderr",
     "output_type": "stream",
     "text": [
      "WARNING:absl:You are saving your model as an HDF5 file via `model.save()` or `keras.saving.save_model(model)`. This file format is considered legacy. We recommend using instead the native Keras format, e.g. `model.save('my_model.keras')` or `keras.saving.save_model(model, 'my_model.keras')`. \n"
     ]
    },
    {
     "name": "stdout",
     "output_type": "stream",
     "text": [
      "14/14 - 1s - 77ms/step - accuracy: 1.0000 - loss: 0.0152 - val_accuracy: 1.0000 - val_loss: 0.1408\n",
      "Epoch 47/100\n",
      "\n",
      "Epoch 47: val_loss improved from 0.14082 to 0.13531, saving model to repo/EEG-Image-Research/tmp/checkpoint7_0_5.h5\n"
     ]
    },
    {
     "name": "stderr",
     "output_type": "stream",
     "text": [
      "WARNING:absl:You are saving your model as an HDF5 file via `model.save()` or `keras.saving.save_model(model)`. This file format is considered legacy. We recommend using instead the native Keras format, e.g. `model.save('my_model.keras')` or `keras.saving.save_model(model, 'my_model.keras')`. \n"
     ]
    },
    {
     "name": "stdout",
     "output_type": "stream",
     "text": [
      "14/14 - 1s - 82ms/step - accuracy: 1.0000 - loss: 0.0133 - val_accuracy: 1.0000 - val_loss: 0.1353\n",
      "Epoch 48/100\n",
      "\n",
      "Epoch 48: val_loss improved from 0.13531 to 0.13148, saving model to repo/EEG-Image-Research/tmp/checkpoint7_0_5.h5\n"
     ]
    },
    {
     "name": "stderr",
     "output_type": "stream",
     "text": [
      "WARNING:absl:You are saving your model as an HDF5 file via `model.save()` or `keras.saving.save_model(model)`. This file format is considered legacy. We recommend using instead the native Keras format, e.g. `model.save('my_model.keras')` or `keras.saving.save_model(model, 'my_model.keras')`. \n"
     ]
    },
    {
     "name": "stdout",
     "output_type": "stream",
     "text": [
      "14/14 - 1s - 81ms/step - accuracy: 1.0000 - loss: 0.0139 - val_accuracy: 1.0000 - val_loss: 0.1315\n",
      "Epoch 49/100\n",
      "\n",
      "Epoch 49: val_loss improved from 0.13148 to 0.12945, saving model to repo/EEG-Image-Research/tmp/checkpoint7_0_5.h5\n"
     ]
    },
    {
     "name": "stderr",
     "output_type": "stream",
     "text": [
      "WARNING:absl:You are saving your model as an HDF5 file via `model.save()` or `keras.saving.save_model(model)`. This file format is considered legacy. We recommend using instead the native Keras format, e.g. `model.save('my_model.keras')` or `keras.saving.save_model(model, 'my_model.keras')`. \n"
     ]
    },
    {
     "name": "stdout",
     "output_type": "stream",
     "text": [
      "14/14 - 1s - 86ms/step - accuracy: 1.0000 - loss: 0.0134 - val_accuracy: 1.0000 - val_loss: 0.1295\n",
      "Epoch 50/100\n",
      "\n",
      "Epoch 50: val_loss improved from 0.12945 to 0.12688, saving model to repo/EEG-Image-Research/tmp/checkpoint7_0_5.h5\n"
     ]
    },
    {
     "name": "stderr",
     "output_type": "stream",
     "text": [
      "WARNING:absl:You are saving your model as an HDF5 file via `model.save()` or `keras.saving.save_model(model)`. This file format is considered legacy. We recommend using instead the native Keras format, e.g. `model.save('my_model.keras')` or `keras.saving.save_model(model, 'my_model.keras')`. \n"
     ]
    },
    {
     "name": "stdout",
     "output_type": "stream",
     "text": [
      "14/14 - 1s - 84ms/step - accuracy: 1.0000 - loss: 0.0137 - val_accuracy: 1.0000 - val_loss: 0.1269\n",
      "Epoch 51/100\n",
      "\n",
      "Epoch 51: val_loss improved from 0.12688 to 0.12344, saving model to repo/EEG-Image-Research/tmp/checkpoint7_0_5.h5\n"
     ]
    },
    {
     "name": "stderr",
     "output_type": "stream",
     "text": [
      "WARNING:absl:You are saving your model as an HDF5 file via `model.save()` or `keras.saving.save_model(model)`. This file format is considered legacy. We recommend using instead the native Keras format, e.g. `model.save('my_model.keras')` or `keras.saving.save_model(model, 'my_model.keras')`. \n"
     ]
    },
    {
     "name": "stdout",
     "output_type": "stream",
     "text": [
      "14/14 - 1s - 86ms/step - accuracy: 1.0000 - loss: 0.0134 - val_accuracy: 1.0000 - val_loss: 0.1234\n",
      "Epoch 52/100\n",
      "\n",
      "Epoch 52: val_loss improved from 0.12344 to 0.12158, saving model to repo/EEG-Image-Research/tmp/checkpoint7_0_5.h5\n"
     ]
    },
    {
     "name": "stderr",
     "output_type": "stream",
     "text": [
      "WARNING:absl:You are saving your model as an HDF5 file via `model.save()` or `keras.saving.save_model(model)`. This file format is considered legacy. We recommend using instead the native Keras format, e.g. `model.save('my_model.keras')` or `keras.saving.save_model(model, 'my_model.keras')`. \n"
     ]
    },
    {
     "name": "stdout",
     "output_type": "stream",
     "text": [
      "14/14 - 1s - 81ms/step - accuracy: 1.0000 - loss: 0.0135 - val_accuracy: 1.0000 - val_loss: 0.1216\n",
      "Epoch 53/100\n",
      "\n",
      "Epoch 53: val_loss improved from 0.12158 to 0.11868, saving model to repo/EEG-Image-Research/tmp/checkpoint7_0_5.h5\n"
     ]
    },
    {
     "name": "stderr",
     "output_type": "stream",
     "text": [
      "WARNING:absl:You are saving your model as an HDF5 file via `model.save()` or `keras.saving.save_model(model)`. This file format is considered legacy. We recommend using instead the native Keras format, e.g. `model.save('my_model.keras')` or `keras.saving.save_model(model, 'my_model.keras')`. \n"
     ]
    },
    {
     "name": "stdout",
     "output_type": "stream",
     "text": [
      "14/14 - 1s - 81ms/step - accuracy: 1.0000 - loss: 0.0140 - val_accuracy: 1.0000 - val_loss: 0.1187\n",
      "Epoch 54/100\n",
      "\n",
      "Epoch 54: val_loss improved from 0.11868 to 0.11524, saving model to repo/EEG-Image-Research/tmp/checkpoint7_0_5.h5\n"
     ]
    },
    {
     "name": "stderr",
     "output_type": "stream",
     "text": [
      "WARNING:absl:You are saving your model as an HDF5 file via `model.save()` or `keras.saving.save_model(model)`. This file format is considered legacy. We recommend using instead the native Keras format, e.g. `model.save('my_model.keras')` or `keras.saving.save_model(model, 'my_model.keras')`. \n"
     ]
    },
    {
     "name": "stdout",
     "output_type": "stream",
     "text": [
      "14/14 - 1s - 86ms/step - accuracy: 1.0000 - loss: 0.0132 - val_accuracy: 1.0000 - val_loss: 0.1152\n",
      "Epoch 55/100\n",
      "\n",
      "Epoch 55: val_loss improved from 0.11524 to 0.10826, saving model to repo/EEG-Image-Research/tmp/checkpoint7_0_5.h5\n"
     ]
    },
    {
     "name": "stderr",
     "output_type": "stream",
     "text": [
      "WARNING:absl:You are saving your model as an HDF5 file via `model.save()` or `keras.saving.save_model(model)`. This file format is considered legacy. We recommend using instead the native Keras format, e.g. `model.save('my_model.keras')` or `keras.saving.save_model(model, 'my_model.keras')`. \n"
     ]
    },
    {
     "name": "stdout",
     "output_type": "stream",
     "text": [
      "14/14 - 1s - 87ms/step - accuracy: 1.0000 - loss: 0.0139 - val_accuracy: 1.0000 - val_loss: 0.1083\n",
      "Epoch 56/100\n",
      "\n",
      "Epoch 56: val_loss improved from 0.10826 to 0.10640, saving model to repo/EEG-Image-Research/tmp/checkpoint7_0_5.h5\n"
     ]
    },
    {
     "name": "stderr",
     "output_type": "stream",
     "text": [
      "WARNING:absl:You are saving your model as an HDF5 file via `model.save()` or `keras.saving.save_model(model)`. This file format is considered legacy. We recommend using instead the native Keras format, e.g. `model.save('my_model.keras')` or `keras.saving.save_model(model, 'my_model.keras')`. \n"
     ]
    },
    {
     "name": "stdout",
     "output_type": "stream",
     "text": [
      "14/14 - 1s - 83ms/step - accuracy: 1.0000 - loss: 0.0134 - val_accuracy: 1.0000 - val_loss: 0.1064\n",
      "Epoch 57/100\n",
      "\n",
      "Epoch 57: val_loss improved from 0.10640 to 0.10528, saving model to repo/EEG-Image-Research/tmp/checkpoint7_0_5.h5\n"
     ]
    },
    {
     "name": "stderr",
     "output_type": "stream",
     "text": [
      "WARNING:absl:You are saving your model as an HDF5 file via `model.save()` or `keras.saving.save_model(model)`. This file format is considered legacy. We recommend using instead the native Keras format, e.g. `model.save('my_model.keras')` or `keras.saving.save_model(model, 'my_model.keras')`. \n"
     ]
    },
    {
     "name": "stdout",
     "output_type": "stream",
     "text": [
      "14/14 - 1s - 80ms/step - accuracy: 1.0000 - loss: 0.0132 - val_accuracy: 1.0000 - val_loss: 0.1053\n",
      "Epoch 58/100\n",
      "\n",
      "Epoch 58: val_loss improved from 0.10528 to 0.10386, saving model to repo/EEG-Image-Research/tmp/checkpoint7_0_5.h5\n"
     ]
    },
    {
     "name": "stderr",
     "output_type": "stream",
     "text": [
      "WARNING:absl:You are saving your model as an HDF5 file via `model.save()` or `keras.saving.save_model(model)`. This file format is considered legacy. We recommend using instead the native Keras format, e.g. `model.save('my_model.keras')` or `keras.saving.save_model(model, 'my_model.keras')`. \n"
     ]
    },
    {
     "name": "stdout",
     "output_type": "stream",
     "text": [
      "14/14 - 1s - 83ms/step - accuracy: 1.0000 - loss: 0.0137 - val_accuracy: 1.0000 - val_loss: 0.1039\n",
      "Epoch 59/100\n",
      "\n",
      "Epoch 59: val_loss improved from 0.10386 to 0.10366, saving model to repo/EEG-Image-Research/tmp/checkpoint7_0_5.h5\n"
     ]
    },
    {
     "name": "stderr",
     "output_type": "stream",
     "text": [
      "WARNING:absl:You are saving your model as an HDF5 file via `model.save()` or `keras.saving.save_model(model)`. This file format is considered legacy. We recommend using instead the native Keras format, e.g. `model.save('my_model.keras')` or `keras.saving.save_model(model, 'my_model.keras')`. \n"
     ]
    },
    {
     "name": "stdout",
     "output_type": "stream",
     "text": [
      "14/14 - 1s - 79ms/step - accuracy: 1.0000 - loss: 0.0132 - val_accuracy: 1.0000 - val_loss: 0.1037\n",
      "Epoch 60/100\n",
      "\n",
      "Epoch 60: val_loss improved from 0.10366 to 0.10303, saving model to repo/EEG-Image-Research/tmp/checkpoint7_0_5.h5\n"
     ]
    },
    {
     "name": "stderr",
     "output_type": "stream",
     "text": [
      "WARNING:absl:You are saving your model as an HDF5 file via `model.save()` or `keras.saving.save_model(model)`. This file format is considered legacy. We recommend using instead the native Keras format, e.g. `model.save('my_model.keras')` or `keras.saving.save_model(model, 'my_model.keras')`. \n"
     ]
    },
    {
     "name": "stdout",
     "output_type": "stream",
     "text": [
      "14/14 - 1s - 79ms/step - accuracy: 1.0000 - loss: 0.0131 - val_accuracy: 1.0000 - val_loss: 0.1030\n",
      "Epoch 61/100\n",
      "\n",
      "Epoch 61: val_loss did not improve from 0.10303\n",
      "14/14 - 1s - 83ms/step - accuracy: 1.0000 - loss: 0.0133 - val_accuracy: 1.0000 - val_loss: 0.1035\n",
      "Epoch 62/100\n",
      "\n",
      "Epoch 62: val_loss did not improve from 0.10303\n",
      "14/14 - 1s - 76ms/step - accuracy: 1.0000 - loss: 0.0132 - val_accuracy: 1.0000 - val_loss: 0.1033\n",
      "Epoch 63/100\n",
      "\n",
      "Epoch 63: val_loss did not improve from 0.10303\n",
      "14/14 - 1s - 73ms/step - accuracy: 1.0000 - loss: 0.0132 - val_accuracy: 1.0000 - val_loss: 0.1038\n",
      "Epoch 64/100\n",
      "\n",
      "Epoch 64: val_loss did not improve from 0.10303\n",
      "14/14 - 1s - 79ms/step - accuracy: 1.0000 - loss: 0.0138 - val_accuracy: 1.0000 - val_loss: 0.1034\n",
      "Epoch 65/100\n",
      "\n",
      "Epoch 65: val_loss improved from 0.10303 to 0.10254, saving model to repo/EEG-Image-Research/tmp/checkpoint7_0_5.h5\n"
     ]
    },
    {
     "name": "stderr",
     "output_type": "stream",
     "text": [
      "WARNING:absl:You are saving your model as an HDF5 file via `model.save()` or `keras.saving.save_model(model)`. This file format is considered legacy. We recommend using instead the native Keras format, e.g. `model.save('my_model.keras')` or `keras.saving.save_model(model, 'my_model.keras')`. \n"
     ]
    },
    {
     "name": "stdout",
     "output_type": "stream",
     "text": [
      "14/14 - 1s - 84ms/step - accuracy: 1.0000 - loss: 0.0133 - val_accuracy: 1.0000 - val_loss: 0.1025\n",
      "Epoch 66/100\n",
      "\n",
      "Epoch 66: val_loss improved from 0.10254 to 0.10193, saving model to repo/EEG-Image-Research/tmp/checkpoint7_0_5.h5\n"
     ]
    },
    {
     "name": "stderr",
     "output_type": "stream",
     "text": [
      "WARNING:absl:You are saving your model as an HDF5 file via `model.save()` or `keras.saving.save_model(model)`. This file format is considered legacy. We recommend using instead the native Keras format, e.g. `model.save('my_model.keras')` or `keras.saving.save_model(model, 'my_model.keras')`. \n"
     ]
    },
    {
     "name": "stdout",
     "output_type": "stream",
     "text": [
      "14/14 - 1s - 84ms/step - accuracy: 1.0000 - loss: 0.0130 - val_accuracy: 1.0000 - val_loss: 0.1019\n",
      "Epoch 67/100\n",
      "\n",
      "Epoch 67: val_loss improved from 0.10193 to 0.10057, saving model to repo/EEG-Image-Research/tmp/checkpoint7_0_5.h5\n"
     ]
    },
    {
     "name": "stderr",
     "output_type": "stream",
     "text": [
      "WARNING:absl:You are saving your model as an HDF5 file via `model.save()` or `keras.saving.save_model(model)`. This file format is considered legacy. We recommend using instead the native Keras format, e.g. `model.save('my_model.keras')` or `keras.saving.save_model(model, 'my_model.keras')`. \n"
     ]
    },
    {
     "name": "stdout",
     "output_type": "stream",
     "text": [
      "14/14 - 1s - 84ms/step - accuracy: 1.0000 - loss: 0.0131 - val_accuracy: 1.0000 - val_loss: 0.1006\n",
      "Epoch 68/100\n",
      "\n",
      "Epoch 68: val_loss improved from 0.10057 to 0.09968, saving model to repo/EEG-Image-Research/tmp/checkpoint7_0_5.h5\n"
     ]
    },
    {
     "name": "stderr",
     "output_type": "stream",
     "text": [
      "WARNING:absl:You are saving your model as an HDF5 file via `model.save()` or `keras.saving.save_model(model)`. This file format is considered legacy. We recommend using instead the native Keras format, e.g. `model.save('my_model.keras')` or `keras.saving.save_model(model, 'my_model.keras')`. \n"
     ]
    },
    {
     "name": "stdout",
     "output_type": "stream",
     "text": [
      "14/14 - 1s - 85ms/step - accuracy: 1.0000 - loss: 0.0130 - val_accuracy: 1.0000 - val_loss: 0.0997\n",
      "Epoch 69/100\n",
      "\n",
      "Epoch 69: val_loss improved from 0.09968 to 0.09963, saving model to repo/EEG-Image-Research/tmp/checkpoint7_0_5.h5\n"
     ]
    },
    {
     "name": "stderr",
     "output_type": "stream",
     "text": [
      "WARNING:absl:You are saving your model as an HDF5 file via `model.save()` or `keras.saving.save_model(model)`. This file format is considered legacy. We recommend using instead the native Keras format, e.g. `model.save('my_model.keras')` or `keras.saving.save_model(model, 'my_model.keras')`. \n"
     ]
    },
    {
     "name": "stdout",
     "output_type": "stream",
     "text": [
      "14/14 - 1s - 82ms/step - accuracy: 1.0000 - loss: 0.0134 - val_accuracy: 1.0000 - val_loss: 0.0996\n",
      "Epoch 70/100\n",
      "\n",
      "Epoch 70: val_loss did not improve from 0.09963\n",
      "14/14 - 1s - 77ms/step - accuracy: 1.0000 - loss: 0.0129 - val_accuracy: 1.0000 - val_loss: 0.0999\n",
      "Epoch 71/100\n",
      "\n",
      "Epoch 71: val_loss improved from 0.09963 to 0.09935, saving model to repo/EEG-Image-Research/tmp/checkpoint7_0_5.h5\n"
     ]
    },
    {
     "name": "stderr",
     "output_type": "stream",
     "text": [
      "WARNING:absl:You are saving your model as an HDF5 file via `model.save()` or `keras.saving.save_model(model)`. This file format is considered legacy. We recommend using instead the native Keras format, e.g. `model.save('my_model.keras')` or `keras.saving.save_model(model, 'my_model.keras')`. \n"
     ]
    },
    {
     "name": "stdout",
     "output_type": "stream",
     "text": [
      "14/14 - 1s - 83ms/step - accuracy: 1.0000 - loss: 0.0132 - val_accuracy: 1.0000 - val_loss: 0.0993\n",
      "Epoch 72/100\n",
      "\n",
      "Epoch 72: val_loss improved from 0.09935 to 0.09717, saving model to repo/EEG-Image-Research/tmp/checkpoint7_0_5.h5\n"
     ]
    },
    {
     "name": "stderr",
     "output_type": "stream",
     "text": [
      "WARNING:absl:You are saving your model as an HDF5 file via `model.save()` or `keras.saving.save_model(model)`. This file format is considered legacy. We recommend using instead the native Keras format, e.g. `model.save('my_model.keras')` or `keras.saving.save_model(model, 'my_model.keras')`. \n"
     ]
    },
    {
     "name": "stdout",
     "output_type": "stream",
     "text": [
      "14/14 - 1s - 82ms/step - accuracy: 1.0000 - loss: 0.0134 - val_accuracy: 1.0000 - val_loss: 0.0972\n",
      "Epoch 73/100\n",
      "\n",
      "Epoch 73: val_loss improved from 0.09717 to 0.09620, saving model to repo/EEG-Image-Research/tmp/checkpoint7_0_5.h5\n"
     ]
    },
    {
     "name": "stderr",
     "output_type": "stream",
     "text": [
      "WARNING:absl:You are saving your model as an HDF5 file via `model.save()` or `keras.saving.save_model(model)`. This file format is considered legacy. We recommend using instead the native Keras format, e.g. `model.save('my_model.keras')` or `keras.saving.save_model(model, 'my_model.keras')`. \n"
     ]
    },
    {
     "name": "stdout",
     "output_type": "stream",
     "text": [
      "14/14 - 1s - 78ms/step - accuracy: 1.0000 - loss: 0.0131 - val_accuracy: 1.0000 - val_loss: 0.0962\n",
      "Epoch 74/100\n",
      "\n",
      "Epoch 74: val_loss did not improve from 0.09620\n",
      "14/14 - 1s - 81ms/step - accuracy: 1.0000 - loss: 0.0130 - val_accuracy: 1.0000 - val_loss: 0.0967\n",
      "Epoch 75/100\n",
      "\n",
      "Epoch 75: val_loss did not improve from 0.09620\n",
      "14/14 - 1s - 77ms/step - accuracy: 1.0000 - loss: 0.0129 - val_accuracy: 1.0000 - val_loss: 0.0963\n",
      "Epoch 76/100\n",
      "\n",
      "Epoch 76: val_loss improved from 0.09620 to 0.09611, saving model to repo/EEG-Image-Research/tmp/checkpoint7_0_5.h5\n"
     ]
    },
    {
     "name": "stderr",
     "output_type": "stream",
     "text": [
      "WARNING:absl:You are saving your model as an HDF5 file via `model.save()` or `keras.saving.save_model(model)`. This file format is considered legacy. We recommend using instead the native Keras format, e.g. `model.save('my_model.keras')` or `keras.saving.save_model(model, 'my_model.keras')`. \n"
     ]
    },
    {
     "name": "stdout",
     "output_type": "stream",
     "text": [
      "14/14 - 1s - 78ms/step - accuracy: 1.0000 - loss: 0.0129 - val_accuracy: 1.0000 - val_loss: 0.0961\n",
      "Epoch 77/100\n",
      "\n",
      "Epoch 77: val_loss did not improve from 0.09611\n",
      "14/14 - 1s - 87ms/step - accuracy: 1.0000 - loss: 0.0129 - val_accuracy: 1.0000 - val_loss: 0.0964\n",
      "Epoch 78/100\n",
      "\n",
      "Epoch 78: val_loss did not improve from 0.09611\n",
      "14/14 - 1s - 78ms/step - accuracy: 1.0000 - loss: 0.0131 - val_accuracy: 1.0000 - val_loss: 0.0974\n",
      "Epoch 79/100\n",
      "\n",
      "Epoch 79: val_loss did not improve from 0.09611\n",
      "14/14 - 1s - 88ms/step - accuracy: 1.0000 - loss: 0.0130 - val_accuracy: 1.0000 - val_loss: 0.0981\n",
      "Epoch 80/100\n",
      "\n",
      "Epoch 80: val_loss did not improve from 0.09611\n",
      "14/14 - 1s - 79ms/step - accuracy: 1.0000 - loss: 0.0130 - val_accuracy: 1.0000 - val_loss: 0.0971\n",
      "Epoch 81/100\n",
      "\n",
      "Epoch 81: val_loss did not improve from 0.09611\n",
      "14/14 - 1s - 77ms/step - accuracy: 1.0000 - loss: 0.0128 - val_accuracy: 1.0000 - val_loss: 0.0973\n",
      "Epoch 82/100\n",
      "\n",
      "Epoch 82: val_loss did not improve from 0.09611\n",
      "14/14 - 1s - 79ms/step - accuracy: 1.0000 - loss: 0.0129 - val_accuracy: 1.0000 - val_loss: 0.0984\n",
      "Epoch 83/100\n",
      "\n",
      "Epoch 83: val_loss improved from 0.09611 to 0.09584, saving model to repo/EEG-Image-Research/tmp/checkpoint7_0_5.h5\n"
     ]
    },
    {
     "name": "stderr",
     "output_type": "stream",
     "text": [
      "WARNING:absl:You are saving your model as an HDF5 file via `model.save()` or `keras.saving.save_model(model)`. This file format is considered legacy. We recommend using instead the native Keras format, e.g. `model.save('my_model.keras')` or `keras.saving.save_model(model, 'my_model.keras')`. \n"
     ]
    },
    {
     "name": "stdout",
     "output_type": "stream",
     "text": [
      "14/14 - 1s - 82ms/step - accuracy: 1.0000 - loss: 0.0126 - val_accuracy: 1.0000 - val_loss: 0.0958\n",
      "Epoch 84/100\n",
      "\n",
      "Epoch 84: val_loss did not improve from 0.09584\n",
      "14/14 - 1s - 81ms/step - accuracy: 1.0000 - loss: 0.0126 - val_accuracy: 1.0000 - val_loss: 0.0960\n",
      "Epoch 85/100\n",
      "\n",
      "Epoch 85: val_loss improved from 0.09584 to 0.09496, saving model to repo/EEG-Image-Research/tmp/checkpoint7_0_5.h5\n"
     ]
    },
    {
     "name": "stderr",
     "output_type": "stream",
     "text": [
      "WARNING:absl:You are saving your model as an HDF5 file via `model.save()` or `keras.saving.save_model(model)`. This file format is considered legacy. We recommend using instead the native Keras format, e.g. `model.save('my_model.keras')` or `keras.saving.save_model(model, 'my_model.keras')`. \n"
     ]
    },
    {
     "name": "stdout",
     "output_type": "stream",
     "text": [
      "14/14 - 1s - 79ms/step - accuracy: 1.0000 - loss: 0.0129 - val_accuracy: 1.0000 - val_loss: 0.0950\n",
      "Epoch 86/100\n",
      "\n",
      "Epoch 86: val_loss did not improve from 0.09496\n",
      "14/14 - 1s - 88ms/step - accuracy: 1.0000 - loss: 0.0126 - val_accuracy: 1.0000 - val_loss: 0.0958\n",
      "Epoch 87/100\n",
      "\n",
      "Epoch 87: val_loss did not improve from 0.09496\n",
      "14/14 - 1s - 79ms/step - accuracy: 1.0000 - loss: 0.0126 - val_accuracy: 1.0000 - val_loss: 0.0952\n",
      "Epoch 88/100\n",
      "\n",
      "Epoch 88: val_loss improved from 0.09496 to 0.09440, saving model to repo/EEG-Image-Research/tmp/checkpoint7_0_5.h5\n"
     ]
    },
    {
     "name": "stderr",
     "output_type": "stream",
     "text": [
      "WARNING:absl:You are saving your model as an HDF5 file via `model.save()` or `keras.saving.save_model(model)`. This file format is considered legacy. We recommend using instead the native Keras format, e.g. `model.save('my_model.keras')` or `keras.saving.save_model(model, 'my_model.keras')`. \n"
     ]
    },
    {
     "name": "stdout",
     "output_type": "stream",
     "text": [
      "14/14 - 1s - 88ms/step - accuracy: 1.0000 - loss: 0.0127 - val_accuracy: 1.0000 - val_loss: 0.0944\n",
      "Epoch 89/100\n",
      "\n",
      "Epoch 89: val_loss improved from 0.09440 to 0.09405, saving model to repo/EEG-Image-Research/tmp/checkpoint7_0_5.h5\n"
     ]
    },
    {
     "name": "stderr",
     "output_type": "stream",
     "text": [
      "WARNING:absl:You are saving your model as an HDF5 file via `model.save()` or `keras.saving.save_model(model)`. This file format is considered legacy. We recommend using instead the native Keras format, e.g. `model.save('my_model.keras')` or `keras.saving.save_model(model, 'my_model.keras')`. \n"
     ]
    },
    {
     "name": "stdout",
     "output_type": "stream",
     "text": [
      "14/14 - 1s - 76ms/step - accuracy: 1.0000 - loss: 0.0128 - val_accuracy: 1.0000 - val_loss: 0.0941\n",
      "Epoch 90/100\n",
      "\n",
      "Epoch 90: val_loss improved from 0.09405 to 0.09346, saving model to repo/EEG-Image-Research/tmp/checkpoint7_0_5.h5\n"
     ]
    },
    {
     "name": "stderr",
     "output_type": "stream",
     "text": [
      "WARNING:absl:You are saving your model as an HDF5 file via `model.save()` or `keras.saving.save_model(model)`. This file format is considered legacy. We recommend using instead the native Keras format, e.g. `model.save('my_model.keras')` or `keras.saving.save_model(model, 'my_model.keras')`. \n"
     ]
    },
    {
     "name": "stdout",
     "output_type": "stream",
     "text": [
      "14/14 - 1s - 82ms/step - accuracy: 1.0000 - loss: 0.0126 - val_accuracy: 1.0000 - val_loss: 0.0935\n",
      "Epoch 91/100\n",
      "\n",
      "Epoch 91: val_loss improved from 0.09346 to 0.09005, saving model to repo/EEG-Image-Research/tmp/checkpoint7_0_5.h5\n"
     ]
    },
    {
     "name": "stderr",
     "output_type": "stream",
     "text": [
      "WARNING:absl:You are saving your model as an HDF5 file via `model.save()` or `keras.saving.save_model(model)`. This file format is considered legacy. We recommend using instead the native Keras format, e.g. `model.save('my_model.keras')` or `keras.saving.save_model(model, 'my_model.keras')`. \n"
     ]
    },
    {
     "name": "stdout",
     "output_type": "stream",
     "text": [
      "14/14 - 1s - 83ms/step - accuracy: 1.0000 - loss: 0.0129 - val_accuracy: 1.0000 - val_loss: 0.0901\n",
      "Epoch 92/100\n",
      "\n",
      "Epoch 92: val_loss improved from 0.09005 to 0.08724, saving model to repo/EEG-Image-Research/tmp/checkpoint7_0_5.h5\n"
     ]
    },
    {
     "name": "stderr",
     "output_type": "stream",
     "text": [
      "WARNING:absl:You are saving your model as an HDF5 file via `model.save()` or `keras.saving.save_model(model)`. This file format is considered legacy. We recommend using instead the native Keras format, e.g. `model.save('my_model.keras')` or `keras.saving.save_model(model, 'my_model.keras')`. \n"
     ]
    },
    {
     "name": "stdout",
     "output_type": "stream",
     "text": [
      "14/14 - 1s - 86ms/step - accuracy: 1.0000 - loss: 0.0125 - val_accuracy: 1.0000 - val_loss: 0.0872\n",
      "Epoch 93/100\n",
      "\n",
      "Epoch 93: val_loss improved from 0.08724 to 0.08658, saving model to repo/EEG-Image-Research/tmp/checkpoint7_0_5.h5\n"
     ]
    },
    {
     "name": "stderr",
     "output_type": "stream",
     "text": [
      "WARNING:absl:You are saving your model as an HDF5 file via `model.save()` or `keras.saving.save_model(model)`. This file format is considered legacy. We recommend using instead the native Keras format, e.g. `model.save('my_model.keras')` or `keras.saving.save_model(model, 'my_model.keras')`. \n"
     ]
    },
    {
     "name": "stdout",
     "output_type": "stream",
     "text": [
      "14/14 - 1s - 80ms/step - accuracy: 1.0000 - loss: 0.0124 - val_accuracy: 1.0000 - val_loss: 0.0866\n",
      "Epoch 94/100\n",
      "\n",
      "Epoch 94: val_loss improved from 0.08658 to 0.08490, saving model to repo/EEG-Image-Research/tmp/checkpoint7_0_5.h5\n"
     ]
    },
    {
     "name": "stderr",
     "output_type": "stream",
     "text": [
      "WARNING:absl:You are saving your model as an HDF5 file via `model.save()` or `keras.saving.save_model(model)`. This file format is considered legacy. We recommend using instead the native Keras format, e.g. `model.save('my_model.keras')` or `keras.saving.save_model(model, 'my_model.keras')`. \n"
     ]
    },
    {
     "name": "stdout",
     "output_type": "stream",
     "text": [
      "14/14 - 1s - 82ms/step - accuracy: 1.0000 - loss: 0.0126 - val_accuracy: 1.0000 - val_loss: 0.0849\n",
      "Epoch 95/100\n",
      "\n",
      "Epoch 95: val_loss improved from 0.08490 to 0.08482, saving model to repo/EEG-Image-Research/tmp/checkpoint7_0_5.h5\n"
     ]
    },
    {
     "name": "stderr",
     "output_type": "stream",
     "text": [
      "WARNING:absl:You are saving your model as an HDF5 file via `model.save()` or `keras.saving.save_model(model)`. This file format is considered legacy. We recommend using instead the native Keras format, e.g. `model.save('my_model.keras')` or `keras.saving.save_model(model, 'my_model.keras')`. \n"
     ]
    },
    {
     "name": "stdout",
     "output_type": "stream",
     "text": [
      "14/14 - 1s - 79ms/step - accuracy: 1.0000 - loss: 0.0125 - val_accuracy: 1.0000 - val_loss: 0.0848\n",
      "Epoch 96/100\n",
      "\n",
      "Epoch 96: val_loss did not improve from 0.08482\n",
      "14/14 - 1s - 77ms/step - accuracy: 1.0000 - loss: 0.0124 - val_accuracy: 1.0000 - val_loss: 0.0858\n",
      "Epoch 97/100\n",
      "\n",
      "Epoch 97: val_loss did not improve from 0.08482\n",
      "14/14 - 1s - 77ms/step - accuracy: 1.0000 - loss: 0.0123 - val_accuracy: 1.0000 - val_loss: 0.0863\n",
      "Epoch 98/100\n",
      "\n",
      "Epoch 98: val_loss did not improve from 0.08482\n",
      "14/14 - 1s - 78ms/step - accuracy: 1.0000 - loss: 0.0124 - val_accuracy: 1.0000 - val_loss: 0.0864\n",
      "Epoch 99/100\n",
      "\n",
      "Epoch 99: val_loss did not improve from 0.08482\n",
      "14/14 - 1s - 77ms/step - accuracy: 1.0000 - loss: 0.0123 - val_accuracy: 1.0000 - val_loss: 0.0855\n",
      "Epoch 100/100\n",
      "\n",
      "Epoch 100: val_loss did not improve from 0.08482\n",
      "14/14 - 1s - 81ms/step - accuracy: 1.0000 - loss: 0.0124 - val_accuracy: 1.0000 - val_loss: 0.0851\n",
      "WARNING:tensorflow:6 out of the last 6 calls to <function TensorFlowTrainer.make_predict_function.<locals>.one_step_on_data_distributed at 0x7f7e0c33d300> triggered tf.function retracing. Tracing is expensive and the excessive number of tracings could be due to (1) creating @tf.function repeatedly in a loop, (2) passing tensors with different shapes, (3) passing Python objects instead of tensors. For (1), please define your @tf.function outside of the loop. For (2), @tf.function has reduce_retracing=True option that can avoid unnecessary retracing. For (3), please refer to https://www.tensorflow.org/guide/function#controlling_retracing and https://www.tensorflow.org/api_docs/python/tf/function for  more details.\n"
     ]
    },
    {
     "name": "stderr",
     "output_type": "stream",
     "text": [
      "WARNING:tensorflow:6 out of the last 6 calls to <function TensorFlowTrainer.make_predict_function.<locals>.one_step_on_data_distributed at 0x7f7e0c33d300> triggered tf.function retracing. Tracing is expensive and the excessive number of tracings could be due to (1) creating @tf.function repeatedly in a loop, (2) passing tensors with different shapes, (3) passing Python objects instead of tensors. For (1), please define your @tf.function outside of the loop. For (2), @tf.function has reduce_retracing=True option that can avoid unnecessary retracing. For (3), please refer to https://www.tensorflow.org/guide/function#controlling_retracing and https://www.tensorflow.org/api_docs/python/tf/function for  more details.\n"
     ]
    },
    {
     "name": "stdout",
     "output_type": "stream",
     "text": [
      "\u001b[1m1/1\u001b[0m \u001b[32m━━━━━━━━━━━━━━━━━━━━\u001b[0m\u001b[37m\u001b[0m \u001b[1m0s\u001b[0m 199ms/step\n",
      "Test Loss: 1.0222182273864746, Test Accuracy: 0.5714285969734192, \n",
      "[1, 0]\n",
      "Epoch 1/100\n",
      "\n",
      "Epoch 1: val_loss improved from inf to 0.70463, saving model to repo/EEG-Image-Research/tmp/checkpoint7_1_0.h5\n"
     ]
    },
    {
     "name": "stderr",
     "output_type": "stream",
     "text": [
      "WARNING:absl:You are saving your model as an HDF5 file via `model.save()` or `keras.saving.save_model(model)`. This file format is considered legacy. We recommend using instead the native Keras format, e.g. `model.save('my_model.keras')` or `keras.saving.save_model(model, 'my_model.keras')`. \n"
     ]
    },
    {
     "name": "stdout",
     "output_type": "stream",
     "text": [
      "14/14 - 3s - 200ms/step - accuracy: 0.5714 - loss: 0.7009 - val_accuracy: 1.0000 - val_loss: 0.7046\n",
      "Epoch 2/100\n",
      "\n",
      "Epoch 2: val_loss did not improve from 0.70463\n",
      "14/14 - 1s - 82ms/step - accuracy: 0.6429 - loss: 0.6134 - val_accuracy: 0.1429 - val_loss: 0.7077\n",
      "Epoch 3/100\n",
      "\n",
      "Epoch 3: val_loss did not improve from 0.70463\n",
      "14/14 - 1s - 82ms/step - accuracy: 0.7857 - loss: 0.3797 - val_accuracy: 0.4286 - val_loss: 0.7065\n",
      "Epoch 4/100\n",
      "\n",
      "Epoch 4: val_loss did not improve from 0.70463\n",
      "14/14 - 1s - 82ms/step - accuracy: 0.9286 - loss: 0.3132 - val_accuracy: 0.5714 - val_loss: 0.7048\n",
      "Epoch 5/100\n",
      "\n",
      "Epoch 5: val_loss did not improve from 0.70463\n",
      "14/14 - 1s - 81ms/step - accuracy: 1.0000 - loss: 0.1979 - val_accuracy: 0.4286 - val_loss: 0.7092\n",
      "Epoch 6/100\n",
      "\n",
      "Epoch 6: val_loss did not improve from 0.70463\n",
      "14/14 - 1s - 76ms/step - accuracy: 1.0000 - loss: 0.1248 - val_accuracy: 0.5714 - val_loss: 0.7094\n",
      "Epoch 7/100\n",
      "\n",
      "Epoch 7: val_loss improved from 0.70463 to 0.69717, saving model to repo/EEG-Image-Research/tmp/checkpoint7_1_0.h5\n"
     ]
    },
    {
     "name": "stderr",
     "output_type": "stream",
     "text": [
      "WARNING:absl:You are saving your model as an HDF5 file via `model.save()` or `keras.saving.save_model(model)`. This file format is considered legacy. We recommend using instead the native Keras format, e.g. `model.save('my_model.keras')` or `keras.saving.save_model(model, 'my_model.keras')`. \n"
     ]
    },
    {
     "name": "stdout",
     "output_type": "stream",
     "text": [
      "14/14 - 1s - 84ms/step - accuracy: 1.0000 - loss: 0.0859 - val_accuracy: 0.5714 - val_loss: 0.6972\n",
      "Epoch 8/100\n",
      "\n",
      "Epoch 8: val_loss improved from 0.69717 to 0.69034, saving model to repo/EEG-Image-Research/tmp/checkpoint7_1_0.h5\n"
     ]
    },
    {
     "name": "stderr",
     "output_type": "stream",
     "text": [
      "WARNING:absl:You are saving your model as an HDF5 file via `model.save()` or `keras.saving.save_model(model)`. This file format is considered legacy. We recommend using instead the native Keras format, e.g. `model.save('my_model.keras')` or `keras.saving.save_model(model, 'my_model.keras')`. \n"
     ]
    },
    {
     "name": "stdout",
     "output_type": "stream",
     "text": [
      "14/14 - 1s - 79ms/step - accuracy: 1.0000 - loss: 0.0495 - val_accuracy: 0.7143 - val_loss: 0.6903\n",
      "Epoch 9/100\n",
      "\n",
      "Epoch 9: val_loss improved from 0.69034 to 0.68345, saving model to repo/EEG-Image-Research/tmp/checkpoint7_1_0.h5\n"
     ]
    },
    {
     "name": "stderr",
     "output_type": "stream",
     "text": [
      "WARNING:absl:You are saving your model as an HDF5 file via `model.save()` or `keras.saving.save_model(model)`. This file format is considered legacy. We recommend using instead the native Keras format, e.g. `model.save('my_model.keras')` or `keras.saving.save_model(model, 'my_model.keras')`. \n"
     ]
    },
    {
     "name": "stdout",
     "output_type": "stream",
     "text": [
      "14/14 - 1s - 85ms/step - accuracy: 1.0000 - loss: 0.0478 - val_accuracy: 0.7143 - val_loss: 0.6835\n",
      "Epoch 10/100\n",
      "\n",
      "Epoch 10: val_loss improved from 0.68345 to 0.68137, saving model to repo/EEG-Image-Research/tmp/checkpoint7_1_0.h5\n"
     ]
    },
    {
     "name": "stderr",
     "output_type": "stream",
     "text": [
      "WARNING:absl:You are saving your model as an HDF5 file via `model.save()` or `keras.saving.save_model(model)`. This file format is considered legacy. We recommend using instead the native Keras format, e.g. `model.save('my_model.keras')` or `keras.saving.save_model(model, 'my_model.keras')`. \n"
     ]
    },
    {
     "name": "stdout",
     "output_type": "stream",
     "text": [
      "14/14 - 1s - 86ms/step - accuracy: 1.0000 - loss: 0.0380 - val_accuracy: 0.7143 - val_loss: 0.6814\n",
      "Epoch 11/100\n",
      "\n",
      "Epoch 11: val_loss improved from 0.68137 to 0.67772, saving model to repo/EEG-Image-Research/tmp/checkpoint7_1_0.h5\n"
     ]
    },
    {
     "name": "stderr",
     "output_type": "stream",
     "text": [
      "WARNING:absl:You are saving your model as an HDF5 file via `model.save()` or `keras.saving.save_model(model)`. This file format is considered legacy. We recommend using instead the native Keras format, e.g. `model.save('my_model.keras')` or `keras.saving.save_model(model, 'my_model.keras')`. \n"
     ]
    },
    {
     "name": "stdout",
     "output_type": "stream",
     "text": [
      "14/14 - 1s - 91ms/step - accuracy: 1.0000 - loss: 0.0286 - val_accuracy: 0.7143 - val_loss: 0.6777\n",
      "Epoch 12/100\n",
      "\n",
      "Epoch 12: val_loss improved from 0.67772 to 0.66794, saving model to repo/EEG-Image-Research/tmp/checkpoint7_1_0.h5\n"
     ]
    },
    {
     "name": "stderr",
     "output_type": "stream",
     "text": [
      "WARNING:absl:You are saving your model as an HDF5 file via `model.save()` or `keras.saving.save_model(model)`. This file format is considered legacy. We recommend using instead the native Keras format, e.g. `model.save('my_model.keras')` or `keras.saving.save_model(model, 'my_model.keras')`. \n"
     ]
    },
    {
     "name": "stdout",
     "output_type": "stream",
     "text": [
      "14/14 - 1s - 87ms/step - accuracy: 1.0000 - loss: 0.0520 - val_accuracy: 0.7143 - val_loss: 0.6679\n",
      "Epoch 13/100\n",
      "\n",
      "Epoch 13: val_loss improved from 0.66794 to 0.65705, saving model to repo/EEG-Image-Research/tmp/checkpoint7_1_0.h5\n"
     ]
    },
    {
     "name": "stderr",
     "output_type": "stream",
     "text": [
      "WARNING:absl:You are saving your model as an HDF5 file via `model.save()` or `keras.saving.save_model(model)`. This file format is considered legacy. We recommend using instead the native Keras format, e.g. `model.save('my_model.keras')` or `keras.saving.save_model(model, 'my_model.keras')`. \n"
     ]
    },
    {
     "name": "stdout",
     "output_type": "stream",
     "text": [
      "14/14 - 1s - 99ms/step - accuracy: 1.0000 - loss: 0.0270 - val_accuracy: 0.8571 - val_loss: 0.6571\n",
      "Epoch 14/100\n",
      "\n",
      "Epoch 14: val_loss improved from 0.65705 to 0.65625, saving model to repo/EEG-Image-Research/tmp/checkpoint7_1_0.h5\n"
     ]
    },
    {
     "name": "stderr",
     "output_type": "stream",
     "text": [
      "WARNING:absl:You are saving your model as an HDF5 file via `model.save()` or `keras.saving.save_model(model)`. This file format is considered legacy. We recommend using instead the native Keras format, e.g. `model.save('my_model.keras')` or `keras.saving.save_model(model, 'my_model.keras')`. \n"
     ]
    },
    {
     "name": "stdout",
     "output_type": "stream",
     "text": [
      "14/14 - 1s - 93ms/step - accuracy: 1.0000 - loss: 0.0208 - val_accuracy: 0.7143 - val_loss: 0.6562\n",
      "Epoch 15/100\n",
      "\n",
      "Epoch 15: val_loss did not improve from 0.65625\n",
      "14/14 - 1s - 84ms/step - accuracy: 1.0000 - loss: 0.0185 - val_accuracy: 0.7143 - val_loss: 0.6567\n",
      "Epoch 16/100\n",
      "\n",
      "Epoch 16: val_loss improved from 0.65625 to 0.65326, saving model to repo/EEG-Image-Research/tmp/checkpoint7_1_0.h5\n"
     ]
    },
    {
     "name": "stderr",
     "output_type": "stream",
     "text": [
      "WARNING:absl:You are saving your model as an HDF5 file via `model.save()` or `keras.saving.save_model(model)`. This file format is considered legacy. We recommend using instead the native Keras format, e.g. `model.save('my_model.keras')` or `keras.saving.save_model(model, 'my_model.keras')`. \n"
     ]
    },
    {
     "name": "stdout",
     "output_type": "stream",
     "text": [
      "14/14 - 1s - 89ms/step - accuracy: 1.0000 - loss: 0.0222 - val_accuracy: 0.7143 - val_loss: 0.6533\n",
      "Epoch 17/100\n",
      "\n",
      "Epoch 17: val_loss improved from 0.65326 to 0.65136, saving model to repo/EEG-Image-Research/tmp/checkpoint7_1_0.h5\n"
     ]
    },
    {
     "name": "stderr",
     "output_type": "stream",
     "text": [
      "WARNING:absl:You are saving your model as an HDF5 file via `model.save()` or `keras.saving.save_model(model)`. This file format is considered legacy. We recommend using instead the native Keras format, e.g. `model.save('my_model.keras')` or `keras.saving.save_model(model, 'my_model.keras')`. \n"
     ]
    },
    {
     "name": "stdout",
     "output_type": "stream",
     "text": [
      "14/14 - 1s - 89ms/step - accuracy: 1.0000 - loss: 0.0180 - val_accuracy: 0.7143 - val_loss: 0.6514\n",
      "Epoch 18/100\n",
      "\n",
      "Epoch 18: val_loss improved from 0.65136 to 0.64979, saving model to repo/EEG-Image-Research/tmp/checkpoint7_1_0.h5\n"
     ]
    },
    {
     "name": "stderr",
     "output_type": "stream",
     "text": [
      "WARNING:absl:You are saving your model as an HDF5 file via `model.save()` or `keras.saving.save_model(model)`. This file format is considered legacy. We recommend using instead the native Keras format, e.g. `model.save('my_model.keras')` or `keras.saving.save_model(model, 'my_model.keras')`. \n"
     ]
    },
    {
     "name": "stdout",
     "output_type": "stream",
     "text": [
      "14/14 - 1s - 92ms/step - accuracy: 1.0000 - loss: 0.0161 - val_accuracy: 0.5714 - val_loss: 0.6498\n",
      "Epoch 19/100\n",
      "\n",
      "Epoch 19: val_loss did not improve from 0.64979\n",
      "14/14 - 1s - 90ms/step - accuracy: 1.0000 - loss: 0.0172 - val_accuracy: 0.5714 - val_loss: 0.6510\n",
      "Epoch 20/100\n",
      "\n",
      "Epoch 20: val_loss did not improve from 0.64979\n",
      "14/14 - 1s - 84ms/step - accuracy: 1.0000 - loss: 0.0172 - val_accuracy: 0.5714 - val_loss: 0.6510\n",
      "Epoch 21/100\n",
      "\n",
      "Epoch 21: val_loss did not improve from 0.64979\n",
      "14/14 - 1s - 87ms/step - accuracy: 1.0000 - loss: 0.0151 - val_accuracy: 0.5714 - val_loss: 0.6530\n",
      "Epoch 22/100\n",
      "\n",
      "Epoch 22: val_loss did not improve from 0.64979\n",
      "14/14 - 1s - 87ms/step - accuracy: 1.0000 - loss: 0.0158 - val_accuracy: 0.5714 - val_loss: 0.6527\n",
      "Epoch 23/100\n",
      "\n",
      "Epoch 23: val_loss did not improve from 0.64979\n",
      "14/14 - 1s - 93ms/step - accuracy: 1.0000 - loss: 0.0149 - val_accuracy: 0.5714 - val_loss: 0.6546\n",
      "Epoch 24/100\n",
      "\n",
      "Epoch 24: val_loss did not improve from 0.64979\n",
      "14/14 - 1s - 85ms/step - accuracy: 1.0000 - loss: 0.0147 - val_accuracy: 0.5714 - val_loss: 0.6525\n",
      "Epoch 25/100\n",
      "\n",
      "Epoch 25: val_loss did not improve from 0.64979\n",
      "14/14 - 1s - 81ms/step - accuracy: 1.0000 - loss: 0.0177 - val_accuracy: 0.5714 - val_loss: 0.6538\n",
      "Epoch 26/100\n",
      "\n",
      "Epoch 26: val_loss did not improve from 0.64979\n",
      "14/14 - 1s - 84ms/step - accuracy: 1.0000 - loss: 0.0155 - val_accuracy: 0.5714 - val_loss: 0.6513\n",
      "Epoch 27/100\n",
      "\n",
      "Epoch 27: val_loss did not improve from 0.64979\n",
      "14/14 - 1s - 81ms/step - accuracy: 1.0000 - loss: 0.0178 - val_accuracy: 0.5714 - val_loss: 0.6510\n",
      "Epoch 28/100\n",
      "\n",
      "Epoch 28: val_loss did not improve from 0.64979\n",
      "14/14 - 1s - 87ms/step - accuracy: 1.0000 - loss: 0.0145 - val_accuracy: 0.5714 - val_loss: 0.6513\n",
      "Epoch 29/100\n",
      "\n",
      "Epoch 29: val_loss did not improve from 0.64979\n",
      "14/14 - 1s - 90ms/step - accuracy: 1.0000 - loss: 0.0146 - val_accuracy: 0.7143 - val_loss: 0.6536\n",
      "Epoch 30/100\n",
      "\n",
      "Epoch 30: val_loss did not improve from 0.64979\n",
      "14/14 - 1s - 87ms/step - accuracy: 1.0000 - loss: 0.0177 - val_accuracy: 0.7143 - val_loss: 0.6509\n",
      "Epoch 31/100\n",
      "\n",
      "Epoch 31: val_loss did not improve from 0.64979\n",
      "14/14 - 1s - 84ms/step - accuracy: 1.0000 - loss: 0.0145 - val_accuracy: 0.7143 - val_loss: 0.6518\n",
      "Epoch 32/100\n",
      "\n",
      "Epoch 32: val_loss did not improve from 0.64979\n",
      "14/14 - 1s - 84ms/step - accuracy: 1.0000 - loss: 0.0146 - val_accuracy: 0.7143 - val_loss: 0.6545\n",
      "Epoch 33/100\n",
      "\n",
      "Epoch 33: val_loss did not improve from 0.64979\n",
      "14/14 - 1s - 85ms/step - accuracy: 1.0000 - loss: 0.0150 - val_accuracy: 0.7143 - val_loss: 0.6553\n",
      "Epoch 34/100\n",
      "\n",
      "Epoch 34: val_loss improved from 0.64979 to 0.64635, saving model to repo/EEG-Image-Research/tmp/checkpoint7_1_0.h5\n"
     ]
    },
    {
     "name": "stderr",
     "output_type": "stream",
     "text": [
      "WARNING:absl:You are saving your model as an HDF5 file via `model.save()` or `keras.saving.save_model(model)`. This file format is considered legacy. We recommend using instead the native Keras format, e.g. `model.save('my_model.keras')` or `keras.saving.save_model(model, 'my_model.keras')`. \n"
     ]
    },
    {
     "name": "stdout",
     "output_type": "stream",
     "text": [
      "14/14 - 1s - 84ms/step - accuracy: 1.0000 - loss: 0.0146 - val_accuracy: 0.7143 - val_loss: 0.6463\n",
      "Epoch 35/100\n",
      "\n",
      "Epoch 35: val_loss improved from 0.64635 to 0.64465, saving model to repo/EEG-Image-Research/tmp/checkpoint7_1_0.h5\n"
     ]
    },
    {
     "name": "stderr",
     "output_type": "stream",
     "text": [
      "WARNING:absl:You are saving your model as an HDF5 file via `model.save()` or `keras.saving.save_model(model)`. This file format is considered legacy. We recommend using instead the native Keras format, e.g. `model.save('my_model.keras')` or `keras.saving.save_model(model, 'my_model.keras')`. \n"
     ]
    },
    {
     "name": "stdout",
     "output_type": "stream",
     "text": [
      "14/14 - 1s - 88ms/step - accuracy: 1.0000 - loss: 0.0136 - val_accuracy: 0.7143 - val_loss: 0.6447\n",
      "Epoch 36/100\n",
      "\n",
      "Epoch 36: val_loss did not improve from 0.64465\n",
      "14/14 - 1s - 86ms/step - accuracy: 1.0000 - loss: 0.0143 - val_accuracy: 0.7143 - val_loss: 0.6486\n",
      "Epoch 37/100\n",
      "\n",
      "Epoch 37: val_loss did not improve from 0.64465\n",
      "14/14 - 1s - 82ms/step - accuracy: 1.0000 - loss: 0.0134 - val_accuracy: 0.7143 - val_loss: 0.6522\n",
      "Epoch 38/100\n",
      "\n",
      "Epoch 38: val_loss did not improve from 0.64465\n",
      "14/14 - 1s - 87ms/step - accuracy: 1.0000 - loss: 0.0133 - val_accuracy: 0.7143 - val_loss: 0.6546\n",
      "Epoch 39/100\n",
      "\n",
      "Epoch 39: val_loss did not improve from 0.64465\n",
      "14/14 - 1s - 88ms/step - accuracy: 1.0000 - loss: 0.0146 - val_accuracy: 0.7143 - val_loss: 0.6594\n",
      "Epoch 40/100\n",
      "\n",
      "Epoch 40: val_loss did not improve from 0.64465\n",
      "14/14 - 1s - 84ms/step - accuracy: 1.0000 - loss: 0.0143 - val_accuracy: 0.7143 - val_loss: 0.6622\n",
      "Epoch 41/100\n",
      "\n",
      "Epoch 41: val_loss did not improve from 0.64465\n",
      "14/14 - 1s - 82ms/step - accuracy: 1.0000 - loss: 0.0137 - val_accuracy: 0.7143 - val_loss: 0.6680\n",
      "Epoch 42/100\n",
      "\n",
      "Epoch 42: val_loss did not improve from 0.64465\n",
      "14/14 - 1s - 85ms/step - accuracy: 1.0000 - loss: 0.0135 - val_accuracy: 0.7143 - val_loss: 0.6688\n",
      "Epoch 43/100\n",
      "\n",
      "Epoch 43: val_loss did not improve from 0.64465\n",
      "14/14 - 1s - 92ms/step - accuracy: 1.0000 - loss: 0.0135 - val_accuracy: 0.7143 - val_loss: 0.6717\n",
      "Epoch 44/100\n",
      "\n",
      "Epoch 44: val_loss did not improve from 0.64465\n",
      "14/14 - 1s - 88ms/step - accuracy: 1.0000 - loss: 0.0129 - val_accuracy: 0.7143 - val_loss: 0.6710\n",
      "Epoch 45/100\n",
      "\n",
      "Epoch 45: val_loss did not improve from 0.64465\n",
      "14/14 - 1s - 84ms/step - accuracy: 1.0000 - loss: 0.0139 - val_accuracy: 0.7143 - val_loss: 0.6717\n",
      "Epoch 46/100\n",
      "\n",
      "Epoch 46: val_loss did not improve from 0.64465\n",
      "14/14 - 1s - 85ms/step - accuracy: 1.0000 - loss: 0.0136 - val_accuracy: 0.7143 - val_loss: 0.6745\n",
      "Epoch 47/100\n",
      "\n",
      "Epoch 47: val_loss did not improve from 0.64465\n",
      "14/14 - 1s - 84ms/step - accuracy: 1.0000 - loss: 0.0132 - val_accuracy: 0.7143 - val_loss: 0.6833\n",
      "Epoch 48/100\n",
      "\n",
      "Epoch 48: val_loss did not improve from 0.64465\n",
      "14/14 - 1s - 90ms/step - accuracy: 1.0000 - loss: 0.0131 - val_accuracy: 0.7143 - val_loss: 0.6890\n",
      "Epoch 49/100\n",
      "\n",
      "Epoch 49: val_loss did not improve from 0.64465\n",
      "14/14 - 1s - 82ms/step - accuracy: 1.0000 - loss: 0.0132 - val_accuracy: 0.7143 - val_loss: 0.6943\n",
      "Epoch 50/100\n",
      "\n",
      "Epoch 50: val_loss did not improve from 0.64465\n",
      "14/14 - 1s - 96ms/step - accuracy: 1.0000 - loss: 0.0131 - val_accuracy: 0.7143 - val_loss: 0.6954\n",
      "Epoch 51/100\n",
      "\n",
      "Epoch 51: val_loss did not improve from 0.64465\n",
      "14/14 - 1s - 85ms/step - accuracy: 1.0000 - loss: 0.0128 - val_accuracy: 0.7143 - val_loss: 0.6989\n",
      "Epoch 52/100\n",
      "\n",
      "Epoch 52: val_loss did not improve from 0.64465\n",
      "14/14 - 1s - 86ms/step - accuracy: 1.0000 - loss: 0.0129 - val_accuracy: 0.7143 - val_loss: 0.7013\n",
      "Epoch 53/100\n",
      "\n",
      "Epoch 53: val_loss did not improve from 0.64465\n",
      "14/14 - 1s - 98ms/step - accuracy: 1.0000 - loss: 0.0128 - val_accuracy: 0.7143 - val_loss: 0.7042\n",
      "Epoch 54/100\n",
      "\n",
      "Epoch 54: val_loss did not improve from 0.64465\n",
      "14/14 - 1s - 87ms/step - accuracy: 1.0000 - loss: 0.0136 - val_accuracy: 0.7143 - val_loss: 0.7056\n",
      "Epoch 55/100\n",
      "\n",
      "Epoch 55: val_loss did not improve from 0.64465\n",
      "14/14 - 1s - 99ms/step - accuracy: 1.0000 - loss: 0.0128 - val_accuracy: 0.7143 - val_loss: 0.7038\n",
      "Epoch 56/100\n",
      "\n",
      "Epoch 56: val_loss did not improve from 0.64465\n",
      "14/14 - 1s - 86ms/step - accuracy: 1.0000 - loss: 0.0139 - val_accuracy: 0.7143 - val_loss: 0.7060\n",
      "Epoch 57/100\n",
      "\n",
      "Epoch 57: val_loss did not improve from 0.64465\n",
      "14/14 - 1s - 87ms/step - accuracy: 1.0000 - loss: 0.0131 - val_accuracy: 0.7143 - val_loss: 0.7111\n",
      "Epoch 58/100\n"
     ]
    }
   ],
   "source": [
    "results = []\n",
    "info = {'X': [], 'Y': [], 'test_binary_accuracy': [], 'val_binary_accuracy': []}\n",
    "for i in range(0, 2):\n",
    "    for j in range(0, 6):\n",
    "            print([i, j])\n",
    "            results.append(in_subject_train_ver2(subject_id = 7, mode = 'subj', classes_mode = 'default', get_pixel = [i, j]))"
   ]
  },
  {
   "cell_type": "code",
   "execution_count": 30,
   "id": "3c52524e",
   "metadata": {},
   "outputs": [
    {
     "name": "stdout",
     "output_type": "stream",
     "text": [
      "[0, 0]\n",
      "\u001b[1m1/1\u001b[0m \u001b[32m━━━━━━━━━━━━━━━━━━━━\u001b[0m\u001b[37m\u001b[0m \u001b[1m0s\u001b[0m 109ms/step\n",
      "Test Loss: 0.3588433563709259, Test Accuracy: 0.8571428656578064, \n",
      "[0, 1]\n",
      "\u001b[1m1/1\u001b[0m \u001b[32m━━━━━━━━━━━━━━━━━━━━\u001b[0m\u001b[37m\u001b[0m \u001b[1m0s\u001b[0m 105ms/step\n",
      "Test Loss: 0.9833058714866638, Test Accuracy: 0.7142857313156128, \n",
      "[0, 2]\n",
      "\u001b[1m1/1\u001b[0m \u001b[32m━━━━━━━━━━━━━━━━━━━━\u001b[0m\u001b[37m\u001b[0m \u001b[1m0s\u001b[0m 109ms/step\n",
      "Test Loss: 0.5452045202255249, Test Accuracy: 0.7142857313156128, \n",
      "[0, 3]\n",
      "\u001b[1m1/1\u001b[0m \u001b[32m━━━━━━━━━━━━━━━━━━━━\u001b[0m\u001b[37m\u001b[0m \u001b[1m0s\u001b[0m 108ms/step\n",
      "Test Loss: 0.6965810060501099, Test Accuracy: 0.4285714328289032, \n",
      "[0, 4]\n",
      "\u001b[1m1/1\u001b[0m \u001b[32m━━━━━━━━━━━━━━━━━━━━\u001b[0m\u001b[37m\u001b[0m \u001b[1m0s\u001b[0m 113ms/step\n",
      "Test Loss: 0.694374680519104, Test Accuracy: 0.4285714328289032, \n",
      "[0, 5]\n",
      "\u001b[1m1/1\u001b[0m \u001b[32m━━━━━━━━━━━━━━━━━━━━\u001b[0m\u001b[37m\u001b[0m \u001b[1m0s\u001b[0m 103ms/step\n",
      "Test Loss: 1.6408666372299194, Test Accuracy: 0.5714285969734192, \n",
      "[1, 0]\n",
      "\u001b[1m1/1\u001b[0m \u001b[32m━━━━━━━━━━━━━━━━━━━━\u001b[0m\u001b[37m\u001b[0m \u001b[1m0s\u001b[0m 103ms/step\n",
      "Test Loss: 0.6153401732444763, Test Accuracy: 0.7142857313156128, \n",
      "[1, 1]\n",
      "\u001b[1m1/1\u001b[0m \u001b[32m━━━━━━━━━━━━━━━━━━━━\u001b[0m\u001b[37m\u001b[0m \u001b[1m0s\u001b[0m 105ms/step\n",
      "Test Loss: 0.767527163028717, Test Accuracy: 0.2857142984867096, \n",
      "[1, 2]\n",
      "\u001b[1m1/1\u001b[0m \u001b[32m━━━━━━━━━━━━━━━━━━━━\u001b[0m\u001b[37m\u001b[0m \u001b[1m0s\u001b[0m 105ms/step\n",
      "Test Loss: 0.5823035836219788, Test Accuracy: 0.7142857313156128, \n",
      "[1, 3]\n",
      "\u001b[1m1/1\u001b[0m \u001b[32m━━━━━━━━━━━━━━━━━━━━\u001b[0m\u001b[37m\u001b[0m \u001b[1m0s\u001b[0m 104ms/step\n",
      "Test Loss: 0.6969004273414612, Test Accuracy: 0.4285714328289032, \n",
      "[1, 4]\n",
      "\u001b[1m1/1\u001b[0m \u001b[32m━━━━━━━━━━━━━━━━━━━━\u001b[0m\u001b[37m\u001b[0m \u001b[1m0s\u001b[0m 107ms/step\n",
      "Test Loss: 0.6659945249557495, Test Accuracy: 0.5714285969734192, \n",
      "[1, 5]\n",
      "\u001b[1m1/1\u001b[0m \u001b[32m━━━━━━━━━━━━━━━━━━━━\u001b[0m\u001b[37m\u001b[0m \u001b[1m0s\u001b[0m 101ms/step\n",
      "Test Loss: 0.6945338845252991, Test Accuracy: 0.4285714328289032, \n",
      "[2, 0]\n",
      "\u001b[1m1/1\u001b[0m \u001b[32m━━━━━━━━━━━━━━━━━━━━\u001b[0m\u001b[37m\u001b[0m \u001b[1m0s\u001b[0m 111ms/step\n",
      "Test Loss: 0.6936972737312317, Test Accuracy: 0.4285714328289032, \n",
      "[2, 1]\n",
      "\u001b[1m1/1\u001b[0m \u001b[32m━━━━━━━━━━━━━━━━━━━━\u001b[0m\u001b[37m\u001b[0m \u001b[1m0s\u001b[0m 104ms/step\n",
      "Test Loss: 0.6559867858886719, Test Accuracy: 0.7142857313156128, \n",
      "[2, 2]\n",
      "\u001b[1m1/1\u001b[0m \u001b[32m━━━━━━━━━━━━━━━━━━━━\u001b[0m\u001b[37m\u001b[0m \u001b[1m0s\u001b[0m 110ms/step\n",
      "Test Loss: 0.560925304889679, Test Accuracy: 0.7142857313156128, \n",
      "[2, 3]\n",
      "\u001b[1m1/1\u001b[0m \u001b[32m━━━━━━━━━━━━━━━━━━━━\u001b[0m\u001b[37m\u001b[0m \u001b[1m0s\u001b[0m 103ms/step\n",
      "Test Loss: 0.6926952600479126, Test Accuracy: 0.2857142984867096, \n",
      "[2, 4]\n",
      "\u001b[1m1/1\u001b[0m \u001b[32m━━━━━━━━━━━━━━━━━━━━\u001b[0m\u001b[37m\u001b[0m \u001b[1m0s\u001b[0m 131ms/step\n",
      "Test Loss: 0.5548143982887268, Test Accuracy: 0.7142857313156128, \n",
      "[2, 5]\n",
      "\u001b[1m1/1\u001b[0m \u001b[32m━━━━━━━━━━━━━━━━━━━━\u001b[0m\u001b[37m\u001b[0m \u001b[1m0s\u001b[0m 103ms/step\n",
      "Test Loss: 0.6933688521385193, Test Accuracy: 0.4285714328289032, \n",
      "[3, 0]\n",
      "\u001b[1m1/1\u001b[0m \u001b[32m━━━━━━━━━━━━━━━━━━━━\u001b[0m\u001b[37m\u001b[0m \u001b[1m0s\u001b[0m 127ms/step\n",
      "Test Loss: 0.6927178502082825, Test Accuracy: 0.5714285969734192, \n",
      "[3, 1]\n",
      "\u001b[1m1/1\u001b[0m \u001b[32m━━━━━━━━━━━━━━━━━━━━\u001b[0m\u001b[37m\u001b[0m \u001b[1m0s\u001b[0m 103ms/step\n",
      "Test Loss: 1.4708272218704224, Test Accuracy: 0.4285714328289032, \n",
      "[3, 2]\n",
      "\u001b[1m1/1\u001b[0m \u001b[32m━━━━━━━━━━━━━━━━━━━━\u001b[0m\u001b[37m\u001b[0m \u001b[1m0s\u001b[0m 123ms/step\n",
      "Test Loss: 0.3787170946598053, Test Accuracy: 0.8571428656578064, \n",
      "[3, 3]\n",
      "\u001b[1m1/1\u001b[0m \u001b[32m━━━━━━━━━━━━━━━━━━━━\u001b[0m\u001b[37m\u001b[0m \u001b[1m0s\u001b[0m 104ms/step\n",
      "Test Loss: 0.3415128290653229, Test Accuracy: 0.8571428656578064, \n",
      "[3, 4]\n",
      "\u001b[1m1/1\u001b[0m \u001b[32m━━━━━━━━━━━━━━━━━━━━\u001b[0m\u001b[37m\u001b[0m \u001b[1m0s\u001b[0m 129ms/step\n",
      "Test Loss: 1.3660823106765747, Test Accuracy: 0.5714285969734192, \n",
      "[3, 5]\n",
      "\u001b[1m1/1\u001b[0m \u001b[32m━━━━━━━━━━━━━━━━━━━━\u001b[0m\u001b[37m\u001b[0m \u001b[1m0s\u001b[0m 102ms/step\n",
      "Test Loss: 0.6234341859817505, Test Accuracy: 0.5714285969734192, \n",
      "[4, 0]\n",
      "\u001b[1m1/1\u001b[0m \u001b[32m━━━━━━━━━━━━━━━━━━━━\u001b[0m\u001b[37m\u001b[0m \u001b[1m0s\u001b[0m 101ms/step\n",
      "Test Loss: 0.6086947321891785, Test Accuracy: 0.7142857313156128, \n",
      "[4, 1]\n",
      "\u001b[1m1/1\u001b[0m \u001b[32m━━━━━━━━━━━━━━━━━━━━\u001b[0m\u001b[37m\u001b[0m \u001b[1m0s\u001b[0m 103ms/step\n",
      "Test Loss: 0.47072601318359375, Test Accuracy: 1.0, \n",
      "[4, 2]\n",
      "\u001b[1m1/1\u001b[0m \u001b[32m━━━━━━━━━━━━━━━━━━━━\u001b[0m\u001b[37m\u001b[0m \u001b[1m0s\u001b[0m 102ms/step\n",
      "Test Loss: 0.6883260011672974, Test Accuracy: 0.7142857313156128, \n",
      "[4, 3]\n",
      "\u001b[1m1/1\u001b[0m \u001b[32m━━━━━━━━━━━━━━━━━━━━\u001b[0m\u001b[37m\u001b[0m \u001b[1m0s\u001b[0m 101ms/step\n",
      "Test Loss: 0.6705697178840637, Test Accuracy: 0.5714285969734192, \n",
      "[4, 4]\n",
      "\u001b[1m1/1\u001b[0m \u001b[32m━━━━━━━━━━━━━━━━━━━━\u001b[0m\u001b[37m\u001b[0m \u001b[1m0s\u001b[0m 103ms/step\n",
      "Test Loss: 0.6956577301025391, Test Accuracy: 0.7142857313156128, \n",
      "[4, 5]\n",
      "\u001b[1m1/1\u001b[0m \u001b[32m━━━━━━━━━━━━━━━━━━━━\u001b[0m\u001b[37m\u001b[0m \u001b[1m0s\u001b[0m 105ms/step\n",
      "Test Loss: 0.6929925680160522, Test Accuracy: 0.4285714328289032, \n",
      "[5, 0]\n",
      "\u001b[1m1/1\u001b[0m \u001b[32m━━━━━━━━━━━━━━━━━━━━\u001b[0m\u001b[37m\u001b[0m \u001b[1m0s\u001b[0m 105ms/step\n",
      "Test Loss: 0.6811725497245789, Test Accuracy: 0.7142857313156128, \n",
      "[5, 1]\n",
      "\u001b[1m1/1\u001b[0m \u001b[32m━━━━━━━━━━━━━━━━━━━━\u001b[0m\u001b[37m\u001b[0m \u001b[1m0s\u001b[0m 105ms/step\n",
      "Test Loss: 1.0687450170516968, Test Accuracy: 0.8571428656578064, \n",
      "[5, 2]\n",
      "\u001b[1m1/1\u001b[0m \u001b[32m━━━━━━━━━━━━━━━━━━━━\u001b[0m\u001b[37m\u001b[0m \u001b[1m0s\u001b[0m 105ms/step\n",
      "Test Loss: 0.7126639485359192, Test Accuracy: 0.1428571492433548, \n",
      "[5, 3]\n",
      "\u001b[1m1/1\u001b[0m \u001b[32m━━━━━━━━━━━━━━━━━━━━\u001b[0m\u001b[37m\u001b[0m \u001b[1m0s\u001b[0m 147ms/step\n",
      "Test Loss: 0.6921499967575073, Test Accuracy: 0.5714285969734192, \n",
      "[5, 4]\n",
      "\u001b[1m1/1\u001b[0m \u001b[32m━━━━━━━━━━━━━━━━━━━━\u001b[0m\u001b[37m\u001b[0m \u001b[1m0s\u001b[0m 112ms/step\n",
      "Test Loss: 0.6903761625289917, Test Accuracy: 0.5714285969734192, \n",
      "[5, 5]\n",
      "\u001b[1m1/1\u001b[0m \u001b[32m━━━━━━━━━━━━━━━━━━━━\u001b[0m\u001b[37m\u001b[0m \u001b[1m0s\u001b[0m 128ms/step\n",
      "Test Loss: 0.7596660256385803, Test Accuracy: 0.5714285969734192, \n"
     ]
    }
   ],
   "source": [
    "results2 = []\n",
    "info = {'X': [], 'Y': [], 'test_binary_accuracy': [], 'val_binary_accuracy': []}\n",
    "for i in range(0, 6):\n",
    "    for j in range(0, 6):\n",
    "        print([i, j])\n",
    "        results2.append(exploit_model(subject_id = 7, mode = 'subj', classes_mode = 'default', get_pixel = [i, j]))"
   ]
  },
  {
   "cell_type": "code",
   "execution_count": 31,
   "id": "f275ceca",
   "metadata": {},
   "outputs": [
    {
     "data": {
      "text/plain": [
       "[([0.3588433563709259, 0.8571428656578064],\n",
       "  array([0, 1, 0, 0, 0, 0, 0]),\n",
       "  [array([0.09453847], dtype=float32),\n",
       "   array([0.50236183], dtype=float32),\n",
       "   array([0.51102775], dtype=float32),\n",
       "   array([0.18408523], dtype=float32),\n",
       "   array([0.28556624], dtype=float32),\n",
       "   array([0.17029028], dtype=float32),\n",
       "   array([0.24596678], dtype=float32)],\n",
       "  array([[0.09453847],\n",
       "         [0.50236183],\n",
       "         [0.51102775],\n",
       "         [0.18408523],\n",
       "         [0.28556624],\n",
       "         [0.17029028],\n",
       "         [0.24596678]], dtype=float32),\n",
       "  None,\n",
       "  array([5, 8, 9, 4, 7, 5, 7])),\n",
       " ([0.9833058714866638, 0.7142857313156128],\n",
       "  array([0, 0, 1, 0, 0, 0, 0]),\n",
       "  [array([0.00030995], dtype=float32),\n",
       "   array([0.7052124], dtype=float32),\n",
       "   array([0.00558454], dtype=float32),\n",
       "   array([0.00451452], dtype=float32),\n",
       "   array([0.00415753], dtype=float32),\n",
       "   array([0.03527782], dtype=float32),\n",
       "   array([0.34882203], dtype=float32)],\n",
       "  array([[3.0994817e-04],\n",
       "         [7.0521241e-01],\n",
       "         [5.5845417e-03],\n",
       "         [4.5145196e-03],\n",
       "         [4.1575292e-03],\n",
       "         [3.5277817e-02],\n",
       "         [3.4882203e-01]], dtype=float32),\n",
       "  None,\n",
       "  array([5, 8, 9, 4, 7, 5, 7])),\n",
       " ([0.5452045202255249, 0.7142857313156128],\n",
       "  array([0, 0, 0, 1, 0, 0, 0]),\n",
       "  [array([0.1643033], dtype=float32),\n",
       "   array([0.3465058], dtype=float32),\n",
       "   array([0.2206556], dtype=float32),\n",
       "   array([0.5488389], dtype=float32),\n",
       "   array([0.44441396], dtype=float32),\n",
       "   array([0.58389175], dtype=float32),\n",
       "   array([0.5925051], dtype=float32)],\n",
       "  array([[0.1643033 ],\n",
       "         [0.3465058 ],\n",
       "         [0.2206556 ],\n",
       "         [0.5488389 ],\n",
       "         [0.44441396],\n",
       "         [0.58389175],\n",
       "         [0.5925051 ]], dtype=float32),\n",
       "  None,\n",
       "  array([5, 8, 9, 4, 7, 5, 7])),\n",
       " ([0.6965810060501099, 0.4285714328289032],\n",
       "  array([0, 0, 0, 1, 1, 0, 1]),\n",
       "  [array([0.51328105], dtype=float32),\n",
       "   array([0.5110524], dtype=float32),\n",
       "   array([0.510713], dtype=float32),\n",
       "   array([0.5164389], dtype=float32),\n",
       "   array([0.51333255], dtype=float32),\n",
       "   array([0.51784265], dtype=float32),\n",
       "   array([0.51243657], dtype=float32)],\n",
       "  array([[0.51328105],\n",
       "         [0.5110524 ],\n",
       "         [0.510713  ],\n",
       "         [0.5164389 ],\n",
       "         [0.51333255],\n",
       "         [0.51784265],\n",
       "         [0.51243657]], dtype=float32),\n",
       "  None,\n",
       "  array([5, 8, 9, 4, 7, 5, 7])),\n",
       " ([0.694374680519104, 0.4285714328289032],\n",
       "  array([0, 0, 1, 0, 1, 0, 1]),\n",
       "  [array([0.5018694], dtype=float32),\n",
       "   array([0.5019829], dtype=float32),\n",
       "   array([0.5013204], dtype=float32),\n",
       "   array([0.5020623], dtype=float32),\n",
       "   array([0.5001635], dtype=float32),\n",
       "   array([0.5017651], dtype=float32),\n",
       "   array([0.50191987], dtype=float32)],\n",
       "  array([[0.5018694 ],\n",
       "         [0.5019829 ],\n",
       "         [0.5013204 ],\n",
       "         [0.5020623 ],\n",
       "         [0.5001635 ],\n",
       "         [0.5017651 ],\n",
       "         [0.50191987]], dtype=float32),\n",
       "  None,\n",
       "  array([5, 8, 9, 4, 7, 5, 7])),\n",
       " ([1.6408666372299194, 0.5714285969734192],\n",
       "  array([0, 1, 0, 0, 1, 0, 1]),\n",
       "  [array([0.00142406], dtype=float32),\n",
       "   array([0.01785119], dtype=float32),\n",
       "   array([0.12002806], dtype=float32),\n",
       "   array([0.05593327], dtype=float32),\n",
       "   array([0.07431986], dtype=float32),\n",
       "   array([0.00260814], dtype=float32),\n",
       "   array([0.00935781], dtype=float32)],\n",
       "  array([[0.00142406],\n",
       "         [0.01785119],\n",
       "         [0.12002806],\n",
       "         [0.05593327],\n",
       "         [0.07431986],\n",
       "         [0.00260814],\n",
       "         [0.00935781]], dtype=float32),\n",
       "  None,\n",
       "  array([5, 8, 9, 4, 7, 5, 7])),\n",
       " ([0.6153401732444763, 0.7142857313156128],\n",
       "  array([1, 0, 0, 0, 0, 1, 0]),\n",
       "  [array([0.43513125], dtype=float32),\n",
       "   array([0.42813233], dtype=float32),\n",
       "   array([0.31300995], dtype=float32),\n",
       "   array([0.31292486], dtype=float32),\n",
       "   array([0.28979295], dtype=float32),\n",
       "   array([0.23764667], dtype=float32),\n",
       "   array([0.32057598], dtype=float32)],\n",
       "  array([[0.43513125],\n",
       "         [0.42813233],\n",
       "         [0.31300995],\n",
       "         [0.31292486],\n",
       "         [0.28979295],\n",
       "         [0.23764667],\n",
       "         [0.32057598]], dtype=float32),\n",
       "  None,\n",
       "  array([5, 8, 9, 4, 7, 5, 7])),\n",
       " ([0.767527163028717, 0.2857142984867096],\n",
       "  array([1, 1, 1, 1, 1, 1, 1]),\n",
       "  [array([0.37510848], dtype=float32),\n",
       "   array([0.43499297], dtype=float32),\n",
       "   array([0.42782235], dtype=float32),\n",
       "   array([0.48084983], dtype=float32),\n",
       "   array([0.50927794], dtype=float32),\n",
       "   array([0.6081363], dtype=float32),\n",
       "   array([0.4464801], dtype=float32)],\n",
       "  array([[0.37510848],\n",
       "         [0.43499297],\n",
       "         [0.42782235],\n",
       "         [0.48084983],\n",
       "         [0.50927794],\n",
       "         [0.6081363 ],\n",
       "         [0.4464801 ]], dtype=float32),\n",
       "  None,\n",
       "  array([5, 8, 9, 4, 7, 5, 7])),\n",
       " ([0.5823035836219788, 0.7142857313156128],\n",
       "  array([1, 0, 0, 0, 1, 1, 1]),\n",
       "  [array([0.77374417], dtype=float32),\n",
       "   array([0.4902156], dtype=float32),\n",
       "   array([0.5365461], dtype=float32),\n",
       "   array([0.2512366], dtype=float32),\n",
       "   array([0.4369251], dtype=float32),\n",
       "   array([0.5362028], dtype=float32),\n",
       "   array([0.52928567], dtype=float32)],\n",
       "  array([[0.77374417],\n",
       "         [0.4902156 ],\n",
       "         [0.5365461 ],\n",
       "         [0.2512366 ],\n",
       "         [0.4369251 ],\n",
       "         [0.5362028 ],\n",
       "         [0.52928567]], dtype=float32),\n",
       "  None,\n",
       "  array([5, 8, 9, 4, 7, 5, 7])),\n",
       " ([0.6969004273414612, 0.4285714328289032],\n",
       "  array([1, 0, 0, 0, 1, 1, 1]),\n",
       "  [array([0.48282614], dtype=float32),\n",
       "   array([0.43360236], dtype=float32),\n",
       "   array([0.4232832], dtype=float32),\n",
       "   array([0.43642953], dtype=float32),\n",
       "   array([0.41531536], dtype=float32),\n",
       "   array([0.4462425], dtype=float32),\n",
       "   array([0.4619636], dtype=float32)],\n",
       "  array([[0.48282614],\n",
       "         [0.43360236],\n",
       "         [0.4232832 ],\n",
       "         [0.43642953],\n",
       "         [0.41531536],\n",
       "         [0.4462425 ],\n",
       "         [0.4619636 ]], dtype=float32),\n",
       "  None,\n",
       "  array([5, 8, 9, 4, 7, 5, 7])),\n",
       " ([0.6659945249557495, 0.5714285969734192],\n",
       "  array([1, 1, 1, 1, 0, 1, 0]),\n",
       "  [array([0.87042624], dtype=float32),\n",
       "   array([0.48135373], dtype=float32),\n",
       "   array([0.9226663], dtype=float32),\n",
       "   array([0.8758557], dtype=float32),\n",
       "   array([0.84520775], dtype=float32),\n",
       "   array([0.7344614], dtype=float32),\n",
       "   array([0.75456077], dtype=float32)],\n",
       "  array([[0.87042624],\n",
       "         [0.48135373],\n",
       "         [0.9226663 ],\n",
       "         [0.8758557 ],\n",
       "         [0.84520775],\n",
       "         [0.7344614 ],\n",
       "         [0.75456077]], dtype=float32),\n",
       "  None,\n",
       "  array([5, 8, 9, 4, 7, 5, 7])),\n",
       " ([0.6945338845252991, 0.4285714328289032],\n",
       "  array([1, 0, 0, 0, 1, 1, 1]),\n",
       "  [array([0.49389297], dtype=float32),\n",
       "   array([0.49332035], dtype=float32),\n",
       "   array([0.4930411], dtype=float32),\n",
       "   array([0.4896299], dtype=float32),\n",
       "   array([0.49222216], dtype=float32),\n",
       "   array([0.49118453], dtype=float32),\n",
       "   array([0.49424717], dtype=float32)],\n",
       "  array([[0.49389297],\n",
       "         [0.49332035],\n",
       "         [0.4930411 ],\n",
       "         [0.4896299 ],\n",
       "         [0.49222216],\n",
       "         [0.49118453],\n",
       "         [0.49424717]], dtype=float32),\n",
       "  None,\n",
       "  array([5, 8, 9, 4, 7, 5, 7])),\n",
       " ([0.6936972737312317, 0.4285714328289032],\n",
       "  array([0, 0, 0, 1, 1, 0, 1]),\n",
       "  [array([0.50258315], dtype=float32),\n",
       "   array([0.50298476], dtype=float32),\n",
       "   array([0.50293964], dtype=float32),\n",
       "   array([0.5026735], dtype=float32),\n",
       "   array([0.5037781], dtype=float32),\n",
       "   array([0.5026577], dtype=float32),\n",
       "   array([0.5028492], dtype=float32)],\n",
       "  array([[0.50258315],\n",
       "         [0.50298476],\n",
       "         [0.50293964],\n",
       "         [0.5026735 ],\n",
       "         [0.5037781 ],\n",
       "         [0.5026577 ],\n",
       "         [0.5028492 ]], dtype=float32),\n",
       "  None,\n",
       "  array([5, 8, 9, 4, 7, 5, 7])),\n",
       " ([0.6559867858886719, 0.7142857313156128],\n",
       "  array([0, 0, 1, 0, 1, 0, 1]),\n",
       "  [array([0.33754793], dtype=float32),\n",
       "   array([0.4107627], dtype=float32),\n",
       "   array([0.22627674], dtype=float32),\n",
       "   array([0.04575532], dtype=float32),\n",
       "   array([0.25300646], dtype=float32),\n",
       "   array([0.07358861], dtype=float32),\n",
       "   array([0.51295584], dtype=float32)],\n",
       "  array([[0.33754793],\n",
       "         [0.4107627 ],\n",
       "         [0.22627674],\n",
       "         [0.04575532],\n",
       "         [0.25300646],\n",
       "         [0.07358861],\n",
       "         [0.51295584]], dtype=float32),\n",
       "  None,\n",
       "  array([5, 8, 9, 4, 7, 5, 7])),\n",
       " ([0.560925304889679, 0.7142857313156128],\n",
       "  array([0, 1, 0, 0, 0, 0, 0]),\n",
       "  [array([0.5890821], dtype=float32),\n",
       "   array([0.54044455], dtype=float32),\n",
       "   array([0.566029], dtype=float32),\n",
       "   array([0.3524191], dtype=float32),\n",
       "   array([0.3243201], dtype=float32),\n",
       "   array([0.11935888], dtype=float32),\n",
       "   array([0.46917439], dtype=float32)],\n",
       "  array([[0.5890821 ],\n",
       "         [0.54044455],\n",
       "         [0.566029  ],\n",
       "         [0.3524191 ],\n",
       "         [0.3243201 ],\n",
       "         [0.11935888],\n",
       "         [0.46917439]], dtype=float32),\n",
       "  None,\n",
       "  array([5, 8, 9, 4, 7, 5, 7])),\n",
       " ([0.6926952600479126, 0.2857142984867096],\n",
       "  array([0, 1, 0, 0, 0, 0, 0]),\n",
       "  [array([0.50319356], dtype=float32),\n",
       "   array([0.5050903], dtype=float32),\n",
       "   array([0.5023482], dtype=float32),\n",
       "   array([0.48789048], dtype=float32),\n",
       "   array([0.5000711], dtype=float32),\n",
       "   array([0.50506186], dtype=float32),\n",
       "   array([0.50470924], dtype=float32)],\n",
       "  array([[0.50319356],\n",
       "         [0.5050903 ],\n",
       "         [0.5023482 ],\n",
       "         [0.48789048],\n",
       "         [0.5000711 ],\n",
       "         [0.50506186],\n",
       "         [0.50470924]], dtype=float32),\n",
       "  None,\n",
       "  array([5, 8, 9, 4, 7, 5, 7])),\n",
       " ([0.5548143982887268, 0.7142857313156128],\n",
       "  array([0, 0, 1, 0, 0, 0, 0]),\n",
       "  [array([0.421149], dtype=float32),\n",
       "   array([0.5053709], dtype=float32),\n",
       "   array([0.4102786], dtype=float32),\n",
       "   array([0.29073733], dtype=float32),\n",
       "   array([0.46113285], dtype=float32),\n",
       "   array([0.26602954], dtype=float32),\n",
       "   array([0.37563643], dtype=float32)],\n",
       "  array([[0.421149  ],\n",
       "         [0.5053709 ],\n",
       "         [0.4102786 ],\n",
       "         [0.29073733],\n",
       "         [0.46113285],\n",
       "         [0.26602954],\n",
       "         [0.37563643]], dtype=float32),\n",
       "  None,\n",
       "  array([5, 8, 9, 4, 7, 5, 7])),\n",
       " ([0.6933688521385193, 0.4285714328289032],\n",
       "  array([0, 0, 0, 1, 1, 0, 1]),\n",
       "  [array([0.5031931], dtype=float32),\n",
       "   array([0.50344706], dtype=float32),\n",
       "   array([0.5034302], dtype=float32),\n",
       "   array([0.5051322], dtype=float32),\n",
       "   array([0.50460976], dtype=float32),\n",
       "   array([0.50534236], dtype=float32),\n",
       "   array([0.5050299], dtype=float32)],\n",
       "  array([[0.5031931 ],\n",
       "         [0.50344706],\n",
       "         [0.5034302 ],\n",
       "         [0.5051322 ],\n",
       "         [0.50460976],\n",
       "         [0.50534236],\n",
       "         [0.5050299 ]], dtype=float32),\n",
       "  None,\n",
       "  array([5, 8, 9, 4, 7, 5, 7])),\n",
       " ([0.6927178502082825, 0.5714285969734192],\n",
       "  array([0, 0, 0, 1, 1, 0, 1]),\n",
       "  [array([0.50246835], dtype=float32),\n",
       "   array([0.500364], dtype=float32),\n",
       "   array([0.49708515], dtype=float32),\n",
       "   array([0.5017258], dtype=float32),\n",
       "   array([0.49843723], dtype=float32),\n",
       "   array([0.49928907], dtype=float32),\n",
       "   array([0.5005669], dtype=float32)],\n",
       "  array([[0.50246835],\n",
       "         [0.500364  ],\n",
       "         [0.49708515],\n",
       "         [0.5017258 ],\n",
       "         [0.49843723],\n",
       "         [0.49928907],\n",
       "         [0.5005669 ]], dtype=float32),\n",
       "  None,\n",
       "  array([5, 8, 9, 4, 7, 5, 7])),\n",
       " ([1.4708272218704224, 0.4285714328289032],\n",
       "  array([0, 0, 1, 0, 1, 0, 1]),\n",
       "  [array([0.00120496], dtype=float32),\n",
       "   array([0.23738486], dtype=float32),\n",
       "   array([0.08692597], dtype=float32),\n",
       "   array([0.7117738], dtype=float32),\n",
       "   array([0.07288413], dtype=float32),\n",
       "   array([0.02308534], dtype=float32),\n",
       "   array([0.02485653], dtype=float32)],\n",
       "  array([[0.00120496],\n",
       "         [0.23738486],\n",
       "         [0.08692597],\n",
       "         [0.7117738 ],\n",
       "         [0.07288413],\n",
       "         [0.02308534],\n",
       "         [0.02485653]], dtype=float32),\n",
       "  None,\n",
       "  array([5, 8, 9, 4, 7, 5, 7])),\n",
       " ([0.3787170946598053, 0.8571428656578064],\n",
       "  array([0, 1, 0, 0, 0, 0, 0]),\n",
       "  [array([0.4073569], dtype=float32),\n",
       "   array([0.63266516], dtype=float32),\n",
       "   array([0.298878], dtype=float32),\n",
       "   array([0.28782505], dtype=float32),\n",
       "   array([0.11035502], dtype=float32),\n",
       "   array([0.13111578], dtype=float32),\n",
       "   array([0.51230234], dtype=float32)],\n",
       "  array([[0.4073569 ],\n",
       "         [0.63266516],\n",
       "         [0.298878  ],\n",
       "         [0.28782505],\n",
       "         [0.11035502],\n",
       "         [0.13111578],\n",
       "         [0.51230234]], dtype=float32),\n",
       "  None,\n",
       "  array([5, 8, 9, 4, 7, 5, 7])),\n",
       " ([0.3415128290653229, 0.8571428656578064],\n",
       "  array([0, 1, 0, 0, 0, 0, 0]),\n",
       "  [array([0.28453523], dtype=float32),\n",
       "   array([0.29859236], dtype=float32),\n",
       "   array([0.11613049], dtype=float32),\n",
       "   array([0.17564398], dtype=float32),\n",
       "   array([0.06592562], dtype=float32),\n",
       "   array([0.14522713], dtype=float32),\n",
       "   array([0.26315188], dtype=float32)],\n",
       "  array([[0.28453523],\n",
       "         [0.29859236],\n",
       "         [0.11613049],\n",
       "         [0.17564398],\n",
       "         [0.06592562],\n",
       "         [0.14522713],\n",
       "         [0.26315188]], dtype=float32),\n",
       "  None,\n",
       "  array([5, 8, 9, 4, 7, 5, 7])),\n",
       " ([1.3660823106765747, 0.5714285969734192],\n",
       "  array([0, 0, 1, 0, 0, 0, 0]),\n",
       "  [array([0.27599818], dtype=float32),\n",
       "   array([0.8904562], dtype=float32),\n",
       "   array([0.00562955], dtype=float32),\n",
       "   array([0.00012147], dtype=float32),\n",
       "   array([0.02185994], dtype=float32),\n",
       "   array([0.00832134], dtype=float32),\n",
       "   array([0.8376301], dtype=float32)],\n",
       "  array([[2.75998175e-01],\n",
       "         [8.90456200e-01],\n",
       "         [5.62954741e-03],\n",
       "         [1.21468314e-04],\n",
       "         [2.18599401e-02],\n",
       "         [8.32134485e-03],\n",
       "         [8.37630093e-01]], dtype=float32),\n",
       "  None,\n",
       "  array([5, 8, 9, 4, 7, 5, 7])),\n",
       " ([0.6234341859817505, 0.5714285969734192],\n",
       "  array([0, 0, 0, 1, 1, 0, 1]),\n",
       "  [array([0.019704], dtype=float32),\n",
       "   array([0.68681085], dtype=float32),\n",
       "   array([0.11216801], dtype=float32),\n",
       "   array([0.9439672], dtype=float32),\n",
       "   array([0.46811992], dtype=float32),\n",
       "   array([0.80859053], dtype=float32),\n",
       "   array([0.55201346], dtype=float32)],\n",
       "  array([[0.019704  ],\n",
       "         [0.68681085],\n",
       "         [0.11216801],\n",
       "         [0.9439672 ],\n",
       "         [0.46811992],\n",
       "         [0.80859053],\n",
       "         [0.55201346]], dtype=float32),\n",
       "  None,\n",
       "  array([5, 8, 9, 4, 7, 5, 7])),\n",
       " ([0.6086947321891785, 0.7142857313156128],\n",
       "  array([1, 0, 0, 0, 0, 1, 0]),\n",
       "  [array([0.3337858], dtype=float32),\n",
       "   array([0.36651102], dtype=float32),\n",
       "   array([0.3671569], dtype=float32),\n",
       "   array([0.34154013], dtype=float32),\n",
       "   array([0.29560867], dtype=float32),\n",
       "   array([0.31034592], dtype=float32),\n",
       "   array([0.26744846], dtype=float32)],\n",
       "  array([[0.3337858 ],\n",
       "         [0.36651102],\n",
       "         [0.3671569 ],\n",
       "         [0.34154013],\n",
       "         [0.29560867],\n",
       "         [0.31034592],\n",
       "         [0.26744846]], dtype=float32),\n",
       "  None,\n",
       "  array([5, 8, 9, 4, 7, 5, 7])),\n",
       " ([0.47072601318359375, 1.0],\n",
       "  array([1, 1, 1, 1, 1, 1, 1]),\n",
       "  [array([0.7388026], dtype=float32),\n",
       "   array([0.57562], dtype=float32),\n",
       "   array([0.64995396], dtype=float32),\n",
       "   array([0.6282715], dtype=float32),\n",
       "   array([0.62126243], dtype=float32),\n",
       "   array([0.61138636], dtype=float32),\n",
       "   array([0.5619257], dtype=float32)],\n",
       "  array([[0.7388026 ],\n",
       "         [0.57562   ],\n",
       "         [0.64995396],\n",
       "         [0.6282715 ],\n",
       "         [0.62126243],\n",
       "         [0.61138636],\n",
       "         [0.5619257 ]], dtype=float32),\n",
       "  None,\n",
       "  array([5, 8, 9, 4, 7, 5, 7])),\n",
       " ([0.6883260011672974, 0.7142857313156128],\n",
       "  array([1, 0, 0, 0, 1, 1, 1]),\n",
       "  [array([0.5055609], dtype=float32),\n",
       "   array([0.49582356], dtype=float32),\n",
       "   array([0.50325567], dtype=float32),\n",
       "   array([0.504352], dtype=float32),\n",
       "   array([0.5072486], dtype=float32),\n",
       "   array([0.5051624], dtype=float32),\n",
       "   array([0.5024961], dtype=float32)],\n",
       "  array([[0.5055609 ],\n",
       "         [0.49582356],\n",
       "         [0.50325567],\n",
       "         [0.504352  ],\n",
       "         [0.5072486 ],\n",
       "         [0.5051624 ],\n",
       "         [0.5024961 ]], dtype=float32),\n",
       "  None,\n",
       "  array([5, 8, 9, 4, 7, 5, 7])),\n",
       " ([0.6705697178840637, 0.5714285969734192],\n",
       "  array([1, 0, 0, 0, 1, 1, 1]),\n",
       "  [array([0.5666101], dtype=float32),\n",
       "   array([0.48691678], dtype=float32),\n",
       "   array([0.46450987], dtype=float32),\n",
       "   array([0.41160327], dtype=float32),\n",
       "   array([0.47256696], dtype=float32),\n",
       "   array([0.44651234], dtype=float32),\n",
       "   array([0.4734088], dtype=float32)],\n",
       "  array([[0.5666101 ],\n",
       "         [0.48691678],\n",
       "         [0.46450987],\n",
       "         [0.41160327],\n",
       "         [0.47256696],\n",
       "         [0.44651234],\n",
       "         [0.4734088 ]], dtype=float32),\n",
       "  None,\n",
       "  array([5, 8, 9, 4, 7, 5, 7])),\n",
       " ([0.6956577301025391, 0.7142857313156128],\n",
       "  array([1, 1, 1, 1, 0, 1, 0]),\n",
       "  [array([0.9002516], dtype=float32),\n",
       "   array([0.870173], dtype=float32),\n",
       "   array([0.782887], dtype=float32),\n",
       "   array([0.8937193], dtype=float32),\n",
       "   array([0.8432659], dtype=float32),\n",
       "   array([0.78431916], dtype=float32),\n",
       "   array([0.88607156], dtype=float32)],\n",
       "  array([[0.9002516 ],\n",
       "         [0.870173  ],\n",
       "         [0.782887  ],\n",
       "         [0.8937193 ],\n",
       "         [0.8432659 ],\n",
       "         [0.78431916],\n",
       "         [0.88607156]], dtype=float32),\n",
       "  None,\n",
       "  array([5, 8, 9, 4, 7, 5, 7])),\n",
       " ([0.6929925680160522, 0.4285714328289032],\n",
       "  array([1, 0, 0, 0, 1, 1, 1]),\n",
       "  [array([0.46779153], dtype=float32),\n",
       "   array([0.48867396], dtype=float32),\n",
       "   array([0.4238779], dtype=float32),\n",
       "   array([0.39810485], dtype=float32),\n",
       "   array([0.47274047], dtype=float32),\n",
       "   array([0.40874234], dtype=float32),\n",
       "   array([0.48798013], dtype=float32)],\n",
       "  array([[0.46779153],\n",
       "         [0.48867396],\n",
       "         [0.4238779 ],\n",
       "         [0.39810485],\n",
       "         [0.47274047],\n",
       "         [0.40874234],\n",
       "         [0.48798013]], dtype=float32),\n",
       "  None,\n",
       "  array([5, 8, 9, 4, 7, 5, 7])),\n",
       " ([0.6811725497245789, 0.7142857313156128],\n",
       "  array([0, 1, 0, 0, 0, 0, 0]),\n",
       "  [array([0.00015058], dtype=float32),\n",
       "   array([0.03293678], dtype=float32),\n",
       "   array([0.53801036], dtype=float32),\n",
       "   array([0.27287], dtype=float32),\n",
       "   array([0.12889603], dtype=float32),\n",
       "   array([0.0297565], dtype=float32),\n",
       "   array([0.09137897], dtype=float32)],\n",
       "  array([[1.5057674e-04],\n",
       "         [3.2936778e-02],\n",
       "         [5.3801036e-01],\n",
       "         [2.7287000e-01],\n",
       "         [1.2889603e-01],\n",
       "         [2.9756501e-02],\n",
       "         [9.1378972e-02]], dtype=float32),\n",
       "  None,\n",
       "  array([5, 8, 9, 4, 7, 5, 7])),\n",
       " ([1.0687450170516968, 0.8571428656578064],\n",
       "  array([0, 0, 1, 0, 0, 0, 0]),\n",
       "  [array([6.3248255e-05], dtype=float32),\n",
       "   array([0.00271108], dtype=float32),\n",
       "   array([0.00056979], dtype=float32),\n",
       "   array([0.00245275], dtype=float32),\n",
       "   array([0.00088461], dtype=float32),\n",
       "   array([0.00166273], dtype=float32),\n",
       "   array([0.00318755], dtype=float32)],\n",
       "  array([[6.3248255e-05],\n",
       "         [2.7110840e-03],\n",
       "         [5.6979142e-04],\n",
       "         [2.4527456e-03],\n",
       "         [8.8460592e-04],\n",
       "         [1.6627271e-03],\n",
       "         [3.1875521e-03]], dtype=float32),\n",
       "  None,\n",
       "  array([5, 8, 9, 4, 7, 5, 7])),\n",
       " ([0.7126639485359192, 0.1428571492433548],\n",
       "  array([0, 0, 0, 1, 0, 0, 0]),\n",
       "  [array([0.51595986], dtype=float32),\n",
       "   array([0.50289196], dtype=float32),\n",
       "   array([0.50453514], dtype=float32),\n",
       "   array([0.5044888], dtype=float32),\n",
       "   array([0.51150876], dtype=float32),\n",
       "   array([0.5224747], dtype=float32),\n",
       "   array([0.5142553], dtype=float32)],\n",
       "  array([[0.51595986],\n",
       "         [0.50289196],\n",
       "         [0.50453514],\n",
       "         [0.5044888 ],\n",
       "         [0.51150876],\n",
       "         [0.5224747 ],\n",
       "         [0.5142553 ]], dtype=float32),\n",
       "  None,\n",
       "  array([5, 8, 9, 4, 7, 5, 7])),\n",
       " ([0.6921499967575073, 0.5714285969734192],\n",
       "  array([0, 0, 0, 1, 1, 0, 1]),\n",
       "  [array([0.49620587], dtype=float32),\n",
       "   array([0.49410433], dtype=float32),\n",
       "   array([0.49105075], dtype=float32),\n",
       "   array([0.49689028], dtype=float32),\n",
       "   array([0.49334636], dtype=float32),\n",
       "   array([0.49771044], dtype=float32),\n",
       "   array([0.49256817], dtype=float32)],\n",
       "  array([[0.49620587],\n",
       "         [0.49410433],\n",
       "         [0.49105075],\n",
       "         [0.49689028],\n",
       "         [0.49334636],\n",
       "         [0.49771044],\n",
       "         [0.49256817]], dtype=float32),\n",
       "  None,\n",
       "  array([5, 8, 9, 4, 7, 5, 7])),\n",
       " ([0.6903761625289917, 0.5714285969734192],\n",
       "  array([0, 0, 1, 0, 1, 0, 1]),\n",
       "  [array([0.48847944], dtype=float32),\n",
       "   array([0.48905304], dtype=float32),\n",
       "   array([0.4871197], dtype=float32),\n",
       "   array([0.48642385], dtype=float32),\n",
       "   array([0.48812968], dtype=float32),\n",
       "   array([0.48893815], dtype=float32),\n",
       "   array([0.48834416], dtype=float32)],\n",
       "  array([[0.48847944],\n",
       "         [0.48905304],\n",
       "         [0.4871197 ],\n",
       "         [0.48642385],\n",
       "         [0.48812968],\n",
       "         [0.48893815],\n",
       "         [0.48834416]], dtype=float32),\n",
       "  None,\n",
       "  array([5, 8, 9, 4, 7, 5, 7])),\n",
       " ([0.7596660256385803, 0.5714285969734192],\n",
       "  array([0, 1, 0, 0, 1, 0, 1]),\n",
       "  [array([0.16632842], dtype=float32),\n",
       "   array([0.24421793], dtype=float32),\n",
       "   array([0.34107456], dtype=float32),\n",
       "   array([0.38018966], dtype=float32),\n",
       "   array([0.3862676], dtype=float32),\n",
       "   array([0.2735723], dtype=float32),\n",
       "   array([0.21019407], dtype=float32)],\n",
       "  array([[0.16632842],\n",
       "         [0.24421793],\n",
       "         [0.34107456],\n",
       "         [0.38018966],\n",
       "         [0.3862676 ],\n",
       "         [0.2735723 ],\n",
       "         [0.21019407]], dtype=float32),\n",
       "  None,\n",
       "  array([5, 8, 9, 4, 7, 5, 7]))]"
      ]
     },
     "execution_count": 31,
     "metadata": {},
     "output_type": "execute_result"
    }
   ],
   "source": [
    "results2"
   ]
  },
  {
   "cell_type": "code",
   "execution_count": 36,
   "id": "30f61784",
   "metadata": {},
   "outputs": [
    {
     "name": "stdout",
     "output_type": "stream",
     "text": [
      "1 0.3588433563709259 0.8571428656578064 [0 1 0 0 0 0 0] [[0.09453847]\n",
      " [0.50236183]\n",
      " [0.51102775]\n",
      " [0.18408523]\n",
      " [0.28556624]\n",
      " [0.17029028]\n",
      " [0.24596678]]\n",
      "2 0.9833058714866638 0.7142857313156128 [0 0 1 0 0 0 0] [[3.0994817e-04]\n",
      " [7.0521241e-01]\n",
      " [5.5845417e-03]\n",
      " [4.5145196e-03]\n",
      " [4.1575292e-03]\n",
      " [3.5277817e-02]\n",
      " [3.4882203e-01]]\n",
      "3 0.5452045202255249 0.7142857313156128 [0 0 0 1 0 0 0] [[0.1643033 ]\n",
      " [0.3465058 ]\n",
      " [0.2206556 ]\n",
      " [0.5488389 ]\n",
      " [0.44441396]\n",
      " [0.58389175]\n",
      " [0.5925051 ]]\n",
      "4 0.6965810060501099 0.4285714328289032 [0 0 0 1 1 0 1] [[0.51328105]\n",
      " [0.5110524 ]\n",
      " [0.510713  ]\n",
      " [0.5164389 ]\n",
      " [0.51333255]\n",
      " [0.51784265]\n",
      " [0.51243657]]\n",
      "5 0.694374680519104 0.4285714328289032 [0 0 1 0 1 0 1] [[0.5018694 ]\n",
      " [0.5019829 ]\n",
      " [0.5013204 ]\n",
      " [0.5020623 ]\n",
      " [0.5001635 ]\n",
      " [0.5017651 ]\n",
      " [0.50191987]]\n",
      "6 1.6408666372299194 0.5714285969734192 [0 1 0 0 1 0 1] [[0.00142406]\n",
      " [0.01785119]\n",
      " [0.12002806]\n",
      " [0.05593327]\n",
      " [0.07431986]\n",
      " [0.00260814]\n",
      " [0.00935781]]\n",
      "7 0.6153401732444763 0.7142857313156128 [1 0 0 0 0 1 0] [[0.43513125]\n",
      " [0.42813233]\n",
      " [0.31300995]\n",
      " [0.31292486]\n",
      " [0.28979295]\n",
      " [0.23764667]\n",
      " [0.32057598]]\n",
      "8 0.767527163028717 0.2857142984867096 [1 1 1 1 1 1 1] [[0.37510848]\n",
      " [0.43499297]\n",
      " [0.42782235]\n",
      " [0.48084983]\n",
      " [0.50927794]\n",
      " [0.6081363 ]\n",
      " [0.4464801 ]]\n",
      "9 0.5823035836219788 0.7142857313156128 [1 0 0 0 1 1 1] [[0.77374417]\n",
      " [0.4902156 ]\n",
      " [0.5365461 ]\n",
      " [0.2512366 ]\n",
      " [0.4369251 ]\n",
      " [0.5362028 ]\n",
      " [0.52928567]]\n",
      "10 0.6969004273414612 0.4285714328289032 [1 0 0 0 1 1 1] [[0.48282614]\n",
      " [0.43360236]\n",
      " [0.4232832 ]\n",
      " [0.43642953]\n",
      " [0.41531536]\n",
      " [0.4462425 ]\n",
      " [0.4619636 ]]\n",
      "11 0.6659945249557495 0.5714285969734192 [1 1 1 1 0 1 0] [[0.87042624]\n",
      " [0.48135373]\n",
      " [0.9226663 ]\n",
      " [0.8758557 ]\n",
      " [0.84520775]\n",
      " [0.7344614 ]\n",
      " [0.75456077]]\n",
      "12 0.6945338845252991 0.4285714328289032 [1 0 0 0 1 1 1] [[0.49389297]\n",
      " [0.49332035]\n",
      " [0.4930411 ]\n",
      " [0.4896299 ]\n",
      " [0.49222216]\n",
      " [0.49118453]\n",
      " [0.49424717]]\n",
      "13 0.6936972737312317 0.4285714328289032 [0 0 0 1 1 0 1] [[0.50258315]\n",
      " [0.50298476]\n",
      " [0.50293964]\n",
      " [0.5026735 ]\n",
      " [0.5037781 ]\n",
      " [0.5026577 ]\n",
      " [0.5028492 ]]\n",
      "14 0.6559867858886719 0.7142857313156128 [0 0 1 0 1 0 1] [[0.33754793]\n",
      " [0.4107627 ]\n",
      " [0.22627674]\n",
      " [0.04575532]\n",
      " [0.25300646]\n",
      " [0.07358861]\n",
      " [0.51295584]]\n",
      "15 0.560925304889679 0.7142857313156128 [0 1 0 0 0 0 0] [[0.5890821 ]\n",
      " [0.54044455]\n",
      " [0.566029  ]\n",
      " [0.3524191 ]\n",
      " [0.3243201 ]\n",
      " [0.11935888]\n",
      " [0.46917439]]\n",
      "16 0.6926952600479126 0.2857142984867096 [0 1 0 0 0 0 0] [[0.50319356]\n",
      " [0.5050903 ]\n",
      " [0.5023482 ]\n",
      " [0.48789048]\n",
      " [0.5000711 ]\n",
      " [0.50506186]\n",
      " [0.50470924]]\n",
      "17 0.5548143982887268 0.7142857313156128 [0 0 1 0 0 0 0] [[0.421149  ]\n",
      " [0.5053709 ]\n",
      " [0.4102786 ]\n",
      " [0.29073733]\n",
      " [0.46113285]\n",
      " [0.26602954]\n",
      " [0.37563643]]\n",
      "18 0.6933688521385193 0.4285714328289032 [0 0 0 1 1 0 1] [[0.5031931 ]\n",
      " [0.50344706]\n",
      " [0.5034302 ]\n",
      " [0.5051322 ]\n",
      " [0.50460976]\n",
      " [0.50534236]\n",
      " [0.5050299 ]]\n",
      "19 0.6927178502082825 0.5714285969734192 [0 0 0 1 1 0 1] [[0.50246835]\n",
      " [0.500364  ]\n",
      " [0.49708515]\n",
      " [0.5017258 ]\n",
      " [0.49843723]\n",
      " [0.49928907]\n",
      " [0.5005669 ]]\n",
      "20 1.4708272218704224 0.4285714328289032 [0 0 1 0 1 0 1] [[0.00120496]\n",
      " [0.23738486]\n",
      " [0.08692597]\n",
      " [0.7117738 ]\n",
      " [0.07288413]\n",
      " [0.02308534]\n",
      " [0.02485653]]\n",
      "21 0.3787170946598053 0.8571428656578064 [0 1 0 0 0 0 0] [[0.4073569 ]\n",
      " [0.63266516]\n",
      " [0.298878  ]\n",
      " [0.28782505]\n",
      " [0.11035502]\n",
      " [0.13111578]\n",
      " [0.51230234]]\n",
      "22 0.3415128290653229 0.8571428656578064 [0 1 0 0 0 0 0] [[0.28453523]\n",
      " [0.29859236]\n",
      " [0.11613049]\n",
      " [0.17564398]\n",
      " [0.06592562]\n",
      " [0.14522713]\n",
      " [0.26315188]]\n",
      "23 1.3660823106765747 0.5714285969734192 [0 0 1 0 0 0 0] [[2.75998175e-01]\n",
      " [8.90456200e-01]\n",
      " [5.62954741e-03]\n",
      " [1.21468314e-04]\n",
      " [2.18599401e-02]\n",
      " [8.32134485e-03]\n",
      " [8.37630093e-01]]\n",
      "24 0.6234341859817505 0.5714285969734192 [0 0 0 1 1 0 1] [[0.019704  ]\n",
      " [0.68681085]\n",
      " [0.11216801]\n",
      " [0.9439672 ]\n",
      " [0.46811992]\n",
      " [0.80859053]\n",
      " [0.55201346]]\n",
      "25 0.6086947321891785 0.7142857313156128 [1 0 0 0 0 1 0] [[0.3337858 ]\n",
      " [0.36651102]\n",
      " [0.3671569 ]\n",
      " [0.34154013]\n",
      " [0.29560867]\n",
      " [0.31034592]\n",
      " [0.26744846]]\n",
      "26 0.47072601318359375 1.0 [1 1 1 1 1 1 1] [[0.7388026 ]\n",
      " [0.57562   ]\n",
      " [0.64995396]\n",
      " [0.6282715 ]\n",
      " [0.62126243]\n",
      " [0.61138636]\n",
      " [0.5619257 ]]\n",
      "27 0.6883260011672974 0.7142857313156128 [1 0 0 0 1 1 1] [[0.5055609 ]\n",
      " [0.49582356]\n",
      " [0.50325567]\n",
      " [0.504352  ]\n",
      " [0.5072486 ]\n",
      " [0.5051624 ]\n",
      " [0.5024961 ]]\n",
      "28 0.6705697178840637 0.5714285969734192 [1 0 0 0 1 1 1] [[0.5666101 ]\n",
      " [0.48691678]\n",
      " [0.46450987]\n",
      " [0.41160327]\n",
      " [0.47256696]\n",
      " [0.44651234]\n",
      " [0.4734088 ]]\n",
      "29 0.6956577301025391 0.7142857313156128 [1 1 1 1 0 1 0] [[0.9002516 ]\n",
      " [0.870173  ]\n",
      " [0.782887  ]\n",
      " [0.8937193 ]\n",
      " [0.8432659 ]\n",
      " [0.78431916]\n",
      " [0.88607156]]\n",
      "30 0.6929925680160522 0.4285714328289032 [1 0 0 0 1 1 1] [[0.46779153]\n",
      " [0.48867396]\n",
      " [0.4238779 ]\n",
      " [0.39810485]\n",
      " [0.47274047]\n",
      " [0.40874234]\n",
      " [0.48798013]]\n",
      "31 0.6811725497245789 0.7142857313156128 [0 1 0 0 0 0 0] [[1.5057674e-04]\n",
      " [3.2936778e-02]\n",
      " [5.3801036e-01]\n",
      " [2.7287000e-01]\n",
      " [1.2889603e-01]\n",
      " [2.9756501e-02]\n",
      " [9.1378972e-02]]\n",
      "32 1.0687450170516968 0.8571428656578064 [0 0 1 0 0 0 0] [[6.3248255e-05]\n",
      " [2.7110840e-03]\n",
      " [5.6979142e-04]\n",
      " [2.4527456e-03]\n",
      " [8.8460592e-04]\n",
      " [1.6627271e-03]\n",
      " [3.1875521e-03]]\n",
      "33 0.7126639485359192 0.1428571492433548 [0 0 0 1 0 0 0] [[0.51595986]\n",
      " [0.50289196]\n",
      " [0.50453514]\n",
      " [0.5044888 ]\n",
      " [0.51150876]\n",
      " [0.5224747 ]\n",
      " [0.5142553 ]]\n",
      "34 0.6921499967575073 0.5714285969734192 [0 0 0 1 1 0 1] [[0.49620587]\n",
      " [0.49410433]\n",
      " [0.49105075]\n",
      " [0.49689028]\n",
      " [0.49334636]\n",
      " [0.49771044]\n",
      " [0.49256817]]\n",
      "35 0.6903761625289917 0.5714285969734192 [0 0 1 0 1 0 1] [[0.48847944]\n",
      " [0.48905304]\n",
      " [0.4871197 ]\n",
      " [0.48642385]\n",
      " [0.48812968]\n",
      " [0.48893815]\n",
      " [0.48834416]]\n",
      "36 0.7596660256385803 0.5714285969734192 [0 1 0 0 1 0 1] [[0.16632842]\n",
      " [0.24421793]\n",
      " [0.34107456]\n",
      " [0.38018966]\n",
      " [0.3862676 ]\n",
      " [0.2735723 ]\n",
      " [0.21019407]]\n"
     ]
    }
   ],
   "source": [
    "t = 0\n",
    "acc = 0\n",
    "for_ssim = [[] for i in range(7)]\n",
    "for num, i in enumerate(results2):\n",
    "    t+=1\n",
    "    acc += i[0][1]\n",
    "    for k, val in enumerate(i[3]):\n",
    "        for_ssim[k].append(val) \n",
    "    print(t, i[0][0], i[0][1], i[1], i[3])"
   ]
  },
  {
   "cell_type": "code",
   "execution_count": 61,
   "id": "f205d422",
   "metadata": {},
   "outputs": [
    {
     "data": {
      "text/plain": [
       "[(4, np.float64(0.4957644970103602)),\n",
       " (11, np.float64(0.4052160753202635)),\n",
       " (10, np.float64(0.337108203028044)),\n",
       " (1, np.float64(0.16756455740252757)),\n",
       " (0, np.float64(0.15378588288912834)),\n",
       " (7, np.float64(0.06482284739561364)),\n",
       " (9, np.float64(0.039793011515384426)),\n",
       " (12, np.float64(0.024775502289166338)),\n",
       " (6, np.float64(-0.048641561912602965)),\n",
       " (5, np.float64(-0.07419985985835945)),\n",
       " (8, np.float64(-0.07419985985835945)),\n",
       " (2, np.float64(-0.176700327401113)),\n",
       " (3, np.float64(-0.17670032740111302))]"
      ]
     },
     "execution_count": 61,
     "metadata": {},
     "output_type": "execute_result"
    }
   ],
   "source": [
    "ssim_matrices = []\n",
    "for num, i in enumerate(for_ssim):\n",
    "    ssim_matrices.append([])\n",
    "    for num2, j in enumerate(i):\n",
    "        if num2 % 6 == 0:\n",
    "            ssim_matrices[num].append([])\n",
    "        ssim_matrices[num][num2//6].append(int((j > 0.5).astype(int)))\n",
    "targ = get_target_pairs()\n",
    "preds = predict_class(targ, ssim_matrices)\n",
    "preds[6]"
   ]
  },
  {
   "cell_type": "code",
   "execution_count": 54,
   "id": "5964d1dd",
   "metadata": {},
   "outputs": [
    {
     "data": {
      "text/plain": [
       "array([5, 8, 9, 4, 7, 5, 7])"
      ]
     },
     "execution_count": 54,
     "metadata": {},
     "output_type": "execute_result"
    }
   ],
   "source": [
    "results2[4][5]"
   ]
  },
  {
   "cell_type": "code",
   "execution_count": 62,
   "id": "49835294",
   "metadata": {},
   "outputs": [
    {
     "data": {
      "text/plain": [
       "array([[0, 0, 1, 1, 0, 0],\n",
       "       [0, 1, 0, 0, 1, 0],\n",
       "       [1, 0, 0, 0, 0, 1],\n",
       "       [1, 0, 0, 0, 0, 1],\n",
       "       [0, 1, 0, 0, 1, 0],\n",
       "       [0, 0, 1, 1, 0, 0]])"
      ]
     },
     "execution_count": 62,
     "metadata": {},
     "output_type": "execute_result"
    }
   ],
   "source": [
    "get_target_pairs()[4]"
   ]
  },
  {
   "cell_type": "code",
   "execution_count": 34,
   "id": "87f30281",
   "metadata": {},
   "outputs": [
    {
     "data": {
      "text/plain": [
       "[[], [], [], [], [], [], []]"
      ]
     },
     "execution_count": 34,
     "metadata": {},
     "output_type": "execute_result"
    }
   ],
   "source": [
    "for_ssim"
   ]
  },
  {
   "cell_type": "code",
   "execution_count": 23,
   "id": "2ab40574",
   "metadata": {},
   "outputs": [
    {
     "name": "stdout",
     "output_type": "stream",
     "text": [
      "21.57142908871174\n"
     ]
    }
   ],
   "source": [
    "print(acc)"
   ]
  },
  {
   "cell_type": "code",
   "execution_count": 24,
   "id": "1e444a6b",
   "metadata": {},
   "outputs": [
    {
     "data": {
      "text/plain": [
       "0.5992063635753261"
      ]
     },
     "execution_count": 24,
     "metadata": {},
     "output_type": "execute_result"
    }
   ],
   "source": [
    "acc/36"
   ]
  },
  {
   "cell_type": "code",
   "execution_count": null,
   "id": "fa4e9d56",
   "metadata": {},
   "outputs": [],
   "source": [
    "results[]"
   ]
  },
  {
   "cell_type": "code",
   "execution_count": 16,
   "id": "fe8c6195",
   "metadata": {},
   "outputs": [],
   "source": [
    "import pickle as pkl\n",
    "with open('Experiment_results/subj7onepixel.pkl', 'wb') as f:\n",
    "    pkl.dump(results, f)"
   ]
  },
  {
   "cell_type": "code",
   "execution_count": 17,
   "id": "88ce4834",
   "metadata": {},
   "outputs": [
    {
     "data": {
      "text/plain": [
       "[(0.4301697313785553,\n",
       "  [0.22737577557563782, 1.0],\n",
       "  array([1, 1, 1, 1, 1, 1, 1]),\n",
       "  [array([0.90097296], dtype=float32),\n",
       "   array([0.83951706], dtype=float32),\n",
       "   array([0.95660836], dtype=float32),\n",
       "   array([0.53906494], dtype=float32),\n",
       "   array([0.94505113], dtype=float32),\n",
       "   array([0.7125647], dtype=float32),\n",
       "   array([0.7751174], dtype=float32)],\n",
       "  [[(11, np.float64(0.003245042601342721)),\n",
       "    (7, np.float64(0.003245042601342721)),\n",
       "    (6, np.float64(0.0032450426013427196)),\n",
       "    (3, np.float64(0.0028818728811739174)),\n",
       "    (2, np.float64(0.0028818728811739166)),\n",
       "    (1, np.float64(0.0028818728811739166)),\n",
       "    (5, np.float64(0.0026254757141911346)),\n",
       "    (0, np.float64(0.0026254757141911346)),\n",
       "    (8, np.float64(0.0026254757141911346)),\n",
       "    (4, np.float64(0.0026254757141911346)),\n",
       "    (9, np.float64(0.0026254757141911346)),\n",
       "    (10, np.float64(0.002409128366305698)),\n",
       "    (12, np.float64(0.002409128366305698))],\n",
       "   [(11, np.float64(0.0033428277567389467)),\n",
       "    (7, np.float64(0.0033428277567389467)),\n",
       "    (6, np.float64(0.0033428277567389454)),\n",
       "    (3, np.float64(0.0030036132410582762)),\n",
       "    (2, np.float64(0.003003613241058275)),\n",
       "    (1, np.float64(0.003003613241058275)),\n",
       "    (5, np.float64(0.002767103346303014)),\n",
       "    (0, np.float64(0.002767103346303014)),\n",
       "    (8, np.float64(0.002767103346303014)),\n",
       "    (4, np.float64(0.002767103346303014)),\n",
       "    (9, np.float64(0.002767103346303014)),\n",
       "    (10, np.float64(0.0025631826482913054)),\n",
       "    (12, np.float64(0.0025631826482913054))],\n",
       "   [(11, np.float64(0.003154457946729202)),\n",
       "    (7, np.float64(0.003154457946729202)),\n",
       "    (6, np.float64(0.003154457946729201)),\n",
       "    (3, np.float64(0.002775621028373053)),\n",
       "    (2, np.float64(0.0027756210283730516)),\n",
       "    (1, np.float64(0.0027756210283730516)),\n",
       "    (5, np.float64(0.002506870207026612)),\n",
       "    (0, np.float64(0.002506870207026612)),\n",
       "    (8, np.float64(0.002506870207026612)),\n",
       "    (4, np.float64(0.002506870207026612)),\n",
       "    (9, np.float64(0.002506870207026612)),\n",
       "    (10, np.float64(0.002283801974366659)),\n",
       "    (12, np.float64(0.002283801974366659))],\n",
       "   [(10, np.float64(0.0036509900227331216)),\n",
       "    (12, np.float64(0.0036509900227331216)),\n",
       "    (11, np.float64(0.003630114357399154)),\n",
       "    (7, np.float64(0.003630114357399154)),\n",
       "    (6, np.float64(0.0036301143573991526)),\n",
       "    (5, np.float64(0.003608760948025682)),\n",
       "    (0, np.float64(0.003608760948025682)),\n",
       "    (8, np.float64(0.003608760948025682)),\n",
       "    (4, np.float64(0.003608760948025682)),\n",
       "    (9, np.float64(0.003608760948025682)),\n",
       "    (3, np.float64(0.003565162776811924)),\n",
       "    (2, np.float64(0.0035651627768119227)),\n",
       "    (1, np.float64(0.0035651627768119227))],\n",
       "   [(11, np.float64(0.0031733382958999998)),\n",
       "    (7, np.float64(0.0031733382958999998)),\n",
       "    (6, np.float64(0.0031733382958999985)),\n",
       "    (3, np.float64(0.00279734265260797)),\n",
       "    (2, np.float64(0.0027973426526079685)),\n",
       "    (1, np.float64(0.0027973426526079685)),\n",
       "    (5, np.float64(0.002530783708414486)),\n",
       "    (0, np.float64(0.002530783708414486)),\n",
       "    (8, np.float64(0.002530783708414486)),\n",
       "    (4, np.float64(0.002530783708414486)),\n",
       "    (9, np.float64(0.002530783708414486)),\n",
       "    (10, np.float64(0.0023088230881202114)),\n",
       "    (12, np.float64(0.0023088230881202114))],\n",
       "   [(11, np.float64(0.003522110307635408)),\n",
       "    (7, np.float64(0.003522110307635408)),\n",
       "    (6, np.float64(0.003522110307635407)),\n",
       "    (3, np.float64(0.003261632512234645)),\n",
       "    (2, np.float64(0.0032616325122346436)),\n",
       "    (1, np.float64(0.0032616325122346436)),\n",
       "    (5, np.float64(0.0030964342337143212)),\n",
       "    (0, np.float64(0.0030964342337143212)),\n",
       "    (8, np.float64(0.0030964342337143212)),\n",
       "    (4, np.float64(0.0030964342337143212)),\n",
       "    (9, np.float64(0.0030964342337143212)),\n",
       "    (10, np.float64(0.0029450143862413615)),\n",
       "    (12, np.float64(0.0029450143862413615))],\n",
       "   [(11, np.float64(0.003439273606946926)),\n",
       "    (7, np.float64(0.003439273606946926)),\n",
       "    (6, np.float64(0.0034392736069469246)),\n",
       "    (3, np.float64(0.003134399035011243)),\n",
       "    (2, np.float64(0.003134399035011242)),\n",
       "    (1, np.float64(0.003134399035011242)),\n",
       "    (5, np.float64(0.0029279854634208418)),\n",
       "    (0, np.float64(0.0029279854634208418)),\n",
       "    (8, np.float64(0.0029279854634208418)),\n",
       "    (4, np.float64(0.0029279854634208418)),\n",
       "    (9, np.float64(0.0029279854634208418)),\n",
       "    (10, np.float64(0.002745036155147629)),\n",
       "    (12, np.float64(0.002745036155147629))]],\n",
       "  <Functional name=functional_33, built=True>),\n",
       " (0.6901450157165527,\n",
       "  [0.6953820586204529, 0.4285714328289032],\n",
       "  array([1, 0, 0, 0, 1, 1, 1]),\n",
       "  [array([0.4922603], dtype=float32),\n",
       "   array([0.48635432], dtype=float32),\n",
       "   array([0.4866814], dtype=float32),\n",
       "   array([0.484989], dtype=float32),\n",
       "   array([0.48551902], dtype=float32),\n",
       "   array([0.48727784], dtype=float32),\n",
       "   array([0.48635238], dtype=float32)],\n",
       "  [[(10, np.float64(0.003885662216837928)),\n",
       "    (12, np.float64(0.003885662216837928)),\n",
       "    (5, np.float64(0.003745481553988442)),\n",
       "    (0, np.float64(0.003745481553988442)),\n",
       "    (8, np.float64(0.003745481553988442)),\n",
       "    (4, np.float64(0.003745481553988442)),\n",
       "    (9, np.float64(0.003745481553988442)),\n",
       "    (3, np.float64(0.0036128885280904783)),\n",
       "    (2, np.float64(0.003612888528090477)),\n",
       "    (1, np.float64(0.003612888528090477)),\n",
       "    (11, np.float64(0.0036053588777291198)),\n",
       "    (7, np.float64(0.0036053588777291198)),\n",
       "    (6, np.float64(0.0036053588777291185))],\n",
       "   [(10, np.float64(0.003916640695439202)),\n",
       "    (12, np.float64(0.003916640695439202)),\n",
       "    (5, np.float64(0.0037620619504302277)),\n",
       "    (0, np.float64(0.0037620619504302277)),\n",
       "    (8, np.float64(0.0037620619504302277)),\n",
       "    (4, np.float64(0.0037620619504302277)),\n",
       "    (9, np.float64(0.0037620619504302277)),\n",
       "    (3, np.float64(0.003617069954219239)),\n",
       "    (2, np.float64(0.0036170699542192376)),\n",
       "    (1, np.float64(0.0036170699542192376)),\n",
       "    (11, np.float64(0.003599867158988954)),\n",
       "    (7, np.float64(0.003599867158988954)),\n",
       "    (6, np.float64(0.0035998671589889527))],\n",
       "   [(10, np.float64(0.00391491730765118)),\n",
       "    (12, np.float64(0.00391491730765118)),\n",
       "    (5, np.float64(0.0037611490232342545)),\n",
       "    (0, np.float64(0.0037611490232342545)),\n",
       "    (8, np.float64(0.0037611490232342545)),\n",
       "    (4, np.float64(0.0037611490232342545)),\n",
       "    (9, np.float64(0.0037611490232342545)),\n",
       "    (3, np.float64(0.003616850661900663)),\n",
       "    (2, np.float64(0.003616850661900662)),\n",
       "    (1, np.float64(0.003616850661900662)),\n",
       "    (11, np.float64(0.0036001863809581093)),\n",
       "    (7, np.float64(0.0036001863809581093)),\n",
       "    (6, np.float64(0.003600186380958108))],\n",
       "   [(10, np.float64(0.0039238444068736885)),\n",
       "    (12, np.float64(0.0039238444068736885)),\n",
       "    (5, np.float64(0.0037658657835835554)),\n",
       "    (0, np.float64(0.0037658657835835554)),\n",
       "    (8, np.float64(0.0037658657835835554)),\n",
       "    (4, np.float64(0.0037658657835835554)),\n",
       "    (9, np.float64(0.0037658657835835554)),\n",
       "    (3, np.float64(0.0036179695156149227)),\n",
       "    (2, np.float64(0.0036179695156149214)),\n",
       "    (1, np.float64(0.0036179695156149214)),\n",
       "    (11, np.float64(0.003598515308464331)),\n",
       "    (7, np.float64(0.003598515308464331)),\n",
       "    (6, np.float64(0.0035985153084643296))],\n",
       "   [(10, np.float64(0.003921045995392413)),\n",
       "    (12, np.float64(0.003921045995392413)),\n",
       "    (5, np.float64(0.0037643904533034146)),\n",
       "    (0, np.float64(0.0037643904533034146)),\n",
       "    (8, np.float64(0.0037643904533034146)),\n",
       "    (4, np.float64(0.0037643904533034146)),\n",
       "    (9, np.float64(0.0037643904533034146)),\n",
       "    (3, np.float64(0.0036176233402347756)),\n",
       "    (2, np.float64(0.0036176233402347743)),\n",
       "    (1, np.float64(0.0036176233402347743)),\n",
       "    (11, np.float64(0.00359904381706232)),\n",
       "    (7, np.float64(0.00359904381706232)),\n",
       "    (6, np.float64(0.0035990438170623185))],\n",
       "   [(10, np.float64(0.0039117770290518486)),\n",
       "    (12, np.float64(0.0039117770290518486)),\n",
       "    (5, np.float64(0.0037594826444750104)),\n",
       "    (0, np.float64(0.0037594826444750104)),\n",
       "    (8, np.float64(0.0037594826444750104)),\n",
       "    (4, np.float64(0.0037594826444750104)),\n",
       "    (9, np.float64(0.0037594826444750104)),\n",
       "    (3, np.float64(0.0036164470279813885)),\n",
       "    (2, np.float64(0.0036164470279813872)),\n",
       "    (1, np.float64(0.0036164470279813872)),\n",
       "    (11, np.float64(0.003600763895734087)),\n",
       "    (7, np.float64(0.003600763895734087)),\n",
       "    (6, np.float64(0.0036007638957340857))],\n",
       "   [(10, np.float64(0.003916650904988629)),\n",
       "    (12, np.float64(0.003916650904988629)),\n",
       "    (5, np.float64(0.0037620673553708773)),\n",
       "    (0, np.float64(0.0037620673553708773)),\n",
       "    (8, np.float64(0.0037620673553708773)),\n",
       "    (4, np.float64(0.0037620673553708773)),\n",
       "    (9, np.float64(0.0037620673553708773)),\n",
       "    (3, np.float64(0.0036170712486370887)),\n",
       "    (2, np.float64(0.0036170712486370874)),\n",
       "    (1, np.float64(0.0036170712486370874)),\n",
       "    (11, np.float64(0.0035998652630627242)),\n",
       "    (7, np.float64(0.0035998652630627242)),\n",
       "    (6, np.float64(0.003599865263062723))]],\n",
       "  <Functional name=functional_35, built=True>),\n",
       " (0.6941701769828796,\n",
       "  [0.6921496391296387, 0.5714285969734192],\n",
       "  array([1, 0, 0, 0, 1, 1, 1]),\n",
       "  [array([0.50348747], dtype=float32),\n",
       "   array([0.5032166], dtype=float32),\n",
       "   array([0.50527143], dtype=float32),\n",
       "   array([0.50403553], dtype=float32),\n",
       "   array([0.50501084], dtype=float32),\n",
       "   array([0.50348586], dtype=float32),\n",
       "   array([0.5041517], dtype=float32)],\n",
       "  [[(10, np.float64(0.003827602104803463)),\n",
       "    (12, np.float64(0.003827602104803463)),\n",
       "    (5, np.float64(0.0037134527403748104)),\n",
       "    (0, np.float64(0.0037134527403748104)),\n",
       "    (8, np.float64(0.0037134527403748104)),\n",
       "    (4, np.float64(0.0037134527403748104)),\n",
       "    (9, np.float64(0.0037134527403748104)),\n",
       "    (11, np.float64(0.00361425014863378)),\n",
       "    (7, np.float64(0.00361425014863378)),\n",
       "    (6, np.float64(0.0036142501486337787)),\n",
       "    (3, np.float64(0.003603698044043309)),\n",
       "    (2, np.float64(0.003603698044043308)),\n",
       "    (1, np.float64(0.003603698044043308))],\n",
       "   [(10, np.float64(0.003828989800402908)),\n",
       "    (12, np.float64(0.003828989800402908)),\n",
       "    (5, np.float64(0.003714232514972278)),\n",
       "    (0, np.float64(0.003714232514972278)),\n",
       "    (8, np.float64(0.003714232514972278)),\n",
       "    (4, np.float64(0.003714232514972278)),\n",
       "    (9, np.float64(0.003714232514972278)),\n",
       "    (11, np.float64(0.0036140589037807654)),\n",
       "    (7, np.float64(0.0036140589037807654)),\n",
       "    (6, np.float64(0.003614058903780764)),\n",
       "    (3, np.float64(0.0036039381101704536)),\n",
       "    (2, np.float64(0.0036039381101704523)),\n",
       "    (1, np.float64(0.0036039381101704523))],\n",
       "   [(10, np.float64(0.00381847786999147)),\n",
       "    (12, np.float64(0.00381847786999147)),\n",
       "    (5, np.float64(0.003708308492088148)),\n",
       "    (0, np.float64(0.003708308492088148)),\n",
       "    (8, np.float64(0.003708308492088148)),\n",
       "    (4, np.float64(0.003708308492088148)),\n",
       "    (9, np.float64(0.003708308492088148)),\n",
       "    (11, np.float64(0.0036154817055470195)),\n",
       "    (7, np.float64(0.0036154817055470195)),\n",
       "    (6, np.float64(0.003615481705547018)),\n",
       "    (3, np.float64(0.00360209486722971)),\n",
       "    (2, np.float64(0.0036020948672297087)),\n",
       "    (1, np.float64(0.0036020948672297087))],\n",
       "   [(10, np.float64(0.0038247960080440664)),\n",
       "    (12, np.float64(0.0038247960080440664)),\n",
       "    (5, np.float64(0.0037118738298098216)),\n",
       "    (0, np.float64(0.0037118738298098216)),\n",
       "    (8, np.float64(0.0037118738298098216)),\n",
       "    (4, np.float64(0.0037118738298098216)),\n",
       "    (9, np.float64(0.0037118738298098216)),\n",
       "    (11, np.float64(0.003614633692217661)),\n",
       "    (7, np.float64(0.003614633692217661)),\n",
       "    (6, np.float64(0.00361463369221766)),\n",
       "    (3, np.float64(0.0036032095651312456)),\n",
       "    (2, np.float64(0.0036032095651312443)),\n",
       "    (1, np.float64(0.0036032095651312443))],\n",
       "   [(10, np.float64(0.0038198089387557585)),\n",
       "    (12, np.float64(0.0038198089387557585)),\n",
       "    (5, np.float64(0.0037090608012495664)),\n",
       "    (0, np.float64(0.0037090608012495664)),\n",
       "    (8, np.float64(0.0037090608012495664)),\n",
       "    (4, np.float64(0.0037090608012495664)),\n",
       "    (9, np.float64(0.0037090608012495664)),\n",
       "    (11, np.float64(0.0036153048429278405)),\n",
       "    (7, np.float64(0.0036153048429278405)),\n",
       "    (6, np.float64(0.0036153048429278392)),\n",
       "    (3, np.float64(0.0036023314141131564)),\n",
       "    (2, np.float64(0.003602331414113155)),\n",
       "    (1, np.float64(0.003602331414113155))],\n",
       "   [(10, np.float64(0.003827610348451405)),\n",
       "    (12, np.float64(0.003827610348451405)),\n",
       "    (5, np.float64(0.0037134573746869484)),\n",
       "    (0, np.float64(0.0037134573746869484)),\n",
       "    (8, np.float64(0.0037134573746869484)),\n",
       "    (4, np.float64(0.0037134573746869484)),\n",
       "    (9, np.float64(0.0037134573746869484)),\n",
       "    (11, np.float64(0.003614249015608813)),\n",
       "    (7, np.float64(0.003614249015608813)),\n",
       "    (6, np.float64(0.0036142490156088115)),\n",
       "    (3, np.float64(0.0036036994730967173)),\n",
       "    (2, np.float64(0.003603699473096716)),\n",
       "    (1, np.float64(0.003603699473096716))],\n",
       "   [(10, np.float64(0.0038242015583690547)),\n",
       "    (12, np.float64(0.0038242015583690547)),\n",
       "    (5, np.float64(0.0037115389883057193)),\n",
       "    (0, np.float64(0.0037115389883057193)),\n",
       "    (8, np.float64(0.0037115389883057193)),\n",
       "    (4, np.float64(0.0037115389883057193)),\n",
       "    (9, np.float64(0.0037115389883057193)),\n",
       "    (11, np.float64(0.0036147143971187604)),\n",
       "    (7, np.float64(0.0036147143971187604)),\n",
       "    (6, np.float64(0.003614714397118759)),\n",
       "    (3, np.float64(0.0036031055636515466)),\n",
       "    (2, np.float64(0.0036031055636515457)),\n",
       "    (1, np.float64(0.0036031055636515457))]],\n",
       "  <Functional name=functional_37, built=True>),\n",
       " (0.6967796683311462,\n",
       "  [0.683131217956543, 0.7142857313156128],\n",
       "  array([1, 1, 1, 1, 0, 1, 0]),\n",
       "  [array([0.51220924], dtype=float32),\n",
       "   array([0.5127978], dtype=float32),\n",
       "   array([0.5154458], dtype=float32),\n",
       "   array([0.5130249], dtype=float32),\n",
       "   array([0.51417], dtype=float32),\n",
       "   array([0.5120521], dtype=float32),\n",
       "   array([0.51501817], dtype=float32)],\n",
       "  [[(10, np.float64(0.00378326102953705)),\n",
       "    (12, np.float64(0.00378326102953705)),\n",
       "    (5, np.float64(0.0036881763901736274)),\n",
       "    (0, np.float64(0.0036881763901736274)),\n",
       "    (8, np.float64(0.0036881763901736274)),\n",
       "    (4, np.float64(0.0036881763901736274)),\n",
       "    (9, np.float64(0.0036881763901736274)),\n",
       "    (11, np.float64(0.003619813834187486)),\n",
       "    (7, np.float64(0.003619813834187486)),\n",
       "    (6, np.float64(0.003619813834187485)),\n",
       "    (3, np.float64(0.0035955063821784057)),\n",
       "    (2, np.float64(0.0035955063821784044)),\n",
       "    (1, np.float64(0.0035955063821784044))],\n",
       "   [(10, np.float64(0.0037802932007340146)),\n",
       "    (12, np.float64(0.0037802932007340146)),\n",
       "    (5, np.float64(0.003686459888048892)),\n",
       "    (0, np.float64(0.003686459888048892)),\n",
       "    (8, np.float64(0.003686459888048892)),\n",
       "    (4, np.float64(0.003686459888048892)),\n",
       "    (9, np.float64(0.003686459888048892)),\n",
       "    (11, np.float64(0.003620148358737196)),\n",
       "    (7, np.float64(0.003620148358737196)),\n",
       "    (6, np.float64(0.0036201483587371946)),\n",
       "    (3, np.float64(0.003594922198378014)),\n",
       "    (2, np.float64(0.0035949221983780128)),\n",
       "    (1, np.float64(0.0035949221983780128))],\n",
       "   [(10, np.float64(0.0037669778977002925)),\n",
       "    (12, np.float64(0.0037669778977002925)),\n",
       "    (5, np.float64(0.0036787209980649717)),\n",
       "    (0, np.float64(0.0036787209980649717)),\n",
       "    (8, np.float64(0.0036787209980649717)),\n",
       "    (4, np.float64(0.0036787209980649717)),\n",
       "    (9, np.float64(0.0036787209980649717)),\n",
       "    (11, np.float64(0.0036215907865416548)),\n",
       "    (7, np.float64(0.0036215907865416548)),\n",
       "    (6, np.float64(0.0036215907865416535)),\n",
       "    (3, np.float64(0.003592246094872801)),\n",
       "    (2, np.float64(0.0035922460948727996)),\n",
       "    (1, np.float64(0.0035922460948727996))],\n",
       "   [(10, np.float64(0.0037791485517241047)),\n",
       "    (12, np.float64(0.0037791485517241047)),\n",
       "    (5, np.float64(0.0036857970369197322)),\n",
       "    (0, np.float64(0.0036857970369197322)),\n",
       "    (8, np.float64(0.0036857970369197322)),\n",
       "    (4, np.float64(0.0036857970369197322)),\n",
       "    (9, np.float64(0.0036857970369197322)),\n",
       "    (11, np.float64(0.0036202761112974977)),\n",
       "    (7, np.float64(0.0036202761112974977)),\n",
       "    (6, np.float64(0.0036202761112974964)),\n",
       "    (3, np.float64(0.0035946956887097895)),\n",
       "    (2, np.float64(0.003594695688709788)),\n",
       "    (1, np.float64(0.003594695688709788))],\n",
       "   [(10, np.float64(0.003773385439640749)),\n",
       "    (12, np.float64(0.003773385439640749)),\n",
       "    (5, np.float64(0.003682452765441233)),\n",
       "    (0, np.float64(0.003682452765441233)),\n",
       "    (8, np.float64(0.003682452765441233)),\n",
       "    (4, np.float64(0.003682452765441233)),\n",
       "    (9, np.float64(0.003682452765441233)),\n",
       "    (11, np.float64(0.0036209085944748334)),\n",
       "    (7, np.float64(0.0036209085944748334)),\n",
       "    (6, np.float64(0.003620908594474832)),\n",
       "    (3, np.float64(0.0035935451255895054)),\n",
       "    (2, np.float64(0.003593545125589504)),\n",
       "    (1, np.float64(0.003593545125589504))],\n",
       "   [(10, np.float64(0.003784053852739719)),\n",
       "    (12, np.float64(0.003784053852739719)),\n",
       "    (5, np.float64(0.0036886344146537207)),\n",
       "    (0, np.float64(0.0036886344146537207)),\n",
       "    (8, np.float64(0.0036886344146537207)),\n",
       "    (4, np.float64(0.0036886344146537207)),\n",
       "    (9, np.float64(0.0036886344146537207)),\n",
       "    (11, np.float64(0.0036197236659502117)),\n",
       "    (7, np.float64(0.0036197236659502117)),\n",
       "    (6, np.float64(0.0036197236659502104)),\n",
       "    (3, np.float64(0.003595661681186615)),\n",
       "    (2, np.float64(0.0035956616811866136)),\n",
       "    (1, np.float64(0.0035956616811866136))],\n",
       "   [(10, np.float64(0.0037691241032661044)),\n",
       "    (12, np.float64(0.0037691241032661044)),\n",
       "    (5, np.float64(0.003679972538189148)),\n",
       "    (0, np.float64(0.003679972538189148)),\n",
       "    (8, np.float64(0.003679972538189148)),\n",
       "    (4, np.float64(0.003679972538189148)),\n",
       "    (9, np.float64(0.003679972538189148)),\n",
       "    (11, np.float64(0.003621364750809839)),\n",
       "    (7, np.float64(0.003621364750809839)),\n",
       "    (6, np.float64(0.0036213647508098377)),\n",
       "    (3, np.float64(0.0035926835265250993)),\n",
       "    (2, np.float64(0.003592683526525098)),\n",
       "    (1, np.float64(0.003592683526525098))]],\n",
       "  <Functional name=functional_39, built=True>),\n",
       " (0.4339584708213806,\n",
       "  [0.6337651610374451, 0.4285714328289032],\n",
       "  array([0, 0, 1, 0, 1, 0, 1]),\n",
       "  [array([0.5374084], dtype=float32),\n",
       "   array([0.2235017], dtype=float32),\n",
       "   array([0.35142052], dtype=float32),\n",
       "   array([0.04286855], dtype=float32),\n",
       "   array([0.3221523], dtype=float32),\n",
       "   array([0.55475557], dtype=float32),\n",
       "   array([0.68315375], dtype=float32)],\n",
       "  [[(10, np.float64(0.003658961462695123)),\n",
       "    (12, np.float64(0.003658961462695123)),\n",
       "    (11, np.float64(0.003629760706874604)),\n",
       "    (7, np.float64(0.003629760706874604)),\n",
       "    (6, np.float64(0.003629760706874603)),\n",
       "    (5, np.float64(0.0036137121961924007)),\n",
       "    (0, np.float64(0.0036137121961924007)),\n",
       "    (8, np.float64(0.0036137121961924007)),\n",
       "    (4, np.float64(0.0036137121961924007)),\n",
       "    (9, np.float64(0.0036137121961924007)),\n",
       "    (3, np.float64(0.003567238622901305)),\n",
       "    (2, np.float64(0.003567238622901304)),\n",
       "    (1, np.float64(0.003567238622901304))],\n",
       "   [(10, np.float64(0.005180083693744281)),\n",
       "    (12, np.float64(0.005180083693744281)),\n",
       "    (5, np.float64(0.0037317475927907853)),\n",
       "    (0, np.float64(0.0037317475927907853)),\n",
       "    (8, np.float64(0.0037317475927907853)),\n",
       "    (4, np.float64(0.0037317475927907853)),\n",
       "    (9, np.float64(0.0037317475927907853)),\n",
       "    (3, np.float64(0.0029156937507333986)),\n",
       "    (2, np.float64(0.0029156937507333978)),\n",
       "    (1, np.float64(0.0029156937507333978)),\n",
       "    (11, np.float64(0.002515389634207857)),\n",
       "    (7, np.float64(0.002515389634207857)),\n",
       "    (6, np.float64(0.002515389634207856))],\n",
       "   [(10, np.float64(0.00468029113003022)),\n",
       "    (12, np.float64(0.00468029113003022)),\n",
       "    (5, np.float64(0.0040280413513549785)),\n",
       "    (0, np.float64(0.0040280413513549785)),\n",
       "    (8, np.float64(0.0040280413513549785)),\n",
       "    (4, np.float64(0.0040280413513549785)),\n",
       "    (9, np.float64(0.0040280413513549785)),\n",
       "    (3, np.float64(0.0035338967424646058)),\n",
       "    (2, np.float64(0.0035338967424646045)),\n",
       "    (1, np.float64(0.0035338967424646045)),\n",
       "    (11, np.float64(0.0032816323326560746)),\n",
       "    (7, np.float64(0.0032816323326560746)),\n",
       "    (6, np.float64(0.0032816323326560737))],\n",
       "   [(10, np.float64(0.0019332293466259771)),\n",
       "    (12, np.float64(0.0019332293466259771)),\n",
       "    (5, np.float64(0.00102328855277506)),\n",
       "    (0, np.float64(0.00102328855277506)),\n",
       "    (8, np.float64(0.00102328855277506)),\n",
       "    (4, np.float64(0.00102328855277506)),\n",
       "    (9, np.float64(0.00102328855277506)),\n",
       "    (3, np.float64(0.0006956125172920494)),\n",
       "    (2, np.float64(0.0006956125172920492)),\n",
       "    (1, np.float64(0.0006956125172920492)),\n",
       "    (11, np.float64(0.0005581506490727142)),\n",
       "    (7, np.float64(0.0005581506490727142)),\n",
       "    (6, np.float64(0.000558150649072714))],\n",
       "   [(10, np.float64(0.004842653412091466)),\n",
       "    (12, np.float64(0.004842653412091466)),\n",
       "    (5, np.float64(0.0040313181382979355)),\n",
       "    (0, np.float64(0.0040313181382979355)),\n",
       "    (8, np.float64(0.0040313181382979355)),\n",
       "    (4, np.float64(0.0040313181382979355)),\n",
       "    (9, np.float64(0.0040313181382979355)),\n",
       "    (3, np.float64(0.003451563092303275)),\n",
       "    (2, np.float64(0.003451563092303274)),\n",
       "    (1, np.float64(0.003451563092303274)),\n",
       "    (11, np.float64(0.003152159128236023)),\n",
       "    (7, np.float64(0.003152159128236023)),\n",
       "    (6, np.float64(0.003152159128236022))],\n",
       "   [(11, np.float64(0.003631758456580358)),\n",
       "    (7, np.float64(0.003631758456580358)),\n",
       "    (6, np.float64(0.0036317584565803565)),\n",
       "    (10, np.float64(0.0035767073960641742)),\n",
       "    (12, np.float64(0.0035767073960641742)),\n",
       "    (5, np.float64(0.0035616391486023454)),\n",
       "    (0, np.float64(0.0035616391486023454)),\n",
       "    (8, np.float64(0.0035616391486023454)),\n",
       "    (4, np.float64(0.0035616391486023454)),\n",
       "    (9, np.float64(0.0035616391486023454)),\n",
       "    (3, np.float64(0.0035443174205917237)),\n",
       "    (2, np.float64(0.0035443174205917224)),\n",
       "    (1, np.float64(0.0035443174205917224))],\n",
       "   [(11, np.float64(0.003555509095021705)),\n",
       "    (7, np.float64(0.003555509095021705)),\n",
       "    (6, np.float64(0.0035555090950217037)),\n",
       "    (3, np.float64(0.0033202520094607747)),\n",
       "    (2, np.float64(0.0033202520094607734)),\n",
       "    (1, np.float64(0.0033202520094607734)),\n",
       "    (5, np.float64(0.003179522486570679)),\n",
       "    (0, np.float64(0.003179522486570679)),\n",
       "    (8, np.float64(0.003179522486570679)),\n",
       "    (4, np.float64(0.003179522486570679)),\n",
       "    (9, np.float64(0.003179522486570679)),\n",
       "    (10, np.float64(0.00304803692205879)),\n",
       "    (12, np.float64(0.00304803692205879))]],\n",
       "  <Functional name=functional_41, built=True>),\n",
       " (0.6854047179222107,\n",
       "  [0.7184356451034546, 0.1428571492433548],\n",
       "  array([0, 1, 0, 0, 0, 0, 0]),\n",
       "  [array([0.52901125], dtype=float32),\n",
       "   array([0.53741246], dtype=float32),\n",
       "   array([0.5114866], dtype=float32),\n",
       "   array([0.52673155], dtype=float32),\n",
       "   array([0.520996], dtype=float32),\n",
       "   array([0.52454865], dtype=float32),\n",
       "   array([0.50890654], dtype=float32)],\n",
       "  [[(10, np.float64(0.0036997492326058894)),\n",
       "    (12, np.float64(0.0036997492326058894)),\n",
       "    (5, np.float64(0.0036387197174345067)),\n",
       "    (0, np.float64(0.0036387197174345067)),\n",
       "    (8, np.float64(0.0036387197174345067)),\n",
       "    (4, np.float64(0.0036387197174345067)),\n",
       "    (9, np.float64(0.0036387197174345067)),\n",
       "    (11, np.float64(0.003627414685746923)),\n",
       "    (7, np.float64(0.003627414685746923)),\n",
       "    (6, np.float64(0.0036274146857469217)),\n",
       "    (3, np.float64(0.0035773672689966207)),\n",
       "    (2, np.float64(0.0035773672689966194)),\n",
       "    (1, np.float64(0.0035773672689966194))],\n",
       "   [(10, np.float64(0.0036589419284792585)),\n",
       "    (12, np.float64(0.0036589419284792585)),\n",
       "    (11, np.float64(0.003629761615428143)),\n",
       "    (7, np.float64(0.003629761615428143)),\n",
       "    (6, np.float64(0.0036297616154281416)),\n",
       "    (5, np.float64(0.003613700088373225)),\n",
       "    (0, np.float64(0.003613700088373225)),\n",
       "    (8, np.float64(0.003613700088373225)),\n",
       "    (4, np.float64(0.003613700088373225)),\n",
       "    (9, np.float64(0.003613700088373225)),\n",
       "    (3, np.float64(0.0035672335743733353)),\n",
       "    (2, np.float64(0.003567233574373334)),\n",
       "    (1, np.float64(0.003567233574373334))],\n",
       "   [(10, np.float64(0.0037869093499224653)),\n",
       "    (12, np.float64(0.0037869093499224653)),\n",
       "    (5, np.float64(0.0036902822526503586)),\n",
       "    (0, np.float64(0.0036902822526503586)),\n",
       "    (8, np.float64(0.0036902822526503586)),\n",
       "    (4, np.float64(0.0036902822526503586)),\n",
       "    (9, np.float64(0.0036902822526503586)),\n",
       "    (11, np.float64(0.0036193961004538995)),\n",
       "    (7, np.float64(0.0036193961004538995)),\n",
       "    (6, np.float64(0.0036193961004538982)),\n",
       "    (3, np.float64(0.0035962183640620964)),\n",
       "    (2, np.float64(0.003596218364062095)),\n",
       "    (1, np.float64(0.003596218364062095))],\n",
       "   [(10, np.float64(0.0037109318549912867)),\n",
       "    (12, np.float64(0.0037109318549912867)),\n",
       "    (5, np.float64(0.003645479460486653)),\n",
       "    (0, np.float64(0.003645479460486653)),\n",
       "    (8, np.float64(0.003645479460486653)),\n",
       "    (4, np.float64(0.003645479460486653)),\n",
       "    (9, np.float64(0.003645479460486653)),\n",
       "    (11, np.float64(0.0036266148132341213)),\n",
       "    (7, np.float64(0.0036266148132341213)),\n",
       "    (6, np.float64(0.00362661481323412)),\n",
       "    (3, np.float64(0.003579999518475403)),\n",
       "    (2, np.float64(0.003579999518475402)),\n",
       "    (1, np.float64(0.003579999518475402))],\n",
       "   [(10, np.float64(0.0037392728517917145)),\n",
       "    (12, np.float64(0.0037392728517917145)),\n",
       "    (5, np.float64(0.003662422624041108)),\n",
       "    (0, np.float64(0.003662422624041108)),\n",
       "    (8, np.float64(0.003662422624041108)),\n",
       "    (4, np.float64(0.003662422624041108)),\n",
       "    (9, np.float64(0.003662422624041108)),\n",
       "    (11, np.float64(0.0036242858271191055)),\n",
       "    (7, np.float64(0.0036242858271191055)),\n",
       "    (6, np.float64(0.003624285827119104)),\n",
       "    (3, np.float64(0.003586390045431632)),\n",
       "    (2, np.float64(0.0035863900454316307)),\n",
       "    (1, np.float64(0.0035863900454316307))],\n",
       "   [(10, np.float64(0.0037216833775859247)),\n",
       "    (12, np.float64(0.0037216833775859247)),\n",
       "    (5, np.float64(0.0036519390311521333)),\n",
       "    (0, np.float64(0.0036519390311521333)),\n",
       "    (8, np.float64(0.0036519390311521333)),\n",
       "    (4, np.float64(0.0036519390311521333)),\n",
       "    (9, np.float64(0.0036519390311521333)),\n",
       "    (11, np.float64(0.003625782231929512)),\n",
       "    (7, np.float64(0.003625782231929512)),\n",
       "    (6, np.float64(0.003625782231929511)),\n",
       "    (3, np.float64(0.0035824713016296473)),\n",
       "    (2, np.float64(0.003582471301629646)),\n",
       "    (1, np.float64(0.003582471301629646))],\n",
       "   [(10, np.float64(0.003799972649078876)),\n",
       "    (12, np.float64(0.003799972649078876)),\n",
       "    (5, np.float64(0.0036977843086710566)),\n",
       "    (0, np.float64(0.0036977843086710566)),\n",
       "    (8, np.float64(0.0036977843086710566)),\n",
       "    (4, np.float64(0.0036977843086710566)),\n",
       "    (9, np.float64(0.0036977843086710566)),\n",
       "    (11, np.float64(0.0036178414932389346)),\n",
       "    (7, np.float64(0.0036178414932389346)),\n",
       "    (6, np.float64(0.0036178414932389333)),\n",
       "    (3, np.float64(0.0035987119981397324)),\n",
       "    (2, np.float64(0.003598711998139731)),\n",
       "    (1, np.float64(0.003598711998139731))]],\n",
       "  <Functional name=functional_43, built=True>),\n",
       " (0.3053736090660095,\n",
       "  [0.9496271014213562, 0.5714285969734192],\n",
       "  array([0, 1, 0, 0, 0, 0, 0]),\n",
       "  [array([0.00456921], dtype=float32),\n",
       "   array([0.12500018], dtype=float32),\n",
       "   array([0.15139228], dtype=float32),\n",
       "   array([0.06169366], dtype=float32),\n",
       "   array([0.80338985], dtype=float32),\n",
       "   array([0.00537472], dtype=float32),\n",
       "   array([0.93303674], dtype=float32)],\n",
       "  [[(10, np.float64(0.00022296748418802262)),\n",
       "    (12, np.float64(0.00022296748418802262)),\n",
       "    (5, np.float64(0.00011409006325149196)),\n",
       "    (0, np.float64(0.00011409006325149196)),\n",
       "    (8, np.float64(0.00011409006325149196)),\n",
       "    (4, np.float64(0.00011409006325149196)),\n",
       "    (9, np.float64(0.00011409006325149196)),\n",
       "    (3, np.float64(7.646602982154821e-05)),\n",
       "    (2, np.float64(7.646602982154818e-05)),\n",
       "    (1, np.float64(7.646602982154818e-05)),\n",
       "    (11, np.float64(6.0892237351437684e-05)),\n",
       "    (7, np.float64(6.0892237351437684e-05)),\n",
       "    (6, np.float64(6.089223735143766e-05))],\n",
       "   [(10, np.float64(0.004428129467971949)),\n",
       "    (12, np.float64(0.004428129467971949)),\n",
       "    (5, np.float64(0.002653363968411952)),\n",
       "    (0, np.float64(0.002653363968411952)),\n",
       "    (8, np.float64(0.002653363968411952)),\n",
       "    (4, np.float64(0.002653363968411952)),\n",
       "    (9, np.float64(0.002653363968411952)),\n",
       "    (3, np.float64(0.0018939352811149209)),\n",
       "    (2, np.float64(0.0018939352811149202)),\n",
       "    (1, np.float64(0.0018939352811149202)),\n",
       "    (11, np.float64(0.001556185700207176)),\n",
       "    (7, np.float64(0.001556185700207176)),\n",
       "    (6, np.float64(0.0015561857002071755))],\n",
       "   [(10, np.float64(0.0048212263036445345)),\n",
       "    (12, np.float64(0.0048212263036445345)),\n",
       "    (5, np.float64(0.0030381830955480485)),\n",
       "    (0, np.float64(0.0030381830955480485)),\n",
       "    (8, np.float64(0.0030381830955480485)),\n",
       "    (4, np.float64(0.0030381830955480485)),\n",
       "    (9, np.float64(0.0030381830955480485)),\n",
       "    (3, np.float64(0.0022175999440979073)),\n",
       "    (2, np.float64(0.002217599944097907)),\n",
       "    (1, np.float64(0.002217599944097907)),\n",
       "    (11, np.float64(0.0018430687904226449)),\n",
       "    (7, np.float64(0.0018430687904226449)),\n",
       "    (6, np.float64(0.0018430687904226442))],\n",
       "   [(10, np.float64(0.002675142071812337)),\n",
       "    (12, np.float64(0.002675142071812337)),\n",
       "    (5, np.float64(0.001445908384648823)),\n",
       "    (0, np.float64(0.001445908384648823)),\n",
       "    (8, np.float64(0.001445908384648823)),\n",
       "    (4, np.float64(0.001445908384648823)),\n",
       "    (9, np.float64(0.001445908384648823)),\n",
       "    (3, np.float64(0.0009905068739383064)),\n",
       "    (2, np.float64(0.000990506873938306)),\n",
       "    (1, np.float64(0.000990506873938306)),\n",
       "    (11, np.float64(0.0007976855447388228)),\n",
       "    (7, np.float64(0.0007976855447388228)),\n",
       "    (6, np.float64(0.0007976855447388224))],\n",
       "   [(11, np.float64(0.0033979801793978565)),\n",
       "    (7, np.float64(0.0033979801793978565)),\n",
       "    (6, np.float64(0.003397980179397855)),\n",
       "    (3, np.float64(0.0030767372002344943)),\n",
       "    (2, np.float64(0.0030767372002344934)),\n",
       "    (1, np.float64(0.0030767372002344934)),\n",
       "    (5, np.float64(0.0028557678229885184)),\n",
       "    (0, np.float64(0.0028557678229885184)),\n",
       "    (8, np.float64(0.0028557678229885184)),\n",
       "    (4, np.float64(0.0028557678229885184)),\n",
       "    (9, np.float64(0.0028557678229885184)),\n",
       "    (10, np.float64(0.002662415437421047)),\n",
       "    (12, np.float64(0.002662415437421047))],\n",
       "   [(10, np.float64(0.00026038780682392494)),\n",
       "    (12, np.float64(0.00026038780682392494)),\n",
       "    (5, np.float64(0.00013355422642569975)),\n",
       "    (0, np.float64(0.00013355422642569975)),\n",
       "    (8, np.float64(0.00013355422642569975)),\n",
       "    (4, np.float64(0.00013355422642569975)),\n",
       "    (9, np.float64(0.00013355422642569975)),\n",
       "    (3, np.float64(8.961875920820904e-05)),\n",
       "    (2, np.float64(8.9618759208209e-05)),\n",
       "    (1, np.float64(8.9618759208209e-05)),\n",
       "    (11, np.float64(7.141779137972393e-05)),\n",
       "    (7, np.float64(7.141779137972393e-05)),\n",
       "    (6, np.float64(7.14177913797239e-05))],\n",
       "   [(11, np.float64(0.0031929447597454736)),\n",
       "    (7, np.float64(0.0031929447597454736)),\n",
       "    (6, np.float64(0.0031929447597454723)),\n",
       "    (3, np.float64(0.0028201234748047744)),\n",
       "    (2, np.float64(0.0028201234748047735)),\n",
       "    (1, np.float64(0.0028201234748047735)),\n",
       "    (5, np.float64(0.0025560409809477864)),\n",
       "    (0, np.float64(0.0025560409809477864)),\n",
       "    (8, np.float64(0.0025560409809477864)),\n",
       "    (4, np.float64(0.0025560409809477864)),\n",
       "    (9, np.float64(0.0025560409809477864)),\n",
       "    (10, np.float64(0.0023353825442055938)),\n",
       "    (12, np.float64(0.0023353825442055938))]],\n",
       "  <Functional name=functional_45, built=True>),\n",
       " (0.44668063521385193,\n",
       "  [0.381028950214386, 0.8571428656578064],\n",
       "  array([0, 0, 1, 0, 0, 0, 0]),\n",
       "  [array([0.02524358], dtype=float32),\n",
       "   array([0.26299772], dtype=float32),\n",
       "   array([0.16172548], dtype=float32),\n",
       "   array([0.14570773], dtype=float32),\n",
       "   array([0.2109439], dtype=float32),\n",
       "   array([0.01084722], dtype=float32),\n",
       "   array([0.1035473], dtype=float32)],\n",
       "  [[(10, np.float64(0.0011699182337456865)),\n",
       "    (12, np.float64(0.0011699182337456865)),\n",
       "    (5, np.float64(0.0006105241021871692)),\n",
       "    (0, np.float64(0.0006105241021871692)),\n",
       "    (8, np.float64(0.0006105241021871692)),\n",
       "    (4, np.float64(0.0006105241021871692)),\n",
       "    (9, np.float64(0.0006105241021871692)),\n",
       "    (3, np.float64(0.0004128518028038849)),\n",
       "    (2, np.float64(0.0004128518028038847)),\n",
       "    (1, np.float64(0.0004128518028038847)),\n",
       "    (11, np.float64(0.00033043068479501756)),\n",
       "    (7, np.float64(0.00033043068479501756)),\n",
       "    (6, np.float64(0.0003304306847950174))],\n",
       "   [(10, np.float64(0.005107579650078797)),\n",
       "    (12, np.float64(0.005107579650078797)),\n",
       "    (5, np.float64(0.003923035799145223)),\n",
       "    (0, np.float64(0.003923035799145223)),\n",
       "    (8, np.float64(0.003923035799145223)),\n",
       "    (4, np.float64(0.003923035799145223)),\n",
       "    (9, np.float64(0.003923035799145223)),\n",
       "    (3, np.float64(0.003183603312586062)),\n",
       "    (2, np.float64(0.0031836033125860613)),\n",
       "    (1, np.float64(0.0031836033125860613)),\n",
       "    (11, np.float64(0.0028092303058031205)),\n",
       "    (7, np.float64(0.0028092303058031205)),\n",
       "    (6, np.float64(0.0028092303058031196))],\n",
       "   [(10, np.float64(0.004929518345246702)),\n",
       "    (12, np.float64(0.004929518345246702)),\n",
       "    (5, np.float64(0.0031689068239567643)),\n",
       "    (0, np.float64(0.0031689068239567643)),\n",
       "    (8, np.float64(0.0031689068239567643)),\n",
       "    (4, np.float64(0.0031689068239567643)),\n",
       "    (9, np.float64(0.0031689068239567643)),\n",
       "    (3, np.float64(0.0023345996839120096)),\n",
       "    (2, np.float64(0.002334599683912009)),\n",
       "    (1, np.float64(0.002334599683912009)),\n",
       "    (11, np.float64(0.0019497707936597041)),\n",
       "    (7, np.float64(0.0019497707936597041)),\n",
       "    (6, np.float64(0.0019497707936597035))],\n",
       "   [(10, np.float64(0.0047512953958420675)),\n",
       "    (12, np.float64(0.0047512953958420675)),\n",
       "    (5, np.float64(0.002961505995761316)),\n",
       "    (0, np.float64(0.002961505995761316)),\n",
       "    (8, np.float64(0.002961505995761316)),\n",
       "    (4, np.float64(0.002961505995761316)),\n",
       "    (9, np.float64(0.002961505995761316)),\n",
       "    (3, np.float64(0.0021508646011522588)),\n",
       "    (2, np.float64(0.0021508646011522583)),\n",
       "    (1, np.float64(0.0021508646011522583)),\n",
       "    (11, np.float64(0.0017829847024702218)),\n",
       "    (7, np.float64(0.0017829847024702218)),\n",
       "    (6, np.float64(0.0017829847024702211))],\n",
       "   [(10, np.float64(0.005173157688411589)),\n",
       "    (12, np.float64(0.005173157688411589)),\n",
       "    (5, np.float64(0.003645624607274292)),\n",
       "    (0, np.float64(0.003645624607274292)),\n",
       "    (8, np.float64(0.003645624607274292)),\n",
       "    (4, np.float64(0.003645624607274292)),\n",
       "    (9, np.float64(0.003645624607274292)),\n",
       "    (3, np.float64(0.002813960780282849)),\n",
       "    (2, np.float64(0.002813960780282848)),\n",
       "    (1, np.float64(0.002813960780282848)),\n",
       "    (11, np.float64(0.0024107828357889825)),\n",
       "    (7, np.float64(0.0024107828357889825)),\n",
       "    (6, np.float64(0.0024107828357889816))],\n",
       "   [(10, np.float64(0.0005139385215019512)),\n",
       "    (12, np.float64(0.0005139385215019512)),\n",
       "    (5, np.float64(0.00026563418081203255)),\n",
       "    (0, np.float64(0.00026563418081203255)),\n",
       "    (8, np.float64(0.00026563418081203255)),\n",
       "    (4, np.float64(0.00026563418081203255)),\n",
       "    (9, np.float64(0.00026563418081203255)),\n",
       "    (3, np.float64(0.00017891680434899845)),\n",
       "    (2, np.float64(0.00017891680434899837)),\n",
       "    (1, np.float64(0.00017891680434899837)),\n",
       "    (11, np.float64(0.0001428962175522594)),\n",
       "    (7, np.float64(0.0001428962175522594)),\n",
       "    (6, np.float64(0.00014289621755225938))],\n",
       "   [(10, np.float64(0.003968368732411114)),\n",
       "    (12, np.float64(0.003968368732411114)),\n",
       "    (5, np.float64(0.00228693622713163)),\n",
       "    (0, np.float64(0.00228693622713163)),\n",
       "    (8, np.float64(0.00228693622713163)),\n",
       "    (4, np.float64(0.00228693622713163)),\n",
       "    (9, np.float64(0.00228693622713163)),\n",
       "    (3, np.float64(0.001606111443252506)),\n",
       "    (2, np.float64(0.0016061114432525054)),\n",
       "    (1, np.float64(0.0016061114432525054)),\n",
       "    (11, np.float64(0.0013090885591018225)),\n",
       "    (7, np.float64(0.0013090885591018225)),\n",
       "    (6, np.float64(0.001309088559101822))]],\n",
       "  <Functional name=functional_47, built=True>),\n",
       " (0.6198954582214355,\n",
       "  [0.6973136067390442, 0.7142857313156128],\n",
       "  array([0, 0, 1, 0, 1, 0, 1]),\n",
       "  [array([0.39406136], dtype=float32),\n",
       "   array([0.13697666], dtype=float32),\n",
       "   array([0.19887145], dtype=float32),\n",
       "   array([0.2864445], dtype=float32),\n",
       "   array([0.5921867], dtype=float32),\n",
       "   array([0.26349342], dtype=float32),\n",
       "   array([0.23444296], dtype=float32)],\n",
       "  [[(10, np.float64(0.004433156309850534)),\n",
       "    (12, np.float64(0.004433156309850534)),\n",
       "    (5, np.float64(0.003977843877912425)),\n",
       "    (0, np.float64(0.003977843877912425)),\n",
       "    (8, np.float64(0.003977843877912425)),\n",
       "    (4, np.float64(0.003977843877912425)),\n",
       "    (9, np.float64(0.003977843877912425)),\n",
       "    (3, np.float64(0.0036056396158322987)),\n",
       "    (2, np.float64(0.0036056396158322974)),\n",
       "    (1, np.float64(0.0036056396158322974)),\n",
       "    (11, np.float64(0.0034276407803000277)),\n",
       "    (7, np.float64(0.0034276407803000277)),\n",
       "    (6, np.float64(0.0034276407803000264))],\n",
       "   [(10, np.float64(0.004628581230123152)),\n",
       "    (12, np.float64(0.004628581230123152)),\n",
       "    (5, np.float64(0.0028371009075552475)),\n",
       "    (0, np.float64(0.0028371009075552475)),\n",
       "    (8, np.float64(0.0028371009075552475)),\n",
       "    (4, np.float64(0.0028371009075552475)),\n",
       "    (9, np.float64(0.0028371009075552475)),\n",
       "    (3, np.float64(0.002045143791198429)),\n",
       "    (2, np.float64(0.0020451437911984285)),\n",
       "    (1, np.float64(0.0020451437911984285)),\n",
       "    (11, np.float64(0.0016888432692194824)),\n",
       "    (7, np.float64(0.0016888432692194824)),\n",
       "    (6, np.float64(0.0016888432692194818))],\n",
       "   [(10, np.float64(0.0051484442741249695)),\n",
       "    (12, np.float64(0.0051484442741249695)),\n",
       "    (5, np.float64(0.003549926820242526)),\n",
       "    (0, np.float64(0.003549926820242526)),\n",
       "    (8, np.float64(0.003549926820242526)),\n",
       "    (4, np.float64(0.003549926820242526)),\n",
       "    (9, np.float64(0.003549926820242526)),\n",
       "    (3, np.float64(0.0027083422919401655)),\n",
       "    (2, np.float64(0.0027083422919401646)),\n",
       "    (1, np.float64(0.0027083422919401646)),\n",
       "    (11, np.float64(0.002305157198076908)),\n",
       "    (7, np.float64(0.002305157198076908)),\n",
       "    (6, np.float64(0.0023051571980769073))],\n",
       "   [(10, np.float64(0.005017733875577822)),\n",
       "    (12, np.float64(0.005017733875577822)),\n",
       "    (5, np.float64(0.003987776273563283)),\n",
       "    (0, np.float64(0.003987776273563283)),\n",
       "    (8, np.float64(0.003987776273563283)),\n",
       "    (4, np.float64(0.003987776273563283)),\n",
       "    (9, np.float64(0.003987776273563283)),\n",
       "    (3, np.float64(0.0033075958876940047)),\n",
       "    (2, np.float64(0.003307595887694004)),\n",
       "    (1, np.float64(0.003307595887694004)),\n",
       "    (11, np.float64(0.0029587322548345145)),\n",
       "    (7, np.float64(0.0029587322548345145)),\n",
       "    (6, np.float64(0.0029587322548345132))],\n",
       "   [(11, np.float64(0.003624372108707196)),\n",
       "    (7, np.float64(0.003624372108707196)),\n",
       "    (6, np.float64(0.0036243721087071946)),\n",
       "    (3, np.float64(0.003487186320155715)),\n",
       "    (2, np.float64(0.0034871863201557138)),\n",
       "    (1, np.float64(0.0034871863201557138)),\n",
       "    (5, np.float64(0.003448519459803698)),\n",
       "    (0, np.float64(0.003448519459803698)),\n",
       "    (8, np.float64(0.003448519459803698)),\n",
       "    (4, np.float64(0.003448519459803698)),\n",
       "    (9, np.float64(0.003448519459803698)),\n",
       "    (10, np.float64(0.0034083398937888943)),\n",
       "    (12, np.float64(0.0034083398937888943))],\n",
       "   [(10, np.float64(0.005105967218991456)),\n",
       "    (12, np.float64(0.005105967218991456)),\n",
       "    (5, np.float64(0.003924747227703117)),\n",
       "    (0, np.float64(0.003924747227703117)),\n",
       "    (8, np.float64(0.003924747227703117)),\n",
       "    (4, np.float64(0.003924747227703117)),\n",
       "    (9, np.float64(0.003924747227703117)),\n",
       "    (3, np.float64(0.003186484227912995)),\n",
       "    (2, np.float64(0.003186484227912994)),\n",
       "    (1, np.float64(0.003186484227912994)),\n",
       "    (11, np.float64(0.0028125810184460973)),\n",
       "    (7, np.float64(0.0028125810184460973)),\n",
       "    (6, np.float64(0.0028125810184460964))],\n",
       "   [(10, np.float64(0.0051727619089279135)),\n",
       "    (12, np.float64(0.0051727619089279135)),\n",
       "    (5, np.float64(0.003796284278095292)),\n",
       "    (0, np.float64(0.003796284278095292)),\n",
       "    (8, np.float64(0.003796284278095292)),\n",
       "    (4, np.float64(0.003796284278095292)),\n",
       "    (9, np.float64(0.003796284278095292)),\n",
       "    (3, np.float64(0.0029976904000972846)),\n",
       "    (2, np.float64(0.0029976904000972838)),\n",
       "    (1, np.float64(0.0029976904000972838)),\n",
       "    (11, np.float64(0.0026021297450804968)),\n",
       "    (7, np.float64(0.0026021297450804968)),\n",
       "    (6, np.float64(0.002602129745080496))]],\n",
       "  <Functional name=functional_49, built=True>),\n",
       " (0.6941096186637878,\n",
       "  [0.6894897222518921, 0.8571428656578064],\n",
       "  array([0, 1, 0, 0, 0, 0, 0]),\n",
       "  [array([0.49813846], dtype=float32),\n",
       "   array([0.49694052], dtype=float32),\n",
       "   array([0.49781254], dtype=float32),\n",
       "   array([0.49695927], dtype=float32),\n",
       "   array([0.49799106], dtype=float32),\n",
       "   array([0.49646103], dtype=float32),\n",
       "   array([0.49672273], dtype=float32)],\n",
       "  [[(10, np.float64(0.0038551272449021926)),\n",
       "    (12, np.float64(0.0038551272449021926)),\n",
       "    (5, np.float64(0.0037287900835512827)),\n",
       "    (0, np.float64(0.0037287900835512827)),\n",
       "    (8, np.float64(0.0037287900835512827)),\n",
       "    (4, np.float64(0.0037287900835512827)),\n",
       "    (9, np.float64(0.0037287900835512827)),\n",
       "    (11, np.float64(0.0036102623868993315)),\n",
       "    (7, np.float64(0.0036102623868993315)),\n",
       "    (6, np.float64(0.00361026238689933)),\n",
       "    (3, np.float64(0.0036082737104523544)),\n",
       "    (2, np.float64(0.003608273710452353)),\n",
       "    (1, np.float64(0.003608273710452353))],\n",
       "   [(10, np.float64(0.0038613258269755684)),\n",
       "    (12, np.float64(0.0038613258269755684)),\n",
       "    (5, np.float64(0.003732206111355475)),\n",
       "    (0, np.float64(0.003732206111355475)),\n",
       "    (8, np.float64(0.003732206111355475)),\n",
       "    (4, np.float64(0.003732206111355475)),\n",
       "    (9, np.float64(0.003732206111355475)),\n",
       "    (11, np.float64(0.0036093078301271345)),\n",
       "    (7, np.float64(0.0036093078301271345)),\n",
       "    (6, np.float64(0.0036093078301271332)),\n",
       "    (3, np.float64(0.003609249894555907)),\n",
       "    (2, np.float64(0.0036092498945559056)),\n",
       "    (1, np.float64(0.0036092498945559056))],\n",
       "   [(10, np.float64(0.003856812438533197)),\n",
       "    (12, np.float64(0.003856812438533197)),\n",
       "    (5, np.float64(0.0037297201777776808)),\n",
       "    (0, np.float64(0.0037297201777776808)),\n",
       "    (8, np.float64(0.0037297201777776808)),\n",
       "    (4, np.float64(0.0037297201777776808)),\n",
       "    (9, np.float64(0.0037297201777776808)),\n",
       "    (11, np.float64(0.0036100049319645238)),\n",
       "    (7, np.float64(0.0036100049319645238)),\n",
       "    (6, np.float64(0.0036100049319645225)),\n",
       "    (3, np.float64(0.003608541082777477)),\n",
       "    (2, np.float64(0.0036085410827774757)),\n",
       "    (1, np.float64(0.0036085410827774757))],\n",
       "   [(10, np.float64(0.0038612287335433354)),\n",
       "    (12, np.float64(0.0038612287335433354)),\n",
       "    (5, np.float64(0.003732152711456713)),\n",
       "    (0, np.float64(0.003732152711456713)),\n",
       "    (8, np.float64(0.003732152711456713)),\n",
       "    (4, np.float64(0.003732152711456713)),\n",
       "    (9, np.float64(0.003732152711456713)),\n",
       "    (11, np.float64(0.0036093229424491832)),\n",
       "    (7, np.float64(0.0036093229424491832)),\n",
       "    (6, np.float64(0.003609322942449182)),\n",
       "    (3, np.float64(0.003609234758040629)),\n",
       "    (2, np.float64(0.003609234758040628)),\n",
       "    (1, np.float64(0.003609234758040628))],\n",
       "   [(10, np.float64(0.0038558892891742075)),\n",
       "    (12, np.float64(0.0038558892891742075)),\n",
       "    (5, np.float64(0.0037292108001418245)),\n",
       "    (0, np.float64(0.0037292108001418245)),\n",
       "    (8, np.float64(0.0037292108001418245)),\n",
       "    (4, np.float64(0.0037292108001418245)),\n",
       "    (9, np.float64(0.0037292108001418245)),\n",
       "    (11, np.float64(0.0036101461561525443)),\n",
       "    (7, np.float64(0.0036101461561525443)),\n",
       "    (6, np.float64(0.003610146156152543)),\n",
       "    (3, np.float64(0.003608394799155174)),\n",
       "    (2, np.float64(0.0036083947991551726)),\n",
       "    (1, np.float64(0.0036083947991551726))],\n",
       "   [(10, np.float64(0.003863810386940505)),\n",
       "    (12, np.float64(0.003863810386940505)),\n",
       "    (5, np.float64(0.0037335714085049757)),\n",
       "    (0, np.float64(0.0037335714085049757)),\n",
       "    (8, np.float64(0.0037335714085049757)),\n",
       "    (4, np.float64(0.0037335714085049757)),\n",
       "    (9, np.float64(0.0037335714085049757)),\n",
       "    (3, np.float64(0.0036096355568537406)),\n",
       "    (2, np.float64(0.0036096355568537393)),\n",
       "    (1, np.float64(0.0036096355568537393)),\n",
       "    (11, np.float64(0.003608919379014348)),\n",
       "    (7, np.float64(0.003608919379014348)),\n",
       "    (6, np.float64(0.0036089193790143467))],\n",
       "   [(10, np.float64(0.0038624541249502116)),\n",
       "    (12, np.float64(0.0038624541249502116)),\n",
       "    (5, np.float64(0.003732826405224005)),\n",
       "    (0, np.float64(0.003732826405224005)),\n",
       "    (8, np.float64(0.003732826405224005)),\n",
       "    (4, np.float64(0.003732826405224005)),\n",
       "    (9, np.float64(0.003732826405224005)),\n",
       "    (3, np.float64(0.003609425431863204)),\n",
       "    (2, np.float64(0.0036094254318632026)),\n",
       "    (1, np.float64(0.0036094254318632026)),\n",
       "    (11, np.float64(0.0036091318394488215)),\n",
       "    (7, np.float64(0.0036091318394488215)),\n",
       "    (6, np.float64(0.00360913183944882))]],\n",
       "  <Functional name=functional_51, built=True>),\n",
       " (0.3464128077030182,\n",
       "  [0.09827979654073715, 1.0],\n",
       "  array([0, 1, 0, 0, 0, 0, 0]),\n",
       "  [array([0.20568211], dtype=float32),\n",
       "   array([0.9795497], dtype=float32),\n",
       "   array([0.04344735], dtype=float32),\n",
       "   array([0.01332873], dtype=float32),\n",
       "   array([0.07824349], dtype=float32),\n",
       "   array([0.00072978], dtype=float32),\n",
       "   array([0.25694314], dtype=float32)],\n",
       "  [[(10, np.float64(0.005164729398577037)),\n",
       "    (12, np.float64(0.005164729398577037)),\n",
       "    (5, np.float64(0.003605514315166282)),\n",
       "    (0, np.float64(0.003605514315166282)),\n",
       "    (8, np.float64(0.003605514315166282)),\n",
       "    (4, np.float64(0.003605514315166282)),\n",
       "    (9, np.float64(0.003605514315166282)),\n",
       "    (3, np.float64(0.002768875836577215)),\n",
       "    (2, np.float64(0.0027688758365772143)),\n",
       "    (1, np.float64(0.0027688758365772143)),\n",
       "    (11, np.float64(0.0023653532996528053)),\n",
       "    (7, np.float64(0.0023653532996528053)),\n",
       "    (6, np.float64(0.0023653532996528045))],\n",
       "   [(11, np.float64(0.00311697355870862)),\n",
       "    (7, np.float64(0.00311697355870862)),\n",
       "    (6, np.float64(0.0031169735587086187)),\n",
       "    (3, np.float64(0.0027330787502243994)),\n",
       "    (2, np.float64(0.0027330787502243986)),\n",
       "    (1, np.float64(0.0027330787502243986)),\n",
       "    (5, np.float64(0.002460491915510189)),\n",
       "    (0, np.float64(0.002460491915510189)),\n",
       "    (8, np.float64(0.002460491915510189)),\n",
       "    (4, np.float64(0.002460491915510189)),\n",
       "    (9, np.float64(0.002460491915510189)),\n",
       "    (10, np.float64(0.0022356114144310322)),\n",
       "    (12, np.float64(0.0022356114144310322))],\n",
       "   [(10, np.float64(0.0019572898739598204)),\n",
       "    (12, np.float64(0.0019572898739598204)),\n",
       "    (5, np.float64(0.0010365985837838244)),\n",
       "    (0, np.float64(0.0010365985837838244)),\n",
       "    (8, np.float64(0.0010365985837838244)),\n",
       "    (4, np.float64(0.0010365985837838244)),\n",
       "    (9, np.float64(0.0010365985837838244)),\n",
       "    (3, np.float64(0.000704803478589378)),\n",
       "    (2, np.float64(0.0007048034785893777)),\n",
       "    (1, np.float64(0.0007048034785893777)),\n",
       "    (11, np.float64(0.0005655799617362144)),\n",
       "    (7, np.float64(0.0005655799617362144)),\n",
       "    (6, np.float64(0.0005655799617362142))],\n",
       "   [(10, np.float64(0.0006283627049197859)),\n",
       "    (12, np.float64(0.0006283627049197859)),\n",
       "    (5, np.float64(0.00032539893555232416)),\n",
       "    (0, np.float64(0.00032539893555232416)),\n",
       "    (8, np.float64(0.00032539893555232416)),\n",
       "    (4, np.float64(0.00032539893555232416)),\n",
       "    (9, np.float64(0.00032539893555232416)),\n",
       "    (3, np.float64(0.00021936080431242402)),\n",
       "    (2, np.float64(0.00021936080431242394)),\n",
       "    (1, np.float64(0.00021936080431242394)),\n",
       "    (11, np.float64(0.00017528345720038853)),\n",
       "    (7, np.float64(0.00017528345720038853)),\n",
       "    (6, np.float64(0.00017528345720038845))],\n",
       "   [(10, np.float64(0.003248962662197696)),\n",
       "    (12, np.float64(0.003248962662197696)),\n",
       "    (5, np.float64(0.001796667276512403)),\n",
       "    (0, np.float64(0.001796667276512403)),\n",
       "    (8, np.float64(0.001796667276512403)),\n",
       "    (4, np.float64(0.001796667276512403)),\n",
       "    (9, np.float64(0.001796667276512403)),\n",
       "    (3, np.float64(0.0012414614935203887)),\n",
       "    (2, np.float64(0.0012414614935203883)),\n",
       "    (1, np.float64(0.0012414614935203883)),\n",
       "    (11, np.float64(0.0010039204966833413)),\n",
       "    (7, np.float64(0.0010039204966833413)),\n",
       "    (6, np.float64(0.001003920496683341))],\n",
       "   [(10, np.float64(4.442276564101871e-05)),\n",
       "    (12, np.float64(4.442276564101871e-05)),\n",
       "    (5, np.float64(2.12731227121235e-05)),\n",
       "    (0, np.float64(2.12731227121235e-05)),\n",
       "    (8, np.float64(2.12731227121235e-05)),\n",
       "    (4, np.float64(2.12731227121235e-05)),\n",
       "    (9, np.float64(2.12731227121235e-05)),\n",
       "    (3, np.float64(1.3758287638285217e-05)),\n",
       "    (2, np.float64(1.3758287638285212e-05)),\n",
       "    (1, np.float64(1.3758287638285212e-05)),\n",
       "    (11, np.float64(1.071456914357265e-05)),\n",
       "    (7, np.float64(1.071456914357265e-05)),\n",
       "    (6, np.float64(1.0714569143572646e-05))],\n",
       "   [(10, np.float64(0.00512610165284395)),\n",
       "    (12, np.float64(0.00512610165284395)),\n",
       "    (5, np.float64(0.003900852208070427)),\n",
       "    (0, np.float64(0.003900852208070427)),\n",
       "    (8, np.float64(0.003900852208070427)),\n",
       "    (4, np.float64(0.003900852208070427)),\n",
       "    (9, np.float64(0.003900852208070427)),\n",
       "    (3, np.float64(0.0031474815044216556)),\n",
       "    (2, np.float64(0.0031474815044216543)),\n",
       "    (1, np.float64(0.0031474815044216543)),\n",
       "    (11, np.float64(0.002767634620266108)),\n",
       "    (7, np.float64(0.002767634620266108)),\n",
       "    (6, np.float64(0.002767634620266107))]],\n",
       "  <Functional name=functional_53, built=True>),\n",
       " (0.3627939820289612,\n",
       "  [1.0297025442123413, 0.5714285969734192],\n",
       "  array([0, 0, 1, 0, 0, 0, 0]),\n",
       "  [array([0.60159236], dtype=float32),\n",
       "   array([0.8441907], dtype=float32),\n",
       "   array([0.02082125], dtype=float32),\n",
       "   array([0.00326948], dtype=float32),\n",
       "   array([0.03244079], dtype=float32),\n",
       "   array([0.0116264], dtype=float32),\n",
       "   array([0.3987758], dtype=float32)],\n",
       "  [[(11, np.float64(0.0036202852263595795)),\n",
       "    (7, np.float64(0.0036202852263595795)),\n",
       "    (6, np.float64(0.003620285226359578)),\n",
       "    (3, np.float64(0.0034714745098770004)),\n",
       "    (2, np.float64(0.003471474509876999)),\n",
       "    (1, np.float64(0.003471474509876999)),\n",
       "    (5, np.float64(0.0034201376826617827)),\n",
       "    (0, np.float64(0.0034201376826617827)),\n",
       "    (8, np.float64(0.0034201376826617827)),\n",
       "    (4, np.float64(0.0034201376826617827)),\n",
       "    (9, np.float64(0.0034201376826617827)),\n",
       "    (10, np.float64(0.003367952561190304)),\n",
       "    (12, np.float64(0.003367952561190304))],\n",
       "   [(11, np.float64(0.003335538358319656)),\n",
       "    (7, np.float64(0.003335538358319656)),\n",
       "    (6, np.float64(0.0033355383583196546)),\n",
       "    (3, np.float64(0.0029942228131180954)),\n",
       "    (2, np.float64(0.0029942228131180945)),\n",
       "    (1, np.float64(0.0029942228131180945)),\n",
       "    (5, np.float64(0.0027559285500268794)),\n",
       "    (0, np.float64(0.0027559285500268794)),\n",
       "    (8, np.float64(0.0027559285500268794)),\n",
       "    (4, np.float64(0.0027559285500268794)),\n",
       "    (9, np.float64(0.0027559285500268794)),\n",
       "    (10, np.float64(0.0025508362032552337)),\n",
       "    (12, np.float64(0.0025508362032552337))],\n",
       "   [(10, np.float64(0.0009707208552645371)),\n",
       "    (12, np.float64(0.0009707208552645371)),\n",
       "    (5, np.float64(0.0005051204801767349)),\n",
       "    (0, np.float64(0.0005051204801767349)),\n",
       "    (8, np.float64(0.0005051204801767349)),\n",
       "    (4, np.float64(0.0005051204801767349)),\n",
       "    (9, np.float64(0.0005051204801767349)),\n",
       "    (3, np.float64(0.0003411973248904452)),\n",
       "    (2, np.float64(0.000341197324890445)),\n",
       "    (1, np.float64(0.000341197324890445)),\n",
       "    (11, np.float64(0.00027292914701764566)),\n",
       "    (7, np.float64(0.00027292914701764566)),\n",
       "    (6, np.float64(0.00027292914701764555))],\n",
       "   [(10, np.float64(0.00016255346614050086)),\n",
       "    (12, np.float64(0.00016255346614050086)),\n",
       "    (5, np.float64(8.267575423416371e-05)),\n",
       "    (0, np.float64(8.267575423416371e-05)),\n",
       "    (8, np.float64(8.267575423416371e-05)),\n",
       "    (4, np.float64(8.267575423416371e-05)),\n",
       "    (9, np.float64(8.267575423416371e-05)),\n",
       "    (3, np.float64(5.5240455589635624e-05)),\n",
       "    (2, np.float64(5.5240455589635604e-05)),\n",
       "    (1, np.float64(5.5240455589635604e-05)),\n",
       "    (11, np.float64(4.3907208993052436e-05)),\n",
       "    (7, np.float64(4.3907208993052436e-05)),\n",
       "    (6, np.float64(4.390720899305242e-05))],\n",
       "   [(10, np.float64(0.001488200001088223)),\n",
       "    (12, np.float64(0.001488200001088223)),\n",
       "    (5, np.float64(0.0007806649986072484)),\n",
       "    (0, np.float64(0.0007806649986072484)),\n",
       "    (8, np.float64(0.0007806649986072484)),\n",
       "    (4, np.float64(0.0007806649986072484)),\n",
       "    (9, np.float64(0.0007806649986072484)),\n",
       "    (3, np.float64(0.0005289303791114168)),\n",
       "    (2, np.float64(0.0005289303791114166)),\n",
       "    (1, np.float64(0.0005289303791114166)),\n",
       "    (11, np.float64(0.0004237366312024746)),\n",
       "    (7, np.float64(0.0004237366312024746)),\n",
       "    (6, np.float64(0.0004237366312024744))],\n",
       "   [(10, np.float64(0.0005499116892265187)),\n",
       "    (12, np.float64(0.0005499116892265187)),\n",
       "    (5, np.float64(0.0002844103630230026)),\n",
       "    (0, np.float64(0.0002844103630230026)),\n",
       "    (8, np.float64(0.0002844103630230026)),\n",
       "    (4, np.float64(0.0002844103630230026)),\n",
       "    (9, np.float64(0.0002844103630230026)),\n",
       "    (3, np.float64(0.00019161996221487697)),\n",
       "    (2, np.float64(0.0001916199622148769)),\n",
       "    (1, np.float64(0.0001916199622148769)),\n",
       "    (11, np.float64(0.00015306767414476833)),\n",
       "    (7, np.float64(0.00015306767414476833)),\n",
       "    (6, np.float64(0.00015306767414476828))],\n",
       "   [(10, np.float64(0.004405741496164951)),\n",
       "    (12, np.float64(0.004405741496164951)),\n",
       "    (5, np.float64(0.003969737290757623)),\n",
       "    (0, np.float64(0.003969737290757623)),\n",
       "    (8, np.float64(0.003969737290757623)),\n",
       "    (4, np.float64(0.003969737290757623)),\n",
       "    (9, np.float64(0.003969737290757623)),\n",
       "    (3, np.float64(0.0036105244993459144)),\n",
       "    (2, np.float64(0.003610524499345913)),\n",
       "    (1, np.float64(0.003610524499345913)),\n",
       "    (11, np.float64(0.00344092172054067)),\n",
       "    (7, np.float64(0.00344092172054067)),\n",
       "    (6, np.float64(0.003440921720540669))]],\n",
       "  <Functional name=functional_55, built=True>),\n",
       " (0.5646025538444519,\n",
       "  [0.32458236813545227, 0.8571428656578064],\n",
       "  array([1, 1, 1, 1, 1, 1, 1]),\n",
       "  [array([0.38276225], dtype=float32),\n",
       "   array([0.73669684], dtype=float32),\n",
       "   array([0.9209132], dtype=float32),\n",
       "   array([0.89426875], dtype=float32),\n",
       "   array([0.83254784], dtype=float32),\n",
       "   array([0.65174735], dtype=float32),\n",
       "   array([0.8181945], dtype=float32)],\n",
       "  [[(10, np.float64(0.004498964559736399)),\n",
       "    (12, np.float64(0.004498964559736399)),\n",
       "    (5, np.float64(0.003995423732756247)),\n",
       "    (0, np.float64(0.003995423732756247)),\n",
       "    (8, np.float64(0.003995423732756247)),\n",
       "    (4, np.float64(0.003995423732756247)),\n",
       "    (9, np.float64(0.003995423732756247)),\n",
       "    (3, np.float64(0.003591610464847719)),\n",
       "    (2, np.float64(0.003591610464847718)),\n",
       "    (1, np.float64(0.003591610464847718)),\n",
       "    (11, np.float64(0.0033935729013476407)),\n",
       "    (7, np.float64(0.0033935729013476407)),\n",
       "    (6, np.float64(0.00339357290134764))],\n",
       "   [(11, np.float64(0.0034918080405692484)),\n",
       "    (7, np.float64(0.0034918080405692484)),\n",
       "    (6, np.float64(0.003491808040569247)),\n",
       "    (3, np.float64(0.0032127809004606667)),\n",
       "    (2, np.float64(0.0032127809004606654)),\n",
       "    (1, np.float64(0.0032127809004606654)),\n",
       "    (5, np.float64(0.0030300665419897735)),\n",
       "    (0, np.float64(0.0030300665419897735)),\n",
       "    (8, np.float64(0.0030300665419897735)),\n",
       "    (4, np.float64(0.0030300665419897735)),\n",
       "    (9, np.float64(0.0030300665419897735)),\n",
       "    (10, np.float64(0.0028649088134226285)),\n",
       "    (12, np.float64(0.0028649088134226285))],\n",
       "   [(11, np.float64(0.003212691923673877)),\n",
       "    (7, np.float64(0.003212691923673877)),\n",
       "    (6, np.float64(0.003212691923673876)),\n",
       "    (3, np.float64(0.0028433121568797732)),\n",
       "    (2, np.float64(0.002843312156879772)),\n",
       "    (1, np.float64(0.002843312156879772)),\n",
       "    (5, np.float64(0.0025819445991018546)),\n",
       "    (0, np.float64(0.0025819445991018546)),\n",
       "    (8, np.float64(0.0025819445991018546)),\n",
       "    (4, np.float64(0.0025819445991018546)),\n",
       "    (9, np.float64(0.0025819445991018546)),\n",
       "    (10, np.float64(0.0023627667276311126)),\n",
       "    (12, np.float64(0.0023627667276311126))],\n",
       "   [(11, np.float64(0.0032558710146305815)),\n",
       "    (7, np.float64(0.0032558710146305815)),\n",
       "    (6, np.float64(0.0032558710146305806)),\n",
       "    (3, np.float64(0.002894950111284876)),\n",
       "    (2, np.float64(0.002894950111284875)),\n",
       "    (1, np.float64(0.002894950111284875)),\n",
       "    (5, np.float64(0.0026403737450840284)),\n",
       "    (0, np.float64(0.0026403737450840284)),\n",
       "    (8, np.float64(0.0026403737450840284)),\n",
       "    (4, np.float64(0.0026403737450840284)),\n",
       "    (9, np.float64(0.0026403737450840284)),\n",
       "    (10, np.float64(0.0024250968314990873)),\n",
       "    (12, np.float64(0.0024250968314990873))],\n",
       "   [(11, np.float64(0.0033536385441261516)),\n",
       "    (7, np.float64(0.0033536385441261516)),\n",
       "    (6, np.float64(0.0033536385441261508)),\n",
       "    (3, np.float64(0.0030176492283951984)),\n",
       "    (2, np.float64(0.003017649228395197)),\n",
       "    (1, np.float64(0.003017649228395197)),\n",
       "    (5, np.float64(0.0027838921408256632)),\n",
       "    (0, np.float64(0.0027838921408256632)),\n",
       "    (8, np.float64(0.0027838921408256632)),\n",
       "    (4, np.float64(0.0027838921408256632)),\n",
       "    (9, np.float64(0.0027838921408256632)),\n",
       "    (10, np.float64(0.0025817971928594075)),\n",
       "    (12, np.float64(0.0025817971928594075))],\n",
       "   [(11, np.float64(0.0035859497796649755)),\n",
       "    (7, np.float64(0.0035859497796649755)),\n",
       "    (6, np.float64(0.0035859497796649742)),\n",
       "    (3, np.float64(0.00338100424254647)),\n",
       "    (2, np.float64(0.0033810042425464685)),\n",
       "    (1, np.float64(0.0033810042425464685)),\n",
       "    (5, np.float64(0.003270652639781658)),\n",
       "    (0, np.float64(0.003270652639781658)),\n",
       "    (8, np.float64(0.003270652639781658)),\n",
       "    (4, np.float64(0.003270652639781658)),\n",
       "    (9, np.float64(0.003270652639781658)),\n",
       "    (10, np.float64(0.003165020605483564)),\n",
       "    (12, np.float64(0.003165020605483564))],\n",
       "   [(11, np.float64(0.0033756590133810415)),\n",
       "    (7, np.float64(0.0033756590133810415)),\n",
       "    (6, np.float64(0.0033756590133810402)),\n",
       "    (3, np.float64(0.003046670122961222)),\n",
       "    (2, np.float64(0.003046670122961221)),\n",
       "    (1, np.float64(0.003046670122961221)),\n",
       "    (5, np.float64(0.0028189434265754676)),\n",
       "    (0, np.float64(0.0028189434265754676)),\n",
       "    (8, np.float64(0.0028189434265754676)),\n",
       "    (4, np.float64(0.0028189434265754676)),\n",
       "    (9, np.float64(0.0028189434265754676)),\n",
       "    (10, np.float64(0.002620920294565211)),\n",
       "    (12, np.float64(0.002620920294565211))]],\n",
       "  <Functional name=functional_57, built=True>),\n",
       " (0.6933309435844421,\n",
       "  [0.6930112838745117, 0.5714285969734192],\n",
       "  array([1, 0, 0, 0, 1, 1, 1]),\n",
       "  [array([0.50154537], dtype=float32),\n",
       "   array([0.50170535], dtype=float32),\n",
       "   array([0.50175285], dtype=float32),\n",
       "   array([0.50221586], dtype=float32),\n",
       "   array([0.50108707], dtype=float32),\n",
       "   array([0.5013915], dtype=float32),\n",
       "   array([0.50214696], dtype=float32)],\n",
       "  [[(10, np.float64(0.0038375668885545634)),\n",
       "    (12, np.float64(0.0038375668885545634)),\n",
       "    (5, np.float64(0.0037190368137228966)),\n",
       "    (0, np.float64(0.0037190368137228966)),\n",
       "    (8, np.float64(0.0037190368137228966)),\n",
       "    (4, np.float64(0.0037190368137228966)),\n",
       "    (9, np.float64(0.0037190368137228966)),\n",
       "    (11, np.float64(0.0036128537698002752)),\n",
       "    (7, np.float64(0.0036128537698002752)),\n",
       "    (6, np.float64(0.003612853769800274)),\n",
       "    (3, np.float64(0.003605399846505719)),\n",
       "    (2, np.float64(0.0036053998465057175)),\n",
       "    (1, np.float64(0.0036053998465057175))],\n",
       "   [(10, np.float64(0.0038367447975245278)),\n",
       "    (12, np.float64(0.0038367447975245278)),\n",
       "    (5, np.float64(0.0037185774810095024)),\n",
       "    (0, np.float64(0.0037185774810095024)),\n",
       "    (8, np.float64(0.0037185774810095024)),\n",
       "    (4, np.float64(0.0037185774810095024)),\n",
       "    (9, np.float64(0.0037185774810095024)),\n",
       "    (11, np.float64(0.0036129710009703774)),\n",
       "    (7, np.float64(0.0036129710009703774)),\n",
       "    (6, np.float64(0.003612971000970376)),\n",
       "    (3, np.float64(0.003605261390533938)),\n",
       "    (2, np.float64(0.0036052613905339366)),\n",
       "    (1, np.float64(0.0036052613905339366))],\n",
       "   [(10, np.float64(0.0038365007249759604)),\n",
       "    (12, np.float64(0.0038365007249759604)),\n",
       "    (5, np.float64(0.00371844106176852)),\n",
       "    (0, np.float64(0.00371844106176852)),\n",
       "    (8, np.float64(0.00371844106176852)),\n",
       "    (4, np.float64(0.00371844106176852)),\n",
       "    (9, np.float64(0.00371844106176852)),\n",
       "    (11, np.float64(0.0036130057356997597)),\n",
       "    (7, np.float64(0.0036130057356997597)),\n",
       "    (6, np.float64(0.0036130057356997584)),\n",
       "    (3, np.float64(0.0036052202167150514)),\n",
       "    (2, np.float64(0.00360522021671505)),\n",
       "    (1, np.float64(0.00360522021671505))],\n",
       "   [(10, np.float64(0.003834122895114717)),\n",
       "    (12, np.float64(0.003834122895114717)),\n",
       "    (5, np.float64(0.003717110901479115)),\n",
       "    (0, np.float64(0.003717110901479115)),\n",
       "    (8, np.float64(0.003717110901479115)),\n",
       "    (4, np.float64(0.003717110901479115)),\n",
       "    (9, np.float64(0.003717110901479115)),\n",
       "    (11, np.float64(0.0036133424477462067)),\n",
       "    (7, np.float64(0.0036133424477462067)),\n",
       "    (6, np.float64(0.0036133424477462054)),\n",
       "    (3, np.float64(0.00360481747690657)),\n",
       "    (2, np.float64(0.0036048174769065687)),\n",
       "    (1, np.float64(0.0036048174769065687))],\n",
       "   [(10, np.float64(0.0038399232173922456)),\n",
       "    (12, np.float64(0.0038399232173922456)),\n",
       "    (5, np.float64(0.0037203520321733665)),\n",
       "    (0, np.float64(0.0037203520321733665)),\n",
       "    (8, np.float64(0.0037203520321733665)),\n",
       "    (4, np.float64(0.0037203520321733665)),\n",
       "    (9, np.float64(0.0037203520321733665)),\n",
       "    (11, np.float64(0.003612515730746913)),\n",
       "    (7, np.float64(0.003612515730746913)),\n",
       "    (6, np.float64(0.0036125157307469115)),\n",
       "    (3, np.float64(0.003605794760128744)),\n",
       "    (2, np.float64(0.0036057947601287428)),\n",
       "    (1, np.float64(0.0036057947601287428))],\n",
       "   [(10, np.float64(0.0038383579491342874)),\n",
       "    (12, np.float64(0.0038383579491342874)),\n",
       "    (5, np.float64(0.0037194785786623355)),\n",
       "    (0, np.float64(0.0037194785786623355)),\n",
       "    (8, np.float64(0.0037194785786623355)),\n",
       "    (4, np.float64(0.0037194785786623355)),\n",
       "    (9, np.float64(0.0037194785786623355)),\n",
       "    (11, np.float64(0.0036127406188037406)),\n",
       "    (7, np.float64(0.0036127406188037406)),\n",
       "    (6, np.float64(0.0036127406188037393)),\n",
       "    (3, np.float64(0.0036055327462666876)),\n",
       "    (2, np.float64(0.0036055327462666863)),\n",
       "    (1, np.float64(0.0036055327462666863))],\n",
       "   [(10, np.float64(0.0038344766344498332)),\n",
       "    (12, np.float64(0.0038344766344498332)),\n",
       "    (5, np.float64(0.0037173089124082222)),\n",
       "    (0, np.float64(0.0037173089124082222)),\n",
       "    (8, np.float64(0.0037173089124082222)),\n",
       "    (4, np.float64(0.0037173089124082222)),\n",
       "    (9, np.float64(0.0037173089124082222)),\n",
       "    (11, np.float64(0.003613292550004145)),\n",
       "    (7, np.float64(0.003613292550004145)),\n",
       "    (6, np.float64(0.0036132925500041435)),\n",
       "    (3, np.float64(0.003604877575811188)),\n",
       "    (2, np.float64(0.0036048775758111867)),\n",
       "    (1, np.float64(0.0036048775758111867))]],\n",
       "  <Functional name=functional_59, built=True>),\n",
       " (0.6364096403121948,\n",
       "  [0.8259201049804688, 0.5714285969734192],\n",
       "  array([1, 0, 0, 0, 1, 1, 1]),\n",
       "  [array([0.9637108], dtype=float32),\n",
       "   array([0.70245785], dtype=float32),\n",
       "   array([0.8730397], dtype=float32),\n",
       "   array([0.11891983], dtype=float32),\n",
       "   array([0.6350358], dtype=float32),\n",
       "   array([0.26398596], dtype=float32),\n",
       "   array([0.5735808], dtype=float32)],\n",
       "  [[(11, np.float64(0.003142851247366274)),\n",
       "    (7, np.float64(0.003142851247366274)),\n",
       "    (6, np.float64(0.003142851247366273)),\n",
       "    (3, np.float64(0.0027623676426163438)),\n",
       "    (2, np.float64(0.002762367642616343)),\n",
       "    (1, np.float64(0.002762367642616343)),\n",
       "    (5, np.float64(0.0024923581348562677)),\n",
       "    (0, np.float64(0.0024923581348562677)),\n",
       "    (8, np.float64(0.0024923581348562677)),\n",
       "    (4, np.float64(0.0024923581348562677)),\n",
       "    (9, np.float64(0.0024923581348562677)),\n",
       "    (10, np.float64(0.0022686758304070235)),\n",
       "    (12, np.float64(0.0022686758304070235))],\n",
       "   [(11, np.float64(0.003534061490808199)),\n",
       "    (7, np.float64(0.003534061490808199)),\n",
       "    (6, np.float64(0.0035340614908081977)),\n",
       "    (3, np.float64(0.0032819178192340513)),\n",
       "    (2, np.float64(0.0032819178192340505)),\n",
       "    (1, np.float64(0.0032819178192340505)),\n",
       "    (5, np.float64(0.0031247229555723026)),\n",
       "    (0, np.float64(0.0031247229555723026)),\n",
       "    (8, np.float64(0.0031247229555723026)),\n",
       "    (4, np.float64(0.0031247229555723026)),\n",
       "    (9, np.float64(0.0031247229555723026)),\n",
       "    (10, np.float64(0.0029797314705364304)),\n",
       "    (12, np.float64(0.0029797314705364304))],\n",
       "   [(11, np.float64(0.003289943166360127)),\n",
       "    (7, np.float64(0.003289943166360127)),\n",
       "    (6, np.float64(0.0032899431663601262)),\n",
       "    (3, np.float64(0.0029367087761984476)),\n",
       "    (2, np.float64(0.0029367087761984468)),\n",
       "    (1, np.float64(0.0029367087761984468)),\n",
       "    (5, np.float64(0.0026884325411640152)),\n",
       "    (0, np.float64(0.0026884325411640152)),\n",
       "    (8, np.float64(0.0026884325411640152)),\n",
       "    (4, np.float64(0.0026884325411640152)),\n",
       "    (9, np.float64(0.0026884325411640152)),\n",
       "    (10, np.float64(0.002476976610388133)),\n",
       "    (12, np.float64(0.002476976610388133))],\n",
       "   [(10, np.float64(0.004311329867111684)),\n",
       "    (12, np.float64(0.004311329867111684)),\n",
       "    (5, np.float64(0.0025543199085084705)),\n",
       "    (0, np.float64(0.0025543199085084705)),\n",
       "    (8, np.float64(0.0025543199085084705)),\n",
       "    (4, np.float64(0.0025543199085084705)),\n",
       "    (9, np.float64(0.0025543199085084705)),\n",
       "    (3, np.float64(0.0018145111936514807)),\n",
       "    (2, np.float64(0.00181451119365148)),\n",
       "    (1, np.float64(0.00181451119365148)),\n",
       "    (11, np.float64(0.0014873436747037817)),\n",
       "    (7, np.float64(0.0014873436747037817)),\n",
       "    (6, np.float64(0.0014873436747037813))],\n",
       "   [(11, np.float64(0.0035995405346121298)),\n",
       "    (7, np.float64(0.0035995405346121298)),\n",
       "    (6, np.float64(0.0035995405346121285)),\n",
       "    (3, np.float64(0.003412218675075246)),\n",
       "    (2, np.float64(0.0034122186750752447)),\n",
       "    (1, np.float64(0.0034122186750752447)),\n",
       "    (5, np.float64(0.003320009835577391)),\n",
       "    (0, np.float64(0.003320009835577391)),\n",
       "    (8, np.float64(0.003320009835577391)),\n",
       "    (4, np.float64(0.003320009835577391)),\n",
       "    (9, np.float64(0.003320009835577391)),\n",
       "    (10, np.float64(0.0032303676044500304)),\n",
       "    (12, np.float64(0.0032303676044500304))],\n",
       "   [(10, np.float64(0.0051043512100458115)),\n",
       "    (12, np.float64(0.0051043512100458115)),\n",
       "    (5, np.float64(0.003926432293486553)),\n",
       "    (0, np.float64(0.003926432293486553)),\n",
       "    (8, np.float64(0.003926432293486553)),\n",
       "    (4, np.float64(0.003926432293486553)),\n",
       "    (9, np.float64(0.003926432293486553)),\n",
       "    (3, np.float64(0.003189335404566916)),\n",
       "    (2, np.float64(0.0031893354045669153)),\n",
       "    (1, np.float64(0.0031893354045669153)),\n",
       "    (11, np.float64(0.00281590217796255)),\n",
       "    (7, np.float64(0.00281590217796255)),\n",
       "    (6, np.float64(0.002815902177962549))],\n",
       "   [(11, np.float64(0.0036299119432902567)),\n",
       "    (7, np.float64(0.0036299119432902567)),\n",
       "    (6, np.float64(0.0036299119432902554)),\n",
       "    (3, np.float64(0.003516758387986977)),\n",
       "    (2, np.float64(0.0035167583879869755)),\n",
       "    (1, np.float64(0.0035167583879869755)),\n",
       "    (5, np.float64(0.003504778579459048)),\n",
       "    (0, np.float64(0.003504778579459048)),\n",
       "    (8, np.float64(0.003504778579459048)),\n",
       "    (4, np.float64(0.003504778579459048)),\n",
       "    (9, np.float64(0.003504778579459048)),\n",
       "    (10, np.float64(0.003490487626517581)),\n",
       "    (12, np.float64(0.003490487626517581))]],\n",
       "  <Functional name=functional_61, built=True>),\n",
       " (0.6723755598068237,\n",
       "  [0.6018474698066711, 0.7142857313156128],\n",
       "  array([1, 1, 1, 1, 0, 1, 0]),\n",
       "  [array([0.66210824], dtype=float32),\n",
       "   array([0.6516764], dtype=float32),\n",
       "   array([0.6554772], dtype=float32),\n",
       "   array([0.5935243], dtype=float32),\n",
       "   array([0.65264213], dtype=float32),\n",
       "   array([0.6742698], dtype=float32),\n",
       "   array([0.623488], dtype=float32)],\n",
       "  [[(11, np.float64(0.0035765734902830954)),\n",
       "    (7, np.float64(0.0035765734902830954)),\n",
       "    (6, np.float64(0.003576573490283094)),\n",
       "    (3, np.float64(0.0033612292086786528)),\n",
       "    (2, np.float64(0.0033612292086786515)),\n",
       "    (1, np.float64(0.0033612292086786515)),\n",
       "    (5, np.float64(0.0032403379549323257)),\n",
       "    (0, np.float64(0.0032403379549323257)),\n",
       "    (8, np.float64(0.0032403379549323257)),\n",
       "    (4, np.float64(0.0032403379549323257)),\n",
       "    (9, np.float64(0.0032403379549323257)),\n",
       "    (10, np.float64(0.00312560297544822)),\n",
       "    (12, np.float64(0.00312560297544822))],\n",
       "   [(11, np.float64(0.003586011550422244)),\n",
       "    (7, np.float64(0.003586011550422244)),\n",
       "    (6, np.float64(0.0035860115504222426)),\n",
       "    (3, np.float64(0.0033811385816267976)),\n",
       "    (2, np.float64(0.0033811385816267963)),\n",
       "    (1, np.float64(0.0033811385816267963)),\n",
       "    (5, np.float64(0.0032708609622847315)),\n",
       "    (0, np.float64(0.0032708609622847315)),\n",
       "    (8, np.float64(0.0032708609622847315)),\n",
       "    (4, np.float64(0.0032708609622847315)),\n",
       "    (9, np.float64(0.0032708609622847315)),\n",
       "    (10, np.float64(0.003165293314830245)),\n",
       "    (12, np.float64(0.003165293314830245))],\n",
       "   [(11, np.float64(0.00358265452858588)),\n",
       "    (7, np.float64(0.00358265452858588)),\n",
       "    (6, np.float64(0.003582654528585879)),\n",
       "    (3, np.float64(0.00337391946667231)),\n",
       "    (2, np.float64(0.003373919466672309)),\n",
       "    (1, np.float64(0.003373919466672309)),\n",
       "    (5, np.float64(0.0032597127532402884)),\n",
       "    (0, np.float64(0.0032597127532402884)),\n",
       "    (8, np.float64(0.0032597127532402884)),\n",
       "    (4, np.float64(0.0032597127532402884)),\n",
       "    (9, np.float64(0.0032597127532402884)),\n",
       "    (10, np.float64(0.00315073504440772)),\n",
       "    (12, np.float64(0.00315073504440772))],\n",
       "   [(11, np.float64(0.003623841603928578)),\n",
       "    (7, np.float64(0.003623841603928578)),\n",
       "    (6, np.float64(0.003623841603928577)),\n",
       "    (3, np.float64(0.0034849811883063556)),\n",
       "    (2, np.float64(0.0034849811883063543)),\n",
       "    (1, np.float64(0.0034849811883063543)),\n",
       "    (5, np.float64(0.003444479592304569)),\n",
       "    (0, np.float64(0.003444479592304569)),\n",
       "    (8, np.float64(0.003444479592304569)),\n",
       "    (4, np.float64(0.003444479592304569)),\n",
       "    (9, np.float64(0.003444479592304569)),\n",
       "    (10, np.float64(0.0034025500868742936)),\n",
       "    (12, np.float64(0.0034025500868742936))],\n",
       "   [(11, np.float64(0.0035851676521197486)),\n",
       "    (7, np.float64(0.0035851676521197486)),\n",
       "    (6, np.float64(0.0035851676521197473)),\n",
       "    (3, np.float64(0.003379308276192521)),\n",
       "    (2, np.float64(0.0033793082761925195)),\n",
       "    (1, np.float64(0.0033793082761925195)),\n",
       "    (5, np.float64(0.0032680255262907353)),\n",
       "    (0, np.float64(0.0032680255262907353)),\n",
       "    (8, np.float64(0.0032680255262907353)),\n",
       "    (4, np.float64(0.0032680255262907353)),\n",
       "    (9, np.float64(0.0032680255262907353)),\n",
       "    (10, np.float64(0.0031615837048258786)),\n",
       "    (12, np.float64(0.0031615837048258786))],\n",
       "   [(11, np.float64(0.0035647149293402372)),\n",
       "    (7, np.float64(0.0035647149293402372)),\n",
       "    (6, np.float64(0.003564714929340236)),\n",
       "    (3, np.float64(0.0033376687081174434)),\n",
       "    (2, np.float64(0.003337668708117442)),\n",
       "    (1, np.float64(0.003337668708117442)),\n",
       "    (5, np.float64(0.003205064296467843)),\n",
       "    (0, np.float64(0.003205064296467843)),\n",
       "    (8, np.float64(0.003205064296467843)),\n",
       "    (4, np.float64(0.003205064296467843)),\n",
       "    (9, np.float64(0.003205064296467843)),\n",
       "    (10, np.float64(0.0030803775768741904)),\n",
       "    (12, np.float64(0.0030803775768741904))],\n",
       "   [(11, np.float64(0.003607732949858248)),\n",
       "    (7, np.float64(0.003607732949858248)),\n",
       "    (6, np.float64(0.0036077329498582465)),\n",
       "    (3, np.float64(0.0034332147110268186)),\n",
       "    (2, np.float64(0.0034332147110268173)),\n",
       "    (1, np.float64(0.0034332147110268173)),\n",
       "    (5, np.float64(0.0033544074183743475)),\n",
       "    (0, np.float64(0.0033544074183743475)),\n",
       "    (8, np.float64(0.0033544074183743475)),\n",
       "    (4, np.float64(0.0033544074183743475)),\n",
       "    (9, np.float64(0.0033544074183743475)),\n",
       "    (10, np.float64(0.0032768306949958123)),\n",
       "    (12, np.float64(0.0032768306949958123))]],\n",
       "  <Functional name=functional_63, built=True>)]"
      ]
     },
     "execution_count": 17,
     "metadata": {},
     "output_type": "execute_result"
    }
   ],
   "source": [
    "with open('Experiment_results/subj7onepixel.pkl', 'rb') as f:\n",
    "    test = pkl.load( f)\n",
    "test"
   ]
  },
  {
   "cell_type": "code",
   "execution_count": null,
   "id": "7f7b189a",
   "metadata": {},
   "outputs": [],
   "source": [
    "res1, res2, y_test, classification, model = in_subject_train_ver2(15, 'subj')"
   ]
  },
  {
   "cell_type": "code",
   "execution_count": null,
   "id": "a910dc49",
   "metadata": {},
   "outputs": [],
   "source": [
    "res1, res2, y_test, classification, model = in_subject_train_ver2(15, 'subj_only_double')"
   ]
  },
  {
   "cell_type": "code",
   "execution_count": null,
   "id": "415da242",
   "metadata": {},
   "outputs": [],
   "source": [
    "exploit_model(16, 'subj_only_double')[3][6].reshape(6, 6)"
   ]
  },
  {
   "cell_type": "code",
   "execution_count": null,
   "id": "e98cb150",
   "metadata": {},
   "outputs": [],
   "source": [
    "exploit_model(15, 'subj')[1][5].reshape(6, 6)"
   ]
  },
  {
   "cell_type": "code",
   "execution_count": null,
   "id": "04313302",
   "metadata": {},
   "outputs": [],
   "source": [
    "exploit_model(15, 'subj')[5]"
   ]
  },
  {
   "cell_type": "code",
   "execution_count": null,
   "id": "4d246ae8",
   "metadata": {},
   "outputs": [],
   "source": [
    "exploit_model(15, 'subj')[4][3]"
   ]
  },
  {
   "cell_type": "code",
   "execution_count": null,
   "id": "13ce2e22",
   "metadata": {},
   "outputs": [],
   "source": [
    "classification[0]"
   ]
  },
  {
   "cell_type": "code",
   "execution_count": null,
   "id": "13490590",
   "metadata": {},
   "outputs": [],
   "source": []
  },
  {
   "cell_type": "code",
   "execution_count": null,
   "id": "f8c0edc1",
   "metadata": {},
   "outputs": [],
   "source": [
    "for i in y_test:\n",
    "    i = i.reshape(6, 6)"
   ]
  },
  {
   "cell_type": "code",
   "execution_count": null,
   "id": "6e4dc8f9",
   "metadata": {},
   "outputs": [],
   "source": [
    "y_test"
   ]
  },
  {
   "cell_type": "code",
   "execution_count": null,
   "id": "8c5cb2f7",
   "metadata": {},
   "outputs": [],
   "source": []
  },
  {
   "cell_type": "code",
   "execution_count": null,
   "id": "a0008f7d",
   "metadata": {},
   "outputs": [],
   "source": [
    "subj_results = {}\n",
    "for i in range(16):\n",
    "    if i != 13:\n",
    "        subj_results[i+1] = in_subject_train_ver2(i+1, 'subj_only_double')"
   ]
  },
  {
   "cell_type": "code",
   "execution_count": null,
   "id": "13604fdf",
   "metadata": {},
   "outputs": [],
   "source": [
    "import pandas as pd\n",
    "subj_results_save = {}\n",
    "for i in subj_results:\n",
    "    subj_results_save[i] = {'respondent_id': i, 'val_loss': subj_results[i][0], 'test_loss': subj_results[i][1][0], 'test_binary_accuracy': subj_results[i][1][1]}\n",
    "df_users = pd.DataFrame.from_dict(subj_results_save, orient='index')\n",
    "df_users.to_csv(f\"/repo/EEG-Image-Reconstruction/Experiment_results/solo_training_EEGNet_ver3_onlytrain.csv\", index=False)\n",
    "df_users"
   ]
  },
  {
   "cell_type": "code",
   "execution_count": null,
   "id": "36d36147",
   "metadata": {},
   "outputs": [],
   "source": [
    "import pandas as pd\n",
    "subj_results_save = {}\n",
    "for i in subj_results:\n",
    "    subj_results_save[i] = {'respondent_id': i, 'val_loss': subj_results[i][0], 'test_loss': subj_results[i][1][0], 'test_binary_accuracy': subj_results[i][1][1]}\n",
    "df_users = pd.DataFrame.from_dict(subj_results_save, orient='index')\n",
    "df_users.to_csv(f\"/repo/EEG-Image-Reconstruction/Experiment_results/solo_training_EEGNet_ver2.csv\", index=False)\n",
    "df_users"
   ]
  },
  {
   "cell_type": "code",
   "execution_count": null,
   "id": "72e69b0b",
   "metadata": {},
   "outputs": [],
   "source": [
    "import pandas as pd\n",
    "subj_results_save = {}\n",
    "for i in subj_results:\n",
    "    subj_results_save[i] = {'respondent_id': i, 'val_loss': subj_results[i][0], 'test_loss': subj_results[i][1][0], 'test_binary_accuracy': subj_results[i][1][1]}\n",
    "df_users = pd.DataFrame.from_dict(subj_results_save, orient='index')\n",
    "df_users.to_csv(f\"/repo/EEG-Image-Reconstruction/Experiment_results/solo_training_EEGNet.csv\", index=False)\n",
    "df_users"
   ]
  },
  {
   "cell_type": "code",
   "execution_count": null,
   "id": "7b4d4585",
   "metadata": {},
   "outputs": [],
   "source": [
    "df1 = pd.read_csv(f\"/repo/EEG-Image-Reconstruction/Experiment_results/solo_training_EEGNet.csv\")\n",
    "df1"
   ]
  },
  {
   "cell_type": "code",
   "execution_count": null,
   "id": "489a1e08",
   "metadata": {},
   "outputs": [],
   "source": [
    "sorted_ids.index(14)"
   ]
  },
  {
   "cell_type": "code",
   "execution_count": null,
   "id": "25ca2fa3",
   "metadata": {},
   "outputs": [],
   "source": [
    "df2[['order', 'respondent_id']]"
   ]
  },
  {
   "cell_type": "code",
   "execution_count": null,
   "id": "d0c4fd2e",
   "metadata": {},
   "outputs": [],
   "source": [
    "dict = {'raz': [100, 200, 300],\n",
    "        'dva': [150, 250, 350]}\n",
    "tet = pd.DataFrame([{'raz': 200, 'dva': 600}])\n",
    "df = pd.DataFrame(dict)\n",
    "check = pd.concat([df, tet])\n",
    "check.loc[(check['raz'] >= 200) & (check['dva'] != 600), 'raz'] += 100\n",
    "check"
   ]
  },
  {
   "cell_type": "code",
   "execution_count": null,
   "id": "e1e7a02b",
   "metadata": {},
   "outputs": [],
   "source": [
    "import pandas as pd\n",
    "import matplotlib.pyplot as plt\n",
    "import numpy as np\n",
    "import seaborn as sns\n",
    "\n",
    "df1 = pd.read_csv(f\"/repo/EEG-Image-Reconstruction/Experiment_results/solo_training_EEGNet.csv\")\n",
    "df2 = pd.read_csv(f\"/repo/EEG-Image-Reconstruction/Experiment_results/solo_training_EEGNet_ver2.csv\")\n",
    "df3 = pd.read_csv(f\"/repo/EEG-Image-Reconstruction/Experiment_results/solo_training_EEGNet_ver3_onlytrain.csv\")\n",
    "\n",
    "# костыль однако\n",
    "df1 = df1.drop(df1[df1.respondent_id == 14].index)\n",
    "df2 = df2.drop(df2[df2.respondent_id == 14].index)\n",
    "\n",
    "sorted_ids = df1.sort_values('test_binary_accuracy')['respondent_id'].tolist()\n",
    "\n",
    "# Функция для безопасного переиндексирования\n",
    "def safe_reindex(df, sorted_ids):\n",
    "    \"\"\"Безопасное переиндексирование с обработкой отсутствующих ID\"\"\"\n",
    "    df = df.set_index('respondent_id')\n",
    "    # Находим только те ID, которые есть и в sorted_ids, и в df\n",
    "    valid_ids = [idx for idx in sorted_ids if idx in df.index]\n",
    "    return df.loc[valid_ids].reset_index()\n",
    "\n",
    "# Применяем ко всем датафреймам\n",
    "df1 = safe_reindex(df1, sorted_ids)\n",
    "df2 = safe_reindex(df2, sorted_ids)\n",
    "df3 = safe_reindex(df3, sorted_ids)\n",
    "\n",
    "# Добавляем столбец с порядковым номером после сортировки\n",
    "df1['order'] = range(len(df1))\n",
    "df2['order'] = [i for i, rid in enumerate(sorted_ids) if rid in df2['respondent_id'].values]\n",
    "df3['order'] = range(len(df3))\n",
    "\n",
    "# Создаем фигуру с тремя subplots\n",
    "fig, axes = plt.subplots(3, 1, figsize=(14, 18))\n",
    "metrics = ['val_loss', 'test_loss', 'test_binary_accuracy']\n",
    "titles = ['Validation Loss', 'Test Loss', 'Test Binary Accuracy']\n",
    "colors = ['#1f77b4', '#2ca02c', '#d62728']  # Цвета для каждого датафрейма\n",
    "markers = ['s', 'o', 'D']  # Маркеры для каждого датафрейма\n",
    "sizes = [70, 70, 70]  # Размеры маркеров\n",
    "\n",
    "# Для каждой метрики создаем отдельный график\n",
    "for i, metric in enumerate(metrics):\n",
    "    ax = axes[i]\n",
    "\n",
    "    means = [df1[metric].mean(), df2[metric].mean(), df3[metric].mean()]\n",
    "    medians = [df1[metric].median(), df2[metric].median(), df3[metric].median()]\n",
    "    \n",
    "    # Рисуем точки для каждого датафрейма без соединения линиями\n",
    "    for j, df in enumerate([df1, df2, df3]):\n",
    "        for k in sorted_ids:\n",
    "            if k not in df['respondent_id'].values:\n",
    "                insert_row = pd.DataFrame([{'respondent_id': k, 'order': sorted_ids.index(k),\n",
    "                    'val_loss': df[metric].min(), 'test_loss': df[metric].min(), 'test_binary_accuracy': df[metric].min()}])\n",
    "                df = pd.concat([df, insert_row])\n",
    "                df.loc[(df['order'] >= sorted_ids.index(k)) & (df['respondent_id'] != k), 'order'] +=1\n",
    "        label = f'DataFrame {j+1}'\n",
    "        # Используем scatter plot с позициями по столбцу 'order'\n",
    "        ax.scatter(df['order'], df[metric], \n",
    "                   s=sizes[j],\n",
    "                   marker=markers[j], \n",
    "                   color=colors[j], \n",
    "                   label=label, \n",
    "                   alpha=0.8,\n",
    "                   edgecolors='w',\n",
    "                   zorder=3)  # zorder для отображения поверх сетки\n",
    "        ax.axhline(means[j], color=colors[j], linestyle=':', alpha=0.7, \n",
    "                  label=f'DF{j+1} Mean: {means[j]:.4f}')\n",
    "        ax.axhline(medians[j], color=colors[j], linestyle='--', alpha=0.7, \n",
    "                  label=f'DF{j+1} Median: {medians[j]:.4f}')\n",
    "    \n",
    "    # Добавляем подписи respondent_id под каждой точкой\n",
    "    for idx, row in df1.iterrows():\n",
    "        ax.text(row['order'], ax.get_ylim()[0] - 0.05 * (ax.get_ylim()[1] - ax.get_ylim()[0]), \n",
    "                f\"{int(row['respondent_id'])}\", \n",
    "                ha='center', va='top', fontsize=9, color='gray')\n",
    "    \n",
    "    # Настраиваем график\n",
    "    ax.set_title(f'{titles[i]} (Sorted by DF1 Binary Accuracy)', fontsize=14)\n",
    "    ax.set_xlabel('Position after sorting', fontsize=12)\n",
    "    ax.set_ylabel(metric, fontsize=12)\n",
    "    ax.grid(True, linestyle='--', alpha=0.5, zorder=0)\n",
    "    \n",
    "    # Настраиваем ось X\n",
    "    ax.set_xlim(-0.5, len(df1) - 0.5)  # Добавляем отступы по краям\n",
    "    ax.set_xticks(range(len(df1)))\n",
    "    ax.set_xticklabels([])  # Отключаем стандартные подписи\n",
    "    \n",
    "    # Добавляем вертикальную линию для отсутствующего респондента 14\n",
    "    if 14 in sorted_ids and 14 not in df3['respondent_id'].values:\n",
    "        pos_14 = sorted_ids.index(14)\n",
    "        ax.axvline(x=pos_14, color='gray', linestyle=':', alpha=0.7, zorder=1)\n",
    "        ax.text(pos_14, ax.get_ylim()[1] + 0.02 * (ax.get_ylim()[1] - ax.get_ylim()[0]), \n",
    "                'Missing', rotation=90, \n",
    "                ha='center', va='bottom', color='gray', fontsize=10)\n",
    "    \n",
    "    # Добавляем легенду\n",
    "    ax.legend(loc='upper left', bbox_to_anchor=(1.02, 1), borderaxespad=0.)\n",
    "\n",
    "# Улучшаем расположение элементов\n",
    "plt.tight_layout(pad=3.0, rect=[0, 0, 0.85, 1])\n",
    "plt.subplots_adjust(hspace=0.3)\n",
    "plt.show()"
   ]
  },
  {
   "cell_type": "code",
   "execution_count": null,
   "id": "3c9a959b",
   "metadata": {},
   "outputs": [],
   "source": [
    "fig2, axes2 = plt.subplots(1, 3, figsize=(18, 6))\n",
    "\n",
    "df1['source'] = 'DF1'\n",
    "df2['source'] = 'DF2'\n",
    "df3['source'] = 'DF3'\n",
    "combined_df = pd.concat([df1, df2, df3])\n",
    "\n",
    "# Для каждой метрики создаем boxplot\n",
    "for i, metric in enumerate(metrics):\n",
    "    ax = axes2[i]\n",
    "    \n",
    "    # Создаем boxplot\n",
    "    sns.boxplot(x='source', y=metric, data=combined_df, ax=ax, palette=colors, width=0.6, whis=10)\n",
    "    \n",
    "    # Добавляем точки для средних значений\n",
    "    means = combined_df.groupby('source')[metric].mean().values\n",
    "    for j, mean_val in enumerate(means):\n",
    "        ax.scatter(j, mean_val, color='black', s=100, marker='D', label='Mean' if j == 0 else \"\", zorder=3)\n",
    "    \n",
    "    # Добавляем аннотации для медианы и среднего\n",
    "    medians = combined_df.groupby('source')[metric].median().values\n",
    "    for j, (median_val, mean_val) in enumerate(zip(medians, means)):\n",
    "        # Подпись медианы\n",
    "        ax.text(j, median_val, f'Med: {median_val:.4f}',\n",
    "                ha='center', va='bottom', fontsize=10, color='blue')\n",
    "        # Подпись среднего\n",
    "        ax.text(j, mean_val, f'Mean: {mean_val:.4f}',\n",
    "                ha='center', va='top', fontsize=10, color='red')\n",
    "    \n",
    "    # Настраиваем график\n",
    "    ax.set_title(f'Boxplot for {titles[i]}', fontsize=14)\n",
    "    ax.set_xlabel('Data Source', fontsize=12)\n",
    "    ax.set_ylabel(metric, fontsize=12)\n",
    "    ax.grid(True, linestyle='--', alpha=0.5, zorder=0)\n",
    "    \n",
    "    # Добавляем легенду для среднего\n",
    "    ax.legend(loc='upper right')\n",
    "\n",
    "# Улучшаем расположение элементов\n",
    "plt.tight_layout(pad=3.0)\n",
    "plt.savefig('boxplots.png')\n",
    "plt.show()"
   ]
  },
  {
   "cell_type": "code",
   "execution_count": 90,
   "id": "20510f96",
   "metadata": {},
   "outputs": [
    {
     "name": "stdout",
     "output_type": "stream",
     "text": [
      "[ 6  6  6  5  0  0  6  2  8  2 11  2  2 11 10  0  0 11  0 11 10  4 12  4\n",
      " 12  2  2 12  7  5  7  7  2  5  2  4  6  9  9  4  4  9  0 12  0 12 12  1\n",
      "  1  5  3  6  3  6  6  6  2  8  8 10  2  8  2  7  5  0  5  7  5  7  8  8\n",
      "  3  8  9  3  3 11  5 11  6  6 11  5  5  0  0  0 11  0  5  1  7  1  1  1\n",
      "  4  7 11  4  6  6  4  4  6  3  0  1  0  3  0  0  2 10  6  6 10  6 10  8\n",
      "  8  9  3  8  3  3  8  8  4  7  8  4  7  9 10  9  9  3  9  3  1  1  1  3\n",
      " 10  1  1  0  6  6  0 11  0 11 12  8  4  4  4  4 12  7  7  9  5  5  7  5\n",
      "  3  4  5  3  5  3  4  8 11 11 11 11  1  8  8  8  4  4  4  4  2  3 12 12\n",
      "  3 10  3 10 10 10 11  0  0 10 10  5  5  2  9  5  2  5  9 10 10  9 10  4\n",
      " 10  6  2  6  2 11  6 11  3  5  3  3  5 12 12  9  0 10 10  9 10  9 11 11\n",
      "  9 11 11 12 11  0  3 10  3  3 10 10  4  4 11 11 11 12 12  1  0  1  1  1\n",
      "  3  1  1  4  1 10 10  4  1  6  6  2  6  2 12  2  3  7  6  6  6  7  6  1\n",
      "  5  2  5  5  2  1]\n",
      "[0, 0, 0, 0, 0, 0, 0, 0, 0, 0, 0, 0, 0, 0, 0, 0, 0, 0, 0, 0, 0, 0, 0, 0, 0, 0, 0, 0, 0, 0, 0, 0, 0, 0, 0, 0, 0, 0, 0, 0, 0, 0, 0, 0, 0, 0, 0, 0, 0, 0, 0, 0, 0, 0, 0, 0, 0, 0, 0, 0, 0, 0, 0, 0, 0, 0, 0, 0, 0, 0, 0, 0, 0, 0, 0, 0, 0, 0, 0, 0, 0, 0, 0, 0, 0, 0, 0, 0, 0, 0, 0, 0, 0, 0, 0, 0, 0, 0, 0, 0, 0, 0, 0, 0, 0, 0, 0, 0, 0, 0, 0, 0, 0, 0, 0, 0, 0, 0, 0, 0, 0, 0, 0, 0, 0, 0, 0, 0, 0, 0, 0, 0, 0, 0, 0, 0, 0, 0, 0, 0, 0, 0, 0, 0, 0, 0, 0, 0, 0, 0, 0, 0, 0, 0, 0, 0, 0, 0, 0, 0, 0, 0, 0, 0, 0, 0, 0, 0, 0, 0, 0, 0, 0, 0, 0, 0, 0, 0, 0, 0, 0, 0, 0, 0, 0, 0, 0, 0, 0, 0, 0, 0, 0, 0, 0, 0, 0, 0, 0, 0, 0, 0, 0, 0, 0, 0, 0, 0, 0, 0, 0, 0, 0, 0, 0, 0, 0, 0, 0, 0, 0, 0, 0, 0, 0, 0, 0, 0, 0, 0, 0, 0, 0, 0, 0, 0, 0, 0, 0, 0, 0, 0, 0, 0, 0, 0, 0, 0, 0, 0, 0, 0, 0, 0, 0, 0, 0, 0, 0, 0, 0, 0, 0, 0, 0, 0, 0, 0, 0, 0, 0, 0, 0, 0, 0, 0, 0, 0, 0, 0, 0, 0, 0, 0, 0, 0, 0, 0, 0, 0, 0, 0, 0, 0]\n",
      "0\n",
      "(176, 63, 4096)\n"
     ]
    },
    {
     "ename": "LinAlgError",
     "evalue": "The leading minor of order 63 of B is not positive definite. The factorization of B could not be completed and no eigenvalues or eigenvectors were computed.",
     "output_type": "error",
     "traceback": [
      "\u001b[31m---------------------------------------------------------------------------\u001b[39m",
      "\u001b[31mLinAlgError\u001b[39m                               Traceback (most recent call last)",
      "\u001b[36mCell\u001b[39m\u001b[36m \u001b[39m\u001b[32mIn[90]\u001b[39m\u001b[32m, line 68\u001b[39m\n\u001b[32m     64\u001b[39m \u001b[38;5;28mprint\u001b[39m(X_train.shape)\n\u001b[32m     66\u001b[39m \u001b[38;5;66;03m# train a classifier with xDAWN spatial filtering + Riemannian Geometry (RG)\u001b[39;00m\n\u001b[32m     67\u001b[39m \u001b[38;5;66;03m# labels need to be back in single-column format\u001b[39;00m\n\u001b[32m---> \u001b[39m\u001b[32m68\u001b[39m \u001b[43mclf\u001b[49m\u001b[43m.\u001b[49m\u001b[43mfit\u001b[49m\u001b[43m(\u001b[49m\u001b[43mX_train\u001b[49m\u001b[43m,\u001b[49m\u001b[43m \u001b[49m\u001b[43mY_train\u001b[49m\u001b[43m)\u001b[49m\n\u001b[32m     69\u001b[39m preds_rg     = clf.predict(X_test)\n\u001b[32m     71\u001b[39m \u001b[38;5;66;03m# Printing the results\u001b[39;00m\n",
      "\u001b[36mFile \u001b[39m\u001b[32m~/miniconda/lib/python3.12/site-packages/sklearn/base.py:1389\u001b[39m, in \u001b[36m_fit_context.<locals>.decorator.<locals>.wrapper\u001b[39m\u001b[34m(estimator, *args, **kwargs)\u001b[39m\n\u001b[32m   1382\u001b[39m     estimator._validate_params()\n\u001b[32m   1384\u001b[39m \u001b[38;5;28;01mwith\u001b[39;00m config_context(\n\u001b[32m   1385\u001b[39m     skip_parameter_validation=(\n\u001b[32m   1386\u001b[39m         prefer_skip_nested_validation \u001b[38;5;129;01mor\u001b[39;00m global_skip_validation\n\u001b[32m   1387\u001b[39m     )\n\u001b[32m   1388\u001b[39m ):\n\u001b[32m-> \u001b[39m\u001b[32m1389\u001b[39m     \u001b[38;5;28;01mreturn\u001b[39;00m \u001b[43mfit_method\u001b[49m\u001b[43m(\u001b[49m\u001b[43mestimator\u001b[49m\u001b[43m,\u001b[49m\u001b[43m \u001b[49m\u001b[43m*\u001b[49m\u001b[43margs\u001b[49m\u001b[43m,\u001b[49m\u001b[43m \u001b[49m\u001b[43m*\u001b[49m\u001b[43m*\u001b[49m\u001b[43mkwargs\u001b[49m\u001b[43m)\u001b[49m\n",
      "\u001b[36mFile \u001b[39m\u001b[32m~/miniconda/lib/python3.12/site-packages/sklearn/pipeline.py:654\u001b[39m, in \u001b[36mPipeline.fit\u001b[39m\u001b[34m(self, X, y, **params)\u001b[39m\n\u001b[32m    647\u001b[39m     \u001b[38;5;28;01mraise\u001b[39;00m \u001b[38;5;167;01mValueError\u001b[39;00m(\n\u001b[32m    648\u001b[39m         \u001b[33m\"\u001b[39m\u001b[33mThe `transform_input` parameter can only be set if metadata \u001b[39m\u001b[33m\"\u001b[39m\n\u001b[32m    649\u001b[39m         \u001b[33m\"\u001b[39m\u001b[33mrouting is enabled. You can enable metadata routing using \u001b[39m\u001b[33m\"\u001b[39m\n\u001b[32m    650\u001b[39m         \u001b[33m\"\u001b[39m\u001b[33m`sklearn.set_config(enable_metadata_routing=True)`.\u001b[39m\u001b[33m\"\u001b[39m\n\u001b[32m    651\u001b[39m     )\n\u001b[32m    653\u001b[39m routed_params = \u001b[38;5;28mself\u001b[39m._check_method_params(method=\u001b[33m\"\u001b[39m\u001b[33mfit\u001b[39m\u001b[33m\"\u001b[39m, props=params)\n\u001b[32m--> \u001b[39m\u001b[32m654\u001b[39m Xt = \u001b[38;5;28;43mself\u001b[39;49m\u001b[43m.\u001b[49m\u001b[43m_fit\u001b[49m\u001b[43m(\u001b[49m\u001b[43mX\u001b[49m\u001b[43m,\u001b[49m\u001b[43m \u001b[49m\u001b[43my\u001b[49m\u001b[43m,\u001b[49m\u001b[43m \u001b[49m\u001b[43mrouted_params\u001b[49m\u001b[43m,\u001b[49m\u001b[43m \u001b[49m\u001b[43mraw_params\u001b[49m\u001b[43m=\u001b[49m\u001b[43mparams\u001b[49m\u001b[43m)\u001b[49m\n\u001b[32m    655\u001b[39m \u001b[38;5;28;01mwith\u001b[39;00m _print_elapsed_time(\u001b[33m\"\u001b[39m\u001b[33mPipeline\u001b[39m\u001b[33m\"\u001b[39m, \u001b[38;5;28mself\u001b[39m._log_message(\u001b[38;5;28mlen\u001b[39m(\u001b[38;5;28mself\u001b[39m.steps) - \u001b[32m1\u001b[39m)):\n\u001b[32m    656\u001b[39m     \u001b[38;5;28;01mif\u001b[39;00m \u001b[38;5;28mself\u001b[39m._final_estimator != \u001b[33m\"\u001b[39m\u001b[33mpassthrough\u001b[39m\u001b[33m\"\u001b[39m:\n",
      "\u001b[36mFile \u001b[39m\u001b[32m~/miniconda/lib/python3.12/site-packages/sklearn/pipeline.py:588\u001b[39m, in \u001b[36mPipeline._fit\u001b[39m\u001b[34m(self, X, y, routed_params, raw_params)\u001b[39m\n\u001b[32m    581\u001b[39m \u001b[38;5;66;03m# Fit or load from cache the current transformer\u001b[39;00m\n\u001b[32m    582\u001b[39m step_params = \u001b[38;5;28mself\u001b[39m._get_metadata_for_step(\n\u001b[32m    583\u001b[39m     step_idx=step_idx,\n\u001b[32m    584\u001b[39m     step_params=routed_params[name],\n\u001b[32m    585\u001b[39m     all_params=raw_params,\n\u001b[32m    586\u001b[39m )\n\u001b[32m--> \u001b[39m\u001b[32m588\u001b[39m X, fitted_transformer = \u001b[43mfit_transform_one_cached\u001b[49m\u001b[43m(\u001b[49m\n\u001b[32m    589\u001b[39m \u001b[43m    \u001b[49m\u001b[43mcloned_transformer\u001b[49m\u001b[43m,\u001b[49m\n\u001b[32m    590\u001b[39m \u001b[43m    \u001b[49m\u001b[43mX\u001b[49m\u001b[43m,\u001b[49m\n\u001b[32m    591\u001b[39m \u001b[43m    \u001b[49m\u001b[43my\u001b[49m\u001b[43m,\u001b[49m\n\u001b[32m    592\u001b[39m \u001b[43m    \u001b[49m\u001b[43mweight\u001b[49m\u001b[43m=\u001b[49m\u001b[38;5;28;43;01mNone\u001b[39;49;00m\u001b[43m,\u001b[49m\n\u001b[32m    593\u001b[39m \u001b[43m    \u001b[49m\u001b[43mmessage_clsname\u001b[49m\u001b[43m=\u001b[49m\u001b[33;43m\"\u001b[39;49m\u001b[33;43mPipeline\u001b[39;49m\u001b[33;43m\"\u001b[39;49m\u001b[43m,\u001b[49m\n\u001b[32m    594\u001b[39m \u001b[43m    \u001b[49m\u001b[43mmessage\u001b[49m\u001b[43m=\u001b[49m\u001b[38;5;28;43mself\u001b[39;49m\u001b[43m.\u001b[49m\u001b[43m_log_message\u001b[49m\u001b[43m(\u001b[49m\u001b[43mstep_idx\u001b[49m\u001b[43m)\u001b[49m\u001b[43m,\u001b[49m\n\u001b[32m    595\u001b[39m \u001b[43m    \u001b[49m\u001b[43mparams\u001b[49m\u001b[43m=\u001b[49m\u001b[43mstep_params\u001b[49m\u001b[43m,\u001b[49m\n\u001b[32m    596\u001b[39m \u001b[43m\u001b[49m\u001b[43m)\u001b[49m\n\u001b[32m    597\u001b[39m \u001b[38;5;66;03m# Replace the transformer of the step with the fitted\u001b[39;00m\n\u001b[32m    598\u001b[39m \u001b[38;5;66;03m# transformer. This is necessary when loading the transformer\u001b[39;00m\n\u001b[32m    599\u001b[39m \u001b[38;5;66;03m# from the cache.\u001b[39;00m\n\u001b[32m    600\u001b[39m \u001b[38;5;28mself\u001b[39m.steps[step_idx] = (name, fitted_transformer)\n",
      "\u001b[36mFile \u001b[39m\u001b[32m~/miniconda/lib/python3.12/site-packages/joblib/memory.py:312\u001b[39m, in \u001b[36mNotMemorizedFunc.__call__\u001b[39m\u001b[34m(self, *args, **kwargs)\u001b[39m\n\u001b[32m    311\u001b[39m \u001b[38;5;28;01mdef\u001b[39;00m \u001b[34m__call__\u001b[39m(\u001b[38;5;28mself\u001b[39m, *args, **kwargs):\n\u001b[32m--> \u001b[39m\u001b[32m312\u001b[39m     \u001b[38;5;28;01mreturn\u001b[39;00m \u001b[38;5;28;43mself\u001b[39;49m\u001b[43m.\u001b[49m\u001b[43mfunc\u001b[49m\u001b[43m(\u001b[49m\u001b[43m*\u001b[49m\u001b[43margs\u001b[49m\u001b[43m,\u001b[49m\u001b[43m \u001b[49m\u001b[43m*\u001b[49m\u001b[43m*\u001b[49m\u001b[43mkwargs\u001b[49m\u001b[43m)\u001b[49m\n",
      "\u001b[36mFile \u001b[39m\u001b[32m~/miniconda/lib/python3.12/site-packages/sklearn/pipeline.py:1551\u001b[39m, in \u001b[36m_fit_transform_one\u001b[39m\u001b[34m(transformer, X, y, weight, message_clsname, message, params)\u001b[39m\n\u001b[32m   1549\u001b[39m \u001b[38;5;28;01mwith\u001b[39;00m _print_elapsed_time(message_clsname, message):\n\u001b[32m   1550\u001b[39m     \u001b[38;5;28;01mif\u001b[39;00m \u001b[38;5;28mhasattr\u001b[39m(transformer, \u001b[33m\"\u001b[39m\u001b[33mfit_transform\u001b[39m\u001b[33m\"\u001b[39m):\n\u001b[32m-> \u001b[39m\u001b[32m1551\u001b[39m         res = \u001b[43mtransformer\u001b[49m\u001b[43m.\u001b[49m\u001b[43mfit_transform\u001b[49m\u001b[43m(\u001b[49m\u001b[43mX\u001b[49m\u001b[43m,\u001b[49m\u001b[43m \u001b[49m\u001b[43my\u001b[49m\u001b[43m,\u001b[49m\u001b[43m \u001b[49m\u001b[43m*\u001b[49m\u001b[43m*\u001b[49m\u001b[43mparams\u001b[49m\u001b[43m.\u001b[49m\u001b[43mget\u001b[49m\u001b[43m(\u001b[49m\u001b[33;43m\"\u001b[39;49m\u001b[33;43mfit_transform\u001b[39;49m\u001b[33;43m\"\u001b[39;49m\u001b[43m,\u001b[49m\u001b[43m \u001b[49m\u001b[43m{\u001b[49m\u001b[43m}\u001b[49m\u001b[43m)\u001b[49m\u001b[43m)\u001b[49m\n\u001b[32m   1552\u001b[39m     \u001b[38;5;28;01melse\u001b[39;00m:\n\u001b[32m   1553\u001b[39m         res = transformer.fit(X, y, **params.get(\u001b[33m\"\u001b[39m\u001b[33mfit\u001b[39m\u001b[33m\"\u001b[39m, {})).transform(\n\u001b[32m   1554\u001b[39m             X, **params.get(\u001b[33m\"\u001b[39m\u001b[33mtransform\u001b[39m\u001b[33m\"\u001b[39m, {})\n\u001b[32m   1555\u001b[39m         )\n",
      "\u001b[36mFile \u001b[39m\u001b[32m~/miniconda/lib/python3.12/site-packages/sklearn/utils/_set_output.py:319\u001b[39m, in \u001b[36m_wrap_method_output.<locals>.wrapped\u001b[39m\u001b[34m(self, X, *args, **kwargs)\u001b[39m\n\u001b[32m    317\u001b[39m \u001b[38;5;129m@wraps\u001b[39m(f)\n\u001b[32m    318\u001b[39m \u001b[38;5;28;01mdef\u001b[39;00m \u001b[34mwrapped\u001b[39m(\u001b[38;5;28mself\u001b[39m, X, *args, **kwargs):\n\u001b[32m--> \u001b[39m\u001b[32m319\u001b[39m     data_to_wrap = \u001b[43mf\u001b[49m\u001b[43m(\u001b[49m\u001b[38;5;28;43mself\u001b[39;49m\u001b[43m,\u001b[49m\u001b[43m \u001b[49m\u001b[43mX\u001b[49m\u001b[43m,\u001b[49m\u001b[43m \u001b[49m\u001b[43m*\u001b[49m\u001b[43margs\u001b[49m\u001b[43m,\u001b[49m\u001b[43m \u001b[49m\u001b[43m*\u001b[49m\u001b[43m*\u001b[49m\u001b[43mkwargs\u001b[49m\u001b[43m)\u001b[49m\n\u001b[32m    320\u001b[39m     \u001b[38;5;28;01mif\u001b[39;00m \u001b[38;5;28misinstance\u001b[39m(data_to_wrap, \u001b[38;5;28mtuple\u001b[39m):\n\u001b[32m    321\u001b[39m         \u001b[38;5;66;03m# only wrap the first output for cross decomposition\u001b[39;00m\n\u001b[32m    322\u001b[39m         return_tuple = (\n\u001b[32m    323\u001b[39m             _wrap_data_with_container(method, data_to_wrap[\u001b[32m0\u001b[39m], X, \u001b[38;5;28mself\u001b[39m),\n\u001b[32m    324\u001b[39m             *data_to_wrap[\u001b[32m1\u001b[39m:],\n\u001b[32m    325\u001b[39m         )\n",
      "\u001b[36mFile \u001b[39m\u001b[32m~/miniconda/lib/python3.12/site-packages/pyriemann/estimation.py:402\u001b[39m, in \u001b[36mXdawnCovariances.fit_transform\u001b[39m\u001b[34m(self, X, y)\u001b[39m\n\u001b[32m    384\u001b[39m \u001b[38;5;28;01mdef\u001b[39;00m \u001b[34mfit_transform\u001b[39m(\u001b[38;5;28mself\u001b[39m, X, y):\n\u001b[32m    385\u001b[39m \u001b[38;5;250m    \u001b[39m\u001b[33;03m\"\"\"Fit and transform in a single function.\u001b[39;00m\n\u001b[32m    386\u001b[39m \n\u001b[32m    387\u001b[39m \u001b[33;03m    Parameters\u001b[39;00m\n\u001b[32m   (...)\u001b[39m\u001b[32m    400\u001b[39m \u001b[33;03m        otherwise.\u001b[39;00m\n\u001b[32m    401\u001b[39m \u001b[33;03m    \"\"\"\u001b[39;00m\n\u001b[32m--> \u001b[39m\u001b[32m402\u001b[39m     \u001b[38;5;28;01mreturn\u001b[39;00m \u001b[38;5;28;43mself\u001b[39;49m\u001b[43m.\u001b[49m\u001b[43mfit\u001b[49m\u001b[43m(\u001b[49m\u001b[43mX\u001b[49m\u001b[43m,\u001b[49m\u001b[43m \u001b[49m\u001b[43my\u001b[49m\u001b[43m)\u001b[49m.transform(X)\n",
      "\u001b[36mFile \u001b[39m\u001b[32m~/miniconda/lib/python3.12/site-packages/pyriemann/estimation.py:353\u001b[39m, in \u001b[36mXdawnCovariances.fit\u001b[39m\u001b[34m(self, X, y)\u001b[39m\n\u001b[32m    331\u001b[39m \u001b[38;5;250m\u001b[39m\u001b[33;03m\"\"\"Fit.\u001b[39;00m\n\u001b[32m    332\u001b[39m \n\u001b[32m    333\u001b[39m \u001b[33;03mEstimate spatial filters and prototyped response for each class.\u001b[39;00m\n\u001b[32m   (...)\u001b[39m\u001b[32m    345\u001b[39m \u001b[33;03m    The XdawnCovariances instance.\u001b[39;00m\n\u001b[32m    346\u001b[39m \u001b[33;03m\"\"\"\u001b[39;00m\n\u001b[32m    347\u001b[39m \u001b[38;5;28mself\u001b[39m.Xd_ = Xdawn(\n\u001b[32m    348\u001b[39m     nfilter=\u001b[38;5;28mself\u001b[39m.nfilter,\n\u001b[32m    349\u001b[39m     classes=\u001b[38;5;28mself\u001b[39m.classes,\n\u001b[32m    350\u001b[39m     estimator=\u001b[38;5;28mself\u001b[39m.xdawn_estimator,\n\u001b[32m    351\u001b[39m     baseline_cov=\u001b[38;5;28mself\u001b[39m.baseline_cov,\n\u001b[32m    352\u001b[39m )\n\u001b[32m--> \u001b[39m\u001b[32m353\u001b[39m \u001b[38;5;28;43mself\u001b[39;49m\u001b[43m.\u001b[49m\u001b[43mXd_\u001b[49m\u001b[43m.\u001b[49m\u001b[43mfit\u001b[49m\u001b[43m(\u001b[49m\u001b[43mX\u001b[49m\u001b[43m,\u001b[49m\u001b[43m \u001b[49m\u001b[43my\u001b[49m\u001b[43m)\u001b[49m\n\u001b[32m    354\u001b[39m \u001b[38;5;28mself\u001b[39m.P_ = \u001b[38;5;28mself\u001b[39m.Xd_.evokeds_\n\u001b[32m    355\u001b[39m \u001b[38;5;28;01mreturn\u001b[39;00m \u001b[38;5;28mself\u001b[39m\n",
      "\u001b[36mFile \u001b[39m\u001b[32m~/miniconda/lib/python3.12/site-packages/pyriemann/spatialfilters.py:123\u001b[39m, in \u001b[36mXdawn.fit\u001b[39m\u001b[34m(self, X, y)\u001b[39m\n\u001b[32m    120\u001b[39m C = np.asarray(\u001b[38;5;28mself\u001b[39m.estimator_fn(P))\n\u001b[32m    122\u001b[39m \u001b[38;5;66;03m# Spatial filters\u001b[39;00m\n\u001b[32m--> \u001b[39m\u001b[32m123\u001b[39m evals, evecs = \u001b[43meigh\u001b[49m\u001b[43m(\u001b[49m\u001b[43mC\u001b[49m\u001b[43m,\u001b[49m\u001b[43m \u001b[49m\u001b[43mCx\u001b[49m\u001b[43m)\u001b[49m\n\u001b[32m    124\u001b[39m evecs = evecs[:, np.argsort(evals)[::-\u001b[32m1\u001b[39m]]  \u001b[38;5;66;03m# sort eigenvectors\u001b[39;00m\n\u001b[32m    125\u001b[39m evecs /= np.apply_along_axis(np.linalg.norm, \u001b[32m0\u001b[39m, evecs)\n",
      "\u001b[36mFile \u001b[39m\u001b[32m~/miniconda/lib/python3.12/site-packages/scipy/linalg/_decomp.py:592\u001b[39m, in \u001b[36meigh\u001b[39m\u001b[34m(a, b, lower, eigvals_only, overwrite_a, overwrite_b, type, check_finite, subset_by_index, subset_by_value, driver)\u001b[39m\n\u001b[32m    589\u001b[39m     \u001b[38;5;28;01mraise\u001b[39;00m LinAlgError(\u001b[33mf\u001b[39m\u001b[33m'\u001b[39m\u001b[33mIllegal value in argument \u001b[39m\u001b[38;5;132;01m{\u001b[39;00m-info\u001b[38;5;132;01m}\u001b[39;00m\u001b[33m of internal \u001b[39m\u001b[33m'\u001b[39m\n\u001b[32m    590\u001b[39m                       \u001b[33mf\u001b[39m\u001b[33m'\u001b[39m\u001b[38;5;132;01m{\u001b[39;00mdrv.typecode\u001b[38;5;250m \u001b[39m+\u001b[38;5;250m \u001b[39mpfx\u001b[38;5;250m \u001b[39m+\u001b[38;5;250m \u001b[39mdriver\u001b[38;5;132;01m}\u001b[39;00m\u001b[33m'\u001b[39m)\n\u001b[32m    591\u001b[39m \u001b[38;5;28;01melif\u001b[39;00m info > n:\n\u001b[32m--> \u001b[39m\u001b[32m592\u001b[39m     \u001b[38;5;28;01mraise\u001b[39;00m LinAlgError(\u001b[33mf\u001b[39m\u001b[33m'\u001b[39m\u001b[33mThe leading minor of order \u001b[39m\u001b[38;5;132;01m{\u001b[39;00minfo-n\u001b[38;5;132;01m}\u001b[39;00m\u001b[33m of B is not \u001b[39m\u001b[33m'\u001b[39m\n\u001b[32m    593\u001b[39m                       \u001b[33m'\u001b[39m\u001b[33mpositive definite. The factorization of B \u001b[39m\u001b[33m'\u001b[39m\n\u001b[32m    594\u001b[39m                       \u001b[33m'\u001b[39m\u001b[33mcould not be completed and no eigenvalues \u001b[39m\u001b[33m'\u001b[39m\n\u001b[32m    595\u001b[39m                       \u001b[33m'\u001b[39m\u001b[33mor eigenvectors were computed.\u001b[39m\u001b[33m'\u001b[39m)\n\u001b[32m    596\u001b[39m \u001b[38;5;28;01melse\u001b[39;00m:\n\u001b[32m    597\u001b[39m     drv_err = {\u001b[33m'\u001b[39m\u001b[33mev\u001b[39m\u001b[33m'\u001b[39m: \u001b[33m'\u001b[39m\u001b[33mThe algorithm failed to converge; \u001b[39m\u001b[38;5;132;01m{}\u001b[39;00m\u001b[33m \u001b[39m\u001b[33m'\u001b[39m\n\u001b[32m    598\u001b[39m                      \u001b[33m'\u001b[39m\u001b[33moff-diagonal elements of an intermediate \u001b[39m\u001b[33m'\u001b[39m\n\u001b[32m    599\u001b[39m                      \u001b[33m'\u001b[39m\u001b[33mtridiagonal form did not converge to zero.\u001b[39m\u001b[33m'\u001b[39m,\n\u001b[32m   (...)\u001b[39m\u001b[32m    604\u001b[39m                \u001b[33m'\u001b[39m\u001b[33mevr\u001b[39m\u001b[33m'\u001b[39m: \u001b[33m'\u001b[39m\u001b[33mInternal Error.\u001b[39m\u001b[33m'\u001b[39m\n\u001b[32m    605\u001b[39m                }\n",
      "\u001b[31mLinAlgError\u001b[39m: The leading minor of order 63 of B is not positive definite. The factorization of B could not be completed and no eigenvalues or eigenvectors were computed."
     ]
    }
   ],
   "source": [
    "import numpy as np\n",
    "import tensorflow as tf\n",
    "from tensorflow.keras import utils as np_utils, backend as K\n",
    "from tensorflow.keras.callbacks import ModelCheckpoint\n",
    "import mne\n",
    "from mne import io\n",
    "from mne.datasets import sample\n",
    "from Scripts.EEGModels import EEGNet\n",
    "from sklearn.metrics import confusion_matrix, ConfusionMatrixDisplay\n",
    "from sklearn.pipeline import make_pipeline\n",
    "from sklearn.linear_model import LogisticRegression\n",
    "from pyriemann.estimation import XdawnCovariances\n",
    "from pyriemann.tangentspace import TangentSpace\n",
    "import matplotlib.pyplot as plt\n",
    "from pathlib import Path\n",
    "from sklearn.model_selection import train_test_split\n",
    "from sklearn.svm import SVC\n",
    "from sklearn.preprocessing import StandardScaler, MinMaxScaler\n",
    "\n",
    "n_components = 4  # pick some components\n",
    "chans = 63\n",
    "samples = 16 * 256\n",
    "bin_val = 13\n",
    "\n",
    "subjects_cluster1 = [11, 4, 8, 15]\n",
    "trial_cluster1 = [2, 2, 1, 2]\n",
    "subjects_cluster2 = [15, 4, 3, 10, 1, 8, 6, 1, 6]\n",
    "trial_cluster2 = [1, 1, 2, 2, 2, 2, 2, 1, 1]\n",
    "subjects_cluster3 = [7, 7, 9, 9, 14]\n",
    "trial_cluster3 = [2, 1, 2, 1, 1]\n",
    "subjects_cluster4 = [5, 5, 3, 2, 2, 10, 12, 12, 16, 16, 11, 13, 13]\n",
    "trial_cluster4 = [2, 1, 1, 2, 1, 1, 2, 1, 2, 1, 1, 2, 1]\n",
    "\n",
    "X, img, y = get_sample_choosen_trial(subjects_cluster4 + subjects_cluster3, trial_cluster4 + trial_cluster3)\n",
    "#X, img, y = get_sample_choosen_trial(subjects_cluster2 + subjects_cluster1, trial_cluster2 + trial_cluster1)\n",
    "#X, img, y = get_sample()\n",
    "\n",
    "print(y)\n",
    "y = [int(i == bin_val) for i in y]\n",
    "print(y)\n",
    "print(sum(y))\n",
    "\n",
    "X_train, X_test, Y_train, Y_test = train_test_split(\n",
    "    X, y, test_size=0.4, stratify=y, random_state=42, \n",
    ")\n",
    "\n",
    "# set up sklearn pipeline\n",
    "clf = make_pipeline(XdawnCovariances(n_components),\n",
    "                    TangentSpace(),\n",
    "                    LogisticRegression(C=0.01, class_weight='balanced'))\n",
    "\n",
    "'''clf = make_pipeline(XdawnCovariances(n_components),\n",
    "                    TangentSpace(),\n",
    "                    StandardScaler(),\n",
    "                    SVC(kernel='rbf', C=10, gamma='scale', class_weight='balanced'))'''\n",
    "\n",
    "\n",
    "\n",
    "preds_rg     = np.zeros(len(Y_test))\n",
    "\n",
    "# reshape back to (trials, channels, samples)\n",
    "X_train      = X_train.reshape(X_train.shape[0], chans, samples)\n",
    "X_test       = X_test.reshape(X_test.shape[0], chans, samples)\n",
    "print(X_train.shape)\n",
    "\n",
    "# train a classifier with xDAWN spatial filtering + Riemannian Geometry (RG)\n",
    "# labels need to be back in single-column format\n",
    "clf.fit(X_train, Y_train)\n",
    "preds_rg     = clf.predict(X_test)\n",
    "\n",
    "# Printing the results\n",
    "acc2         = np.mean(preds_rg == Y_test)\n",
    "print(\"Classification accuracy: %f \" % (acc2))\n",
    "\n",
    "# plot the confusion matrices for both classifiers\n",
    "#names        = ['audio left', 'audio right', 'vis left', 'vis right']\n",
    "'''plt.figure(0)\n",
    "plot_confusion_matrix(preds, Y_test.argmax(axis = -1), names, title = 'EEGNet-8,2')\n",
    "\n",
    "plt.figure(1)\n",
    "plot_confusion_matrix(preds_rg, Y_test.argmax(axis = -1), names, title = 'xDAWN + RG')'''\n",
    "\n",
    "plt.figure(1)\n",
    "cm_rg = confusion_matrix(Y_test, preds_rg)\n",
    "disp_rg = ConfusionMatrixDisplay(confusion_matrix=cm_rg)\n",
    "disp_rg.plot(cmap=plt.cm.Blues)\n",
    "plt.title(f'xDAWN + RG {bin_val}')\n",
    "\n",
    "plt.show()  # Display t"
   ]
  },
  {
   "cell_type": "code",
   "execution_count": 11,
   "id": "c63e601f",
   "metadata": {},
   "outputs": [
    {
     "name": "stderr",
     "output_type": "stream",
     "text": [
      "[I 2025-06-21 19:22:41,963] A new study created in memory with name: no-name-ad58471f-03bf-42bc-b829-834d20693ebf\n",
      "[I 2025-06-21 19:23:09,508] Trial 7 finished with value: 0.23650793650793647 and parameters: {'estimator': 'oas', 'C': 343.92124357166404, 'kernel': 'linear', 'gamma': 'auto', 'class_weight': None, 'degree': 3}. Best is trial 7 with value: 0.23650793650793647.\n"
     ]
    },
    {
     "name": "stdout",
     "output_type": "stream",
     "text": [
      "[0.16666667 0.31428571        nan        nan 0.22857143]\n"
     ]
    },
    {
     "name": "stderr",
     "output_type": "stream",
     "text": [
      "[I 2025-06-21 19:23:10,422] Trial 9 finished with value: 0.23650793650793647 and parameters: {'estimator': 'scm', 'C': 208.73455357847283, 'kernel': 'rbf', 'gamma': 'scale', 'class_weight': None, 'degree': 3}. Best is trial 7 with value: 0.23650793650793647.\n"
     ]
    },
    {
     "name": "stdout",
     "output_type": "stream",
     "text": [
      "[0.16666667 0.31428571        nan        nan 0.22857143]\n"
     ]
    },
    {
     "name": "stderr",
     "output_type": "stream",
     "text": [
      "[I 2025-06-21 19:23:10,645] Trial 8 finished with value: 0.23650793650793647 and parameters: {'estimator': 'scm', 'C': 0.056972377790389085, 'kernel': 'linear', 'gamma': 'scale', 'class_weight': 'balanced', 'degree': 2}. Best is trial 7 with value: 0.23650793650793647.\n",
      "[I 2025-06-21 19:23:10,685] Trial 12 finished with value: 0.23650793650793647 and parameters: {'estimator': 'lwf', 'C': 351.3210848453145, 'kernel': 'rbf', 'gamma': 'scale', 'class_weight': None, 'degree': 4}. Best is trial 7 with value: 0.23650793650793647.\n",
      "[I 2025-06-21 19:23:10,715] Trial 10 finished with value: 0.23650793650793647 and parameters: {'estimator': 'scm', 'C': 17.70888259327517, 'kernel': 'rbf', 'gamma': 'scale', 'class_weight': 'balanced', 'degree': 3}. Best is trial 7 with value: 0.23650793650793647.\n",
      "[I 2025-06-21 19:23:10,723] Trial 6 finished with value: 0.23650793650793647 and parameters: {'estimator': 'lwf', 'C': 67.61825334926841, 'kernel': 'poly', 'gamma': 'scale', 'class_weight': 'balanced', 'degree': 2}. Best is trial 7 with value: 0.23650793650793647.\n",
      "[I 2025-06-21 19:23:10,737] Trial 0 finished with value: 0.22698412698412698 and parameters: {'estimator': 'oas', 'C': 0.26678556055963343, 'kernel': 'poly', 'gamma': 'auto', 'class_weight': None, 'degree': 3}. Best is trial 7 with value: 0.23650793650793647.\n"
     ]
    },
    {
     "name": "stdout",
     "output_type": "stream",
     "text": [
      "[0.16666667 0.31428571        nan        nan 0.22857143]\n",
      "[0.16666667 0.31428571        nan        nan 0.22857143]\n",
      "[0.16666667 0.31428571        nan        nan 0.22857143]\n",
      "[0.16666667 0.31428571        nan        nan 0.22857143]\n",
      "[0.16666667 0.31428571        nan        nan 0.2       ]\n"
     ]
    },
    {
     "name": "stderr",
     "output_type": "stream",
     "text": [
      "[I 2025-06-21 19:23:10,854] Trial 18 finished with value: 0.23650793650793647 and parameters: {'estimator': 'oas', 'C': 0.34114023863346593, 'kernel': 'poly', 'gamma': 'scale', 'class_weight': 'balanced', 'degree': 5}. Best is trial 7 with value: 0.23650793650793647.\n",
      "[I 2025-06-21 19:23:10,897] Trial 4 finished with value: 0.22698412698412698 and parameters: {'estimator': 'oas', 'C': 2.102832177618672, 'kernel': 'poly', 'gamma': 'scale', 'class_weight': None, 'degree': 5}. Best is trial 7 with value: 0.23650793650793647.\n",
      "[I 2025-06-21 19:23:10,905] Trial 15 finished with value: 0.23650793650793647 and parameters: {'estimator': 'oas', 'C': 0.015406142045413343, 'kernel': 'linear', 'gamma': 'scale', 'class_weight': 'balanced', 'degree': 3}. Best is trial 7 with value: 0.23650793650793647.\n",
      "[I 2025-06-21 19:23:10,924] Trial 16 finished with value: 0.23650793650793647 and parameters: {'estimator': 'oas', 'C': 0.17037380784519393, 'kernel': 'poly', 'gamma': 'scale', 'class_weight': None, 'degree': 4}. Best is trial 7 with value: 0.23650793650793647.\n",
      "[I 2025-06-21 19:23:10,946] Trial 13 finished with value: 0.23650793650793647 and parameters: {'estimator': 'oas', 'C': 0.015281451949499326, 'kernel': 'poly', 'gamma': 'scale', 'class_weight': 'balanced', 'degree': 3}. Best is trial 7 with value: 0.23650793650793647.\n"
     ]
    },
    {
     "name": "stdout",
     "output_type": "stream",
     "text": [
      "[0.16666667 0.31428571        nan        nan 0.22857143]\n",
      "[0.16666667 0.31428571        nan        nan 0.2       ]\n",
      "[0.16666667 0.31428571        nan        nan 0.22857143]\n",
      "[0.16666667 0.31428571        nan        nan 0.22857143]\n",
      "[0.16666667 0.31428571        nan        nan 0.22857143]\n"
     ]
    },
    {
     "name": "stderr",
     "output_type": "stream",
     "text": [
      "[I 2025-06-21 19:23:11,081] Trial 14 finished with value: 0.23650793650793647 and parameters: {'estimator': 'lwf', 'C': 9.866375679708858, 'kernel': 'linear', 'gamma': 'scale', 'class_weight': None, 'degree': 4}. Best is trial 7 with value: 0.23650793650793647.\n",
      "[I 2025-06-21 19:23:11,101] Trial 17 finished with value: 0.23650793650793647 and parameters: {'estimator': 'scm', 'C': 0.0010877641433491713, 'kernel': 'rbf', 'gamma': 'auto', 'class_weight': 'balanced', 'degree': 5}. Best is trial 7 with value: 0.23650793650793647.\n",
      "[I 2025-06-21 19:23:11,122] Trial 5 finished with value: 0.22724867724867726 and parameters: {'estimator': 'scm', 'C': 66.99753598144237, 'kernel': 'rbf', 'gamma': 'auto', 'class_weight': None, 'degree': 4}. Best is trial 7 with value: 0.23650793650793647.\n",
      "[I 2025-06-21 19:23:11,172] Trial 2 finished with value: 0.23650793650793647 and parameters: {'estimator': 'scm', 'C': 0.08453409664833368, 'kernel': 'linear', 'gamma': 'scale', 'class_weight': None, 'degree': 5}. Best is trial 7 with value: 0.23650793650793647.\n",
      "[I 2025-06-21 19:23:11,250] Trial 11 finished with value: 0.23650793650793647 and parameters: {'estimator': 'scm', 'C': 259.36375226684237, 'kernel': 'rbf', 'gamma': 'auto', 'class_weight': 'balanced', 'degree': 4}. Best is trial 7 with value: 0.23650793650793647.\n",
      "[I 2025-06-21 19:23:11,268] Trial 19 finished with value: 0.23650793650793647 and parameters: {'estimator': 'scm', 'C': 10.549215737373435, 'kernel': 'linear', 'gamma': 'auto', 'class_weight': None, 'degree': 3}. Best is trial 7 with value: 0.23650793650793647.\n"
     ]
    },
    {
     "name": "stdout",
     "output_type": "stream",
     "text": [
      "[0.16666667 0.31428571        nan        nan 0.22857143]\n",
      "[0.16666667 0.31428571        nan        nan 0.22857143]\n",
      "[0.13888889 0.37142857        nan        nan 0.17142857]\n",
      "[0.16666667 0.34285714        nan        nan 0.2       ]\n",
      "[0.16666667 0.31428571        nan        nan 0.22857143]\n",
      "[0.16666667 0.31428571        nan        nan 0.22857143]\n"
     ]
    },
    {
     "name": "stderr",
     "output_type": "stream",
     "text": [
      "[I 2025-06-21 19:23:11,284] Trial 1 finished with value: 0.22724867724867726 and parameters: {'estimator': 'scm', 'C': 0.03350800707320067, 'kernel': 'linear', 'gamma': 'auto', 'class_weight': 'balanced', 'degree': 4}. Best is trial 7 with value: 0.23650793650793647.\n",
      "[I 2025-06-21 19:23:11,397] Trial 3 finished with value: 0.09444444444444444 and parameters: {'estimator': 'lwf', 'C': 0.18548529764453814, 'kernel': 'linear', 'gamma': 'auto', 'class_weight': None, 'degree': 4}. Best is trial 7 with value: 0.23650793650793647.\n"
     ]
    },
    {
     "name": "stdout",
     "output_type": "stream",
     "text": [
      "[0.13888889 0.37142857        nan        nan 0.17142857]\n",
      "[0.08333333 0.11428571        nan        nan 0.08571429]\n"
     ]
    },
    {
     "name": "stderr",
     "output_type": "stream",
     "text": [
      "[I 2025-06-21 19:23:13,726] Trial 20 finished with value: 0.23650793650793647 and parameters: {'estimator': 'scm', 'C': 5.536020523375402, 'kernel': 'linear', 'gamma': 'auto', 'class_weight': None, 'degree': 2}. Best is trial 7 with value: 0.23650793650793647.\n"
     ]
    },
    {
     "name": "stdout",
     "output_type": "stream",
     "text": [
      "[0.16666667 0.31428571        nan        nan 0.22857143]\n"
     ]
    },
    {
     "name": "stderr",
     "output_type": "stream",
     "text": [
      "[I 2025-06-21 19:23:14,652] Trial 21 finished with value: 0.08492063492063491 and parameters: {'estimator': 'scm', 'C': 255.15306525771635, 'kernel': 'poly', 'gamma': 'scale', 'class_weight': None, 'degree': 3}. Best is trial 7 with value: 0.23650793650793647.\n"
     ]
    },
    {
     "name": "stdout",
     "output_type": "stream",
     "text": [
      "[0.08333333 0.08571429        nan        nan 0.08571429]\n"
     ]
    },
    {
     "name": "stderr",
     "output_type": "stream",
     "text": [
      "[I 2025-06-21 19:23:15,334] Trial 22 finished with value: 0.11349206349206349 and parameters: {'estimator': 'scm', 'C': 0.0024414645811072612, 'kernel': 'poly', 'gamma': 'scale', 'class_weight': None, 'degree': 2}. Best is trial 7 with value: 0.23650793650793647.\n"
     ]
    },
    {
     "name": "stdout",
     "output_type": "stream",
     "text": [
      "[0.08333333 0.17142857        nan        nan 0.08571429]\n"
     ]
    },
    {
     "name": "stderr",
     "output_type": "stream",
     "text": [
      "[I 2025-06-21 19:23:16,406] Trial 23 finished with value: 0.2552910052910053 and parameters: {'estimator': 'lwf', 'C': 3.1150599944977393, 'kernel': 'rbf', 'gamma': 'auto', 'class_weight': None, 'degree': 5}. Best is trial 23 with value: 0.2552910052910053.\n"
     ]
    },
    {
     "name": "stdout",
     "output_type": "stream",
     "text": [
      "[0.19444444 0.37142857        nan        nan 0.2       ]\n"
     ]
    },
    {
     "name": "stderr",
     "output_type": "stream",
     "text": [
      "[I 2025-06-21 19:23:16,925] Trial 26 finished with value: 0.17936507936507937 and parameters: {'estimator': 'oas', 'C': 0.8928633228078222, 'kernel': 'rbf', 'gamma': 'scale', 'class_weight': 'balanced', 'degree': 4}. Best is trial 23 with value: 0.2552910052910053.\n",
      "[I 2025-06-21 19:23:16,977] Trial 24 finished with value: 0.06587301587301587 and parameters: {'estimator': 'lwf', 'C': 0.020488256870968797, 'kernel': 'rbf', 'gamma': 'auto', 'class_weight': 'balanced', 'degree': 4}. Best is trial 23 with value: 0.2552910052910053.\n",
      "[I 2025-06-21 19:23:16,978] Trial 27 finished with value: 0.13253968253968254 and parameters: {'estimator': 'scm', 'C': 0.002026025333653589, 'kernel': 'rbf', 'gamma': 'auto', 'class_weight': None, 'degree': 3}. Best is trial 23 with value: 0.2552910052910053.\n",
      "[I 2025-06-21 19:23:17,024] Trial 25 finished with value: 0.06613756613756613 and parameters: {'estimator': 'lwf', 'C': 0.15589279556174665, 'kernel': 'poly', 'gamma': 'scale', 'class_weight': 'balanced', 'degree': 5}. Best is trial 23 with value: 0.2552910052910053.\n"
     ]
    },
    {
     "name": "stdout",
     "output_type": "stream",
     "text": [
      "[0.16666667 0.22857143        nan        nan 0.14285714]\n",
      "[0.08333333 0.05714286        nan        nan 0.05714286]\n",
      "[0.08333333 0.22857143        nan        nan 0.08571429]\n",
      "[0.05555556 0.05714286        nan        nan 0.08571429]\n"
     ]
    },
    {
     "name": "stderr",
     "output_type": "stream",
     "text": [
      "[I 2025-06-21 19:23:17,851] Trial 28 finished with value: 0.06587301587301587 and parameters: {'estimator': 'lwf', 'C': 6.282503767613601, 'kernel': 'poly', 'gamma': 'scale', 'class_weight': 'balanced', 'degree': 3}. Best is trial 23 with value: 0.2552910052910053.\n"
     ]
    },
    {
     "name": "stdout",
     "output_type": "stream",
     "text": [
      "[0.08333333 0.05714286        nan        nan 0.05714286]\n"
     ]
    },
    {
     "name": "stderr",
     "output_type": "stream",
     "text": [
      "[I 2025-06-21 19:23:18,369] Trial 29 finished with value: 0.22724867724867726 and parameters: {'estimator': 'lwf', 'C': 0.0011338444558150183, 'kernel': 'poly', 'gamma': 'auto', 'class_weight': 'balanced', 'degree': 2}. Best is trial 23 with value: 0.2552910052910053.\n"
     ]
    },
    {
     "name": "stdout",
     "output_type": "stream",
     "text": [
      "[0.13888889 0.37142857        nan        nan 0.17142857]\n"
     ]
    },
    {
     "name": "stderr",
     "output_type": "stream",
     "text": [
      "[I 2025-06-21 19:23:18,767] Trial 30 finished with value: 0.22724867724867726 and parameters: {'estimator': 'lwf', 'C': 22.999515855346004, 'kernel': 'linear', 'gamma': 'auto', 'class_weight': 'balanced', 'degree': 2}. Best is trial 23 with value: 0.2552910052910053.\n"
     ]
    },
    {
     "name": "stdout",
     "output_type": "stream",
     "text": [
      "[0.13888889 0.37142857        nan        nan 0.17142857]\n"
     ]
    },
    {
     "name": "stderr",
     "output_type": "stream",
     "text": [
      "[I 2025-06-21 19:23:19,528] Trial 31 finished with value: 0.22724867724867726 and parameters: {'estimator': 'lwf', 'C': 27.098223786494767, 'kernel': 'linear', 'gamma': 'auto', 'class_weight': 'balanced', 'degree': 2}. Best is trial 23 with value: 0.2552910052910053.\n"
     ]
    },
    {
     "name": "stdout",
     "output_type": "stream",
     "text": [
      "[0.13888889 0.37142857        nan        nan 0.17142857]\n"
     ]
    },
    {
     "name": "stderr",
     "output_type": "stream",
     "text": [
      "[I 2025-06-21 19:23:20,165] Trial 32 finished with value: 0.22724867724867726 and parameters: {'estimator': 'lwf', 'C': 748.4303350425012, 'kernel': 'linear', 'gamma': 'auto', 'class_weight': 'balanced', 'degree': 2}. Best is trial 23 with value: 0.2552910052910053.\n",
      "[I 2025-06-21 19:23:20,195] Trial 33 finished with value: 0.22724867724867726 and parameters: {'estimator': 'lwf', 'C': 53.31342645643364, 'kernel': 'linear', 'gamma': 'auto', 'class_weight': None, 'degree': 2}. Best is trial 23 with value: 0.2552910052910053.\n"
     ]
    },
    {
     "name": "stdout",
     "output_type": "stream",
     "text": [
      "[0.13888889 0.37142857        nan        nan 0.17142857]\n",
      "[0.13888889 0.37142857        nan        nan 0.17142857]\n"
     ]
    },
    {
     "name": "stderr",
     "output_type": "stream",
     "text": [
      "[I 2025-06-21 19:23:20,963] Trial 34 finished with value: 0.22724867724867726 and parameters: {'estimator': 'lwf', 'C': 793.3462399776822, 'kernel': 'linear', 'gamma': 'auto', 'class_weight': 'balanced', 'degree': 2}. Best is trial 23 with value: 0.2552910052910053.\n"
     ]
    },
    {
     "name": "stdout",
     "output_type": "stream",
     "text": [
      "[0.13888889 0.37142857        nan        nan 0.17142857]\n"
     ]
    },
    {
     "name": "stderr",
     "output_type": "stream",
     "text": [
      "[I 2025-06-21 19:23:21,352] Trial 35 finished with value: 0.22724867724867726 and parameters: {'estimator': 'lwf', 'C': 2.309588192584608, 'kernel': 'linear', 'gamma': 'scale', 'class_weight': 'balanced', 'degree': 2}. Best is trial 23 with value: 0.2552910052910053.\n"
     ]
    },
    {
     "name": "stdout",
     "output_type": "stream",
     "text": [
      "[0.13888889 0.37142857        nan        nan 0.17142857]\n"
     ]
    },
    {
     "name": "stderr",
     "output_type": "stream",
     "text": [
      "[I 2025-06-21 19:23:21,869] Trial 36 finished with value: 0.22724867724867726 and parameters: {'estimator': 'lwf', 'C': 6.296727094446904, 'kernel': 'linear', 'gamma': 'scale', 'class_weight': 'balanced', 'degree': 2}. Best is trial 23 with value: 0.2552910052910053.\n"
     ]
    },
    {
     "name": "stdout",
     "output_type": "stream",
     "text": [
      "[0.13888889 0.37142857        nan        nan 0.17142857]\n"
     ]
    },
    {
     "name": "stderr",
     "output_type": "stream",
     "text": [
      "[I 2025-06-21 19:23:22,165] Trial 37 finished with value: 0.18915343915343916 and parameters: {'estimator': 'lwf', 'C': 2.5707210159407063, 'kernel': 'poly', 'gamma': 'scale', 'class_weight': 'balanced', 'degree': 2}. Best is trial 23 with value: 0.2552910052910053.\n"
     ]
    },
    {
     "name": "stdout",
     "output_type": "stream",
     "text": [
      "[0.13888889 0.28571429        nan        nan 0.14285714]\n"
     ]
    },
    {
     "name": "stderr",
     "output_type": "stream",
     "text": [
      "[I 2025-06-21 19:23:22,427] Trial 38 finished with value: 0.17037037037037037 and parameters: {'estimator': 'lwf', 'C': 1.8981424096707697, 'kernel': 'poly', 'gamma': 'scale', 'class_weight': 'balanced', 'degree': 2}. Best is trial 23 with value: 0.2552910052910053.\n"
     ]
    },
    {
     "name": "stdout",
     "output_type": "stream",
     "text": [
      "[0.11111111 0.25714286        nan        nan 0.14285714]\n"
     ]
    },
    {
     "name": "stderr",
     "output_type": "stream",
     "text": [
      "[I 2025-06-21 19:23:23,239] Trial 39 finished with value: 0.17037037037037037 and parameters: {'estimator': 'lwf', 'C': 1.974209773655913, 'kernel': 'poly', 'gamma': 'scale', 'class_weight': 'balanced', 'degree': 2}. Best is trial 23 with value: 0.2552910052910053.\n"
     ]
    },
    {
     "name": "stdout",
     "output_type": "stream",
     "text": [
      "[0.11111111 0.25714286        nan        nan 0.14285714]\n"
     ]
    },
    {
     "name": "stderr",
     "output_type": "stream",
     "text": [
      "[I 2025-06-21 19:23:23,743] Trial 40 finished with value: 0.22724867724867726 and parameters: {'estimator': 'lwf', 'C': 745.2896373779024, 'kernel': 'linear', 'gamma': 'scale', 'class_weight': None, 'degree': 2}. Best is trial 23 with value: 0.2552910052910053.\n"
     ]
    },
    {
     "name": "stdout",
     "output_type": "stream",
     "text": [
      "[0.13888889 0.37142857        nan        nan 0.17142857]\n"
     ]
    },
    {
     "name": "stderr",
     "output_type": "stream",
     "text": [
      "[I 2025-06-21 19:23:24,103] Trial 41 finished with value: 0.22724867724867726 and parameters: {'estimator': 'lwf', 'C': 58.54246680449042, 'kernel': 'linear', 'gamma': 'scale', 'class_weight': None, 'degree': 2}. Best is trial 23 with value: 0.2552910052910053.\n"
     ]
    },
    {
     "name": "stdout",
     "output_type": "stream",
     "text": [
      "[0.13888889 0.37142857        nan        nan 0.17142857]\n"
     ]
    },
    {
     "name": "stderr",
     "output_type": "stream",
     "text": [
      "[I 2025-06-21 19:23:24,312] Trial 42 finished with value: 0.22724867724867726 and parameters: {'estimator': 'lwf', 'C': 874.4026469100646, 'kernel': 'linear', 'gamma': 'auto', 'class_weight': 'balanced', 'degree': 2}. Best is trial 23 with value: 0.2552910052910053.\n"
     ]
    },
    {
     "name": "stdout",
     "output_type": "stream",
     "text": [
      "[0.13888889 0.37142857        nan        nan 0.17142857]\n"
     ]
    },
    {
     "name": "stderr",
     "output_type": "stream",
     "text": [
      "[I 2025-06-21 19:23:24,759] Trial 43 finished with value: 0.1701058201058201 and parameters: {'estimator': 'lwf', 'C': 1.0362588019233248, 'kernel': 'rbf', 'gamma': 'scale', 'class_weight': 'balanced', 'degree': 5}. Best is trial 23 with value: 0.2552910052910053.\n"
     ]
    },
    {
     "name": "stdout",
     "output_type": "stream",
     "text": [
      "[0.13888889 0.22857143        nan        nan 0.14285714]\n"
     ]
    },
    {
     "name": "stderr",
     "output_type": "stream",
     "text": [
      "[I 2025-06-21 19:23:25,334] Trial 44 finished with value: 0.09444444444444444 and parameters: {'estimator': 'lwf', 'C': 2.1280630957932116, 'kernel': 'poly', 'gamma': 'scale', 'class_weight': None, 'degree': 5}. Best is trial 23 with value: 0.2552910052910053.\n",
      "[I 2025-06-21 19:23:25,350] Trial 45 finished with value: 0.08492063492063491 and parameters: {'estimator': 'lwf', 'C': 47.77274422587917, 'kernel': 'poly', 'gamma': 'scale', 'class_weight': None, 'degree': 5}. Best is trial 23 with value: 0.2552910052910053.\n"
     ]
    },
    {
     "name": "stdout",
     "output_type": "stream",
     "text": [
      "[0.08333333 0.11428571        nan        nan 0.08571429]\n",
      "[0.08333333 0.08571429        nan        nan 0.08571429]\n"
     ]
    },
    {
     "name": "stderr",
     "output_type": "stream",
     "text": [
      "[I 2025-06-21 19:23:26,312] Trial 46 finished with value: 0.08492063492063491 and parameters: {'estimator': 'lwf', 'C': 48.92927553144242, 'kernel': 'poly', 'gamma': 'scale', 'class_weight': None, 'degree': 5}. Best is trial 23 with value: 0.2552910052910053.\n"
     ]
    },
    {
     "name": "stdout",
     "output_type": "stream",
     "text": [
      "[0.08333333 0.08571429        nan        nan 0.08571429]\n"
     ]
    },
    {
     "name": "stderr",
     "output_type": "stream",
     "text": [
      "[I 2025-06-21 19:23:26,720] Trial 47 finished with value: 0.08492063492063491 and parameters: {'estimator': 'lwf', 'C': 46.8611713159989, 'kernel': 'poly', 'gamma': 'scale', 'class_weight': None, 'degree': 5}. Best is trial 23 with value: 0.2552910052910053.\n"
     ]
    },
    {
     "name": "stdout",
     "output_type": "stream",
     "text": [
      "[0.08333333 0.08571429        nan        nan 0.08571429]\n"
     ]
    },
    {
     "name": "stderr",
     "output_type": "stream",
     "text": [
      "[I 2025-06-21 19:23:27,417] Trial 48 finished with value: 0.22724867724867726 and parameters: {'estimator': 'lwf', 'C': 47.31721583015577, 'kernel': 'linear', 'gamma': 'auto', 'class_weight': None, 'degree': 5}. Best is trial 23 with value: 0.2552910052910053.\n"
     ]
    },
    {
     "name": "stdout",
     "output_type": "stream",
     "text": [
      "[0.13888889 0.37142857        nan        nan 0.17142857]\n"
     ]
    },
    {
     "name": "stderr",
     "output_type": "stream",
     "text": [
      "[I 2025-06-21 19:23:27,809] Trial 49 finished with value: 0.22724867724867726 and parameters: {'estimator': 'lwf', 'C': 80.0000874618524, 'kernel': 'linear', 'gamma': 'scale', 'class_weight': None, 'degree': 5}. Best is trial 23 with value: 0.2552910052910053.\n"
     ]
    },
    {
     "name": "stdout",
     "output_type": "stream",
     "text": [
      "[0.13888889 0.37142857        nan        nan 0.17142857]\n"
     ]
    },
    {
     "name": "stderr",
     "output_type": "stream",
     "text": [
      "[I 2025-06-21 19:23:28,099] Trial 50 finished with value: 0.22724867724867726 and parameters: {'estimator': 'lwf', 'C': 713.8007804857893, 'kernel': 'linear', 'gamma': 'auto', 'class_weight': None, 'degree': 5}. Best is trial 23 with value: 0.2552910052910053.\n"
     ]
    },
    {
     "name": "stdout",
     "output_type": "stream",
     "text": [
      "[0.13888889 0.37142857        nan        nan 0.17142857]\n"
     ]
    },
    {
     "name": "stderr",
     "output_type": "stream",
     "text": [
      "[I 2025-06-21 19:23:28,446] Trial 52 finished with value: 0.23650793650793647 and parameters: {'estimator': 'oas', 'C': 60.02844532461022, 'kernel': 'linear', 'gamma': 'auto', 'class_weight': None, 'degree': 5}. Best is trial 23 with value: 0.2552910052910053.\n",
      "[I 2025-06-21 19:23:28,476] Trial 51 finished with value: 0.22724867724867726 and parameters: {'estimator': 'lwf', 'C': 78.55301554895762, 'kernel': 'linear', 'gamma': 'auto', 'class_weight': None, 'degree': 5}. Best is trial 23 with value: 0.2552910052910053.\n"
     ]
    },
    {
     "name": "stdout",
     "output_type": "stream",
     "text": [
      "[0.16666667 0.34285714        nan        nan 0.2       ]\n",
      "[0.13888889 0.37142857        nan        nan 0.17142857]\n"
     ]
    },
    {
     "name": "stderr",
     "output_type": "stream",
     "text": [
      "[I 2025-06-21 19:23:29,099] Trial 53 finished with value: 0.23650793650793647 and parameters: {'estimator': 'oas', 'C': 2.0658745792342676, 'kernel': 'linear', 'gamma': 'auto', 'class_weight': None, 'degree': 5}. Best is trial 23 with value: 0.2552910052910053.\n"
     ]
    },
    {
     "name": "stdout",
     "output_type": "stream",
     "text": [
      "[0.16666667 0.34285714        nan        nan 0.2       ]\n"
     ]
    },
    {
     "name": "stderr",
     "output_type": "stream",
     "text": [
      "[I 2025-06-21 19:23:29,372] Trial 54 finished with value: 0.23650793650793647 and parameters: {'estimator': 'oas', 'C': 1.5802752382563081, 'kernel': 'linear', 'gamma': 'auto', 'class_weight': None, 'degree': 5}. Best is trial 23 with value: 0.2552910052910053.\n"
     ]
    },
    {
     "name": "stdout",
     "output_type": "stream",
     "text": [
      "[0.16666667 0.34285714        nan        nan 0.2       ]\n"
     ]
    },
    {
     "name": "stderr",
     "output_type": "stream",
     "text": [
      "[I 2025-06-21 19:23:29,981] Trial 55 finished with value: 0.23650793650793647 and parameters: {'estimator': 'oas', 'C': 1.1427088536638728, 'kernel': 'linear', 'gamma': 'auto', 'class_weight': None, 'degree': 5}. Best is trial 23 with value: 0.2552910052910053.\n"
     ]
    },
    {
     "name": "stdout",
     "output_type": "stream",
     "text": [
      "[0.16666667 0.34285714        nan        nan 0.2       ]\n"
     ]
    },
    {
     "name": "stderr",
     "output_type": "stream",
     "text": [
      "[I 2025-06-21 19:23:30,439] Trial 56 finished with value: 0.23650793650793647 and parameters: {'estimator': 'oas', 'C': 85.81803389253268, 'kernel': 'linear', 'gamma': 'auto', 'class_weight': None, 'degree': 5}. Best is trial 23 with value: 0.2552910052910053.\n"
     ]
    },
    {
     "name": "stdout",
     "output_type": "stream",
     "text": [
      "[0.16666667 0.34285714        nan        nan 0.2       ]\n"
     ]
    },
    {
     "name": "stderr",
     "output_type": "stream",
     "text": [
      "[I 2025-06-21 19:23:30,710] Trial 57 finished with value: 0.23650793650793647 and parameters: {'estimator': 'oas', 'C': 93.67189345349561, 'kernel': 'linear', 'gamma': 'auto', 'class_weight': None, 'degree': 5}. Best is trial 23 with value: 0.2552910052910053.\n"
     ]
    },
    {
     "name": "stdout",
     "output_type": "stream",
     "text": [
      "[0.16666667 0.34285714        nan        nan 0.2       ]\n"
     ]
    },
    {
     "name": "stderr",
     "output_type": "stream",
     "text": [
      "[I 2025-06-21 19:23:31,117] Trial 58 finished with value: 0.24576719576719577 and parameters: {'estimator': 'oas', 'C': 124.84980452856104, 'kernel': 'rbf', 'gamma': 'auto', 'class_weight': None, 'degree': 5}. Best is trial 23 with value: 0.2552910052910053.\n"
     ]
    },
    {
     "name": "stdout",
     "output_type": "stream",
     "text": [
      "[0.19444444 0.37142857        nan        nan 0.17142857]\n"
     ]
    },
    {
     "name": "stderr",
     "output_type": "stream",
     "text": [
      "[I 2025-06-21 19:23:31,637] Trial 59 finished with value: 0.24576719576719577 and parameters: {'estimator': 'oas', 'C': 62.59110826180503, 'kernel': 'rbf', 'gamma': 'auto', 'class_weight': None, 'degree': 5}. Best is trial 23 with value: 0.2552910052910053.\n"
     ]
    },
    {
     "name": "stdout",
     "output_type": "stream",
     "text": [
      "[0.19444444 0.37142857        nan        nan 0.17142857]\n"
     ]
    },
    {
     "name": "stderr",
     "output_type": "stream",
     "text": [
      "[I 2025-06-21 19:23:32,115] Trial 60 finished with value: 0.23650793650793647 and parameters: {'estimator': 'oas', 'C': 0.04509328607444269, 'kernel': 'linear', 'gamma': 'auto', 'class_weight': None, 'degree': 5}. Best is trial 23 with value: 0.2552910052910053.\n"
     ]
    },
    {
     "name": "stdout",
     "output_type": "stream",
     "text": [
      "[0.16666667 0.34285714        nan        nan 0.2       ]\n"
     ]
    },
    {
     "name": "stderr",
     "output_type": "stream",
     "text": [
      "[I 2025-06-21 19:23:32,421] Trial 61 finished with value: 0.23650793650793647 and parameters: {'estimator': 'oas', 'C': 0.05669736706844544, 'kernel': 'linear', 'gamma': 'auto', 'class_weight': None, 'degree': 5}. Best is trial 23 with value: 0.2552910052910053.\n"
     ]
    },
    {
     "name": "stdout",
     "output_type": "stream",
     "text": [
      "[0.16666667 0.34285714        nan        nan 0.2       ]\n"
     ]
    },
    {
     "name": "stderr",
     "output_type": "stream",
     "text": [
      "[I 2025-06-21 19:23:32,996] Trial 62 finished with value: 0.13253968253968254 and parameters: {'estimator': 'oas', 'C': 0.09709537076172484, 'kernel': 'rbf', 'gamma': 'auto', 'class_weight': None, 'degree': 5}. Best is trial 23 with value: 0.2552910052910053.\n"
     ]
    },
    {
     "name": "stdout",
     "output_type": "stream",
     "text": [
      "[0.08333333 0.22857143        nan        nan 0.08571429]\n"
     ]
    },
    {
     "name": "stderr",
     "output_type": "stream",
     "text": [
      "[I 2025-06-21 19:23:33,300] Trial 63 finished with value: 0.23650793650793647 and parameters: {'estimator': 'oas', 'C': 0.052024055264578116, 'kernel': 'linear', 'gamma': 'auto', 'class_weight': None, 'degree': 5}. Best is trial 23 with value: 0.2552910052910053.\n"
     ]
    },
    {
     "name": "stdout",
     "output_type": "stream",
     "text": [
      "[0.16666667 0.34285714        nan        nan 0.2       ]\n"
     ]
    },
    {
     "name": "stderr",
     "output_type": "stream",
     "text": [
      "[I 2025-06-21 19:23:33,782] Trial 64 finished with value: 0.23650793650793647 and parameters: {'estimator': 'oas', 'C': 0.058402951040975745, 'kernel': 'linear', 'gamma': 'auto', 'class_weight': None, 'degree': 5}. Best is trial 23 with value: 0.2552910052910053.\n",
      "[I 2025-06-21 19:23:33,964] Trial 65 finished with value: 0.23650793650793647 and parameters: {'estimator': 'oas', 'C': 0.06168544882105505, 'kernel': 'linear', 'gamma': 'auto', 'class_weight': None, 'degree': 5}. Best is trial 23 with value: 0.2552910052910053.\n"
     ]
    },
    {
     "name": "stdout",
     "output_type": "stream",
     "text": [
      "[0.16666667 0.34285714        nan        nan 0.2       ]\n",
      "[0.16666667 0.34285714        nan        nan 0.2       ]\n"
     ]
    },
    {
     "name": "stderr",
     "output_type": "stream",
     "text": [
      "[I 2025-06-21 19:23:34,781] Trial 66 finished with value: 0.23650793650793647 and parameters: {'estimator': 'oas', 'C': 0.06724306666732524, 'kernel': 'linear', 'gamma': 'auto', 'class_weight': None, 'degree': 4}. Best is trial 23 with value: 0.2552910052910053.\n"
     ]
    },
    {
     "name": "stdout",
     "output_type": "stream",
     "text": [
      "[0.16666667 0.34285714        nan        nan 0.2       ]\n"
     ]
    },
    {
     "name": "stderr",
     "output_type": "stream",
     "text": [
      "[I 2025-06-21 19:23:35,074] Trial 67 finished with value: 0.13253968253968254 and parameters: {'estimator': 'oas', 'C': 0.06495328417183392, 'kernel': 'rbf', 'gamma': 'auto', 'class_weight': None, 'degree': 4}. Best is trial 23 with value: 0.2552910052910053.\n"
     ]
    },
    {
     "name": "stdout",
     "output_type": "stream",
     "text": [
      "[0.08333333 0.22857143        nan        nan 0.08571429]\n"
     ]
    },
    {
     "name": "stderr",
     "output_type": "stream",
     "text": [
      "[I 2025-06-21 19:23:35,706] Trial 69 finished with value: 0.13253968253968254 and parameters: {'estimator': 'oas', 'C': 0.07408620257409386, 'kernel': 'rbf', 'gamma': 'auto', 'class_weight': None, 'degree': 4}. Best is trial 23 with value: 0.2552910052910053.\n",
      "[I 2025-06-21 19:23:35,766] Trial 68 finished with value: 0.24576719576719577 and parameters: {'estimator': 'oas', 'C': 121.35104806092416, 'kernel': 'rbf', 'gamma': 'auto', 'class_weight': None, 'degree': 4}. Best is trial 23 with value: 0.2552910052910053.\n"
     ]
    },
    {
     "name": "stdout",
     "output_type": "stream",
     "text": [
      "[0.08333333 0.22857143        nan        nan 0.08571429]\n",
      "[0.19444444 0.37142857        nan        nan 0.17142857]\n"
     ]
    },
    {
     "name": "stderr",
     "output_type": "stream",
     "text": [
      "[I 2025-06-21 19:23:36,113] Trial 70 finished with value: 0.13253968253968254 and parameters: {'estimator': 'scm', 'C': 0.06571788017112437, 'kernel': 'rbf', 'gamma': 'scale', 'class_weight': None, 'degree': 3}. Best is trial 23 with value: 0.2552910052910053.\n"
     ]
    },
    {
     "name": "stdout",
     "output_type": "stream",
     "text": [
      "[0.08333333 0.22857143        nan        nan 0.08571429]\n"
     ]
    },
    {
     "name": "stderr",
     "output_type": "stream",
     "text": [
      "[I 2025-06-21 19:23:36,613] Trial 71 finished with value: 0.13253968253968254 and parameters: {'estimator': 'scm', 'C': 0.09121595814804236, 'kernel': 'rbf', 'gamma': 'scale', 'class_weight': None, 'degree': 3}. Best is trial 23 with value: 0.2552910052910053.\n",
      "[I 2025-06-21 19:23:36,771] Trial 72 finished with value: 0.13253968253968254 and parameters: {'estimator': 'scm', 'C': 0.03989178335605416, 'kernel': 'rbf', 'gamma': 'scale', 'class_weight': None, 'degree': 3}. Best is trial 23 with value: 0.2552910052910053.\n"
     ]
    },
    {
     "name": "stdout",
     "output_type": "stream",
     "text": [
      "[0.08333333 0.22857143        nan        nan 0.08571429]\n",
      "[0.08333333 0.22857143        nan        nan 0.08571429]\n"
     ]
    },
    {
     "name": "stderr",
     "output_type": "stream",
     "text": [
      "[I 2025-06-21 19:23:37,503] Trial 73 finished with value: 0.13253968253968254 and parameters: {'estimator': 'scm', 'C': 0.050866579765749556, 'kernel': 'rbf', 'gamma': 'scale', 'class_weight': None, 'degree': 3}. Best is trial 23 with value: 0.2552910052910053.\n"
     ]
    },
    {
     "name": "stdout",
     "output_type": "stream",
     "text": [
      "[0.08333333 0.22857143        nan        nan 0.08571429]\n"
     ]
    },
    {
     "name": "stderr",
     "output_type": "stream",
     "text": [
      "[I 2025-06-21 19:23:38,093] Trial 74 finished with value: 0.13253968253968254 and parameters: {'estimator': 'scm', 'C': 0.0741967210934575, 'kernel': 'rbf', 'gamma': 'scale', 'class_weight': None, 'degree': 3}. Best is trial 23 with value: 0.2552910052910053.\n"
     ]
    },
    {
     "name": "stdout",
     "output_type": "stream",
     "text": [
      "[0.08333333 0.22857143        nan        nan 0.08571429]\n"
     ]
    },
    {
     "name": "stderr",
     "output_type": "stream",
     "text": [
      "[I 2025-06-21 19:23:38,458] Trial 75 finished with value: 0.13253968253968254 and parameters: {'estimator': 'scm', 'C': 0.06261007293515192, 'kernel': 'rbf', 'gamma': 'scale', 'class_weight': None, 'degree': 3}. Best is trial 23 with value: 0.2552910052910053.\n"
     ]
    },
    {
     "name": "stdout",
     "output_type": "stream",
     "text": [
      "[0.08333333 0.22857143        nan        nan 0.08571429]\n"
     ]
    },
    {
     "name": "stderr",
     "output_type": "stream",
     "text": [
      "[I 2025-06-21 19:23:39,083] Trial 76 finished with value: 0.13253968253968254 and parameters: {'estimator': 'scm', 'C': 0.06129386234378763, 'kernel': 'rbf', 'gamma': 'scale', 'class_weight': None, 'degree': 3}. Best is trial 23 with value: 0.2552910052910053.\n",
      "[I 2025-06-21 19:23:39,267] Trial 77 finished with value: 0.13253968253968254 and parameters: {'estimator': 'scm', 'C': 0.08706350142734344, 'kernel': 'rbf', 'gamma': 'scale', 'class_weight': None, 'degree': 3}. Best is trial 23 with value: 0.2552910052910053.\n"
     ]
    },
    {
     "name": "stdout",
     "output_type": "stream",
     "text": [
      "[0.08333333 0.22857143        nan        nan 0.08571429]\n",
      "[0.08333333 0.22857143        nan        nan 0.08571429]\n"
     ]
    },
    {
     "name": "stderr",
     "output_type": "stream",
     "text": [
      "[I 2025-06-21 19:23:39,726] Trial 78 finished with value: 0.13253968253968254 and parameters: {'estimator': 'scm', 'C': 0.03956333168223391, 'kernel': 'rbf', 'gamma': 'auto', 'class_weight': None, 'degree': 4}. Best is trial 23 with value: 0.2552910052910053.\n"
     ]
    },
    {
     "name": "stdout",
     "output_type": "stream",
     "text": [
      "[0.08333333 0.22857143        nan        nan 0.08571429]\n"
     ]
    },
    {
     "name": "stderr",
     "output_type": "stream",
     "text": [
      "[I 2025-06-21 19:23:40,506] Trial 79 finished with value: 0.24576719576719577 and parameters: {'estimator': 'oas', 'C': 192.9514683563986, 'kernel': 'rbf', 'gamma': 'auto', 'class_weight': None, 'degree': 4}. Best is trial 23 with value: 0.2552910052910053.\n",
      "[I 2025-06-21 19:23:40,661] Trial 80 finished with value: 0.22698412698412698 and parameters: {'estimator': 'scm', 'C': 197.81753798683206, 'kernel': 'rbf', 'gamma': 'auto', 'class_weight': None, 'degree': 4}. Best is trial 23 with value: 0.2552910052910053.\n"
     ]
    },
    {
     "name": "stdout",
     "output_type": "stream",
     "text": [
      "[0.19444444 0.37142857        nan        nan 0.17142857]\n",
      "[0.16666667 0.31428571        nan        nan 0.2       ]\n"
     ]
    },
    {
     "name": "stderr",
     "output_type": "stream",
     "text": [
      "[I 2025-06-21 19:23:40,919] Trial 81 finished with value: 0.22698412698412698 and parameters: {'estimator': 'scm', 'C': 205.76066770583276, 'kernel': 'rbf', 'gamma': 'auto', 'class_weight': None, 'degree': 4}. Best is trial 23 with value: 0.2552910052910053.\n"
     ]
    },
    {
     "name": "stdout",
     "output_type": "stream",
     "text": [
      "[0.16666667 0.31428571        nan        nan 0.2       ]\n"
     ]
    },
    {
     "name": "stderr",
     "output_type": "stream",
     "text": [
      "[I 2025-06-21 19:23:41,293] Trial 82 finished with value: 0.22698412698412698 and parameters: {'estimator': 'scm', 'C': 141.13381566582996, 'kernel': 'rbf', 'gamma': 'auto', 'class_weight': None, 'degree': 4}. Best is trial 23 with value: 0.2552910052910053.\n"
     ]
    },
    {
     "name": "stdout",
     "output_type": "stream",
     "text": [
      "[0.16666667 0.31428571        nan        nan 0.2       ]\n"
     ]
    },
    {
     "name": "stderr",
     "output_type": "stream",
     "text": [
      "[I 2025-06-21 19:23:41,659] Trial 83 finished with value: 0.22698412698412698 and parameters: {'estimator': 'scm', 'C': 161.03945263185284, 'kernel': 'rbf', 'gamma': 'auto', 'class_weight': None, 'degree': 4}. Best is trial 23 with value: 0.2552910052910053.\n"
     ]
    },
    {
     "name": "stdout",
     "output_type": "stream",
     "text": [
      "[0.16666667 0.31428571        nan        nan 0.2       ]\n"
     ]
    },
    {
     "name": "stderr",
     "output_type": "stream",
     "text": [
      "[I 2025-06-21 19:23:42,430] Trial 84 finished with value: 0.22698412698412698 and parameters: {'estimator': 'scm', 'C': 157.27611795939978, 'kernel': 'rbf', 'gamma': 'scale', 'class_weight': None, 'degree': 4}. Best is trial 23 with value: 0.2552910052910053.\n"
     ]
    },
    {
     "name": "stdout",
     "output_type": "stream",
     "text": [
      "[0.16666667 0.31428571        nan        nan 0.2       ]\n"
     ]
    },
    {
     "name": "stderr",
     "output_type": "stream",
     "text": [
      "[I 2025-06-21 19:23:42,747] Trial 85 finished with value: 0.22698412698412698 and parameters: {'estimator': 'scm', 'C': 161.620249487267, 'kernel': 'rbf', 'gamma': 'scale', 'class_weight': None, 'degree': 4}. Best is trial 23 with value: 0.2552910052910053.\n"
     ]
    },
    {
     "name": "stdout",
     "output_type": "stream",
     "text": [
      "[0.16666667 0.31428571        nan        nan 0.2       ]\n"
     ]
    },
    {
     "name": "stderr",
     "output_type": "stream",
     "text": [
      "[I 2025-06-21 19:23:43,355] Trial 86 finished with value: 0.13253968253968254 and parameters: {'estimator': 'scm', 'C': 0.4328084961166463, 'kernel': 'rbf', 'gamma': 'scale', 'class_weight': None, 'degree': 4}. Best is trial 23 with value: 0.2552910052910053.\n"
     ]
    },
    {
     "name": "stdout",
     "output_type": "stream",
     "text": [
      "[0.08333333 0.22857143        nan        nan 0.08571429]\n"
     ]
    },
    {
     "name": "stderr",
     "output_type": "stream",
     "text": [
      "[I 2025-06-21 19:23:43,671] Trial 87 finished with value: 0.22698412698412698 and parameters: {'estimator': 'scm', 'C': 170.79057146430335, 'kernel': 'rbf', 'gamma': 'scale', 'class_weight': 'balanced', 'degree': 3}. Best is trial 23 with value: 0.2552910052910053.\n"
     ]
    },
    {
     "name": "stdout",
     "output_type": "stream",
     "text": [
      "[0.16666667 0.31428571        nan        nan 0.2       ]\n"
     ]
    },
    {
     "name": "stderr",
     "output_type": "stream",
     "text": [
      "[I 2025-06-21 19:23:44,329] Trial 88 finished with value: 0.22698412698412698 and parameters: {'estimator': 'scm', 'C': 154.42186886127425, 'kernel': 'rbf', 'gamma': 'scale', 'class_weight': 'balanced', 'degree': 3}. Best is trial 23 with value: 0.2552910052910053.\n"
     ]
    },
    {
     "name": "stdout",
     "output_type": "stream",
     "text": [
      "[0.16666667 0.31428571        nan        nan 0.2       ]\n"
     ]
    },
    {
     "name": "stderr",
     "output_type": "stream",
     "text": [
      "[I 2025-06-21 19:23:44,722] Trial 89 finished with value: 0.22698412698412698 and parameters: {'estimator': 'scm', 'C': 132.28411669709013, 'kernel': 'rbf', 'gamma': 'auto', 'class_weight': None, 'degree': 3}. Best is trial 23 with value: 0.2552910052910053.\n"
     ]
    },
    {
     "name": "stdout",
     "output_type": "stream",
     "text": [
      "[0.16666667 0.31428571        nan        nan 0.2       ]\n"
     ]
    },
    {
     "name": "stderr",
     "output_type": "stream",
     "text": [
      "[I 2025-06-21 19:23:44,992] Trial 90 finished with value: 0.22698412698412698 and parameters: {'estimator': 'scm', 'C': 150.17281787723914, 'kernel': 'rbf', 'gamma': 'auto', 'class_weight': None, 'degree': 3}. Best is trial 23 with value: 0.2552910052910053.\n"
     ]
    },
    {
     "name": "stdout",
     "output_type": "stream",
     "text": [
      "[0.16666667 0.31428571        nan        nan 0.2       ]\n"
     ]
    },
    {
     "name": "stderr",
     "output_type": "stream",
     "text": [
      "[I 2025-06-21 19:23:45,469] Trial 91 finished with value: 0.22698412698412698 and parameters: {'estimator': 'scm', 'C': 169.93169992232046, 'kernel': 'rbf', 'gamma': 'auto', 'class_weight': 'balanced', 'degree': 4}. Best is trial 23 with value: 0.2552910052910053.\n"
     ]
    },
    {
     "name": "stdout",
     "output_type": "stream",
     "text": [
      "[0.16666667 0.31428571        nan        nan 0.2       ]\n"
     ]
    },
    {
     "name": "stderr",
     "output_type": "stream",
     "text": [
      "[I 2025-06-21 19:23:45,948] Trial 92 finished with value: 0.22698412698412698 and parameters: {'estimator': 'scm', 'C': 180.1233410096285, 'kernel': 'rbf', 'gamma': 'auto', 'class_weight': 'balanced', 'degree': 4}. Best is trial 23 with value: 0.2552910052910053.\n"
     ]
    },
    {
     "name": "stdout",
     "output_type": "stream",
     "text": [
      "[0.16666667 0.31428571        nan        nan 0.2       ]\n"
     ]
    },
    {
     "name": "stderr",
     "output_type": "stream",
     "text": [
      "[I 2025-06-21 19:23:46,252] Trial 93 finished with value: 0.22698412698412698 and parameters: {'estimator': 'scm', 'C': 146.3068987471455, 'kernel': 'rbf', 'gamma': 'auto', 'class_weight': 'balanced', 'degree': 4}. Best is trial 23 with value: 0.2552910052910053.\n"
     ]
    },
    {
     "name": "stdout",
     "output_type": "stream",
     "text": [
      "[0.16666667 0.31428571        nan        nan 0.2       ]\n"
     ]
    },
    {
     "name": "stderr",
     "output_type": "stream",
     "text": [
      "[I 2025-06-21 19:23:47,055] Trial 94 finished with value: 0.22698412698412698 and parameters: {'estimator': 'scm', 'C': 164.58618330235615, 'kernel': 'rbf', 'gamma': 'auto', 'class_weight': 'balanced', 'degree': 4}. Best is trial 23 with value: 0.2552910052910053.\n"
     ]
    },
    {
     "name": "stdout",
     "output_type": "stream",
     "text": [
      "[0.16666667 0.31428571        nan        nan 0.2       ]\n"
     ]
    },
    {
     "name": "stderr",
     "output_type": "stream",
     "text": [
      "[I 2025-06-21 19:23:47,332] Trial 95 finished with value: 0.22698412698412698 and parameters: {'estimator': 'scm', 'C': 143.45282168492417, 'kernel': 'rbf', 'gamma': 'auto', 'class_weight': 'balanced', 'degree': 4}. Best is trial 23 with value: 0.2552910052910053.\n"
     ]
    },
    {
     "name": "stdout",
     "output_type": "stream",
     "text": [
      "[0.16666667 0.31428571        nan        nan 0.2       ]\n"
     ]
    },
    {
     "name": "stderr",
     "output_type": "stream",
     "text": [
      "[I 2025-06-21 19:23:47,703] Trial 96 finished with value: 0.22698412698412698 and parameters: {'estimator': 'scm', 'C': 172.1804757016525, 'kernel': 'rbf', 'gamma': 'auto', 'class_weight': 'balanced', 'degree': 4}. Best is trial 23 with value: 0.2552910052910053.\n"
     ]
    },
    {
     "name": "stdout",
     "output_type": "stream",
     "text": [
      "[0.16666667 0.31428571        nan        nan 0.2       ]\n"
     ]
    },
    {
     "name": "stderr",
     "output_type": "stream",
     "text": [
      "[I 2025-06-21 19:23:48,847] Trial 97 finished with value: 0.24576719576719577 and parameters: {'estimator': 'oas', 'C': 134.96602195873044, 'kernel': 'rbf', 'gamma': 'auto', 'class_weight': 'balanced', 'degree': 4}. Best is trial 23 with value: 0.2552910052910053.\n"
     ]
    },
    {
     "name": "stdout",
     "output_type": "stream",
     "text": [
      "[0.19444444 0.37142857        nan        nan 0.17142857]\n"
     ]
    },
    {
     "name": "stderr",
     "output_type": "stream",
     "text": [
      "[I 2025-06-21 19:23:49,159] Trial 98 finished with value: 0.24576719576719577 and parameters: {'estimator': 'oas', 'C': 159.24334927878738, 'kernel': 'rbf', 'gamma': 'auto', 'class_weight': 'balanced', 'degree': 4}. Best is trial 23 with value: 0.2552910052910053.\n"
     ]
    },
    {
     "name": "stdout",
     "output_type": "stream",
     "text": [
      "[0.19444444 0.37142857        nan        nan 0.17142857]\n"
     ]
    },
    {
     "name": "stderr",
     "output_type": "stream",
     "text": [
      "[I 2025-06-21 19:23:49,364] Trial 99 finished with value: 0.24576719576719577 and parameters: {'estimator': 'oas', 'C': 158.63528859798683, 'kernel': 'rbf', 'gamma': 'auto', 'class_weight': None, 'degree': 4}. Best is trial 23 with value: 0.2552910052910053.\n"
     ]
    },
    {
     "name": "stdout",
     "output_type": "stream",
     "text": [
      "[0.19444444 0.37142857        nan        nan 0.17142857]\n"
     ]
    },
    {
     "name": "stderr",
     "output_type": "stream",
     "text": [
      "[I 2025-06-21 19:23:50,055] Trial 100 finished with value: 0.24576719576719577 and parameters: {'estimator': 'oas', 'C': 146.59041438910967, 'kernel': 'rbf', 'gamma': 'auto', 'class_weight': 'balanced', 'degree': 4}. Best is trial 23 with value: 0.2552910052910053.\n"
     ]
    },
    {
     "name": "stdout",
     "output_type": "stream",
     "text": [
      "[0.19444444 0.37142857        nan        nan 0.17142857]\n"
     ]
    },
    {
     "name": "stderr",
     "output_type": "stream",
     "text": [
      "[I 2025-06-21 19:23:50,295] Trial 101 finished with value: 0.24576719576719577 and parameters: {'estimator': 'oas', 'C': 137.1537645840337, 'kernel': 'rbf', 'gamma': 'auto', 'class_weight': 'balanced', 'degree': 4}. Best is trial 23 with value: 0.2552910052910053.\n"
     ]
    },
    {
     "name": "stdout",
     "output_type": "stream",
     "text": [
      "[0.19444444 0.37142857        nan        nan 0.17142857]\n"
     ]
    },
    {
     "name": "stderr",
     "output_type": "stream",
     "text": [
      "[I 2025-06-21 19:23:50,650] Trial 102 finished with value: 0.24576719576719577 and parameters: {'estimator': 'oas', 'C': 361.3194573981419, 'kernel': 'rbf', 'gamma': 'auto', 'class_weight': 'balanced', 'degree': 4}. Best is trial 23 with value: 0.2552910052910053.\n"
     ]
    },
    {
     "name": "stdout",
     "output_type": "stream",
     "text": [
      "[0.19444444 0.37142857        nan        nan 0.17142857]\n"
     ]
    },
    {
     "name": "stderr",
     "output_type": "stream",
     "text": [
      "[I 2025-06-21 19:23:51,312] Trial 103 finished with value: 0.24576719576719577 and parameters: {'estimator': 'oas', 'C': 438.4283206352713, 'kernel': 'rbf', 'gamma': 'auto', 'class_weight': 'balanced', 'degree': 4}. Best is trial 23 with value: 0.2552910052910053.\n"
     ]
    },
    {
     "name": "stdout",
     "output_type": "stream",
     "text": [
      "[0.19444444 0.37142857        nan        nan 0.17142857]\n"
     ]
    },
    {
     "name": "stderr",
     "output_type": "stream",
     "text": [
      "[I 2025-06-21 19:23:51,550] Trial 104 finished with value: 0.24576719576719577 and parameters: {'estimator': 'oas', 'C': 488.4800071221715, 'kernel': 'rbf', 'gamma': 'auto', 'class_weight': 'balanced', 'degree': 4}. Best is trial 23 with value: 0.2552910052910053.\n"
     ]
    },
    {
     "name": "stdout",
     "output_type": "stream",
     "text": [
      "[0.19444444 0.37142857        nan        nan 0.17142857]\n"
     ]
    },
    {
     "name": "stderr",
     "output_type": "stream",
     "text": [
      "[I 2025-06-21 19:23:52,085] Trial 105 finished with value: 0.24576719576719577 and parameters: {'estimator': 'oas', 'C': 312.0818557164533, 'kernel': 'rbf', 'gamma': 'auto', 'class_weight': 'balanced', 'degree': 2}. Best is trial 23 with value: 0.2552910052910053.\n"
     ]
    },
    {
     "name": "stdout",
     "output_type": "stream",
     "text": [
      "[0.19444444 0.37142857        nan        nan 0.17142857]\n"
     ]
    },
    {
     "name": "stderr",
     "output_type": "stream",
     "text": [
      "[I 2025-06-21 19:23:52,331] Trial 106 finished with value: 0.24576719576719577 and parameters: {'estimator': 'oas', 'C': 300.16412262011187, 'kernel': 'rbf', 'gamma': 'auto', 'class_weight': 'balanced', 'degree': 2}. Best is trial 23 with value: 0.2552910052910053.\n"
     ]
    },
    {
     "name": "stdout",
     "output_type": "stream",
     "text": [
      "[0.19444444 0.37142857        nan        nan 0.17142857]\n"
     ]
    },
    {
     "name": "stderr",
     "output_type": "stream",
     "text": [
      "[I 2025-06-21 19:23:52,954] Trial 107 finished with value: 0.16084656084656082 and parameters: {'estimator': 'oas', 'C': 343.04240262500497, 'kernel': 'poly', 'gamma': 'auto', 'class_weight': 'balanced', 'degree': 2}. Best is trial 23 with value: 0.2552910052910053.\n"
     ]
    },
    {
     "name": "stdout",
     "output_type": "stream",
     "text": [
      "[0.11111111 0.25714286        nan        nan 0.11428571]\n"
     ]
    },
    {
     "name": "stderr",
     "output_type": "stream",
     "text": [
      "[I 2025-06-21 19:23:53,574] Trial 108 finished with value: 0.16084656084656082 and parameters: {'estimator': 'oas', 'C': 436.48286972256255, 'kernel': 'poly', 'gamma': 'auto', 'class_weight': 'balanced', 'degree': 2}. Best is trial 23 with value: 0.2552910052910053.\n"
     ]
    },
    {
     "name": "stdout",
     "output_type": "stream",
     "text": [
      "[0.11111111 0.25714286        nan        nan 0.11428571]\n"
     ]
    },
    {
     "name": "stderr",
     "output_type": "stream",
     "text": [
      "[I 2025-06-21 19:23:53,843] Trial 109 finished with value: 0.16084656084656082 and parameters: {'estimator': 'oas', 'C': 396.19026447991706, 'kernel': 'poly', 'gamma': 'auto', 'class_weight': 'balanced', 'degree': 2}. Best is trial 23 with value: 0.2552910052910053.\n"
     ]
    },
    {
     "name": "stdout",
     "output_type": "stream",
     "text": [
      "[0.11111111 0.25714286        nan        nan 0.11428571]\n"
     ]
    },
    {
     "name": "stderr",
     "output_type": "stream",
     "text": [
      "[I 2025-06-21 19:23:54,112] Trial 110 finished with value: 0.16084656084656082 and parameters: {'estimator': 'oas', 'C': 374.8184628873874, 'kernel': 'poly', 'gamma': 'auto', 'class_weight': 'balanced', 'degree': 2}. Best is trial 23 with value: 0.2552910052910053.\n"
     ]
    },
    {
     "name": "stdout",
     "output_type": "stream",
     "text": [
      "[0.11111111 0.25714286        nan        nan 0.11428571]\n"
     ]
    },
    {
     "name": "stderr",
     "output_type": "stream",
     "text": [
      "[I 2025-06-21 19:23:54,438] Trial 111 finished with value: 0.16084656084656082 and parameters: {'estimator': 'oas', 'C': 534.0808479839131, 'kernel': 'poly', 'gamma': 'auto', 'class_weight': 'balanced', 'degree': 2}. Best is trial 23 with value: 0.2552910052910053.\n"
     ]
    },
    {
     "name": "stdout",
     "output_type": "stream",
     "text": [
      "[0.11111111 0.25714286        nan        nan 0.11428571]\n"
     ]
    },
    {
     "name": "stderr",
     "output_type": "stream",
     "text": [
      "[I 2025-06-21 19:23:55,447] Trial 112 finished with value: 0.16084656084656082 and parameters: {'estimator': 'oas', 'C': 386.4667510479452, 'kernel': 'poly', 'gamma': 'auto', 'class_weight': 'balanced', 'degree': 2}. Best is trial 23 with value: 0.2552910052910053.\n"
     ]
    },
    {
     "name": "stdout",
     "output_type": "stream",
     "text": [
      "[0.11111111 0.25714286        nan        nan 0.11428571]\n"
     ]
    },
    {
     "name": "stderr",
     "output_type": "stream",
     "text": [
      "[I 2025-06-21 19:23:55,785] Trial 113 finished with value: 0.16084656084656082 and parameters: {'estimator': 'oas', 'C': 426.94931965353396, 'kernel': 'poly', 'gamma': 'auto', 'class_weight': 'balanced', 'degree': 2}. Best is trial 23 with value: 0.2552910052910053.\n"
     ]
    },
    {
     "name": "stdout",
     "output_type": "stream",
     "text": [
      "[0.11111111 0.25714286        nan        nan 0.11428571]\n"
     ]
    },
    {
     "name": "stderr",
     "output_type": "stream",
     "text": [
      "[I 2025-06-21 19:23:56,223] Trial 114 finished with value: 0.16084656084656082 and parameters: {'estimator': 'oas', 'C': 384.4292135284113, 'kernel': 'poly', 'gamma': 'auto', 'class_weight': None, 'degree': 2}. Best is trial 23 with value: 0.2552910052910053.\n"
     ]
    },
    {
     "name": "stdout",
     "output_type": "stream",
     "text": [
      "[0.11111111 0.25714286        nan        nan 0.11428571]\n"
     ]
    },
    {
     "name": "stderr",
     "output_type": "stream",
     "text": [
      "[I 2025-06-21 19:23:56,738] Trial 115 finished with value: 0.16084656084656082 and parameters: {'estimator': 'oas', 'C': 425.48308052899876, 'kernel': 'poly', 'gamma': 'auto', 'class_weight': None, 'degree': 2}. Best is trial 23 with value: 0.2552910052910053.\n"
     ]
    },
    {
     "name": "stdout",
     "output_type": "stream",
     "text": [
      "[0.11111111 0.25714286        nan        nan 0.11428571]\n"
     ]
    },
    {
     "name": "stderr",
     "output_type": "stream",
     "text": [
      "[I 2025-06-21 19:23:57,099] Trial 116 finished with value: 0.16084656084656082 and parameters: {'estimator': 'oas', 'C': 355.9316133292036, 'kernel': 'poly', 'gamma': 'scale', 'class_weight': None, 'degree': 2}. Best is trial 23 with value: 0.2552910052910053.\n",
      "[I 2025-06-21 19:23:57,284] Trial 117 finished with value: 0.16084656084656082 and parameters: {'estimator': 'oas', 'C': 396.37020975382177, 'kernel': 'poly', 'gamma': 'auto', 'class_weight': 'balanced', 'degree': 2}. Best is trial 23 with value: 0.2552910052910053.\n"
     ]
    },
    {
     "name": "stdout",
     "output_type": "stream",
     "text": [
      "[0.11111111 0.25714286        nan        nan 0.11428571]\n",
      "[0.11111111 0.25714286        nan        nan 0.11428571]\n"
     ]
    },
    {
     "name": "stderr",
     "output_type": "stream",
     "text": [
      "[I 2025-06-21 19:23:58,092] Trial 118 finished with value: 0.09444444444444444 and parameters: {'estimator': 'oas', 'C': 389.1302188078689, 'kernel': 'poly', 'gamma': 'auto', 'class_weight': 'balanced', 'degree': 5}. Best is trial 23 with value: 0.2552910052910053.\n"
     ]
    },
    {
     "name": "stdout",
     "output_type": "stream",
     "text": [
      "[0.08333333 0.11428571        nan        nan 0.08571429]\n"
     ]
    },
    {
     "name": "stderr",
     "output_type": "stream",
     "text": [
      "[I 2025-06-21 19:23:58,686] Trial 119 finished with value: 0.09444444444444444 and parameters: {'estimator': 'oas', 'C': 362.1782729431869, 'kernel': 'poly', 'gamma': 'auto', 'class_weight': 'balanced', 'degree': 4}. Best is trial 23 with value: 0.2552910052910053.\n"
     ]
    },
    {
     "name": "stdout",
     "output_type": "stream",
     "text": [
      "[0.08333333 0.11428571        nan        nan 0.08571429]\n"
     ]
    },
    {
     "name": "stderr",
     "output_type": "stream",
     "text": [
      "[I 2025-06-21 19:23:59,123] Trial 120 finished with value: 0.24576719576719577 and parameters: {'estimator': 'oas', 'C': 382.47776507568443, 'kernel': 'rbf', 'gamma': 'auto', 'class_weight': 'balanced', 'degree': 4}. Best is trial 23 with value: 0.2552910052910053.\n",
      "[I 2025-06-21 19:23:59,241] Trial 121 finished with value: 0.24576719576719577 and parameters: {'estimator': 'oas', 'C': 394.33908448778294, 'kernel': 'rbf', 'gamma': 'auto', 'class_weight': 'balanced', 'degree': 4}. Best is trial 23 with value: 0.2552910052910053.\n"
     ]
    },
    {
     "name": "stdout",
     "output_type": "stream",
     "text": [
      "[0.19444444 0.37142857        nan        nan 0.17142857]\n",
      "[0.19444444 0.37142857        nan        nan 0.17142857]\n"
     ]
    },
    {
     "name": "stderr",
     "output_type": "stream",
     "text": [
      "[I 2025-06-21 19:23:59,706] Trial 122 finished with value: 0.24576719576719577 and parameters: {'estimator': 'oas', 'C': 455.7782115462659, 'kernel': 'rbf', 'gamma': 'auto', 'class_weight': 'balanced', 'degree': 4}. Best is trial 23 with value: 0.2552910052910053.\n"
     ]
    },
    {
     "name": "stdout",
     "output_type": "stream",
     "text": [
      "[0.19444444 0.37142857        nan        nan 0.17142857]\n"
     ]
    },
    {
     "name": "stderr",
     "output_type": "stream",
     "text": [
      "[I 2025-06-21 19:24:00,321] Trial 123 finished with value: 0.24576719576719577 and parameters: {'estimator': 'oas', 'C': 333.2909982860378, 'kernel': 'rbf', 'gamma': 'auto', 'class_weight': 'balanced', 'degree': 4}. Best is trial 23 with value: 0.2552910052910053.\n"
     ]
    },
    {
     "name": "stdout",
     "output_type": "stream",
     "text": [
      "[0.19444444 0.37142857        nan        nan 0.17142857]\n"
     ]
    },
    {
     "name": "stderr",
     "output_type": "stream",
     "text": [
      "[I 2025-06-21 19:24:00,737] Trial 124 finished with value: 0.24576719576719577 and parameters: {'estimator': 'oas', 'C': 287.58076678295527, 'kernel': 'rbf', 'gamma': 'auto', 'class_weight': 'balanced', 'degree': 4}. Best is trial 23 with value: 0.2552910052910053.\n"
     ]
    },
    {
     "name": "stdout",
     "output_type": "stream",
     "text": [
      "[0.19444444 0.37142857        nan        nan 0.17142857]\n"
     ]
    },
    {
     "name": "stderr",
     "output_type": "stream",
     "text": [
      "[I 2025-06-21 19:24:01,069] Trial 125 finished with value: 0.24576719576719577 and parameters: {'estimator': 'oas', 'C': 104.87059482908627, 'kernel': 'rbf', 'gamma': 'auto', 'class_weight': 'balanced', 'degree': 4}. Best is trial 23 with value: 0.2552910052910053.\n"
     ]
    },
    {
     "name": "stdout",
     "output_type": "stream",
     "text": [
      "[0.19444444 0.37142857        nan        nan 0.17142857]\n"
     ]
    },
    {
     "name": "stderr",
     "output_type": "stream",
     "text": [
      "[I 2025-06-21 19:24:01,649] Trial 126 finished with value: 0.24576719576719577 and parameters: {'estimator': 'oas', 'C': 15.890786920303098, 'kernel': 'rbf', 'gamma': 'auto', 'class_weight': 'balanced', 'degree': 4}. Best is trial 23 with value: 0.2552910052910053.\n",
      "[I 2025-06-21 19:24:01,713] Trial 127 finished with value: 0.24576719576719577 and parameters: {'estimator': 'oas', 'C': 25.40842862556192, 'kernel': 'rbf', 'gamma': 'auto', 'class_weight': 'balanced', 'degree': 4}. Best is trial 23 with value: 0.2552910052910053.\n"
     ]
    },
    {
     "name": "stdout",
     "output_type": "stream",
     "text": [
      "[0.19444444 0.37142857        nan        nan 0.17142857]\n",
      "[0.19444444 0.37142857        nan        nan 0.17142857]\n"
     ]
    },
    {
     "name": "stderr",
     "output_type": "stream",
     "text": [
      "[I 2025-06-21 19:24:02,278] Trial 128 finished with value: 0.24576719576719577 and parameters: {'estimator': 'oas', 'C': 32.63135399017673, 'kernel': 'rbf', 'gamma': 'auto', 'class_weight': 'balanced', 'degree': 4}. Best is trial 23 with value: 0.2552910052910053.\n"
     ]
    },
    {
     "name": "stdout",
     "output_type": "stream",
     "text": [
      "[0.19444444 0.37142857        nan        nan 0.17142857]\n"
     ]
    },
    {
     "name": "stderr",
     "output_type": "stream",
     "text": [
      "[I 2025-06-21 19:24:02,825] Trial 129 finished with value: 0.24576719576719577 and parameters: {'estimator': 'oas', 'C': 104.17439763239949, 'kernel': 'rbf', 'gamma': 'auto', 'class_weight': 'balanced', 'degree': 4}. Best is trial 23 with value: 0.2552910052910053.\n"
     ]
    },
    {
     "name": "stdout",
     "output_type": "stream",
     "text": [
      "[0.19444444 0.37142857        nan        nan 0.17142857]\n"
     ]
    },
    {
     "name": "stderr",
     "output_type": "stream",
     "text": [
      "[I 2025-06-21 19:24:03,253] Trial 130 finished with value: 0.24576719576719577 and parameters: {'estimator': 'oas', 'C': 107.6573159895411, 'kernel': 'rbf', 'gamma': 'auto', 'class_weight': 'balanced', 'degree': 4}. Best is trial 23 with value: 0.2552910052910053.\n"
     ]
    },
    {
     "name": "stdout",
     "output_type": "stream",
     "text": [
      "[0.19444444 0.37142857        nan        nan 0.17142857]\n"
     ]
    },
    {
     "name": "stderr",
     "output_type": "stream",
     "text": [
      "[I 2025-06-21 19:24:03,643] Trial 131 finished with value: 0.24576719576719577 and parameters: {'estimator': 'oas', 'C': 33.1178668714716, 'kernel': 'rbf', 'gamma': 'auto', 'class_weight': 'balanced', 'degree': 4}. Best is trial 23 with value: 0.2552910052910053.\n"
     ]
    },
    {
     "name": "stdout",
     "output_type": "stream",
     "text": [
      "[0.19444444 0.37142857        nan        nan 0.17142857]\n"
     ]
    },
    {
     "name": "stderr",
     "output_type": "stream",
     "text": [
      "[I 2025-06-21 19:24:04,138] Trial 132 finished with value: 0.24576719576719577 and parameters: {'estimator': 'oas', 'C': 34.178103550264964, 'kernel': 'rbf', 'gamma': 'auto', 'class_weight': 'balanced', 'degree': 4}. Best is trial 23 with value: 0.2552910052910053.\n"
     ]
    },
    {
     "name": "stdout",
     "output_type": "stream",
     "text": [
      "[0.19444444 0.37142857        nan        nan 0.17142857]\n"
     ]
    },
    {
     "name": "stderr",
     "output_type": "stream",
     "text": [
      "[I 2025-06-21 19:24:04,580] Trial 133 finished with value: 0.24576719576719577 and parameters: {'estimator': 'oas', 'C': 31.06876086096708, 'kernel': 'rbf', 'gamma': 'auto', 'class_weight': 'balanced', 'degree': 4}. Best is trial 23 with value: 0.2552910052910053.\n"
     ]
    },
    {
     "name": "stdout",
     "output_type": "stream",
     "text": [
      "[0.19444444 0.37142857        nan        nan 0.17142857]\n"
     ]
    },
    {
     "name": "stderr",
     "output_type": "stream",
     "text": [
      "[I 2025-06-21 19:24:05,199] Trial 134 finished with value: 0.24576719576719577 and parameters: {'estimator': 'oas', 'C': 102.48248793650416, 'kernel': 'rbf', 'gamma': 'auto', 'class_weight': 'balanced', 'degree': 4}. Best is trial 23 with value: 0.2552910052910053.\n"
     ]
    },
    {
     "name": "stdout",
     "output_type": "stream",
     "text": [
      "[0.19444444 0.37142857        nan        nan 0.17142857]\n"
     ]
    },
    {
     "name": "stderr",
     "output_type": "stream",
     "text": [
      "[I 2025-06-21 19:24:05,458] Trial 135 finished with value: 0.24576719576719577 and parameters: {'estimator': 'oas', 'C': 38.007793447864664, 'kernel': 'rbf', 'gamma': 'auto', 'class_weight': 'balanced', 'degree': 4}. Best is trial 23 with value: 0.2552910052910053.\n"
     ]
    },
    {
     "name": "stdout",
     "output_type": "stream",
     "text": [
      "[0.19444444 0.37142857        nan        nan 0.17142857]\n"
     ]
    },
    {
     "name": "stderr",
     "output_type": "stream",
     "text": [
      "[I 2025-06-21 19:24:05,881] Trial 136 finished with value: 0.24576719576719577 and parameters: {'estimator': 'oas', 'C': 33.89291960943017, 'kernel': 'rbf', 'gamma': 'auto', 'class_weight': 'balanced', 'degree': 4}. Best is trial 23 with value: 0.2552910052910053.\n"
     ]
    },
    {
     "name": "stdout",
     "output_type": "stream",
     "text": [
      "[0.19444444 0.37142857        nan        nan 0.17142857]\n"
     ]
    },
    {
     "name": "stderr",
     "output_type": "stream",
     "text": [
      "[I 2025-06-21 19:24:06,586] Trial 137 finished with value: 0.24576719576719577 and parameters: {'estimator': 'oas', 'C': 22.123291859038876, 'kernel': 'rbf', 'gamma': 'auto', 'class_weight': 'balanced', 'degree': 4}. Best is trial 23 with value: 0.2552910052910053.\n"
     ]
    },
    {
     "name": "stdout",
     "output_type": "stream",
     "text": [
      "[0.19444444 0.37142857        nan        nan 0.17142857]\n"
     ]
    },
    {
     "name": "stderr",
     "output_type": "stream",
     "text": [
      "[I 2025-06-21 19:24:06,850] Trial 138 finished with value: 0.24576719576719577 and parameters: {'estimator': 'oas', 'C': 97.26963499826134, 'kernel': 'rbf', 'gamma': 'auto', 'class_weight': 'balanced', 'degree': 4}. Best is trial 23 with value: 0.2552910052910053.\n"
     ]
    },
    {
     "name": "stdout",
     "output_type": "stream",
     "text": [
      "[0.19444444 0.37142857        nan        nan 0.17142857]\n"
     ]
    },
    {
     "name": "stderr",
     "output_type": "stream",
     "text": [
      "[I 2025-06-21 19:24:07,132] Trial 139 finished with value: 0.24576719576719577 and parameters: {'estimator': 'oas', 'C': 26.1779244284387, 'kernel': 'rbf', 'gamma': 'auto', 'class_weight': 'balanced', 'degree': 4}. Best is trial 23 with value: 0.2552910052910053.\n"
     ]
    },
    {
     "name": "stdout",
     "output_type": "stream",
     "text": [
      "[0.19444444 0.37142857        nan        nan 0.17142857]\n"
     ]
    },
    {
     "name": "stderr",
     "output_type": "stream",
     "text": [
      "[I 2025-06-21 19:24:07,866] Trial 140 finished with value: 0.24576719576719577 and parameters: {'estimator': 'oas', 'C': 111.05521312415495, 'kernel': 'rbf', 'gamma': 'auto', 'class_weight': 'balanced', 'degree': 4}. Best is trial 23 with value: 0.2552910052910053.\n"
     ]
    },
    {
     "name": "stdout",
     "output_type": "stream",
     "text": [
      "[0.19444444 0.37142857        nan        nan 0.17142857]\n"
     ]
    },
    {
     "name": "stderr",
     "output_type": "stream",
     "text": [
      "[I 2025-06-21 19:24:08,463] Trial 141 finished with value: 0.24576719576719577 and parameters: {'estimator': 'oas', 'C': 30.653962390159727, 'kernel': 'rbf', 'gamma': 'auto', 'class_weight': 'balanced', 'degree': 4}. Best is trial 23 with value: 0.2552910052910053.\n"
     ]
    },
    {
     "name": "stdout",
     "output_type": "stream",
     "text": [
      "[0.19444444 0.37142857        nan        nan 0.17142857]\n"
     ]
    },
    {
     "name": "stderr",
     "output_type": "stream",
     "text": [
      "[I 2025-06-21 19:24:09,019] Trial 142 finished with value: 0.24576719576719577 and parameters: {'estimator': 'oas', 'C': 109.84743436105256, 'kernel': 'rbf', 'gamma': 'auto', 'class_weight': 'balanced', 'degree': 4}. Best is trial 23 with value: 0.2552910052910053.\n"
     ]
    },
    {
     "name": "stdout",
     "output_type": "stream",
     "text": [
      "[0.19444444 0.37142857        nan        nan 0.17142857]\n"
     ]
    },
    {
     "name": "stderr",
     "output_type": "stream",
     "text": [
      "[I 2025-06-21 19:24:09,247] Trial 143 finished with value: 0.24576719576719577 and parameters: {'estimator': 'oas', 'C': 29.80642590824267, 'kernel': 'rbf', 'gamma': 'auto', 'class_weight': 'balanced', 'degree': 4}. Best is trial 23 with value: 0.2552910052910053.\n"
     ]
    },
    {
     "name": "stdout",
     "output_type": "stream",
     "text": [
      "[0.19444444 0.37142857        nan        nan 0.17142857]\n"
     ]
    },
    {
     "name": "stderr",
     "output_type": "stream",
     "text": [
      "[I 2025-06-21 19:24:09,728] Trial 144 finished with value: 0.24576719576719577 and parameters: {'estimator': 'oas', 'C': 28.412505649264375, 'kernel': 'rbf', 'gamma': 'auto', 'class_weight': 'balanced', 'degree': 4}. Best is trial 23 with value: 0.2552910052910053.\n"
     ]
    },
    {
     "name": "stdout",
     "output_type": "stream",
     "text": [
      "[0.19444444 0.37142857        nan        nan 0.17142857]\n"
     ]
    },
    {
     "name": "stderr",
     "output_type": "stream",
     "text": [
      "[I 2025-06-21 19:24:10,329] Trial 145 finished with value: 0.24576719576719577 and parameters: {'estimator': 'oas', 'C': 103.87593778155008, 'kernel': 'rbf', 'gamma': 'auto', 'class_weight': 'balanced', 'degree': 4}. Best is trial 23 with value: 0.2552910052910053.\n",
      "[I 2025-06-21 19:24:10,419] Trial 146 finished with value: 0.24576719576719577 and parameters: {'estimator': 'oas', 'C': 102.62977554253251, 'kernel': 'rbf', 'gamma': 'auto', 'class_weight': 'balanced', 'degree': 4}. Best is trial 23 with value: 0.2552910052910053.\n"
     ]
    },
    {
     "name": "stdout",
     "output_type": "stream",
     "text": [
      "[0.19444444 0.37142857        nan        nan 0.17142857]\n",
      "[0.19444444 0.37142857        nan        nan 0.17142857]\n"
     ]
    },
    {
     "name": "stderr",
     "output_type": "stream",
     "text": [
      "[I 2025-06-21 19:24:11,317] Trial 147 finished with value: 0.24576719576719577 and parameters: {'estimator': 'oas', 'C': 38.62454884713073, 'kernel': 'rbf', 'gamma': 'auto', 'class_weight': 'balanced', 'degree': 4}. Best is trial 23 with value: 0.2552910052910053.\n"
     ]
    },
    {
     "name": "stdout",
     "output_type": "stream",
     "text": [
      "[0.19444444 0.37142857        nan        nan 0.17142857]\n"
     ]
    },
    {
     "name": "stderr",
     "output_type": "stream",
     "text": [
      "[I 2025-06-21 19:24:11,595] Trial 148 finished with value: 0.24576719576719577 and parameters: {'estimator': 'oas', 'C': 605.2930724397928, 'kernel': 'rbf', 'gamma': 'auto', 'class_weight': 'balanced', 'degree': 4}. Best is trial 23 with value: 0.2552910052910053.\n"
     ]
    },
    {
     "name": "stdout",
     "output_type": "stream",
     "text": [
      "[0.19444444 0.37142857        nan        nan 0.17142857]\n"
     ]
    },
    {
     "name": "stderr",
     "output_type": "stream",
     "text": [
      "[I 2025-06-21 19:24:12,274] Trial 149 finished with value: 0.24576719576719577 and parameters: {'estimator': 'oas', 'C': 985.2723444768886, 'kernel': 'rbf', 'gamma': 'auto', 'class_weight': 'balanced', 'degree': 4}. Best is trial 23 with value: 0.2552910052910053.\n",
      "[I 2025-06-21 19:24:12,364] Trial 150 finished with value: 0.24576719576719577 and parameters: {'estimator': 'oas', 'C': 242.51380173213852, 'kernel': 'rbf', 'gamma': 'auto', 'class_weight': 'balanced', 'degree': 4}. Best is trial 23 with value: 0.2552910052910053.\n"
     ]
    },
    {
     "name": "stdout",
     "output_type": "stream",
     "text": [
      "[0.19444444 0.37142857        nan        nan 0.17142857]\n",
      "[0.19444444 0.37142857        nan        nan 0.17142857]\n"
     ]
    },
    {
     "name": "stderr",
     "output_type": "stream",
     "text": [
      "[I 2025-06-21 19:24:12,628] Trial 151 finished with value: 0.24576719576719577 and parameters: {'estimator': 'oas', 'C': 253.48922045032668, 'kernel': 'rbf', 'gamma': 'auto', 'class_weight': 'balanced', 'degree': 4}. Best is trial 23 with value: 0.2552910052910053.\n"
     ]
    },
    {
     "name": "stdout",
     "output_type": "stream",
     "text": [
      "[0.19444444 0.37142857        nan        nan 0.17142857]\n"
     ]
    },
    {
     "name": "stderr",
     "output_type": "stream",
     "text": [
      "[I 2025-06-21 19:24:13,296] Trial 152 finished with value: 0.24576719576719577 and parameters: {'estimator': 'oas', 'C': 237.5114537963409, 'kernel': 'rbf', 'gamma': 'auto', 'class_weight': 'balanced', 'degree': 4}. Best is trial 23 with value: 0.2552910052910053.\n"
     ]
    },
    {
     "name": "stdout",
     "output_type": "stream",
     "text": [
      "[0.19444444 0.37142857        nan        nan 0.17142857]\n"
     ]
    },
    {
     "name": "stderr",
     "output_type": "stream",
     "text": [
      "[I 2025-06-21 19:24:13,614] Trial 153 finished with value: 0.24576719576719577 and parameters: {'estimator': 'oas', 'C': 250.83492089116666, 'kernel': 'rbf', 'gamma': 'auto', 'class_weight': 'balanced', 'degree': 4}. Best is trial 23 with value: 0.2552910052910053.\n"
     ]
    },
    {
     "name": "stdout",
     "output_type": "stream",
     "text": [
      "[0.19444444 0.37142857        nan        nan 0.17142857]\n"
     ]
    },
    {
     "name": "stderr",
     "output_type": "stream",
     "text": [
      "[I 2025-06-21 19:24:14,084] Trial 154 finished with value: 0.24576719576719577 and parameters: {'estimator': 'oas', 'C': 244.71121290739757, 'kernel': 'rbf', 'gamma': 'auto', 'class_weight': 'balanced', 'degree': 4}. Best is trial 23 with value: 0.2552910052910053.\n"
     ]
    },
    {
     "name": "stdout",
     "output_type": "stream",
     "text": [
      "[0.19444444 0.37142857        nan        nan 0.17142857]\n"
     ]
    },
    {
     "name": "stderr",
     "output_type": "stream",
     "text": [
      "[I 2025-06-21 19:24:14,375] Trial 155 finished with value: 0.24576719576719577 and parameters: {'estimator': 'oas', 'C': 231.17404267474672, 'kernel': 'rbf', 'gamma': 'auto', 'class_weight': 'balanced', 'degree': 4}. Best is trial 23 with value: 0.2552910052910053.\n"
     ]
    },
    {
     "name": "stdout",
     "output_type": "stream",
     "text": [
      "[0.19444444 0.37142857        nan        nan 0.17142857]\n"
     ]
    },
    {
     "name": "stderr",
     "output_type": "stream",
     "text": [
      "[I 2025-06-21 19:24:14,952] Trial 156 finished with value: 0.24576719576719577 and parameters: {'estimator': 'oas', 'C': 710.4343243050125, 'kernel': 'rbf', 'gamma': 'auto', 'class_weight': 'balanced', 'degree': 4}. Best is trial 23 with value: 0.2552910052910053.\n"
     ]
    },
    {
     "name": "stdout",
     "output_type": "stream",
     "text": [
      "[0.19444444 0.37142857        nan        nan 0.17142857]\n"
     ]
    },
    {
     "name": "stderr",
     "output_type": "stream",
     "text": [
      "[I 2025-06-21 19:24:15,594] Trial 157 finished with value: 0.24576719576719577 and parameters: {'estimator': 'oas', 'C': 605.2169824355565, 'kernel': 'rbf', 'gamma': 'auto', 'class_weight': None, 'degree': 4}. Best is trial 23 with value: 0.2552910052910053.\n"
     ]
    },
    {
     "name": "stdout",
     "output_type": "stream",
     "text": [
      "[0.19444444 0.37142857        nan        nan 0.17142857]\n"
     ]
    },
    {
     "name": "stderr",
     "output_type": "stream",
     "text": [
      "[I 2025-06-21 19:24:15,887] Trial 158 finished with value: 0.24576719576719577 and parameters: {'estimator': 'oas', 'C': 266.9387329500573, 'kernel': 'rbf', 'gamma': 'auto', 'class_weight': None, 'degree': 4}. Best is trial 23 with value: 0.2552910052910053.\n"
     ]
    },
    {
     "name": "stdout",
     "output_type": "stream",
     "text": [
      "[0.19444444 0.37142857        nan        nan 0.17142857]\n"
     ]
    },
    {
     "name": "stderr",
     "output_type": "stream",
     "text": [
      "[I 2025-06-21 19:24:16,492] Trial 159 finished with value: 0.24576719576719577 and parameters: {'estimator': 'oas', 'C': 673.7995355793308, 'kernel': 'rbf', 'gamma': 'auto', 'class_weight': None, 'degree': 4}. Best is trial 23 with value: 0.2552910052910053.\n"
     ]
    },
    {
     "name": "stdout",
     "output_type": "stream",
     "text": [
      "[0.19444444 0.37142857        nan        nan 0.17142857]\n"
     ]
    },
    {
     "name": "stderr",
     "output_type": "stream",
     "text": [
      "[I 2025-06-21 19:24:16,841] Trial 160 finished with value: 0.24576719576719577 and parameters: {'estimator': 'oas', 'C': 234.41971846776354, 'kernel': 'rbf', 'gamma': 'auto', 'class_weight': 'balanced', 'degree': 4}. Best is trial 23 with value: 0.2552910052910053.\n"
     ]
    },
    {
     "name": "stdout",
     "output_type": "stream",
     "text": [
      "[0.19444444 0.37142857        nan        nan 0.17142857]\n"
     ]
    },
    {
     "name": "stderr",
     "output_type": "stream",
     "text": [
      "[I 2025-06-21 19:24:17,369] Trial 161 finished with value: 0.24576719576719577 and parameters: {'estimator': 'oas', 'C': 631.9182036496464, 'kernel': 'rbf', 'gamma': 'auto', 'class_weight': 'balanced', 'degree': 5}. Best is trial 23 with value: 0.2552910052910053.\n"
     ]
    },
    {
     "name": "stdout",
     "output_type": "stream",
     "text": [
      "[0.19444444 0.37142857        nan        nan 0.17142857]\n"
     ]
    },
    {
     "name": "stderr",
     "output_type": "stream",
     "text": [
      "[I 2025-06-21 19:24:17,733] Trial 162 finished with value: 0.24576719576719577 and parameters: {'estimator': 'oas', 'C': 257.30650601784515, 'kernel': 'rbf', 'gamma': 'auto', 'class_weight': None, 'degree': 5}. Best is trial 23 with value: 0.2552910052910053.\n"
     ]
    },
    {
     "name": "stdout",
     "output_type": "stream",
     "text": [
      "[0.19444444 0.37142857        nan        nan 0.17142857]\n"
     ]
    },
    {
     "name": "stderr",
     "output_type": "stream",
     "text": [
      "[I 2025-06-21 19:24:18,483] Trial 163 finished with value: 0.24576719576719577 and parameters: {'estimator': 'oas', 'C': 236.92846291848994, 'kernel': 'rbf', 'gamma': 'auto', 'class_weight': None, 'degree': 5}. Best is trial 23 with value: 0.2552910052910053.\n"
     ]
    },
    {
     "name": "stdout",
     "output_type": "stream",
     "text": [
      "[0.19444444 0.37142857        nan        nan 0.17142857]\n"
     ]
    },
    {
     "name": "stderr",
     "output_type": "stream",
     "text": [
      "[I 2025-06-21 19:24:18,781] Trial 164 finished with value: 0.24576719576719577 and parameters: {'estimator': 'oas', 'C': 237.34502373216392, 'kernel': 'rbf', 'gamma': 'auto', 'class_weight': None, 'degree': 4}. Best is trial 23 with value: 0.2552910052910053.\n"
     ]
    },
    {
     "name": "stdout",
     "output_type": "stream",
     "text": [
      "[0.19444444 0.37142857        nan        nan 0.17142857]\n"
     ]
    },
    {
     "name": "stderr",
     "output_type": "stream",
     "text": [
      "[I 2025-06-21 19:24:19,259] Trial 165 finished with value: 0.24576719576719577 and parameters: {'estimator': 'oas', 'C': 233.93902454767687, 'kernel': 'rbf', 'gamma': 'auto', 'class_weight': None, 'degree': 5}. Best is trial 23 with value: 0.2552910052910053.\n"
     ]
    },
    {
     "name": "stdout",
     "output_type": "stream",
     "text": [
      "[0.19444444 0.37142857        nan        nan 0.17142857]\n"
     ]
    },
    {
     "name": "stderr",
     "output_type": "stream",
     "text": [
      "[I 2025-06-21 19:24:19,495] Trial 166 finished with value: 0.24576719576719577 and parameters: {'estimator': 'oas', 'C': 238.25322907897686, 'kernel': 'rbf', 'gamma': 'auto', 'class_weight': None, 'degree': 5}. Best is trial 23 with value: 0.2552910052910053.\n"
     ]
    },
    {
     "name": "stdout",
     "output_type": "stream",
     "text": [
      "[0.19444444 0.37142857        nan        nan 0.17142857]\n"
     ]
    },
    {
     "name": "stderr",
     "output_type": "stream",
     "text": [
      "[I 2025-06-21 19:24:19,784] Trial 167 finished with value: 0.24576719576719577 and parameters: {'estimator': 'oas', 'C': 691.437172435643, 'kernel': 'rbf', 'gamma': 'auto', 'class_weight': None, 'degree': 5}. Best is trial 23 with value: 0.2552910052910053.\n"
     ]
    },
    {
     "name": "stdout",
     "output_type": "stream",
     "text": [
      "[0.19444444 0.37142857        nan        nan 0.17142857]\n"
     ]
    },
    {
     "name": "stderr",
     "output_type": "stream",
     "text": [
      "[I 2025-06-21 19:24:20,408] Trial 168 finished with value: 0.24576719576719577 and parameters: {'estimator': 'oas', 'C': 219.55903531796633, 'kernel': 'rbf', 'gamma': 'auto', 'class_weight': None, 'degree': 5}. Best is trial 23 with value: 0.2552910052910053.\n"
     ]
    },
    {
     "name": "stdout",
     "output_type": "stream",
     "text": [
      "[0.19444444 0.37142857        nan        nan 0.17142857]\n"
     ]
    },
    {
     "name": "stderr",
     "output_type": "stream",
     "text": [
      "[I 2025-06-21 19:24:21,010] Trial 169 finished with value: 0.24576719576719577 and parameters: {'estimator': 'oas', 'C': 254.0459562338834, 'kernel': 'rbf', 'gamma': 'auto', 'class_weight': None, 'degree': 5}. Best is trial 23 with value: 0.2552910052910053.\n"
     ]
    },
    {
     "name": "stdout",
     "output_type": "stream",
     "text": [
      "[0.19444444 0.37142857        nan        nan 0.17142857]\n"
     ]
    },
    {
     "name": "stderr",
     "output_type": "stream",
     "text": [
      "[I 2025-06-21 19:24:21,596] Trial 170 finished with value: 0.24576719576719577 and parameters: {'estimator': 'oas', 'C': 237.90345751028562, 'kernel': 'rbf', 'gamma': 'auto', 'class_weight': None, 'degree': 5}. Best is trial 23 with value: 0.2552910052910053.\n"
     ]
    },
    {
     "name": "stdout",
     "output_type": "stream",
     "text": [
      "[0.19444444 0.37142857        nan        nan 0.17142857]\n"
     ]
    },
    {
     "name": "stderr",
     "output_type": "stream",
     "text": [
      "[I 2025-06-21 19:24:21,912] Trial 171 finished with value: 0.24576719576719577 and parameters: {'estimator': 'oas', 'C': 63.498261949093894, 'kernel': 'rbf', 'gamma': 'auto', 'class_weight': None, 'degree': 5}. Best is trial 23 with value: 0.2552910052910053.\n",
      "[I 2025-06-21 19:24:21,982] Trial 172 finished with value: 0.24576719576719577 and parameters: {'estimator': 'oas', 'C': 69.51644935812425, 'kernel': 'rbf', 'gamma': 'auto', 'class_weight': None, 'degree': 5}. Best is trial 23 with value: 0.2552910052910053.\n"
     ]
    },
    {
     "name": "stdout",
     "output_type": "stream",
     "text": [
      "[0.19444444 0.37142857        nan        nan 0.17142857]\n",
      "[0.19444444 0.37142857        nan        nan 0.17142857]\n"
     ]
    },
    {
     "name": "stderr",
     "output_type": "stream",
     "text": [
      "[I 2025-06-21 19:24:22,797] Trial 173 finished with value: 0.24576719576719577 and parameters: {'estimator': 'oas', 'C': 64.06906718099516, 'kernel': 'rbf', 'gamma': 'auto', 'class_weight': None, 'degree': 5}. Best is trial 23 with value: 0.2552910052910053.\n"
     ]
    },
    {
     "name": "stdout",
     "output_type": "stream",
     "text": [
      "[0.19444444 0.37142857        nan        nan 0.17142857]\n"
     ]
    },
    {
     "name": "stderr",
     "output_type": "stream",
     "text": [
      "[I 2025-06-21 19:24:23,165] Trial 174 finished with value: 0.24576719576719577 and parameters: {'estimator': 'oas', 'C': 63.90488385098547, 'kernel': 'rbf', 'gamma': 'auto', 'class_weight': None, 'degree': 5}. Best is trial 23 with value: 0.2552910052910053.\n"
     ]
    },
    {
     "name": "stdout",
     "output_type": "stream",
     "text": [
      "[0.19444444 0.37142857        nan        nan 0.17142857]\n"
     ]
    },
    {
     "name": "stderr",
     "output_type": "stream",
     "text": [
      "[I 2025-06-21 19:24:23,452] Trial 175 finished with value: 0.24576719576719577 and parameters: {'estimator': 'oas', 'C': 70.88304389243403, 'kernel': 'rbf', 'gamma': 'auto', 'class_weight': None, 'degree': 5}. Best is trial 23 with value: 0.2552910052910053.\n"
     ]
    },
    {
     "name": "stdout",
     "output_type": "stream",
     "text": [
      "[0.19444444 0.37142857        nan        nan 0.17142857]\n"
     ]
    },
    {
     "name": "stderr",
     "output_type": "stream",
     "text": [
      "[I 2025-06-21 19:24:23,882] Trial 176 finished with value: 0.24576719576719577 and parameters: {'estimator': 'oas', 'C': 73.54909090760309, 'kernel': 'rbf', 'gamma': 'auto', 'class_weight': None, 'degree': 5}. Best is trial 23 with value: 0.2552910052910053.\n"
     ]
    },
    {
     "name": "stdout",
     "output_type": "stream",
     "text": [
      "[0.19444444 0.37142857        nan        nan 0.17142857]\n"
     ]
    },
    {
     "name": "stderr",
     "output_type": "stream",
     "text": [
      "[I 2025-06-21 19:24:24,269] Trial 177 finished with value: 0.24576719576719577 and parameters: {'estimator': 'oas', 'C': 70.27527756751867, 'kernel': 'rbf', 'gamma': 'auto', 'class_weight': None, 'degree': 5}. Best is trial 23 with value: 0.2552910052910053.\n"
     ]
    },
    {
     "name": "stdout",
     "output_type": "stream",
     "text": [
      "[0.19444444 0.37142857        nan        nan 0.17142857]\n"
     ]
    },
    {
     "name": "stderr",
     "output_type": "stream",
     "text": [
      "[I 2025-06-21 19:24:24,774] Trial 178 finished with value: 0.24576719576719577 and parameters: {'estimator': 'oas', 'C': 68.67194587884299, 'kernel': 'rbf', 'gamma': 'auto', 'class_weight': None, 'degree': 5}. Best is trial 23 with value: 0.2552910052910053.\n"
     ]
    },
    {
     "name": "stdout",
     "output_type": "stream",
     "text": [
      "[0.19444444 0.37142857        nan        nan 0.17142857]\n"
     ]
    },
    {
     "name": "stderr",
     "output_type": "stream",
     "text": [
      "[I 2025-06-21 19:24:25,220] Trial 179 finished with value: 0.24576719576719577 and parameters: {'estimator': 'oas', 'C': 64.66158966270781, 'kernel': 'rbf', 'gamma': 'auto', 'class_weight': None, 'degree': 5}. Best is trial 23 with value: 0.2552910052910053.\n"
     ]
    },
    {
     "name": "stdout",
     "output_type": "stream",
     "text": [
      "[0.19444444 0.37142857        nan        nan 0.17142857]\n"
     ]
    },
    {
     "name": "stderr",
     "output_type": "stream",
     "text": [
      "[I 2025-06-21 19:24:25,478] Trial 180 finished with value: 0.24576719576719577 and parameters: {'estimator': 'oas', 'C': 64.13324457386604, 'kernel': 'rbf', 'gamma': 'auto', 'class_weight': None, 'degree': 5}. Best is trial 23 with value: 0.2552910052910053.\n"
     ]
    },
    {
     "name": "stdout",
     "output_type": "stream",
     "text": [
      "[0.19444444 0.37142857        nan        nan 0.17142857]\n"
     ]
    },
    {
     "name": "stderr",
     "output_type": "stream",
     "text": [
      "[I 2025-06-21 19:24:26,137] Trial 181 finished with value: 0.24576719576719577 and parameters: {'estimator': 'oas', 'C': 3.820013296794624, 'kernel': 'rbf', 'gamma': 'auto', 'class_weight': None, 'degree': 5}. Best is trial 23 with value: 0.2552910052910053.\n"
     ]
    },
    {
     "name": "stdout",
     "output_type": "stream",
     "text": [
      "[0.19444444 0.37142857        nan        nan 0.17142857]\n"
     ]
    },
    {
     "name": "stderr",
     "output_type": "stream",
     "text": [
      "[I 2025-06-21 19:24:26,549] Trial 182 finished with value: 0.24576719576719577 and parameters: {'estimator': 'oas', 'C': 68.38706746216111, 'kernel': 'rbf', 'gamma': 'auto', 'class_weight': None, 'degree': 5}. Best is trial 23 with value: 0.2552910052910053.\n"
     ]
    },
    {
     "name": "stdout",
     "output_type": "stream",
     "text": [
      "[0.19444444 0.37142857        nan        nan 0.17142857]\n"
     ]
    },
    {
     "name": "stderr",
     "output_type": "stream",
     "text": [
      "[I 2025-06-21 19:24:26,822] Trial 183 finished with value: 0.24576719576719577 and parameters: {'estimator': 'oas', 'C': 500.953873680483, 'kernel': 'rbf', 'gamma': 'auto', 'class_weight': None, 'degree': 5}. Best is trial 23 with value: 0.2552910052910053.\n"
     ]
    },
    {
     "name": "stdout",
     "output_type": "stream",
     "text": [
      "[0.19444444 0.37142857        nan        nan 0.17142857]\n"
     ]
    },
    {
     "name": "stderr",
     "output_type": "stream",
     "text": [
      "[I 2025-06-21 19:24:27,445] Trial 184 finished with value: 0.24576719576719577 and parameters: {'estimator': 'oas', 'C': 71.25405543911133, 'kernel': 'rbf', 'gamma': 'auto', 'class_weight': None, 'degree': 5}. Best is trial 23 with value: 0.2552910052910053.\n",
      "[I 2025-06-21 19:24:27,627] Trial 185 finished with value: 0.24576719576719577 and parameters: {'estimator': 'oas', 'C': 68.1822991499228, 'kernel': 'rbf', 'gamma': 'auto', 'class_weight': 'balanced', 'degree': 4}. Best is trial 23 with value: 0.2552910052910053.\n"
     ]
    },
    {
     "name": "stdout",
     "output_type": "stream",
     "text": [
      "[0.19444444 0.37142857        nan        nan 0.17142857]\n",
      "[0.19444444 0.37142857        nan        nan 0.17142857]\n"
     ]
    },
    {
     "name": "stderr",
     "output_type": "stream",
     "text": [
      "[I 2025-06-21 19:24:28,495] Trial 186 finished with value: 0.24576719576719577 and parameters: {'estimator': 'oas', 'C': 4.539517346980234, 'kernel': 'rbf', 'gamma': 'auto', 'class_weight': 'balanced', 'degree': 4}. Best is trial 23 with value: 0.2552910052910053.\n"
     ]
    },
    {
     "name": "stdout",
     "output_type": "stream",
     "text": [
      "[0.19444444 0.37142857        nan        nan 0.17142857]\n"
     ]
    },
    {
     "name": "stderr",
     "output_type": "stream",
     "text": [
      "[I 2025-06-21 19:24:28,902] Trial 187 finished with value: 0.24576719576719577 and parameters: {'estimator': 'oas', 'C': 482.71090817690765, 'kernel': 'rbf', 'gamma': 'auto', 'class_weight': 'balanced', 'degree': 4}. Best is trial 23 with value: 0.2552910052910053.\n"
     ]
    },
    {
     "name": "stdout",
     "output_type": "stream",
     "text": [
      "[0.19444444 0.37142857        nan        nan 0.17142857]\n"
     ]
    },
    {
     "name": "stderr",
     "output_type": "stream",
     "text": [
      "[I 2025-06-21 19:24:29,263] Trial 188 finished with value: 0.24576719576719577 and parameters: {'estimator': 'oas', 'C': 76.93222735832288, 'kernel': 'rbf', 'gamma': 'auto', 'class_weight': 'balanced', 'degree': 4}. Best is trial 23 with value: 0.2552910052910053.\n"
     ]
    },
    {
     "name": "stdout",
     "output_type": "stream",
     "text": [
      "[0.19444444 0.37142857        nan        nan 0.17142857]\n"
     ]
    },
    {
     "name": "stderr",
     "output_type": "stream",
     "text": [
      "[I 2025-06-21 19:24:29,570] Trial 189 finished with value: 0.24576719576719577 and parameters: {'estimator': 'oas', 'C': 65.06434502759987, 'kernel': 'rbf', 'gamma': 'auto', 'class_weight': 'balanced', 'degree': 4}. Best is trial 23 with value: 0.2552910052910053.\n"
     ]
    },
    {
     "name": "stdout",
     "output_type": "stream",
     "text": [
      "[0.19444444 0.37142857        nan        nan 0.17142857]\n"
     ]
    },
    {
     "name": "stderr",
     "output_type": "stream",
     "text": [
      "[I 2025-06-21 19:24:30,274] Trial 190 finished with value: 0.24576719576719577 and parameters: {'estimator': 'oas', 'C': 65.89777335954953, 'kernel': 'rbf', 'gamma': 'auto', 'class_weight': 'balanced', 'degree': 4}. Best is trial 23 with value: 0.2552910052910053.\n"
     ]
    },
    {
     "name": "stdout",
     "output_type": "stream",
     "text": [
      "[0.19444444 0.37142857        nan        nan 0.17142857]\n"
     ]
    },
    {
     "name": "stderr",
     "output_type": "stream",
     "text": [
      "[I 2025-06-21 19:24:30,539] Trial 191 finished with value: 0.24576719576719577 and parameters: {'estimator': 'oas', 'C': 499.85050115141377, 'kernel': 'rbf', 'gamma': 'auto', 'class_weight': 'balanced', 'degree': 4}. Best is trial 23 with value: 0.2552910052910053.\n"
     ]
    },
    {
     "name": "stdout",
     "output_type": "stream",
     "text": [
      "[0.19444444 0.37142857        nan        nan 0.17142857]\n"
     ]
    },
    {
     "name": "stderr",
     "output_type": "stream",
     "text": [
      "[I 2025-06-21 19:24:30,898] Trial 192 finished with value: 0.24576719576719577 and parameters: {'estimator': 'oas', 'C': 522.126141566764, 'kernel': 'rbf', 'gamma': 'auto', 'class_weight': 'balanced', 'degree': 4}. Best is trial 23 with value: 0.2552910052910053.\n"
     ]
    },
    {
     "name": "stdout",
     "output_type": "stream",
     "text": [
      "[0.19444444 0.37142857        nan        nan 0.17142857]\n"
     ]
    },
    {
     "name": "stderr",
     "output_type": "stream",
     "text": [
      "[I 2025-06-21 19:24:31,391] Trial 193 finished with value: 0.24576719576719577 and parameters: {'estimator': 'oas', 'C': 520.1073070956058, 'kernel': 'rbf', 'gamma': 'auto', 'class_weight': 'balanced', 'degree': 4}. Best is trial 23 with value: 0.2552910052910053.\n"
     ]
    },
    {
     "name": "stdout",
     "output_type": "stream",
     "text": [
      "[0.19444444 0.37142857        nan        nan 0.17142857]\n"
     ]
    },
    {
     "name": "stderr",
     "output_type": "stream",
     "text": [
      "[I 2025-06-21 19:24:31,815] Trial 194 finished with value: 0.24576719576719577 and parameters: {'estimator': 'oas', 'C': 3.3002033606845007, 'kernel': 'rbf', 'gamma': 'auto', 'class_weight': 'balanced', 'degree': 4}. Best is trial 23 with value: 0.2552910052910053.\n"
     ]
    },
    {
     "name": "stdout",
     "output_type": "stream",
     "text": [
      "[0.19444444 0.37142857        nan        nan 0.17142857]\n"
     ]
    },
    {
     "name": "stderr",
     "output_type": "stream",
     "text": [
      "[I 2025-06-21 19:24:32,289] Trial 195 finished with value: 0.24576719576719577 and parameters: {'estimator': 'oas', 'C': 504.86715714885736, 'kernel': 'rbf', 'gamma': 'auto', 'class_weight': 'balanced', 'degree': 4}. Best is trial 23 with value: 0.2552910052910053.\n"
     ]
    },
    {
     "name": "stdout",
     "output_type": "stream",
     "text": [
      "[0.19444444 0.37142857        nan        nan 0.17142857]\n"
     ]
    },
    {
     "name": "stderr",
     "output_type": "stream",
     "text": [
      "[I 2025-06-21 19:24:32,672] Trial 196 finished with value: 0.2552910052910053 and parameters: {'estimator': 'lwf', 'C': 496.22463568824736, 'kernel': 'rbf', 'gamma': 'auto', 'class_weight': 'balanced', 'degree': 4}. Best is trial 23 with value: 0.2552910052910053.\n"
     ]
    },
    {
     "name": "stdout",
     "output_type": "stream",
     "text": [
      "[0.19444444 0.37142857        nan        nan 0.2       ]\n"
     ]
    },
    {
     "name": "stderr",
     "output_type": "stream",
     "text": [
      "[I 2025-06-21 19:24:33,527] Trial 197 finished with value: 0.2552910052910053 and parameters: {'estimator': 'lwf', 'C': 133.35362579366054, 'kernel': 'rbf', 'gamma': 'auto', 'class_weight': 'balanced', 'degree': 4}. Best is trial 23 with value: 0.2552910052910053.\n"
     ]
    },
    {
     "name": "stdout",
     "output_type": "stream",
     "text": [
      "[0.19444444 0.37142857        nan        nan 0.2       ]\n"
     ]
    },
    {
     "name": "stderr",
     "output_type": "stream",
     "text": [
      "[I 2025-06-21 19:24:33,739] Trial 198 finished with value: 0.2552910052910053 and parameters: {'estimator': 'lwf', 'C': 510.9133893219962, 'kernel': 'rbf', 'gamma': 'auto', 'class_weight': 'balanced', 'degree': 4}. Best is trial 23 with value: 0.2552910052910053.\n"
     ]
    },
    {
     "name": "stdout",
     "output_type": "stream",
     "text": [
      "[0.19444444 0.37142857        nan        nan 0.2       ]\n"
     ]
    },
    {
     "name": "stderr",
     "output_type": "stream",
     "text": [
      "[I 2025-06-21 19:24:34,463] Trial 199 finished with value: 0.2552910052910053 and parameters: {'estimator': 'lwf', 'C': 503.48425057151456, 'kernel': 'rbf', 'gamma': 'auto', 'class_weight': 'balanced', 'degree': 4}. Best is trial 23 with value: 0.2552910052910053.\n"
     ]
    },
    {
     "name": "stdout",
     "output_type": "stream",
     "text": [
      "[0.19444444 0.37142857        nan        nan 0.2       ]\n",
      "Best accuracy: 0.255\n",
      "Best parameters:\n",
      "estimator                : lwf\n",
      "C                        : 3.1150599944977393\n",
      "kernel                   : rbf\n",
      "gamma                    : auto\n",
      "class_weight             : None\n",
      "degree                   : 5\n"
     ]
    },
    {
     "ename": "ValueError",
     "evalue": "Invalid parameter 'estimator' for estimator Pipeline(steps=[('xdawncovariances', XdawnCovariances(estimator='lwf')),\n                ('tangentspace', TangentSpace()),\n                ('standardscaler', StandardScaler()),\n                ('svc',\n                 SVC(C=503.48425057151456, class_weight='balanced', degree=4,\n                     gamma='auto'))]). Valid parameters are: ['memory', 'steps', 'transform_input', 'verbose'].",
     "output_type": "error",
     "traceback": [
      "\u001b[31m---------------------------------------------------------------------------\u001b[39m",
      "\u001b[31mValueError\u001b[39m                                Traceback (most recent call last)",
      "\u001b[36mCell\u001b[39m\u001b[36m \u001b[39m\u001b[32mIn[11]\u001b[39m\u001b[32m, line 88\u001b[39m\n\u001b[32m     85\u001b[39m     \u001b[38;5;28mprint\u001b[39m(\u001b[33mf\u001b[39m\u001b[33m\"\u001b[39m\u001b[38;5;132;01m{\u001b[39;00mk\u001b[38;5;132;01m:\u001b[39;00m\u001b[33m25s\u001b[39m\u001b[38;5;132;01m}\u001b[39;00m\u001b[33m: \u001b[39m\u001b[38;5;132;01m{\u001b[39;00mv\u001b[38;5;132;01m}\u001b[39;00m\u001b[33m\"\u001b[39m)\n\u001b[32m     87\u001b[39m \u001b[38;5;66;03m# 7. Train final model with best parameters\u001b[39;00m\n\u001b[32m---> \u001b[39m\u001b[32m88\u001b[39m \u001b[43mpipeline\u001b[49m\u001b[43m.\u001b[49m\u001b[43mset_params\u001b[49m\u001b[43m(\u001b[49m\u001b[43m*\u001b[49m\u001b[43m*\u001b[49m\u001b[43mstudy\u001b[49m\u001b[43m.\u001b[49m\u001b[43mbest_params\u001b[49m\u001b[43m)\u001b[49m\n\u001b[32m     89\u001b[39m pipeline.fit(X_train, y_train)\n\u001b[32m     91\u001b[39m \u001b[38;5;66;03m# Evaluate on test set\u001b[39;00m\n",
      "\u001b[36mFile \u001b[39m\u001b[32m~/miniconda/lib/python3.12/site-packages/sklearn/pipeline.py:320\u001b[39m, in \u001b[36mPipeline.set_params\u001b[39m\u001b[34m(self, **kwargs)\u001b[39m\n\u001b[32m    301\u001b[39m \u001b[38;5;28;01mdef\u001b[39;00m \u001b[34mset_params\u001b[39m(\u001b[38;5;28mself\u001b[39m, **kwargs):\n\u001b[32m    302\u001b[39m \u001b[38;5;250m    \u001b[39m\u001b[33;03m\"\"\"Set the parameters of this estimator.\u001b[39;00m\n\u001b[32m    303\u001b[39m \n\u001b[32m    304\u001b[39m \u001b[33;03m    Valid parameter keys can be listed with ``get_params()``. Note that\u001b[39;00m\n\u001b[32m   (...)\u001b[39m\u001b[32m    318\u001b[39m \u001b[33;03m        Pipeline class instance.\u001b[39;00m\n\u001b[32m    319\u001b[39m \u001b[33;03m    \"\"\"\u001b[39;00m\n\u001b[32m--> \u001b[39m\u001b[32m320\u001b[39m     \u001b[38;5;28;43mself\u001b[39;49m\u001b[43m.\u001b[49m\u001b[43m_set_params\u001b[49m\u001b[43m(\u001b[49m\u001b[33;43m\"\u001b[39;49m\u001b[33;43msteps\u001b[39;49m\u001b[33;43m\"\u001b[39;49m\u001b[43m,\u001b[49m\u001b[43m \u001b[49m\u001b[43m*\u001b[49m\u001b[43m*\u001b[49m\u001b[43mkwargs\u001b[49m\u001b[43m)\u001b[49m\n\u001b[32m    321\u001b[39m     \u001b[38;5;28;01mreturn\u001b[39;00m \u001b[38;5;28mself\u001b[39m\n",
      "\u001b[36mFile \u001b[39m\u001b[32m~/miniconda/lib/python3.12/site-packages/sklearn/utils/metaestimators.py:69\u001b[39m, in \u001b[36m_BaseComposition._set_params\u001b[39m\u001b[34m(self, attr, **params)\u001b[39m\n\u001b[32m     66\u001b[39m                 \u001b[38;5;28mself\u001b[39m._replace_estimator(attr, name, params.pop(name))\n\u001b[32m     68\u001b[39m \u001b[38;5;66;03m# 3. Step parameters and other initialisation arguments\u001b[39;00m\n\u001b[32m---> \u001b[39m\u001b[32m69\u001b[39m \u001b[38;5;28;43msuper\u001b[39;49m\u001b[43m(\u001b[49m\u001b[43m)\u001b[49m\u001b[43m.\u001b[49m\u001b[43mset_params\u001b[49m\u001b[43m(\u001b[49m\u001b[43m*\u001b[49m\u001b[43m*\u001b[49m\u001b[43mparams\u001b[49m\u001b[43m)\u001b[49m\n\u001b[32m     70\u001b[39m \u001b[38;5;28;01mreturn\u001b[39;00m \u001b[38;5;28mself\u001b[39m\n",
      "\u001b[36mFile \u001b[39m\u001b[32m~/miniconda/lib/python3.12/site-packages/sklearn/base.py:283\u001b[39m, in \u001b[36mBaseEstimator.set_params\u001b[39m\u001b[34m(self, **params)\u001b[39m\n\u001b[32m    281\u001b[39m \u001b[38;5;28;01mif\u001b[39;00m key \u001b[38;5;129;01mnot\u001b[39;00m \u001b[38;5;129;01min\u001b[39;00m valid_params:\n\u001b[32m    282\u001b[39m     local_valid_params = \u001b[38;5;28mself\u001b[39m._get_param_names()\n\u001b[32m--> \u001b[39m\u001b[32m283\u001b[39m     \u001b[38;5;28;01mraise\u001b[39;00m \u001b[38;5;167;01mValueError\u001b[39;00m(\n\u001b[32m    284\u001b[39m         \u001b[33mf\u001b[39m\u001b[33m\"\u001b[39m\u001b[33mInvalid parameter \u001b[39m\u001b[38;5;132;01m{\u001b[39;00mkey\u001b[38;5;132;01m!r}\u001b[39;00m\u001b[33m for estimator \u001b[39m\u001b[38;5;132;01m{\u001b[39;00m\u001b[38;5;28mself\u001b[39m\u001b[38;5;132;01m}\u001b[39;00m\u001b[33m. \u001b[39m\u001b[33m\"\u001b[39m\n\u001b[32m    285\u001b[39m         \u001b[33mf\u001b[39m\u001b[33m\"\u001b[39m\u001b[33mValid parameters are: \u001b[39m\u001b[38;5;132;01m{\u001b[39;00mlocal_valid_params\u001b[38;5;132;01m!r}\u001b[39;00m\u001b[33m.\u001b[39m\u001b[33m\"\u001b[39m\n\u001b[32m    286\u001b[39m     )\n\u001b[32m    288\u001b[39m \u001b[38;5;28;01mif\u001b[39;00m delim:\n\u001b[32m    289\u001b[39m     nested_params[key][sub_key] = value\n",
      "\u001b[31mValueError\u001b[39m: Invalid parameter 'estimator' for estimator Pipeline(steps=[('xdawncovariances', XdawnCovariances(estimator='lwf')),\n                ('tangentspace', TangentSpace()),\n                ('standardscaler', StandardScaler()),\n                ('svc',\n                 SVC(C=503.48425057151456, class_weight='balanced', degree=4,\n                     gamma='auto'))]). Valid parameters are: ['memory', 'steps', 'transform_input', 'verbose']."
     ]
    }
   ],
   "source": [
    "import optuna\n",
    "from optuna.samplers import TPESampler\n",
    "from optuna.pruners import HyperbandPruner\n",
    "from sklearn.model_selection import cross_val_score\n",
    "from functools import partial\n",
    "import numpy as np\n",
    "import math\n",
    "from sklearn.pipeline import make_pipeline\n",
    "from sklearn.preprocessing import StandardScaler\n",
    "from sklearn.svm import SVC\n",
    "from pyriemann.estimation import XdawnCovariances\n",
    "from pyriemann.tangentspace import TangentSpace\n",
    "from sklearn.model_selection import train_test_split\n",
    "import warnings\n",
    "from sklearn.model_selection import StratifiedKFold\n",
    "\n",
    "warnings.filterwarnings('ignore')\n",
    "\n",
    "subjects_cluster1 = [11, 4, 8, 15]\n",
    "trial_cluster1 = [2, 2, 1, 2]\n",
    "subjects_cluster2 = [15, 4, 3, 10, 1, 8, 6, 1, 6]\n",
    "trial_cluster2 = [1, 1, 2, 2, 2, 2, 2, 1, 1]\n",
    "subjects_cluster3 = [7, 7, 9, 9, 14]\n",
    "trial_cluster3 = [2, 1, 2, 1, 1]\n",
    "subjects_cluster4 = [5, 5, 3, 2, 2, 10, 12, 12, 16, 16, 11, 13, 13]\n",
    "trial_cluster4 = [2, 1, 1, 2, 1, 1, 2, 1, 2, 1, 1, 2, 1]\n",
    "\n",
    "X, img, y = get_sample_choosen_trial(subjects_cluster4 + subjects_cluster3, trial_cluster4 + trial_cluster3)\n",
    "\n",
    "# 1. Define objective function for SVC pipeline\n",
    "def objective(trial, X_train, y_train, pipeline):\n",
    "    params = {\n",
    "        'xdawncovariances__estimator': trial.suggest_categorical('estimator', ['scm', 'lwf', 'oas']),\n",
    "        \n",
    "        # SVC parameters\n",
    "        'svc__C': trial.suggest_float('C', 1e-3, 1e3, log=True),\n",
    "        'svc__kernel': trial.suggest_categorical('kernel', ['linear', 'rbf', 'poly']),\n",
    "        'svc__gamma': trial.suggest_categorical('gamma', ['scale', 'auto']),\n",
    "        'svc__class_weight': trial.suggest_categorical('class_weight', [None, 'balanced']),\n",
    "        'svc__degree': trial.suggest_int('degree', 2, 5)  # Only used for poly kernel\n",
    "    }\n",
    "    \n",
    "    # Set parameters and handle potential conflicts\n",
    "    try:\n",
    "        pipeline.set_params(**params)\n",
    "        scores = cross_val_score(pipeline, X_train, y_train, \n",
    "                               cv=StratifiedKFold(n_splits=5), n_jobs=-1, scoring='accuracy')\n",
    "        print(scores)\n",
    "        scores = [x for x in scores if x is not None and not math.isnan(x)]\n",
    "        return np.mean(scores)\n",
    "    except Exception as e:\n",
    "        print(f\"Trial failed with params {params}: {str(e)}\")\n",
    "        return -np.inf\n",
    "\n",
    "# 2. Configure and run study\n",
    "    \n",
    "\n",
    "# 3. Data preparation (replace with your actual data loading)\n",
    "# Assuming X and y are already loaded\n",
    "X_train, X_test, y_train, y_test = train_test_split(\n",
    "    X, y, test_size=0.4, stratify=y, random_state=42\n",
    ")\n",
    "\n",
    "# 4. Create the pipeline with SVC\n",
    "pipeline = make_pipeline(\n",
    "    XdawnCovariances(nfilter=4),\n",
    "    TangentSpace(),\n",
    "    StandardScaler(),\n",
    "    SVC()  # probability=True for predict_proba later\n",
    ")\n",
    "# 5. Run optimization\n",
    "study = optuna.create_study(\n",
    "        direction='maximize',\n",
    "        sampler=TPESampler(seed=42),\n",
    "        pruner=HyperbandPruner(min_resource=1, reduction_factor=3)\n",
    "    )\n",
    "    \n",
    "objective_func = partial(objective, X_train=X_train, y_train=y_train, pipeline=pipeline)\n",
    "study.optimize(objective_func, n_trials=200, n_jobs=20)\n",
    "\n",
    "# 6. Get best results\n",
    "print(f\"Best accuracy: {study.best_value:.3f}\")\n",
    "print(\"Best parameters:\")\n",
    "for k, v in study.best_params.items():\n",
    "    print(f\"{k:25s}: {v}\")\n",
    "\n",
    "# 7. Train final model with best parameters\n",
    "pipeline.set_params(**study.best_params)\n",
    "pipeline.fit(X_train, y_train)\n",
    "\n",
    "# Evaluate on test set\n",
    "test_accuracy = pipeline.score(X_test, y_test)\n",
    "print(f\"\\nTest set accuracy: {test_accuracy:.3f}\")"
   ]
  },
  {
   "cell_type": "code",
   "execution_count": 12,
   "id": "c82379c1",
   "metadata": {},
   "outputs": [
    {
     "name": "stdout",
     "output_type": "stream",
     "text": [
      "{'estimator': 'lwf', 'C': 3.1150599944977393, 'kernel': 'rbf', 'gamma': 'auto', 'class_weight': None, 'degree': 5}\n"
     ]
    }
   ],
   "source": [
    "print(study.best_params)"
   ]
  },
  {
   "cell_type": "code",
   "execution_count": 14,
   "id": "56f84e18",
   "metadata": {},
   "outputs": [
    {
     "name": "stdout",
     "output_type": "stream",
     "text": [
      "Classification accuracy: 0.186441 \n"
     ]
    },
    {
     "data": {
      "text/plain": [
       "<Figure size 640x480 with 0 Axes>"
      ]
     },
     "metadata": {},
     "output_type": "display_data"
    },
    {
     "data": {
      "image/png": "[encoded data removed]",
      "text/plain": [
       "<Figure size 640x480 with 2 Axes>"
      ]
     },
     "metadata": {},
     "output_type": "display_data"
    }
   ],
   "source": [
    "clf = make_pipeline(\n",
    "    XdawnCovariances(nfilter=4, estimator = 'oas'),\n",
    "    TangentSpace(),\n",
    "    StandardScaler(),\n",
    "    SVC(C = 3.3002033606845007, kernel = 'rbf', gamma = 'auto', class_weight = 'balanced', degree = 4)  # probability=True for predict_proba later\n",
    ")\n",
    "#pipeline.set_params(**study.best_params)\n",
    "clf.fit(X_train, y_train)\n",
    "\n",
    "preds_rg     = clf.predict(X_test)\n",
    "\n",
    "# Printing the results\n",
    "acc2         = np.mean(preds_rg == y_test)\n",
    "print(\"Classification accuracy: %f \" % (acc2))\n",
    "plt.figure(1)\n",
    "cm_rg = confusion_matrix(y_test, preds_rg)\n",
    "disp_rg = ConfusionMatrixDisplay(confusion_matrix=cm_rg)\n",
    "disp_rg.plot(cmap=plt.cm.Blues)\n",
    "plt.title('xDAWN + RG')\n",
    "\n",
    "plt.show()  # Display t"
   ]
  },
  {
   "cell_type": "code",
   "execution_count": 30,
   "id": "5ced8799",
   "metadata": {},
   "outputs": [
    {
     "data": {
      "text/plain": [
       "array([[0, 0, 1, 0, 0, 0],\n",
       "       [0, 0, 0, 1, 0, 0],\n",
       "       [1, 0, 0, 0, 1, 0],\n",
       "       [0, 1, 0, 0, 0, 1],\n",
       "       [0, 0, 1, 0, 0, 0],\n",
       "       [0, 0, 0, 1, 0, 0]])"
      ]
     },
     "execution_count": 30,
     "metadata": {},
     "output_type": "execute_result"
    }
   ],
   "source": [
    "get_target_pairs()[12]"
   ]
  },
  {
   "cell_type": "code",
   "execution_count": null,
   "id": "145ecdd0",
   "metadata": {},
   "outputs": [
    {
     "name": "stderr",
     "output_type": "stream",
     "text": [
      "[I 2025-06-21 18:32:31,437] A new study created in memory with name: no-name-0bd95a25-56ec-48e5-ac37-8b67a70a670d\n",
      "[I 2025-06-21 18:34:56,624] Trial 14 finished with value: 0.16094080338266387 and parameters: {'nfilter': 3, 'cov_est': 'oas', 'metric': 'riemann', 'C': 88.48816548357466, 'solver': 'liblinear', 'penalty': 'l1', 'class_weight': None}. Best is trial 14 with value: 0.16094080338266387.\n"
     ]
    },
    {
     "name": "stdout",
     "output_type": "stream",
     "text": [
      "[       nan 0.15909091        nan        nan 0.1627907 ]\n",
      "[np.float64(0.1590909090909091), np.float64(0.16279069767441862)]\n"
     ]
    },
    {
     "name": "stderr",
     "output_type": "stream",
     "text": [
      "[I 2025-06-21 18:34:58,672] Trial 10 finished with value: 0.14931289640591966 and parameters: {'nfilter': 5, 'cov_est': 'scm', 'metric': 'riemann', 'C': 380.41213522736297, 'solver': 'saga', 'penalty': 'l2', 'class_weight': 'balanced'}. Best is trial 14 with value: 0.16094080338266387.\n"
     ]
    },
    {
     "name": "stdout",
     "output_type": "stream",
     "text": [
      "[       nan 0.15909091        nan        nan 0.13953488]\n",
      "[np.float64(0.1590909090909091), np.float64(0.13953488372093023)]\n"
     ]
    },
    {
     "name": "stderr",
     "output_type": "stream",
     "text": [
      "[I 2025-06-21 18:35:04,377] Trial 4 finished with value: 0.14957716701902748 and parameters: {'nfilter': 5, 'cov_est': 'lwf', 'metric': 'riemann', 'C': 0.1300388505728845, 'solver': 'lbfgs', 'penalty': 'l2', 'class_weight': 'balanced'}. Best is trial 14 with value: 0.16094080338266387.\n"
     ]
    },
    {
     "name": "stdout",
     "output_type": "stream",
     "text": [
      "[       nan 0.13636364        nan        nan 0.1627907 ]\n",
      "[np.float64(0.13636363636363635), np.float64(0.16279069767441862)]\n"
     ]
    },
    {
     "name": "stderr",
     "output_type": "stream",
     "text": [
      "[I 2025-06-21 18:35:05,009] Trial 17 finished with value: 0.14957716701902748 and parameters: {'nfilter': 5, 'cov_est': 'oas', 'metric': 'logeuclid', 'C': 0.0028253582589121543, 'solver': 'lbfgs', 'penalty': 'l1', 'class_weight': None}. Best is trial 14 with value: 0.16094080338266387.\n"
     ]
    },
    {
     "name": "stdout",
     "output_type": "stream",
     "text": [
      "[       nan 0.13636364        nan        nan 0.1627907 ]\n",
      "[np.float64(0.13636363636363635), np.float64(0.16279069767441862)]\n"
     ]
    },
    {
     "name": "stderr",
     "output_type": "stream",
     "text": [
      "[I 2025-06-21 18:35:11,278] Trial 15 finished with value: 0.16094080338266387 and parameters: {'nfilter': 6, 'cov_est': 'lwf', 'metric': 'riemann', 'C': 0.003982444740701444, 'solver': 'liblinear', 'penalty': 'l1', 'class_weight': 'balanced'}. Best is trial 14 with value: 0.16094080338266387.\n"
     ]
    },
    {
     "name": "stdout",
     "output_type": "stream",
     "text": [
      "[       nan 0.15909091        nan        nan 0.1627907 ]\n",
      "[np.float64(0.1590909090909091), np.float64(0.16279069767441862)]\n"
     ]
    },
    {
     "name": "stderr",
     "output_type": "stream",
     "text": [
      "[I 2025-06-21 18:35:13,096] Trial 0 finished with value: 0.14957716701902748 and parameters: {'nfilter': 4, 'cov_est': 'scm', 'metric': 'logeuclid', 'C': 0.01554388698932314, 'solver': 'liblinear', 'penalty': 'l2', 'class_weight': None}. Best is trial 14 with value: 0.16094080338266387.\n"
     ]
    },
    {
     "name": "stdout",
     "output_type": "stream",
     "text": [
      "[       nan 0.13636364        nan        nan 0.1627907 ]\n",
      "[np.float64(0.13636363636363635), np.float64(0.16279069767441862)]\n"
     ]
    },
    {
     "name": "stderr",
     "output_type": "stream",
     "text": [
      "[I 2025-06-21 18:35:22,620] Trial 9 finished with value: 0.14957716701902748 and parameters: {'nfilter': 8, 'cov_est': 'lwf', 'metric': 'riemann', 'C': 0.020801304045116036, 'solver': 'saga', 'penalty': 'l1', 'class_weight': None}. Best is trial 14 with value: 0.16094080338266387.\n"
     ]
    },
    {
     "name": "stdout",
     "output_type": "stream",
     "text": [
      "[       nan 0.13636364        nan        nan 0.1627907 ]\n",
      "[np.float64(0.13636363636363635), np.float64(0.16279069767441862)]\n"
     ]
    },
    {
     "name": "stderr",
     "output_type": "stream",
     "text": [
      "[I 2025-06-21 18:35:33,452] Trial 11 finished with value: 0.14931289640591966 and parameters: {'nfilter': 6, 'cov_est': 'oas', 'metric': 'logeuclid', 'C': 0.013787338801299872, 'solver': 'saga', 'penalty': 'l1', 'class_weight': None}. Best is trial 14 with value: 0.16094080338266387.\n"
     ]
    },
    {
     "name": "stdout",
     "output_type": "stream",
     "text": [
      "[       nan 0.15909091        nan        nan 0.13953488]\n",
      "[np.float64(0.1590909090909091), np.float64(0.13953488372093023)]\n"
     ]
    },
    {
     "name": "stderr",
     "output_type": "stream",
     "text": [
      "[I 2025-06-21 18:36:04,134] Trial 16 finished with value: 0.14957716701902748 and parameters: {'nfilter': 5, 'cov_est': 'scm', 'metric': 'logeuclid', 'C': 0.0022191236828926235, 'solver': 'liblinear', 'penalty': 'l1', 'class_weight': None}. Best is trial 14 with value: 0.16094080338266387.\n"
     ]
    },
    {
     "name": "stdout",
     "output_type": "stream",
     "text": [
      "[       nan 0.13636364        nan        nan 0.1627907 ]\n",
      "[np.float64(0.13636363636363635), np.float64(0.16279069767441862)]\n"
     ]
    },
    {
     "name": "stderr",
     "output_type": "stream",
     "text": [
      "[I 2025-06-21 18:36:04,559] Trial 19 finished with value: 0.14957716701902748 and parameters: {'nfilter': 5, 'cov_est': 'lwf', 'metric': 'riemann', 'C': 0.0022936793811787737, 'solver': 'saga', 'penalty': 'l2', 'class_weight': 'balanced'}. Best is trial 14 with value: 0.16094080338266387.\n"
     ]
    },
    {
     "name": "stdout",
     "output_type": "stream",
     "text": [
      "[       nan 0.13636364        nan        nan 0.1627907 ]\n",
      "[np.float64(0.13636363636363635), np.float64(0.16279069767441862)]\n"
     ]
    },
    {
     "name": "stderr",
     "output_type": "stream",
     "text": [
      "[I 2025-06-21 18:36:05,293] Trial 8 finished with value: 0.16094080338266387 and parameters: {'nfilter': 8, 'cov_est': 'oas', 'metric': 'logeuclid', 'C': 0.26012243228172616, 'solver': 'liblinear', 'penalty': 'l2', 'class_weight': 'balanced'}. Best is trial 14 with value: 0.16094080338266387.\n"
     ]
    },
    {
     "name": "stdout",
     "output_type": "stream",
     "text": [
      "[       nan 0.15909091        nan        nan 0.1627907 ]\n",
      "[np.float64(0.1590909090909091), np.float64(0.16279069767441862)]\n"
     ]
    },
    {
     "name": "stderr",
     "output_type": "stream",
     "text": [
      "[I 2025-06-21 18:36:05,503] Trial 12 finished with value: 0.17230443974630022 and parameters: {'nfilter': 7, 'cov_est': 'scm', 'metric': 'logeuclid', 'C': 16.68011047827428, 'solver': 'liblinear', 'penalty': 'l1', 'class_weight': None}. Best is trial 12 with value: 0.17230443974630022.\n"
     ]
    },
    {
     "name": "stdout",
     "output_type": "stream",
     "text": [
      "[       nan 0.18181818        nan        nan 0.1627907 ]\n",
      "[np.float64(0.18181818181818182), np.float64(0.16279069767441862)]\n"
     ]
    },
    {
     "name": "stderr",
     "output_type": "stream",
     "text": [
      "[I 2025-06-21 18:36:05,933] Trial 2 finished with value: 0.14957716701902748 and parameters: {'nfilter': 3, 'cov_est': 'scm', 'metric': 'riemann', 'C': 0.0012992914063234668, 'solver': 'lbfgs', 'penalty': 'l2', 'class_weight': None}. Best is trial 12 with value: 0.17230443974630022.\n",
      "[I 2025-06-21 18:36:06,006] Trial 13 finished with value: 0.16094080338266387 and parameters: {'nfilter': 8, 'cov_est': 'scm', 'metric': 'logeuclid', 'C': 0.0010102297058103657, 'solver': 'lbfgs', 'penalty': 'l2', 'class_weight': None}. Best is trial 12 with value: 0.17230443974630022.\n"
     ]
    },
    {
     "name": "stdout",
     "output_type": "stream",
     "text": [
      "[       nan 0.13636364        nan        nan 0.1627907 ]\n",
      "[np.float64(0.13636363636363635), np.float64(0.16279069767441862)]\n",
      "[       nan 0.15909091        nan        nan 0.1627907 ]\n",
      "[np.float64(0.1590909090909091), np.float64(0.16279069767441862)]\n"
     ]
    },
    {
     "name": "stderr",
     "output_type": "stream",
     "text": [
      "[I 2025-06-21 18:36:06,925] Trial 5 finished with value: 0.17230443974630022 and parameters: {'nfilter': 3, 'cov_est': 'scm', 'metric': 'logeuclid', 'C': 135.67537270500972, 'solver': 'liblinear', 'penalty': 'l1', 'class_weight': 'balanced'}. Best is trial 12 with value: 0.17230443974630022.\n",
      "[I 2025-06-21 18:36:07,119] Trial 6 finished with value: 0.14931289640591966 and parameters: {'nfilter': 2, 'cov_est': 'lwf', 'metric': 'riemann', 'C': 0.13637203697305847, 'solver': 'liblinear', 'penalty': 'l1', 'class_weight': None}. Best is trial 12 with value: 0.17230443974630022.\n"
     ]
    },
    {
     "name": "stdout",
     "output_type": "stream",
     "text": [
      "[       nan 0.18181818        nan        nan 0.1627907 ]\n",
      "[np.float64(0.18181818181818182), np.float64(0.16279069767441862)]\n",
      "[       nan 0.15909091        nan        nan 0.13953488]\n",
      "[np.float64(0.1590909090909091), np.float64(0.13953488372093023)]\n"
     ]
    },
    {
     "name": "stderr",
     "output_type": "stream",
     "text": [
      "[I 2025-06-21 18:36:07,351] Trial 3 finished with value: 0.16094080338266387 and parameters: {'nfilter': 6, 'cov_est': 'lwf', 'metric': 'logeuclid', 'C': 0.5879606141335183, 'solver': 'lbfgs', 'penalty': 'l1', 'class_weight': None}. Best is trial 12 with value: 0.17230443974630022.\n"
     ]
    },
    {
     "name": "stdout",
     "output_type": "stream",
     "text": [
      "[       nan 0.15909091        nan        nan 0.1627907 ]\n",
      "[np.float64(0.1590909090909091), np.float64(0.16279069767441862)]\n"
     ]
    },
    {
     "name": "stderr",
     "output_type": "stream",
     "text": [
      "[I 2025-06-21 18:36:07,957] Trial 1 finished with value: 0.16094080338266387 and parameters: {'nfilter': 6, 'cov_est': 'lwf', 'metric': 'riemann', 'C': 0.05949424431123253, 'solver': 'liblinear', 'penalty': 'l1', 'class_weight': 'balanced'}. Best is trial 12 with value: 0.17230443974630022.\n"
     ]
    },
    {
     "name": "stdout",
     "output_type": "stream",
     "text": [
      "[       nan 0.15909091        nan        nan 0.1627907 ]\n",
      "[np.float64(0.1590909090909091), np.float64(0.16279069767441862)]\n"
     ]
    },
    {
     "name": "stderr",
     "output_type": "stream",
     "text": [
      "[I 2025-06-21 18:36:08,863] Trial 7 finished with value: 0.17230443974630022 and parameters: {'nfilter': 7, 'cov_est': 'oas', 'metric': 'logeuclid', 'C': 0.03228398292283431, 'solver': 'saga', 'penalty': 'l2', 'class_weight': 'balanced'}. Best is trial 12 with value: 0.17230443974630022.\n",
      "[I 2025-06-21 18:36:08,947] Trial 18 finished with value: 0.14957716701902748 and parameters: {'nfilter': 5, 'cov_est': 'oas', 'metric': 'riemann', 'C': 638.6757993085265, 'solver': 'lbfgs', 'penalty': 'l1', 'class_weight': 'balanced'}. Best is trial 12 with value: 0.17230443974630022.\n"
     ]
    },
    {
     "name": "stdout",
     "output_type": "stream",
     "text": [
      "[       nan 0.18181818        nan        nan 0.1627907 ]\n",
      "[np.float64(0.18181818181818182), np.float64(0.16279069767441862)]\n",
      "[       nan 0.13636364        nan        nan 0.1627907 ]\n",
      "[np.float64(0.13636363636363635), np.float64(0.16279069767441862)]\n"
     ]
    }
   ],
   "source": [
    "import optuna\n",
    "from optuna.samplers import TPESampler\n",
    "from optuna.pruners import HyperbandPruner\n",
    "from sklearn.model_selection import cross_val_score\n",
    "from functools import partial\n",
    "import numpy as np\n",
    "import numpy as np\n",
    "import tensorflow as tf\n",
    "from tensorflow.keras import utils as np_utils, backend as K\n",
    "from tensorflow.keras.callbacks import ModelCheckpoint\n",
    "import mne\n",
    "from mne import io\n",
    "from mne.datasets import sample\n",
    "from Scripts.EEGModels import EEGNet\n",
    "from sklearn.metrics import confusion_matrix, ConfusionMatrixDisplay\n",
    "from sklearn.pipeline import make_pipeline\n",
    "from sklearn.linear_model import LogisticRegression\n",
    "from pyriemann.estimation import XdawnCovariances\n",
    "from pyriemann.tangentspace import TangentSpace\n",
    "import matplotlib.pyplot as plt\n",
    "from pathlib import Path\n",
    "from sklearn.model_selection import train_test_split, StratifiedKFold\n",
    "from skopt import BayesSearchCV\n",
    "from skopt.space import Real, Categorical, Integer\n",
    "import warnings\n",
    "import math\n",
    "warnings.filterwarnings('ignore')\n",
    "\n",
    "# 1. Define objective function\n",
    "def objective(trial, X_train, y_train, pipeline):\n",
    "    params = {\n",
    "        # XdawnCovariances\n",
    "        'xdawncovariances__nfilter': trial.suggest_int('nfilter', 2, 8),\n",
    "        'xdawncovariances__estimator': trial.suggest_categorical('cov_est', ['scm', 'lwf', 'oas']),\n",
    "        \n",
    "        # TangentSpace\n",
    "        'tangentspace__metric': trial.suggest_categorical('metric', ['riemann', 'logeuclid']),\n",
    "        \n",
    "        # LogisticRegression\n",
    "        'logisticregression__C': trial.suggest_float('C', 1e-3, 1e3, log=True),\n",
    "        'logisticregression__solver': trial.suggest_categorical('solver', ['lbfgs', 'liblinear', 'saga']),\n",
    "        'logisticregression__penalty': trial.suggest_categorical('penalty', ['l2', 'l1']),\n",
    "        'logisticregression__class_weight': trial.suggest_categorical('class_weight', [None, 'balanced'])\n",
    "    }\n",
    "    \n",
    "    # Handle incompatible parameter combinations\n",
    "    if params['logisticregression__penalty'] == 'l1':\n",
    "        params['logisticregression__solver'] = 'liblinear'\n",
    "    \n",
    "    try:\n",
    "        pipeline.set_params(**params)\n",
    "        scores = cross_val_score(pipeline, X_train, y_train, \n",
    "                               cv=5, n_jobs=1, scoring='accuracy')\n",
    "        print(scores)\n",
    "        scores = [x for x in scores if x is not None and not (isinstance(x, float) and math.isnan(x))]\n",
    "        print(scores)\n",
    "        return np.mean(scores)\n",
    "    except Exception as e:\n",
    "        # Return negative infinity for failed trials\n",
    "        print(f\"Trial failed with params {params}: {str(e)}\")\n",
    "        return -np.inf\n",
    "\n",
    "# 2. Configure and run study\n",
    "def optimize_with_optuna(X_train, y_train, pipeline, n_trials=30):\n",
    "    study = optuna.create_study(\n",
    "        direction='maximize',\n",
    "        sampler=TPESampler(seed=42),\n",
    "        pruner=HyperbandPruner(min_resource=1, reduction_factor=3)\n",
    "    )\n",
    "    \n",
    "    objective_func = partial(objective, X_train=X_train, y_train=y_train, pipeline=pipeline)\n",
    "    study.optimize(objective_func, n_trials=n_trials, n_jobs=20)\n",
    "    \n",
    "    return study\n",
    "\n",
    "n_components = 4  # pick some components\n",
    "chans = 63\n",
    "samples = 16001\n",
    "\n",
    "# Data loading\n",
    "subjects_cluster1 = [11, 4, 8, 15]\n",
    "trial_cluster1 = [2, 2, 1, 2]\n",
    "subjects_cluster2 = [15, 4, 3, 10, 1, 8, 6, 1, 6]\n",
    "trial_cluster2 = [1, 1, 2, 2, 2, 2, 2, 1, 1]\n",
    "subjects_cluster3 = [7, 7, 9, 9, 14]\n",
    "trial_cluster3 = [2, 1, 2, 1, 1]\n",
    "subjects_cluster4 = [5, 5, 3, 2, 2, 10, 12, 12, 16, 16, 11, 13, 13]\n",
    "trial_cluster4 = [2, 1, 1, 2, 1, 1, 2, 1, 2, 1, 1, 2, 1]\n",
    "\n",
    "X, img, y = get_sample_choosen_trial(subjects_cluster4 + subjects_cluster3, trial_cluster4 + trial_cluster3)\n",
    "X, img, y = get_sample()\n",
    "X_train, X_test, Y_train, Y_test = train_test_split(\n",
    "    X, y, test_size=0.5, stratify=y, random_state=42\n",
    ")\n",
    "\n",
    "# 3. Usage with your EEG pipeline\n",
    "pipeline = make_pipeline(\n",
    "    XdawnCovariances(nfilter=4),\n",
    "    TangentSpace(),\n",
    "    LogisticRegression(max_iter=250)\n",
    ")\n",
    "\n",
    "study = optimize_with_optuna(X_train, Y_train, pipeline, n_trials=150)\n",
    "\n",
    "# 4. Get best results\n",
    "print(f\"Best accuracy: {study.best_value:.3f}\")\n",
    "print(\"Best params:\")\n",
    "for k, v in study.best_params.items():\n",
    "    print(f\"{k:20s}: {v}\")\n",
    "\n",
    "# 5. Train final model with best params\n",
    "pipeline.set_params(**study.best_params)\n",
    "pipeline.fit(X_train, Y_train)"
   ]
  },
  {
   "cell_type": "code",
   "execution_count": 17,
   "id": "0f1b4e22",
   "metadata": {},
   "outputs": [],
   "source": [
    "pipeline = make_pipeline(\n",
    "    XdawnCovariances(nfilter=4, estimator='scm'),\n",
    "    TangentSpace(metric='riemann'),\n",
    "    LogisticRegression(max_iter=1000, C=0.004305877711891191, penalty='l2', class_weight='balanced', solver='lbfgs')\n",
    ")\n"
   ]
  },
  {
   "cell_type": "code",
   "execution_count": 20,
   "id": "f3431ba4",
   "metadata": {},
   "outputs": [
    {
     "ename": "LinAlgError",
     "evalue": "The leading minor of order 63 of B is not positive definite. The factorization of B could not be completed and no eigenvalues or eigenvectors were computed.",
     "output_type": "error",
     "traceback": [
      "\u001b[31m---------------------------------------------------------------------------\u001b[39m",
      "\u001b[31mLinAlgError\u001b[39m                               Traceback (most recent call last)",
      "\u001b[36mCell\u001b[39m\u001b[36m \u001b[39m\u001b[32mIn[20]\u001b[39m\u001b[32m, line 6\u001b[39m\n\u001b[32m      2\u001b[39m X, img, y = get_sample()\n\u001b[32m      3\u001b[39m X_train, X_test, Y_train, Y_test = train_test_split(\n\u001b[32m      4\u001b[39m     X, y, test_size=\u001b[32m0.5\u001b[39m, stratify=y, random_state=\u001b[32m30\u001b[39m\n\u001b[32m      5\u001b[39m )\n\u001b[32m----> \u001b[39m\u001b[32m6\u001b[39m \u001b[43mpipeline\u001b[49m\u001b[43m.\u001b[49m\u001b[43mfit\u001b[49m\u001b[43m(\u001b[49m\u001b[43mX_train\u001b[49m\u001b[43m,\u001b[49m\u001b[43m \u001b[49m\u001b[43mY_train\u001b[49m\u001b[43m)\u001b[49m\n\u001b[32m      7\u001b[39m preds_rg     = pipeline.predict(X_test)\n\u001b[32m      9\u001b[39m \u001b[38;5;66;03m# Printing the results\u001b[39;00m\n",
      "\u001b[36mFile \u001b[39m\u001b[32m~/miniconda/lib/python3.12/site-packages/sklearn/base.py:1389\u001b[39m, in \u001b[36m_fit_context.<locals>.decorator.<locals>.wrapper\u001b[39m\u001b[34m(estimator, *args, **kwargs)\u001b[39m\n\u001b[32m   1382\u001b[39m     estimator._validate_params()\n\u001b[32m   1384\u001b[39m \u001b[38;5;28;01mwith\u001b[39;00m config_context(\n\u001b[32m   1385\u001b[39m     skip_parameter_validation=(\n\u001b[32m   1386\u001b[39m         prefer_skip_nested_validation \u001b[38;5;129;01mor\u001b[39;00m global_skip_validation\n\u001b[32m   1387\u001b[39m     )\n\u001b[32m   1388\u001b[39m ):\n\u001b[32m-> \u001b[39m\u001b[32m1389\u001b[39m     \u001b[38;5;28;01mreturn\u001b[39;00m \u001b[43mfit_method\u001b[49m\u001b[43m(\u001b[49m\u001b[43mestimator\u001b[49m\u001b[43m,\u001b[49m\u001b[43m \u001b[49m\u001b[43m*\u001b[49m\u001b[43margs\u001b[49m\u001b[43m,\u001b[49m\u001b[43m \u001b[49m\u001b[43m*\u001b[49m\u001b[43m*\u001b[49m\u001b[43mkwargs\u001b[49m\u001b[43m)\u001b[49m\n",
      "\u001b[36mFile \u001b[39m\u001b[32m~/miniconda/lib/python3.12/site-packages/sklearn/pipeline.py:654\u001b[39m, in \u001b[36mPipeline.fit\u001b[39m\u001b[34m(self, X, y, **params)\u001b[39m\n\u001b[32m    647\u001b[39m     \u001b[38;5;28;01mraise\u001b[39;00m \u001b[38;5;167;01mValueError\u001b[39;00m(\n\u001b[32m    648\u001b[39m         \u001b[33m\"\u001b[39m\u001b[33mThe `transform_input` parameter can only be set if metadata \u001b[39m\u001b[33m\"\u001b[39m\n\u001b[32m    649\u001b[39m         \u001b[33m\"\u001b[39m\u001b[33mrouting is enabled. You can enable metadata routing using \u001b[39m\u001b[33m\"\u001b[39m\n\u001b[32m    650\u001b[39m         \u001b[33m\"\u001b[39m\u001b[33m`sklearn.set_config(enable_metadata_routing=True)`.\u001b[39m\u001b[33m\"\u001b[39m\n\u001b[32m    651\u001b[39m     )\n\u001b[32m    653\u001b[39m routed_params = \u001b[38;5;28mself\u001b[39m._check_method_params(method=\u001b[33m\"\u001b[39m\u001b[33mfit\u001b[39m\u001b[33m\"\u001b[39m, props=params)\n\u001b[32m--> \u001b[39m\u001b[32m654\u001b[39m Xt = \u001b[38;5;28;43mself\u001b[39;49m\u001b[43m.\u001b[49m\u001b[43m_fit\u001b[49m\u001b[43m(\u001b[49m\u001b[43mX\u001b[49m\u001b[43m,\u001b[49m\u001b[43m \u001b[49m\u001b[43my\u001b[49m\u001b[43m,\u001b[49m\u001b[43m \u001b[49m\u001b[43mrouted_params\u001b[49m\u001b[43m,\u001b[49m\u001b[43m \u001b[49m\u001b[43mraw_params\u001b[49m\u001b[43m=\u001b[49m\u001b[43mparams\u001b[49m\u001b[43m)\u001b[49m\n\u001b[32m    655\u001b[39m \u001b[38;5;28;01mwith\u001b[39;00m _print_elapsed_time(\u001b[33m\"\u001b[39m\u001b[33mPipeline\u001b[39m\u001b[33m\"\u001b[39m, \u001b[38;5;28mself\u001b[39m._log_message(\u001b[38;5;28mlen\u001b[39m(\u001b[38;5;28mself\u001b[39m.steps) - \u001b[32m1\u001b[39m)):\n\u001b[32m    656\u001b[39m     \u001b[38;5;28;01mif\u001b[39;00m \u001b[38;5;28mself\u001b[39m._final_estimator != \u001b[33m\"\u001b[39m\u001b[33mpassthrough\u001b[39m\u001b[33m\"\u001b[39m:\n",
      "\u001b[36mFile \u001b[39m\u001b[32m~/miniconda/lib/python3.12/site-packages/sklearn/pipeline.py:588\u001b[39m, in \u001b[36mPipeline._fit\u001b[39m\u001b[34m(self, X, y, routed_params, raw_params)\u001b[39m\n\u001b[32m    581\u001b[39m \u001b[38;5;66;03m# Fit or load from cache the current transformer\u001b[39;00m\n\u001b[32m    582\u001b[39m step_params = \u001b[38;5;28mself\u001b[39m._get_metadata_for_step(\n\u001b[32m    583\u001b[39m     step_idx=step_idx,\n\u001b[32m    584\u001b[39m     step_params=routed_params[name],\n\u001b[32m    585\u001b[39m     all_params=raw_params,\n\u001b[32m    586\u001b[39m )\n\u001b[32m--> \u001b[39m\u001b[32m588\u001b[39m X, fitted_transformer = \u001b[43mfit_transform_one_cached\u001b[49m\u001b[43m(\u001b[49m\n\u001b[32m    589\u001b[39m \u001b[43m    \u001b[49m\u001b[43mcloned_transformer\u001b[49m\u001b[43m,\u001b[49m\n\u001b[32m    590\u001b[39m \u001b[43m    \u001b[49m\u001b[43mX\u001b[49m\u001b[43m,\u001b[49m\n\u001b[32m    591\u001b[39m \u001b[43m    \u001b[49m\u001b[43my\u001b[49m\u001b[43m,\u001b[49m\n\u001b[32m    592\u001b[39m \u001b[43m    \u001b[49m\u001b[43mweight\u001b[49m\u001b[43m=\u001b[49m\u001b[38;5;28;43;01mNone\u001b[39;49;00m\u001b[43m,\u001b[49m\n\u001b[32m    593\u001b[39m \u001b[43m    \u001b[49m\u001b[43mmessage_clsname\u001b[49m\u001b[43m=\u001b[49m\u001b[33;43m\"\u001b[39;49m\u001b[33;43mPipeline\u001b[39;49m\u001b[33;43m\"\u001b[39;49m\u001b[43m,\u001b[49m\n\u001b[32m    594\u001b[39m \u001b[43m    \u001b[49m\u001b[43mmessage\u001b[49m\u001b[43m=\u001b[49m\u001b[38;5;28;43mself\u001b[39;49m\u001b[43m.\u001b[49m\u001b[43m_log_message\u001b[49m\u001b[43m(\u001b[49m\u001b[43mstep_idx\u001b[49m\u001b[43m)\u001b[49m\u001b[43m,\u001b[49m\n\u001b[32m    595\u001b[39m \u001b[43m    \u001b[49m\u001b[43mparams\u001b[49m\u001b[43m=\u001b[49m\u001b[43mstep_params\u001b[49m\u001b[43m,\u001b[49m\n\u001b[32m    596\u001b[39m \u001b[43m\u001b[49m\u001b[43m)\u001b[49m\n\u001b[32m    597\u001b[39m \u001b[38;5;66;03m# Replace the transformer of the step with the fitted\u001b[39;00m\n\u001b[32m    598\u001b[39m \u001b[38;5;66;03m# transformer. This is necessary when loading the transformer\u001b[39;00m\n\u001b[32m    599\u001b[39m \u001b[38;5;66;03m# from the cache.\u001b[39;00m\n\u001b[32m    600\u001b[39m \u001b[38;5;28mself\u001b[39m.steps[step_idx] = (name, fitted_transformer)\n",
      "\u001b[36mFile \u001b[39m\u001b[32m~/miniconda/lib/python3.12/site-packages/joblib/memory.py:312\u001b[39m, in \u001b[36mNotMemorizedFunc.__call__\u001b[39m\u001b[34m(self, *args, **kwargs)\u001b[39m\n\u001b[32m    311\u001b[39m \u001b[38;5;28;01mdef\u001b[39;00m \u001b[34m__call__\u001b[39m(\u001b[38;5;28mself\u001b[39m, *args, **kwargs):\n\u001b[32m--> \u001b[39m\u001b[32m312\u001b[39m     \u001b[38;5;28;01mreturn\u001b[39;00m \u001b[38;5;28;43mself\u001b[39;49m\u001b[43m.\u001b[49m\u001b[43mfunc\u001b[49m\u001b[43m(\u001b[49m\u001b[43m*\u001b[49m\u001b[43margs\u001b[49m\u001b[43m,\u001b[49m\u001b[43m \u001b[49m\u001b[43m*\u001b[49m\u001b[43m*\u001b[49m\u001b[43mkwargs\u001b[49m\u001b[43m)\u001b[49m\n",
      "\u001b[36mFile \u001b[39m\u001b[32m~/miniconda/lib/python3.12/site-packages/sklearn/pipeline.py:1551\u001b[39m, in \u001b[36m_fit_transform_one\u001b[39m\u001b[34m(transformer, X, y, weight, message_clsname, message, params)\u001b[39m\n\u001b[32m   1549\u001b[39m \u001b[38;5;28;01mwith\u001b[39;00m _print_elapsed_time(message_clsname, message):\n\u001b[32m   1550\u001b[39m     \u001b[38;5;28;01mif\u001b[39;00m \u001b[38;5;28mhasattr\u001b[39m(transformer, \u001b[33m\"\u001b[39m\u001b[33mfit_transform\u001b[39m\u001b[33m\"\u001b[39m):\n\u001b[32m-> \u001b[39m\u001b[32m1551\u001b[39m         res = \u001b[43mtransformer\u001b[49m\u001b[43m.\u001b[49m\u001b[43mfit_transform\u001b[49m\u001b[43m(\u001b[49m\u001b[43mX\u001b[49m\u001b[43m,\u001b[49m\u001b[43m \u001b[49m\u001b[43my\u001b[49m\u001b[43m,\u001b[49m\u001b[43m \u001b[49m\u001b[43m*\u001b[49m\u001b[43m*\u001b[49m\u001b[43mparams\u001b[49m\u001b[43m.\u001b[49m\u001b[43mget\u001b[49m\u001b[43m(\u001b[49m\u001b[33;43m\"\u001b[39;49m\u001b[33;43mfit_transform\u001b[39;49m\u001b[33;43m\"\u001b[39;49m\u001b[43m,\u001b[49m\u001b[43m \u001b[49m\u001b[43m{\u001b[49m\u001b[43m}\u001b[49m\u001b[43m)\u001b[49m\u001b[43m)\u001b[49m\n\u001b[32m   1552\u001b[39m     \u001b[38;5;28;01melse\u001b[39;00m:\n\u001b[32m   1553\u001b[39m         res = transformer.fit(X, y, **params.get(\u001b[33m\"\u001b[39m\u001b[33mfit\u001b[39m\u001b[33m\"\u001b[39m, {})).transform(\n\u001b[32m   1554\u001b[39m             X, **params.get(\u001b[33m\"\u001b[39m\u001b[33mtransform\u001b[39m\u001b[33m\"\u001b[39m, {})\n\u001b[32m   1555\u001b[39m         )\n",
      "\u001b[36mFile \u001b[39m\u001b[32m~/miniconda/lib/python3.12/site-packages/sklearn/utils/_set_output.py:319\u001b[39m, in \u001b[36m_wrap_method_output.<locals>.wrapped\u001b[39m\u001b[34m(self, X, *args, **kwargs)\u001b[39m\n\u001b[32m    317\u001b[39m \u001b[38;5;129m@wraps\u001b[39m(f)\n\u001b[32m    318\u001b[39m \u001b[38;5;28;01mdef\u001b[39;00m \u001b[34mwrapped\u001b[39m(\u001b[38;5;28mself\u001b[39m, X, *args, **kwargs):\n\u001b[32m--> \u001b[39m\u001b[32m319\u001b[39m     data_to_wrap = \u001b[43mf\u001b[49m\u001b[43m(\u001b[49m\u001b[38;5;28;43mself\u001b[39;49m\u001b[43m,\u001b[49m\u001b[43m \u001b[49m\u001b[43mX\u001b[49m\u001b[43m,\u001b[49m\u001b[43m \u001b[49m\u001b[43m*\u001b[49m\u001b[43margs\u001b[49m\u001b[43m,\u001b[49m\u001b[43m \u001b[49m\u001b[43m*\u001b[49m\u001b[43m*\u001b[49m\u001b[43mkwargs\u001b[49m\u001b[43m)\u001b[49m\n\u001b[32m    320\u001b[39m     \u001b[38;5;28;01mif\u001b[39;00m \u001b[38;5;28misinstance\u001b[39m(data_to_wrap, \u001b[38;5;28mtuple\u001b[39m):\n\u001b[32m    321\u001b[39m         \u001b[38;5;66;03m# only wrap the first output for cross decomposition\u001b[39;00m\n\u001b[32m    322\u001b[39m         return_tuple = (\n\u001b[32m    323\u001b[39m             _wrap_data_with_container(method, data_to_wrap[\u001b[32m0\u001b[39m], X, \u001b[38;5;28mself\u001b[39m),\n\u001b[32m    324\u001b[39m             *data_to_wrap[\u001b[32m1\u001b[39m:],\n\u001b[32m    325\u001b[39m         )\n",
      "\u001b[36mFile \u001b[39m\u001b[32m~/miniconda/lib/python3.12/site-packages/pyriemann/estimation.py:402\u001b[39m, in \u001b[36mXdawnCovariances.fit_transform\u001b[39m\u001b[34m(self, X, y)\u001b[39m\n\u001b[32m    384\u001b[39m \u001b[38;5;28;01mdef\u001b[39;00m \u001b[34mfit_transform\u001b[39m(\u001b[38;5;28mself\u001b[39m, X, y):\n\u001b[32m    385\u001b[39m \u001b[38;5;250m    \u001b[39m\u001b[33;03m\"\"\"Fit and transform in a single function.\u001b[39;00m\n\u001b[32m    386\u001b[39m \n\u001b[32m    387\u001b[39m \u001b[33;03m    Parameters\u001b[39;00m\n\u001b[32m   (...)\u001b[39m\u001b[32m    400\u001b[39m \u001b[33;03m        otherwise.\u001b[39;00m\n\u001b[32m    401\u001b[39m \u001b[33;03m    \"\"\"\u001b[39;00m\n\u001b[32m--> \u001b[39m\u001b[32m402\u001b[39m     \u001b[38;5;28;01mreturn\u001b[39;00m \u001b[38;5;28;43mself\u001b[39;49m\u001b[43m.\u001b[49m\u001b[43mfit\u001b[49m\u001b[43m(\u001b[49m\u001b[43mX\u001b[49m\u001b[43m,\u001b[49m\u001b[43m \u001b[49m\u001b[43my\u001b[49m\u001b[43m)\u001b[49m.transform(X)\n",
      "\u001b[36mFile \u001b[39m\u001b[32m~/miniconda/lib/python3.12/site-packages/pyriemann/estimation.py:353\u001b[39m, in \u001b[36mXdawnCovariances.fit\u001b[39m\u001b[34m(self, X, y)\u001b[39m\n\u001b[32m    331\u001b[39m \u001b[38;5;250m\u001b[39m\u001b[33;03m\"\"\"Fit.\u001b[39;00m\n\u001b[32m    332\u001b[39m \n\u001b[32m    333\u001b[39m \u001b[33;03mEstimate spatial filters and prototyped response for each class.\u001b[39;00m\n\u001b[32m   (...)\u001b[39m\u001b[32m    345\u001b[39m \u001b[33;03m    The XdawnCovariances instance.\u001b[39;00m\n\u001b[32m    346\u001b[39m \u001b[33;03m\"\"\"\u001b[39;00m\n\u001b[32m    347\u001b[39m \u001b[38;5;28mself\u001b[39m.Xd_ = Xdawn(\n\u001b[32m    348\u001b[39m     nfilter=\u001b[38;5;28mself\u001b[39m.nfilter,\n\u001b[32m    349\u001b[39m     classes=\u001b[38;5;28mself\u001b[39m.classes,\n\u001b[32m    350\u001b[39m     estimator=\u001b[38;5;28mself\u001b[39m.xdawn_estimator,\n\u001b[32m    351\u001b[39m     baseline_cov=\u001b[38;5;28mself\u001b[39m.baseline_cov,\n\u001b[32m    352\u001b[39m )\n\u001b[32m--> \u001b[39m\u001b[32m353\u001b[39m \u001b[38;5;28;43mself\u001b[39;49m\u001b[43m.\u001b[49m\u001b[43mXd_\u001b[49m\u001b[43m.\u001b[49m\u001b[43mfit\u001b[49m\u001b[43m(\u001b[49m\u001b[43mX\u001b[49m\u001b[43m,\u001b[49m\u001b[43m \u001b[49m\u001b[43my\u001b[49m\u001b[43m)\u001b[49m\n\u001b[32m    354\u001b[39m \u001b[38;5;28mself\u001b[39m.P_ = \u001b[38;5;28mself\u001b[39m.Xd_.evokeds_\n\u001b[32m    355\u001b[39m \u001b[38;5;28;01mreturn\u001b[39;00m \u001b[38;5;28mself\u001b[39m\n",
      "\u001b[36mFile \u001b[39m\u001b[32m~/miniconda/lib/python3.12/site-packages/pyriemann/spatialfilters.py:123\u001b[39m, in \u001b[36mXdawn.fit\u001b[39m\u001b[34m(self, X, y)\u001b[39m\n\u001b[32m    120\u001b[39m C = np.asarray(\u001b[38;5;28mself\u001b[39m.estimator_fn(P))\n\u001b[32m    122\u001b[39m \u001b[38;5;66;03m# Spatial filters\u001b[39;00m\n\u001b[32m--> \u001b[39m\u001b[32m123\u001b[39m evals, evecs = \u001b[43meigh\u001b[49m\u001b[43m(\u001b[49m\u001b[43mC\u001b[49m\u001b[43m,\u001b[49m\u001b[43m \u001b[49m\u001b[43mCx\u001b[49m\u001b[43m)\u001b[49m\n\u001b[32m    124\u001b[39m evecs = evecs[:, np.argsort(evals)[::-\u001b[32m1\u001b[39m]]  \u001b[38;5;66;03m# sort eigenvectors\u001b[39;00m\n\u001b[32m    125\u001b[39m evecs /= np.apply_along_axis(np.linalg.norm, \u001b[32m0\u001b[39m, evecs)\n",
      "\u001b[36mFile \u001b[39m\u001b[32m~/miniconda/lib/python3.12/site-packages/scipy/linalg/_decomp.py:592\u001b[39m, in \u001b[36meigh\u001b[39m\u001b[34m(a, b, lower, eigvals_only, overwrite_a, overwrite_b, type, check_finite, subset_by_index, subset_by_value, driver)\u001b[39m\n\u001b[32m    589\u001b[39m     \u001b[38;5;28;01mraise\u001b[39;00m LinAlgError(\u001b[33mf\u001b[39m\u001b[33m'\u001b[39m\u001b[33mIllegal value in argument \u001b[39m\u001b[38;5;132;01m{\u001b[39;00m-info\u001b[38;5;132;01m}\u001b[39;00m\u001b[33m of internal \u001b[39m\u001b[33m'\u001b[39m\n\u001b[32m    590\u001b[39m                       \u001b[33mf\u001b[39m\u001b[33m'\u001b[39m\u001b[38;5;132;01m{\u001b[39;00mdrv.typecode\u001b[38;5;250m \u001b[39m+\u001b[38;5;250m \u001b[39mpfx\u001b[38;5;250m \u001b[39m+\u001b[38;5;250m \u001b[39mdriver\u001b[38;5;132;01m}\u001b[39;00m\u001b[33m'\u001b[39m)\n\u001b[32m    591\u001b[39m \u001b[38;5;28;01melif\u001b[39;00m info > n:\n\u001b[32m--> \u001b[39m\u001b[32m592\u001b[39m     \u001b[38;5;28;01mraise\u001b[39;00m LinAlgError(\u001b[33mf\u001b[39m\u001b[33m'\u001b[39m\u001b[33mThe leading minor of order \u001b[39m\u001b[38;5;132;01m{\u001b[39;00minfo-n\u001b[38;5;132;01m}\u001b[39;00m\u001b[33m of B is not \u001b[39m\u001b[33m'\u001b[39m\n\u001b[32m    593\u001b[39m                       \u001b[33m'\u001b[39m\u001b[33mpositive definite. The factorization of B \u001b[39m\u001b[33m'\u001b[39m\n\u001b[32m    594\u001b[39m                       \u001b[33m'\u001b[39m\u001b[33mcould not be completed and no eigenvalues \u001b[39m\u001b[33m'\u001b[39m\n\u001b[32m    595\u001b[39m                       \u001b[33m'\u001b[39m\u001b[33mor eigenvectors were computed.\u001b[39m\u001b[33m'\u001b[39m)\n\u001b[32m    596\u001b[39m \u001b[38;5;28;01melse\u001b[39;00m:\n\u001b[32m    597\u001b[39m     drv_err = {\u001b[33m'\u001b[39m\u001b[33mev\u001b[39m\u001b[33m'\u001b[39m: \u001b[33m'\u001b[39m\u001b[33mThe algorithm failed to converge; \u001b[39m\u001b[38;5;132;01m{}\u001b[39;00m\u001b[33m \u001b[39m\u001b[33m'\u001b[39m\n\u001b[32m    598\u001b[39m                      \u001b[33m'\u001b[39m\u001b[33moff-diagonal elements of an intermediate \u001b[39m\u001b[33m'\u001b[39m\n\u001b[32m    599\u001b[39m                      \u001b[33m'\u001b[39m\u001b[33mtridiagonal form did not converge to zero.\u001b[39m\u001b[33m'\u001b[39m,\n\u001b[32m   (...)\u001b[39m\u001b[32m    604\u001b[39m                \u001b[33m'\u001b[39m\u001b[33mevr\u001b[39m\u001b[33m'\u001b[39m: \u001b[33m'\u001b[39m\u001b[33mInternal Error.\u001b[39m\u001b[33m'\u001b[39m\n\u001b[32m    605\u001b[39m                }\n",
      "\u001b[31mLinAlgError\u001b[39m: The leading minor of order 63 of B is not positive definite. The factorization of B could not be completed and no eigenvalues or eigenvectors were computed."
     ]
    }
   ],
   "source": [
    "#X, img, y = get_sample_choosen_trial(subjects_cluster4 + subjects_cluster3, trial_cluster4 + trial_cluster3)\n",
    "X, img, y = get_sample()\n",
    "X_train, X_test, Y_train, Y_test = train_test_split(\n",
    "    X, y, test_size=0.5, stratify=y, random_state=30\n",
    ")\n",
    "pipeline.fit(X_train, Y_train)\n",
    "preds_rg     = pipeline.predict(X_test)\n",
    "\n",
    "# Printing the results\n",
    "acc2         = np.mean(preds_rg == Y_test)\n",
    "print(\"Classification accuracy: %f \" % (acc2))\n",
    "\n",
    "plt.figure(1)\n",
    "cm_rg = confusion_matrix(Y_test, preds_rg)\n",
    "disp_rg = ConfusionMatrixDisplay(confusion_matrix=cm_rg)\n",
    "disp_rg.plot(cmap=plt.cm.Blues)\n",
    "plt.title('xDAWN + RG')\n",
    "\n",
    "plt.show()  # Display t"
   ]
  },
  {
   "cell_type": "code",
   "execution_count": 52,
   "id": "12737f54",
   "metadata": {},
   "outputs": [
    {
     "data": {
      "text/plain": [
       "Counter({np.int64(6): 29,\n",
       "         np.int64(3): 27,\n",
       "         np.int64(11): 26,\n",
       "         np.int64(10): 26,\n",
       "         np.int64(4): 26,\n",
       "         np.int64(5): 25,\n",
       "         np.int64(0): 24,\n",
       "         np.int64(1): 23,\n",
       "         np.int64(2): 22,\n",
       "         np.int64(8): 18,\n",
       "         np.int64(9): 17,\n",
       "         np.int64(12): 16,\n",
       "         np.int64(7): 15})"
      ]
     },
     "execution_count": 52,
     "metadata": {},
     "output_type": "execute_result"
    }
   ],
   "source": [
    "from collections import Counter\n",
    "Counter(y)"
   ]
  },
  {
   "cell_type": "code",
   "execution_count": 62,
   "id": "af4d5765",
   "metadata": {},
   "outputs": [
    {
     "data": {
      "text/plain": [
       "array([[0, 0, 0, 0, 0, 0],\n",
       "       [1, 1, 1, 1, 1, 1],\n",
       "       [0, 0, 0, 0, 0, 0],\n",
       "       [0, 0, 0, 0, 0, 0],\n",
       "       [1, 1, 1, 1, 1, 1],\n",
       "       [0, 0, 0, 0, 0, 0]])"
      ]
     },
     "execution_count": 62,
     "metadata": {},
     "output_type": "execute_result"
    }
   ],
   "source": [
    "get_target_pairs()[5]"
   ]
  },
  {
   "cell_type": "code",
   "execution_count": 27,
   "id": "e78ab418",
   "metadata": {},
   "outputs": [
    {
     "data": {
      "text/plain": [
       "np.int64(1)"
      ]
     },
     "execution_count": 27,
     "metadata": {},
     "output_type": "execute_result"
    }
   ],
   "source": [
    "X, img, y = get_sample_choosen_trial(subjects_cluster4, trial_cluster4)\n",
    "X_train, X_test, Y_train, Y_test = train_test_split(\n",
    "    X, y, test_size=0.5, stratify=y, random_state=42\n",
    ")\n",
    "Y_train[0]"
   ]
  },
  {
   "cell_type": "code",
   "execution_count": null,
   "id": "4cad8d98",
   "metadata": {},
   "outputs": [],
   "source": [
    "import tensorflow as tf\n",
    "tf.config.list_physical_devices('GPU')"
   ]
  },
  {
   "cell_type": "code",
   "execution_count": null,
   "id": "da1008f2",
   "metadata": {},
   "outputs": [],
   "source": []
  },
  {
   "cell_type": "code",
   "execution_count": null,
   "id": "61a48a70",
   "metadata": {},
   "outputs": [],
   "source": [
    "import numpy as np\n",
    "import tensorflow as tf\n",
    "from tensorflow.keras import utils as np_utils, backend as K\n",
    "from tensorflow.keras.callbacks import ModelCheckpoint\n",
    "import mne\n",
    "from mne import io\n",
    "from mne.datasets import sample\n",
    "from Scripts.EEGModels import EEGNet\n",
    "from sklearn.metrics import confusion_matrix, ConfusionMatrixDisplay\n",
    "from sklearn.pipeline import make_pipeline\n",
    "from sklearn.linear_model import LogisticRegression\n",
    "from pyriemann.estimation import XdawnCovariances\n",
    "from pyriemann.tangentspace import TangentSpace\n",
    "import matplotlib.pyplot as plt\n",
    "from pathlib import Path\n",
    "from sklearn.model_selection import train_test_split\n",
    "\n",
    "# Configure TensorFlow for GPU\n",
    "gpus = tf.config.experimental.list_physical_devices('GPU')\n",
    "if gpus:\n",
    "    try:\n",
    "        for gpu in gpus:\n",
    "            tf.config.experimental.set_memory_growth(gpu, True)\n",
    "    except RuntimeError as e:\n",
    "        print(e)\n",
    "\n",
    "# Set mixed precision policy for faster computation\n",
    "tf.keras.mixed_precision.set_global_policy('mixed_float16')\n",
    "\n",
    "# Data parameters\n",
    "kernels, chans, samples = 1, 63, 16001\n",
    "\n",
    "# Split data (keeping stratify for class balance)\n",
    "X_train, X_temp, Y_train, y_temp = train_test_split(\n",
    "    X, y, test_size=0.5, stratify=y, random_state=42\n",
    ")\n",
    "X_val, X_test, Y_val, Y_test = train_test_split(\n",
    "    X_temp, y_temp, test_size=0.5, stratify=y_temp, random_state=42\n",
    ")\n",
    "\n",
    "# Clean up memory\n",
    "del X, y, X_temp, y_temp\n",
    "\n",
    "# Convert data to GPU-friendly format\n",
    "def prepare_data(X, Y):\n",
    "    \"\"\"Convert data to GPU-friendly format with proper reshaping and typing\"\"\"\n",
    "    # Reshape with proper closing parenthesis\n",
    "    X = np.reshape(X, (X.shape[0], chans, samples, kernels))\n",
    "    \n",
    "    # Convert labels to one-hot (using keras utils)\n",
    "    Y = np_utils.to_categorical(Y)\n",
    "    \n",
    "    # Convert to TensorFlow tensors with optimal dtype\n",
    "    X_tensor = tf.convert_to_tensor(X, dtype=tf.float32)\n",
    "    Y_tensor = tf.convert_to_tensor(Y, dtype=tf.float32)  # float32 for stability\n",
    "    \n",
    "    return X_tensor, Y_tensor\n",
    "\n",
    "X_train, Y_train = prepare_data(X_train, Y_train)\n",
    "X_val, Y_val = prepare_data(X_val, Y_val)\n",
    "X_test, Y_test = prepare_data(X_test, Y_test)\n",
    "\n",
    "# Create data pipelines for better GPU utilization\n",
    "train_dataset = tf.data.Dataset.from_tensor_slices((X_train, Y_train)) \\\n",
    "    .shuffle(buffer_size=1024) \\\n",
    "    .batch(2, drop_remainder=True) \\\n",
    "    .prefetch(tf.data.AUTOTUNE)\n",
    "\n",
    "val_dataset = tf.data.Dataset.from_tensor_slices((X_val, Y_val)) \\\n",
    "    .batch(2) \\\n",
    "    .prefetch(tf.data.AUTOTUNE)\n",
    "\n",
    "# Initialize model with CUDA-optimized settings\n",
    "model = EEGNet(nb_classes=13, Chans=chans, Samples=samples,\n",
    "               dropoutRate=0.5, kernLength=32, F1=8, D=2, F2=16,\n",
    "               dropoutType='Dropout')\n",
    "\n",
    "# Compile with CUDA-optimized Adam\n",
    "optimizer = tf.keras.optimizers.Adam(learning_rate=1e-3)\n",
    "loss_fn = tf.keras.losses.CategoricalCrossentropy()\n",
    "\n",
    "model.compile(optimizer=optimizer,\n",
    "              loss=loss_fn,\n",
    "              metrics=['accuracy'],\n",
    "              run_eagerly=False)\n",
    "\n",
    "# CUDA-optimized checkpointing\n",
    "checkpoint = ModelCheckpoint('/tmp/checkpoint.h5',\n",
    "                            monitor='val_accuracy',\n",
    "                            save_best_only=True,\n",
    "                            mode='max')\n",
    "\n",
    "# Training with GPU acceleration\n",
    "history = model.fit(train_dataset,\n",
    "                    epochs=300,\n",
    "                    validation_data=val_dataset,\n",
    "                    callbacks=[checkpoint],\n",
    "                    verbose=2)\n",
    "\n",
    "# Load best weights\n",
    "model.load_weights('/tmp/checkpoint.h5')\n",
    "\n",
    "# GPU-accelerated prediction\n",
    "test_probs = model.predict(X_test, batch_size=2)\n",
    "test_preds = tf.argmax(test_probs, axis=-1)\n",
    "accuracy = tf.reduce_mean(tf.cast(tf.equal(test_preds, \n",
    "                         tf.argmax(Y_test, axis=-1)), tf.float32))\n",
    "print(f\"Classification accuracy: {accuracy.numpy():.4f}\")\n",
    "\n",
    "# PyRiemann portion (CPU-based)\n",
    "X_train_cpu = X_train.numpy().reshape(-1, chans, samples)\n",
    "X_test_cpu = X_test.numpy().reshape(-1, chans, samples)\n",
    "\n",
    "clf = make_pipeline(XdawnCovariances(2),\n",
    "                    TangentSpace(metric='riemann'),\n",
    "                    LogisticRegression(max_iter=1000))\n",
    "clf.fit(X_train_cpu, np.argmax(Y_train.numpy(), axis=-1))\n",
    "rg_preds = clf.predict(X_test_cpu)\n",
    "rg_acc = np.mean(rg_preds == np.argmax(Y_test.numpy(), axis=-1))\n",
    "print(f\"Riemannian Geometry accuracy: {rg_acc:.4f}\")\n",
    "\n",
    "# Plotting\n",
    "class_names = ['Class 0', 'Class 1', 'Class 2', 'Class 3', 'Class 4',\n",
    "               'Class 5', 'Class 6', 'Class 7', 'Class 8', 'Class 9',\n",
    "               'Class 10', 'Class 11', 'Class 12']\n",
    "\n",
    "fig, (ax1, ax2) = plt.subplots(1, 2, figsize=(15, 6))\n",
    "\n",
    "ConfusionMatrixDisplay.from_predictions(\n",
    "    np.argmax(Y_test.numpy(), axis=-1),\n",
    "    test_preds.numpy(),\n",
    "    display_labels=class_names,\n",
    "    cmap='Blues',\n",
    "    ax=ax1\n",
    ")\n",
    "ax1.set_title('EEGNet-8,2')\n",
    "\n",
    "ConfusionMatrixDisplay.from_predictions(\n",
    "    np.argmax(Y_test.numpy(), axis=-1),\n",
    "    rg_preds,\n",
    "    display_labels=class_names,\n",
    "    cmap='Blues',\n",
    "    ax=ax2\n",
    ")\n",
    "ax2.set_title('xDAWN + RG')\n",
    "\n",
    "plt.tight_layout()\n",
    "plt.show()"
   ]
  },
  {
   "cell_type": "code",
   "execution_count": null,
   "id": "50d080ee",
   "metadata": {},
   "outputs": [],
   "source": [
    "probs       = model.predict(X_test)\n",
    "preds       = probs.argmax(axis = -1)  \n",
    "acc         = np.mean(preds == Y_test.argmax(axis=-1))\n",
    "print(\"Classification accuracy: %f \" % (acc))"
   ]
  },
  {
   "cell_type": "code",
   "execution_count": null,
   "id": "61afbdc6",
   "metadata": {},
   "outputs": [],
   "source": [
    "import numpy as np\n",
    "\n",
    "# mne imports\n",
    "import mne\n",
    "from mne import io\n",
    "from mne.datasets import sample\n",
    "\n",
    "# EEGNet-specific imports\n",
    "from Scripts.EEGModels import EEGNet\n",
    "from tensorflow.keras import utils as np_utils\n",
    "from tensorflow.keras.callbacks import ModelCheckpoint\n",
    "from tensorflow.keras import backend as K\n",
    "\n",
    "# PyRiemann imports\n",
    "from pyriemann.estimation import XdawnCovariances\n",
    "from pyriemann.tangentspace import TangentSpace\n",
    "#from pyriemann.utils.viz import plot_confusion_matrix\n",
    "from sklearn.metrics import confusion_matrix, ConfusionMatrixDisplay\n",
    "from sklearn.pipeline import make_pipeline\n",
    "from sklearn.linear_model import LogisticRegression\n",
    "\n",
    "# tools for plotting confusion matrices\n",
    "from matplotlib import pyplot as plt\n",
    "from pathlib import Path\n",
    "from sklearn.model_selection import train_test_split\n",
    "kernels, chans, samples = 1, 63, 16001\n",
    "\n",
    "# take 50/25/25 percent of the data to train/validate/test\n",
    "X_train, X_temp, Y_train, y_temp = train_test_split(\n",
    "    X, y,\n",
    "    test_size=0.5,\n",
    "    stratify=y,  # Сохраняем соотношение классов\n",
    "    random_state=42  # Для воспроизводимости\n",
    ")\n",
    "X_validate, X_test, Y_validate, Y_test = train_test_split(\n",
    "    X_temp, y_temp,\n",
    "    test_size=0.5,\n",
    "    stratify=y_temp,\n",
    "    random_state=42\n",
    ")\n",
    "\n",
    "del X\n",
    "del y\n",
    "del X_temp\n",
    "del y_temp\n",
    "\n",
    "Y_train      = np_utils.to_categorical(Y_train)\n",
    "Y_validate   = np_utils.to_categorical(Y_validate)\n",
    "Y_test       = np_utils.to_categorical(Y_test)\n",
    "\n",
    "# convert data to NHWC (trials, channels, samples, kernels) format. Data \n",
    "# contains 60 channels and 151 time-points. Set the number of kernels to 1.\n",
    "X_train      = X_train.reshape(X_train.shape[0], chans, samples, kernels)\n",
    "X_validate   = X_validate.reshape(X_validate.shape[0], chans, samples, kernels)\n",
    "X_test       = X_test.reshape(X_test.shape[0], chans, samples, kernels)\n",
    "\n",
    "n_components = 2  # pick some components\n",
    "\n",
    "# set up sklearn pipeline\n",
    "clf = make_pipeline(XdawnCovariances(n_components),\n",
    "                    TangentSpace(metric='riemann'),\n",
    "                    LogisticRegression())\n",
    "\n",
    "preds_rg     = np.zeros(len(Y_test))\n",
    "\n",
    "# reshape back to (trials, channels, samples)\n",
    "X_train      = X_train.reshape(X_train.shape[0], chans, samples)\n",
    "X_test       = X_test.reshape(X_test.shape[0], chans, samples)\n",
    "\n",
    "# train a classifier with xDAWN spatial filtering + Riemannian Geometry (RG)\n",
    "# labels need to be back in single-column format\n",
    "clf.fit(X_train, Y_train.argmax(axis = -1))\n",
    "preds_rg     = clf.predict(X_test)\n",
    "\n",
    "# Printing the results\n",
    "acc2         = np.mean(preds_rg == Y_test.argmax(axis = -1))\n",
    "print(\"Classification accuracy: %f \" % (acc2))\n",
    "\n",
    "# plot the confusion matrices for both classifiers\n",
    "names        = ['audio left', 'audio right', 'vis left', 'vis right']\n",
    "'''plt.figure(0)\n",
    "plot_confusion_matrix(preds, Y_test.argmax(axis = -1), names, title = 'EEGNet-8,2')\n",
    "\n",
    "plt.figure(1)\n",
    "plot_confusion_matrix(preds_rg, Y_test.argmax(axis = -1), names, title = 'xDAWN + RG')'''\n",
    "\n",
    "\n",
    "plt.figure(1)\n",
    "cm_rg = confusion_matrix(Y_test.argmax(axis=-1), preds_rg)\n",
    "disp_rg = ConfusionMatrixDisplay(confusion_matrix=cm_rg, display_labels=names)\n",
    "disp_rg.plot(cmap=plt.cm.Blues)\n",
    "plt.title('xDAWN + RG')\n",
    "\n",
    "plt.show()  # Display the plots"
   ]
  },
  {
   "cell_type": "code",
   "execution_count": null,
   "id": "fd6e03c7",
   "metadata": {},
   "outputs": [],
   "source": [
    "n_components = 4  # pick some components\n",
    "\n",
    "\n",
    "get_sample_choosen_trial()\n",
    "\n",
    "clf = make_pipeline(XdawnCovariances(n_components),\n",
    "                    TangentSpace(metric='riemann'),\n",
    "                    LogisticRegression())\n",
    "\n",
    "preds_rg     = np.zeros(len(Y_test))\n",
    "\n",
    "# reshape back to (trials, channels, samples)\n",
    "X_train      = X_train.reshape(X_train.shape[0], chans, samples)\n",
    "X_test       = X_test.reshape(X_test.shape[0], chans, samples)\n",
    "\n",
    "# train a classifier with xDAWN spatial filtering + Riemannian Geometry (RG)\n",
    "# labels need to be back in single-column format\n",
    "clf.fit(X_train, Y_train.argmax(axis = -1))\n",
    "preds_rg     = clf.predict(X_test)\n",
    "\n",
    "# Printing the results\n",
    "acc2         = np.mean(preds_rg == Y_test.argmax(axis = -1))\n",
    "print(\"Classification accuracy: %f \" % (acc2))\n",
    "\n",
    "# plot the confusion matrices for both classifiers\n",
    "names        = ['audio left', 'audio right', 'vis left', 'vis right']\n",
    "'''plt.figure(0)\n",
    "plot_confusion_matrix(preds, Y_test.argmax(axis = -1), names, title = 'EEGNet-8,2')\n",
    "\n",
    "plt.figure(1)\n",
    "plot_confusion_matrix(preds_rg, Y_test.argmax(axis = -1), names, title = 'xDAWN + RG')'''\n",
    "\n",
    "\n",
    "plt.figure(1)\n",
    "cm_rg = confusion_matrix(Y_test.argmax(axis=-1), preds_rg)\n",
    "disp_rg = ConfusionMatrixDisplay(confusion_matrix=cm_rg, display_labels=names)\n",
    "disp_rg.plot(cmap=plt.cm.Blues)\n",
    "plt.title('xDAWN + RG')\n",
    "\n",
    "plt.show()  # Display the plots"
   ]
  },
  {
   "cell_type": "code",
   "execution_count": null,
   "id": "784f5fdc",
   "metadata": {},
   "outputs": [],
   "source": [
    "X_train.shape"
   ]
  },
  {
   "cell_type": "code",
   "execution_count": null,
   "id": "451469b8",
   "metadata": {},
   "outputs": [],
   "source": [
    "eeg[0]"
   ]
  },
  {
   "cell_type": "code",
   "execution_count": null,
   "id": "d3c47b17",
   "metadata": {},
   "outputs": [],
   "source": [
    "import numpy as np\n",
    "np.stack(eeg).shape"
   ]
  },
  {
   "cell_type": "code",
   "execution_count": null,
   "id": "c312f72b",
   "metadata": {},
   "outputs": [],
   "source": [
    "import collections\n",
    "collections.Counter(labels)"
   ]
  },
  {
   "cell_type": "code",
   "execution_count": null,
   "id": "2cf355a3",
   "metadata": {},
   "outputs": [],
   "source": [
    "y"
   ]
  },
  {
   "cell_type": "code",
   "execution_count": null,
   "id": "460a2424",
   "metadata": {},
   "outputs": [],
   "source": [
    "label"
   ]
  },
  {
   "cell_type": "code",
   "execution_count": null,
   "id": "5577bf3d",
   "metadata": {},
   "outputs": [],
   "source": [
    "kernels, chans, samples = 1, 63, 16001"
   ]
  }
 ],
 "metadata": {
  "kernelspec": {
   "display_name": "base",
   "language": "python",
   "name": "python3"
  },
  "language_info": {
   "codemirror_mode": {
    "name": "ipython",
    "version": 3
   },
   "file_extension": ".py",
   "mimetype": "text/x-python",
   "name": "python",
   "nbconvert_exporter": "python",
   "pygments_lexer": "ipython3",
   "version": "3.12.9"
  }
 },
 "nbformat": 4,
 "nbformat_minor": 5
}
